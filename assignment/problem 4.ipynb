{
 "cells": [
  {
   "cell_type": "code",
   "execution_count": 2,
   "metadata": {},
   "outputs": [
    {
     "name": "stdout",
     "output_type": "stream",
     "text": [
      "     Country,Other          Continent Population   TotalCases NewCases   \n",
      "0    North America      North America             126,645,285           \\\n",
      "1             Asia               Asia             217,257,798       +2   \n",
      "2           Europe             Europe             249,247,411            \n",
      "3    South America      South America              68,671,718            \n",
      "4          Oceania  Australia/Oceania              14,309,481            \n",
      "..             ...                ...        ...          ...      ...   \n",
      "242         Total:      South America              68,671,718            \n",
      "243         Total:  Australia/Oceania              14,309,481            \n",
      "244         Total:             Africa              12,823,205            \n",
      "245         Total:                                        721            \n",
      "246         Total:                All             688,955,619       +2   \n",
      "\n",
      "    TotalDeaths NewDeaths TotalRecovered NewRecovered ActiveCases  \n",
      "0     1,632,533              122,485,634                2,527,118  \n",
      "1     1,546,102              200,958,320      +20,180  14,753,376  \n",
      "2     2,059,481              245,188,803      +12,714   1,999,127  \n",
      "3     1,355,254               66,459,408                  857,056  \n",
      "4        27,779               14,137,845                  143,857  \n",
      "..          ...       ...            ...          ...         ...  \n",
      "242   1,355,254               66,459,408                  857,056  \n",
      "243      27,779               14,137,845                  143,857  \n",
      "244     258,762               12,085,179                  479,264  \n",
      "245          15                      706                        0  \n",
      "246   6,879,926         0    661,315,895      +32,894  20,759,798  \n",
      "\n",
      "[247 rows x 10 columns]\n"
     ]
    }
   ],
   "source": [
    "import requests\n",
    "from bs4 import BeautifulSoup\n",
    "import pandas as pd\n",
    "url = 'https://www.worldometers.info/coronavirus/'\n",
    "r = requests.get(url)\n",
    "soup = BeautifulSoup(r.content, 'html.parser')\n",
    "\n",
    "# Find the table element containing the data\n",
    "table = soup.find('table',id='main_table_countries_today')\n",
    "# Extracting the table headers\n",
    "headers = [th.text for th in table.find_all('th')]\n",
    "# Extract the table rows\n",
    "rows = []\n",
    "for tr in table.find_all('tr'):\n",
    "    row = [td.text.strip() for td in tr.find_all('td')]\n",
    "    if row:\n",
    "        rows.append(row)\n",
    "# Converting the data into a Pandas dataframe\n",
    "df = pd.DataFrame(rows, columns=headers)\n",
    "# Selecting the desired columns\n",
    "columns_to_keep = ['Country,Other', 'Continent', 'Population', 'TotalCases', 'NewCases',\n",
    "                   'TotalDeaths', 'NewDeaths', 'TotalRecovered', 'NewRecovered', 'ActiveCases']\n",
    "df = df[columns_to_keep]\n",
    "print(df)\n"
   ]
  }
 ],
 "metadata": {
  "kernelspec": {
   "display_name": "Python 3",
   "language": "python",
   "name": "python3"
  },
  "language_info": {
   "codemirror_mode": {
    "name": "ipython",
    "version": 3
   },
   "file_extension": ".py",
   "mimetype": "text/x-python",
   "name": "python",
   "nbconvert_exporter": "python",
   "pygments_lexer": "ipython3",
   "version": "3.11.3"
  },
  "orig_nbformat": 4
 },
 "nbformat": 4,
 "nbformat_minor": 2
}
