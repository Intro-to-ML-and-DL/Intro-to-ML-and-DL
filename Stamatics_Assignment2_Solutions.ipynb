{
  "metadata": {
    "kernelspec": {
      "language": "python",
      "display_name": "Python 3",
      "name": "python3"
    },
    "language_info": {
      "name": "python",
      "version": "3.10.10",
      "mimetype": "text/x-python",
      "codemirror_mode": {
        "name": "ipython",
        "version": 3
      },
      "pygments_lexer": "ipython3",
      "nbconvert_exporter": "python",
      "file_extension": ".py"
    },
    "colab": {
      "provenance": []
    }
  },
  "nbformat_minor": 0,
  "nbformat": 4,
  "cells": [
    {
      "cell_type": "markdown",
      "source": [
        "# Question 1\n",
        "\n",
        "Make a class called LinearRegression which provides two functions : fit and predict. You may use the code present in the repository as template. You need to make the following changes in order to include regularization :\n",
        "1. To initialize an object of the class, you need to provide 4 parameters : learning_rate, epochs, penalty and alpha (coefficient of the regularization term). Penalty and alpha should have default values of None and 0 respectively.\n",
        "2. The parameter penalty should take in any one of these inputs : L1 (Lasso), L2 (Ridge) and None (simple LR).\n",
        "3. Do some basic differentiation to find out the expressions of dC/dw and dC/db when regularization is involved. Use internet whenever necessary.\n",
        "4. Write if-else statements inside the fit method to cover the different values for dw for different values of penalty."
      ],
      "metadata": {
        "id": "8G9yCczBb1uF"
      }
    },
    {
      "cell_type": "code",
      "source": [
        "class LinearRegression:\n",
        "    def __init__(self, learning_rate,epochs,penalty='None',alpha=0):\n",
        "        self.lr=learning_rate\n",
        "        self.epochs=epochs\n",
        "        self.penalty = penalty\n",
        "        self.alpha=alpha\n",
        "        \n",
        "    def fit(self, X_train, y_train):\n",
        "        n_samples, n_features = X_train.shape\n",
        "        y_train=y_train.reshape(-1,1)\n",
        "        # init parameters\n",
        "        self.weights = np.zeros((n_features,1))\n",
        "        self.bias = np.zeros((1,1))\n",
        "        \n",
        "        # gradient descent\n",
        "        for i in range(self.epochs):\n",
        "            delta= -2*(y_train-np.dot(X_train,self.weights)-self.bias)/n_samples\n",
        "            dw=0\n",
        "            if self.penalty == 'l1':\n",
        "                dw= np.dot(X_train.T,delta)+ self.alpha\n",
        "            elif self.penalty == 'l2':\n",
        "                dw= np.dot(X_train.T,delta) + 2*self.alpha*np.sum(self.weights)\n",
        "            else:\n",
        "                dw= np.dot(X_train.T,delta)\n",
        "            \n",
        "            db= np.sum(delta).reshape(1,1)\n",
        "\n",
        "            #update weights and biases\n",
        "            self.weights-= self.lr * dw\n",
        "            self.bias-= self.lr* db\n",
        "\n",
        "    def predict(self, X_test):\n",
        "        y_predicted = np.dot(X_test,self.weights)+self.bias\n",
        "        return y_predicted"
      ],
      "metadata": {
        "id": "4_AmGXZbb24d"
      },
      "execution_count": null,
      "outputs": []
    },
    {
      "cell_type": "markdown",
      "source": [
        "# Question 2\n",
        "Use the dataset https://www.kaggle.com/datasets/quantbruce/real-estate-price-prediction (*).\n",
        "1. Read it using pandas.\n",
        "2. Check for **null values**.\n",
        "3. For each of the columns (except the first and last), plot the column values in the X-axis against the last column of prices in the Y-axis.\n",
        "4. Remove the unwanted columns.\n",
        "5. Split the dataset into train and test data. Test data size = 25% of total dataset.\n",
        "6. **Normalize** the X_train and X_test using MinMaxScaler from sklearn.preprocessing.\n",
        "7. Fit the training data into the 3 models created in question 1 (**linear regression, lasso and ridge regression**) and predict the testing data.\n",
        "8. Use **mean square error and R<sup>2</sup>** from sklearn.metrics as evaluation criterias.\n",
        "9. Fit the training data into the models of the same name provided by sklearn.linear_model and evaluate the predictions using MSE and R<sup>2</sup>. You may require to convert the data to numpy arrays if any error arises.\n",
        "10. Tune the hyperparameters of your models (learning rate, epochs, penalty and alpha) to achieve losses close to that of the sklearn models. (*We will cover hyperparameter tuning using GridSearchCV and all in later weeks. For now, you may manually run the model for different values of the hyperparameters.*)\n",
        "\n",
        "Note : (*) To solve this question, you may proceed in any of the following ways :\n",
        "1. Prepare the notebook in Kaggle, download it and submit it separately with the other questions.\n",
        "2. Download the dataset from kaggle. Upload it to the session storage in Colab.\n",
        "3. Use Colab data directly in Colab. [Refer here](https://www.kaggle.com/general/74235). For this, you need to create kaggle API token. Before submitting, hide or remove the API token."
      ],
      "metadata": {
        "id": "j-XkGETQblG3"
      }
    },
    {
      "cell_type": "code",
      "source": [
        "import numpy as np\n",
        "import pandas as pd\n",
        "\n",
        "import os\n",
        "for dirname, _, filenames in os.walk('/kaggle/input'):\n",
        "    for filename in filenames:\n",
        "        print(os.path.join(dirname, filename))"
      ],
      "metadata": {
        "_uuid": "8f2839f25d086af736a60e9eeb907d3b93b6e0e5",
        "_cell_guid": "b1076dfc-b9ad-4769-8c92-a6c4dae69d19",
        "execution": {
          "iopub.status.busy": "2023-05-24T20:05:15.561670Z",
          "iopub.execute_input": "2023-05-24T20:05:15.562096Z",
          "iopub.status.idle": "2023-05-24T20:05:15.586075Z",
          "shell.execute_reply.started": "2023-05-24T20:05:15.562060Z",
          "shell.execute_reply": "2023-05-24T20:05:15.584624Z"
        },
        "trusted": true,
        "id": "1JuBa9lfbeEL",
        "outputId": "c9dee97c-12bc-4a20-dbe4-71dd6a681139"
      },
      "execution_count": null,
      "outputs": [
        {
          "name": "stdout",
          "text": "/kaggle/input/real-estate-price-prediction/Real estate.csv\n",
          "output_type": "stream"
        }
      ]
    },
    {
      "cell_type": "code",
      "source": [
        "df = pd.read_csv(\"/kaggle/input/real-estate-price-prediction/Real estate.csv\")\n",
        "df.info()"
      ],
      "metadata": {
        "execution": {
          "iopub.status.busy": "2023-05-24T20:05:15.590317Z",
          "iopub.execute_input": "2023-05-24T20:05:15.591298Z",
          "iopub.status.idle": "2023-05-24T20:05:15.612146Z",
          "shell.execute_reply.started": "2023-05-24T20:05:15.591263Z",
          "shell.execute_reply": "2023-05-24T20:05:15.611276Z"
        },
        "trusted": true,
        "id": "uMU5KlzzbeEV",
        "outputId": "12ec40e7-caa5-4c79-e3a2-3e08026aaab9"
      },
      "execution_count": null,
      "outputs": [
        {
          "name": "stdout",
          "text": "<class 'pandas.core.frame.DataFrame'>\nRangeIndex: 414 entries, 0 to 413\nData columns (total 8 columns):\n #   Column                                  Non-Null Count  Dtype  \n---  ------                                  --------------  -----  \n 0   No                                      414 non-null    int64  \n 1   X1 transaction date                     414 non-null    float64\n 2   X2 house age                            414 non-null    float64\n 3   X3 distance to the nearest MRT station  414 non-null    float64\n 4   X4 number of convenience stores         414 non-null    int64  \n 5   X5 latitude                             414 non-null    float64\n 6   X6 longitude                            414 non-null    float64\n 7   Y house price of unit area              414 non-null    float64\ndtypes: float64(6), int64(2)\nmemory usage: 26.0 KB\n",
          "output_type": "stream"
        }
      ]
    },
    {
      "cell_type": "code",
      "source": [
        "df.head()"
      ],
      "metadata": {
        "execution": {
          "iopub.status.busy": "2023-05-24T20:05:15.650274Z",
          "iopub.execute_input": "2023-05-24T20:05:15.651130Z",
          "iopub.status.idle": "2023-05-24T20:05:15.671361Z",
          "shell.execute_reply.started": "2023-05-24T20:05:15.651097Z",
          "shell.execute_reply": "2023-05-24T20:05:15.670255Z"
        },
        "trusted": true,
        "id": "3FEmgbzsbeEX",
        "outputId": "8969fcf0-1896-4cdb-852c-be62c1dc9db6"
      },
      "execution_count": null,
      "outputs": [
        {
          "execution_count": 3,
          "output_type": "execute_result",
          "data": {
            "text/plain": "   No  X1 transaction date  X2 house age  \\\n0   1             2012.917          32.0   \n1   2             2012.917          19.5   \n2   3             2013.583          13.3   \n3   4             2013.500          13.3   \n4   5             2012.833           5.0   \n\n   X3 distance to the nearest MRT station  X4 number of convenience stores  \\\n0                                84.87882                               10   \n1                               306.59470                                9   \n2                               561.98450                                5   \n3                               561.98450                                5   \n4                               390.56840                                5   \n\n   X5 latitude  X6 longitude  Y house price of unit area  \n0     24.98298     121.54024                        37.9  \n1     24.98034     121.53951                        42.2  \n2     24.98746     121.54391                        47.3  \n3     24.98746     121.54391                        54.8  \n4     24.97937     121.54245                        43.1  ",
            "text/html": "<div>\n<style scoped>\n    .dataframe tbody tr th:only-of-type {\n        vertical-align: middle;\n    }\n\n    .dataframe tbody tr th {\n        vertical-align: top;\n    }\n\n    .dataframe thead th {\n        text-align: right;\n    }\n</style>\n<table border=\"1\" class=\"dataframe\">\n  <thead>\n    <tr style=\"text-align: right;\">\n      <th></th>\n      <th>No</th>\n      <th>X1 transaction date</th>\n      <th>X2 house age</th>\n      <th>X3 distance to the nearest MRT station</th>\n      <th>X4 number of convenience stores</th>\n      <th>X5 latitude</th>\n      <th>X6 longitude</th>\n      <th>Y house price of unit area</th>\n    </tr>\n  </thead>\n  <tbody>\n    <tr>\n      <th>0</th>\n      <td>1</td>\n      <td>2012.917</td>\n      <td>32.0</td>\n      <td>84.87882</td>\n      <td>10</td>\n      <td>24.98298</td>\n      <td>121.54024</td>\n      <td>37.9</td>\n    </tr>\n    <tr>\n      <th>1</th>\n      <td>2</td>\n      <td>2012.917</td>\n      <td>19.5</td>\n      <td>306.59470</td>\n      <td>9</td>\n      <td>24.98034</td>\n      <td>121.53951</td>\n      <td>42.2</td>\n    </tr>\n    <tr>\n      <th>2</th>\n      <td>3</td>\n      <td>2013.583</td>\n      <td>13.3</td>\n      <td>561.98450</td>\n      <td>5</td>\n      <td>24.98746</td>\n      <td>121.54391</td>\n      <td>47.3</td>\n    </tr>\n    <tr>\n      <th>3</th>\n      <td>4</td>\n      <td>2013.500</td>\n      <td>13.3</td>\n      <td>561.98450</td>\n      <td>5</td>\n      <td>24.98746</td>\n      <td>121.54391</td>\n      <td>54.8</td>\n    </tr>\n    <tr>\n      <th>4</th>\n      <td>5</td>\n      <td>2012.833</td>\n      <td>5.0</td>\n      <td>390.56840</td>\n      <td>5</td>\n      <td>24.97937</td>\n      <td>121.54245</td>\n      <td>43.1</td>\n    </tr>\n  </tbody>\n</table>\n</div>"
          },
          "metadata": {}
        }
      ]
    },
    {
      "cell_type": "code",
      "source": [
        "cols = list(df.columns)\n",
        "cols.remove('No')\n",
        "cols.remove('Y house price of unit area')\n",
        "cols.remove('X1 transaction date')\n",
        "cols"
      ],
      "metadata": {
        "execution": {
          "iopub.status.busy": "2023-05-24T20:05:15.679364Z",
          "iopub.execute_input": "2023-05-24T20:05:15.679753Z",
          "iopub.status.idle": "2023-05-24T20:05:15.687896Z",
          "shell.execute_reply.started": "2023-05-24T20:05:15.679721Z",
          "shell.execute_reply": "2023-05-24T20:05:15.686803Z"
        },
        "trusted": true,
        "id": "J-THAhvYbeEZ",
        "outputId": "4ec611c5-75e8-460f-925c-22d53d7a63f5"
      },
      "execution_count": null,
      "outputs": [
        {
          "execution_count": 4,
          "output_type": "execute_result",
          "data": {
            "text/plain": "['X2 house age',\n 'X3 distance to the nearest MRT station',\n 'X4 number of convenience stores',\n 'X5 latitude',\n 'X6 longitude']"
          },
          "metadata": {}
        }
      ]
    },
    {
      "cell_type": "code",
      "source": [
        "import matplotlib.pyplot as plt\n",
        "i=1\n",
        "for col in cols:\n",
        "    plt.subplot(2,3,i)\n",
        "    i+=1\n",
        "    plt.scatter(df[col],df['Y house price of unit area'])"
      ],
      "metadata": {
        "execution": {
          "iopub.status.busy": "2023-05-24T20:05:15.692570Z",
          "iopub.execute_input": "2023-05-24T20:05:15.693567Z",
          "iopub.status.idle": "2023-05-24T20:05:16.498205Z",
          "shell.execute_reply.started": "2023-05-24T20:05:15.693482Z",
          "shell.execute_reply": "2023-05-24T20:05:16.497022Z"
        },
        "trusted": true,
        "id": "nyDwPXQLbeEc",
        "outputId": "e55f9bcd-a518-441d-f187-151e390aa8fe"
      },
      "execution_count": null,
      "outputs": [
        {
          "output_type": "display_data",
          "data": {
            "text/plain": "<Figure size 640x480 with 5 Axes>",
            "image/png": "[encoded data removed]"
          },
          "metadata": {}
        }
      ]
    },
    {
      "cell_type": "code",
      "source": [
        "X=df[cols]\n",
        "y=df['Y house price of unit area']\n",
        "from sklearn.model_selection import train_test_split as tts\n",
        "X_train,X_test,y_train,y_test = tts(X,y,test_size=0.25,random_state=10)\n",
        "print(X_train.shape)\n",
        "print(y_train.shape)\n",
        "print(X_test.shape)\n",
        "print(y_test.shape)"
      ],
      "metadata": {
        "execution": {
          "iopub.status.busy": "2023-05-24T20:14:33.326561Z",
          "iopub.execute_input": "2023-05-24T20:14:33.327069Z",
          "iopub.status.idle": "2023-05-24T20:14:33.340297Z",
          "shell.execute_reply.started": "2023-05-24T20:14:33.327025Z",
          "shell.execute_reply": "2023-05-24T20:14:33.338900Z"
        },
        "trusted": true,
        "id": "Xa8dsoG3beEe",
        "outputId": "4dbb9471-dac0-48a9-ed3b-ced55602015d"
      },
      "execution_count": null,
      "outputs": [
        {
          "name": "stdout",
          "text": "(310, 5)\n(310,)\n(104, 5)\n(104,)\n",
          "output_type": "stream"
        }
      ]
    },
    {
      "cell_type": "code",
      "source": [
        "X_train=np.array(X_train)\n",
        "X_test=np.array(X_test)\n",
        "y_train=np.array(y_train)\n",
        "y_test=np.array(y_test)"
      ],
      "metadata": {
        "execution": {
          "iopub.status.busy": "2023-05-24T20:15:05.678494Z",
          "iopub.execute_input": "2023-05-24T20:15:05.678974Z",
          "iopub.status.idle": "2023-05-24T20:15:05.685812Z",
          "shell.execute_reply.started": "2023-05-24T20:15:05.678936Z",
          "shell.execute_reply": "2023-05-24T20:15:05.684617Z"
        },
        "trusted": true,
        "id": "ZvBT4Ci7beEh"
      },
      "execution_count": null,
      "outputs": []
    },
    {
      "cell_type": "code",
      "source": [
        "from sklearn.preprocessing import MinMaxScaler\n",
        "scaler= MinMaxScaler()\n",
        "X_train=scaler.fit_transform(X_train)\n",
        "X_test=scaler.transform(X_test)"
      ],
      "metadata": {
        "execution": {
          "iopub.status.busy": "2023-05-24T20:15:08.528485Z",
          "iopub.execute_input": "2023-05-24T20:15:08.529288Z",
          "iopub.status.idle": "2023-05-24T20:15:08.537844Z",
          "shell.execute_reply.started": "2023-05-24T20:15:08.529238Z",
          "shell.execute_reply": "2023-05-24T20:15:08.536447Z"
        },
        "trusted": true,
        "id": "RlRsJJdubeEi"
      },
      "execution_count": null,
      "outputs": []
    },
    {
      "cell_type": "code",
      "source": [
        "reg1= LinearRegression(learning_rate=0.01,epochs=3000)\n",
        "reg2= LinearRegression(learning_rate=0.01,epochs=3000,penalty='l1',alpha=0.015)\n",
        "reg3= LinearRegression(learning_rate=0.01,epochs=3000,penalty='l2',alpha=0.015)\n",
        "\n",
        "reg1.fit(X_train,y_train)\n",
        "reg2.fit(X_train,y_train)\n",
        "reg3.fit(X_train,y_train)"
      ],
      "metadata": {
        "execution": {
          "iopub.status.busy": "2023-05-24T20:17:17.320400Z",
          "iopub.execute_input": "2023-05-24T20:17:17.320895Z",
          "iopub.status.idle": "2023-05-24T20:17:17.791096Z",
          "shell.execute_reply.started": "2023-05-24T20:17:17.320858Z",
          "shell.execute_reply": "2023-05-24T20:17:17.789634Z"
        },
        "trusted": true,
        "id": "Clqr0wZwbeEk"
      },
      "execution_count": null,
      "outputs": []
    },
    {
      "cell_type": "code",
      "source": [
        "from sklearn.metrics import mean_squared_error as mse\n",
        "from sklearn.metrics import r2_score\n",
        "\n",
        "y_pred=reg1.predict(X_test)\n",
        "print(mse(y_test,y_pred))\n",
        "print(r2_score(y_test,y_pred))\n",
        "\n",
        "y_pred=reg2.predict(X_test)\n",
        "print(mse(y_test,y_pred))\n",
        "print(r2_score(y_test,y_pred))\n",
        "\n",
        "y_pred=reg3.predict(X_test)\n",
        "print(mse(y_test,y_pred))\n",
        "print(r2_score(y_test,y_pred))"
      ],
      "metadata": {
        "execution": {
          "iopub.status.busy": "2023-05-24T20:17:17.845278Z",
          "iopub.execute_input": "2023-05-24T20:17:17.845700Z",
          "iopub.status.idle": "2023-05-24T20:17:17.857930Z",
          "shell.execute_reply.started": "2023-05-24T20:17:17.845666Z",
          "shell.execute_reply": "2023-05-24T20:17:17.856739Z"
        },
        "trusted": true,
        "id": "PfmQJSsnbeEl",
        "outputId": "01c08cdc-5f0e-48ca-ab33-92131d5666e5"
      },
      "execution_count": null,
      "outputs": [
        {
          "name": "stdout",
          "text": "84.79287588161228\n0.5109688610404888\n84.73433399809241\n0.5113064932257035\n83.6703124741558\n0.5174430896356973\n",
          "output_type": "stream"
        }
      ]
    },
    {
      "cell_type": "code",
      "source": [
        "from sklearn.linear_model import LinearRegression as Linreg,Lasso,Ridge\n",
        "\n",
        "reg1= Linreg()\n",
        "reg2= Lasso()\n",
        "reg3= Ridge()\n",
        "\n",
        "reg1.fit(X_train,y_train)\n",
        "reg2.fit(X_train,y_train)\n",
        "reg3.fit(X_train,y_train)"
      ],
      "metadata": {
        "execution": {
          "iopub.status.busy": "2023-05-24T20:15:47.075361Z",
          "iopub.execute_input": "2023-05-24T20:15:47.075798Z",
          "iopub.status.idle": "2023-05-24T20:15:47.228493Z",
          "shell.execute_reply.started": "2023-05-24T20:15:47.075769Z",
          "shell.execute_reply": "2023-05-24T20:15:47.227168Z"
        },
        "trusted": true,
        "id": "wasmHKzEbeEm",
        "outputId": "833d6687-93c0-40c2-cd5f-efb3e8e7f625"
      },
      "execution_count": null,
      "outputs": [
        {
          "execution_count": 16,
          "output_type": "execute_result",
          "data": {
            "text/plain": "Ridge()",
            "text/html": "<style>#sk-container-id-1 {color: black;background-color: white;}#sk-container-id-1 pre{padding: 0;}#sk-container-id-1 div.sk-toggleable {background-color: white;}#sk-container-id-1 label.sk-toggleable__label {cursor: pointer;display: block;width: 100%;margin-bottom: 0;padding: 0.3em;box-sizing: border-box;text-align: center;}#sk-container-id-1 label.sk-toggleable__label-arrow:before {content: \"▸\";float: left;margin-right: 0.25em;color: #696969;}#sk-container-id-1 label.sk-toggleable__label-arrow:hover:before {color: black;}#sk-container-id-1 div.sk-estimator:hover label.sk-toggleable__label-arrow:before {color: black;}#sk-container-id-1 div.sk-toggleable__content {max-height: 0;max-width: 0;overflow: hidden;text-align: left;background-color: #f0f8ff;}#sk-container-id-1 div.sk-toggleable__content pre {margin: 0.2em;color: black;border-radius: 0.25em;background-color: #f0f8ff;}#sk-container-id-1 input.sk-toggleable__control:checked~div.sk-toggleable__content {max-height: 200px;max-width: 100%;overflow: auto;}#sk-container-id-1 input.sk-toggleable__control:checked~label.sk-toggleable__label-arrow:before {content: \"▾\";}#sk-container-id-1 div.sk-estimator input.sk-toggleable__control:checked~label.sk-toggleable__label {background-color: #d4ebff;}#sk-container-id-1 div.sk-label input.sk-toggleable__control:checked~label.sk-toggleable__label {background-color: #d4ebff;}#sk-container-id-1 input.sk-hidden--visually {border: 0;clip: rect(1px 1px 1px 1px);clip: rect(1px, 1px, 1px, 1px);height: 1px;margin: -1px;overflow: hidden;padding: 0;position: absolute;width: 1px;}#sk-container-id-1 div.sk-estimator {font-family: monospace;background-color: #f0f8ff;border: 1px dotted black;border-radius: 0.25em;box-sizing: border-box;margin-bottom: 0.5em;}#sk-container-id-1 div.sk-estimator:hover {background-color: #d4ebff;}#sk-container-id-1 div.sk-parallel-item::after {content: \"\";width: 100%;border-bottom: 1px solid gray;flex-grow: 1;}#sk-container-id-1 div.sk-label:hover label.sk-toggleable__label {background-color: #d4ebff;}#sk-container-id-1 div.sk-serial::before {content: \"\";position: absolute;border-left: 1px solid gray;box-sizing: border-box;top: 0;bottom: 0;left: 50%;z-index: 0;}#sk-container-id-1 div.sk-serial {display: flex;flex-direction: column;align-items: center;background-color: white;padding-right: 0.2em;padding-left: 0.2em;position: relative;}#sk-container-id-1 div.sk-item {position: relative;z-index: 1;}#sk-container-id-1 div.sk-parallel {display: flex;align-items: stretch;justify-content: center;background-color: white;position: relative;}#sk-container-id-1 div.sk-item::before, #sk-container-id-1 div.sk-parallel-item::before {content: \"\";position: absolute;border-left: 1px solid gray;box-sizing: border-box;top: 0;bottom: 0;left: 50%;z-index: -1;}#sk-container-id-1 div.sk-parallel-item {display: flex;flex-direction: column;z-index: 1;position: relative;background-color: white;}#sk-container-id-1 div.sk-parallel-item:first-child::after {align-self: flex-end;width: 50%;}#sk-container-id-1 div.sk-parallel-item:last-child::after {align-self: flex-start;width: 50%;}#sk-container-id-1 div.sk-parallel-item:only-child::after {width: 0;}#sk-container-id-1 div.sk-dashed-wrapped {border: 1px dashed gray;margin: 0 0.4em 0.5em 0.4em;box-sizing: border-box;padding-bottom: 0.4em;background-color: white;}#sk-container-id-1 div.sk-label label {font-family: monospace;font-weight: bold;display: inline-block;line-height: 1.2em;}#sk-container-id-1 div.sk-label-container {text-align: center;}#sk-container-id-1 div.sk-container {/* jupyter's `normalize.less` sets `[hidden] { display: none; }` but bootstrap.min.css set `[hidden] { display: none !important; }` so we also need the `!important` here to be able to override the default hidden behavior on the sphinx rendered scikit-learn.org. See: https://github.com/scikit-learn/scikit-learn/issues/21755 */display: inline-block !important;position: relative;}#sk-container-id-1 div.sk-text-repr-fallback {display: none;}</style><div id=\"sk-container-id-1\" class=\"sk-top-container\"><div class=\"sk-text-repr-fallback\"><pre>Ridge()</pre><b>In a Jupyter environment, please rerun this cell to show the HTML representation or trust the notebook. <br />On GitHub, the HTML representation is unable to render, please try loading this page with nbviewer.org.</b></div><div class=\"sk-container\" hidden><div class=\"sk-item\"><div class=\"sk-estimator sk-toggleable\"><input class=\"sk-toggleable__control sk-hidden--visually\" id=\"sk-estimator-id-1\" type=\"checkbox\" checked><label for=\"sk-estimator-id-1\" class=\"sk-toggleable__label sk-toggleable__label-arrow\">Ridge</label><div class=\"sk-toggleable__content\"><pre>Ridge()</pre></div></div></div></div></div>"
          },
          "metadata": {}
        }
      ]
    },
    {
      "cell_type": "code",
      "source": [
        "y_pred=reg1.predict(X_test)\n",
        "print(mse(y_test,y_pred))\n",
        "print(r2_score(y_test,y_pred))\n",
        "\n",
        "y_pred=reg2.predict(X_test)\n",
        "print(mse(y_test,y_pred))\n",
        "print(r2_score(y_test,y_pred))\n",
        "\n",
        "y_pred=reg3.predict(X_test)\n",
        "print(mse(y_test,y_pred))\n",
        "print(r2_score(y_test,y_pred))"
      ],
      "metadata": {
        "execution": {
          "iopub.status.busy": "2023-05-24T20:15:48.800542Z",
          "iopub.execute_input": "2023-05-24T20:15:48.800979Z",
          "iopub.status.idle": "2023-05-24T20:15:48.813735Z",
          "shell.execute_reply.started": "2023-05-24T20:15:48.800948Z",
          "shell.execute_reply": "2023-05-24T20:15:48.812257Z"
        },
        "trusted": true,
        "id": "D3DxAJzlbeEn",
        "outputId": "71c92ab8-5a80-4d29-c01f-c0f04fc9abcc"
      },
      "execution_count": null,
      "outputs": [
        {
          "name": "stdout",
          "text": "80.41386904231409\n0.5362241750025178\n121.50017678477681\n0.2992645995425389\n81.985316472652\n0.5271610701286353\n",
          "output_type": "stream"
        }
      ]
    },
    {
      "cell_type": "markdown",
      "source": [
        "##Question 3\n",
        "\n",
        "The breast cancer dataset is a binary classification dataset commonly used in machine learning tasks. It is available in scikit-learn (sklearn) as part of its datasets module.\n",
        "Here is an explanation of the breast cancer dataset's components:\n",
        "\n",
        "* Features (X):\n",
        "\n",
        " * The breast cancer dataset consists of 30 numeric features representing different characteristics of the FNA images. These features include mean, standard error, and worst (largest) values of various attributes such as radius, texture, smoothness, compactness, concavity, symmetry, fractal dimension, etc.\n",
        "\n",
        "* Target (y):\n",
        "\n",
        " * The breast cancer dataset is a binary classification problem, and the target variable (y) represents the diagnosis of the breast mass. It contains two classes:\n",
        "    * 0: Represents a malignant (cancerous) tumor.\n",
        "    * 1: Represents a benign (non-cancerous) tumor.\n",
        "\n",
        "Complete the code given below in place of the \"...\""
      ],
      "metadata": {
        "id": "wmEvWOi1cKFs"
      }
    },
    {
      "cell_type": "markdown",
      "source": [
        "1. Load the dataset from sklearn.datasets\n",
        "2. Separate out the X and Y columns.\n",
        "3. Create a train-test-split. Take any suitable test size."
      ],
      "metadata": {
        "id": "f2rq-IqkjMRa"
      }
    },
    {
      "cell_type": "code",
      "source": [
        "from sklearn.datasets import load_breast_cancer\n",
        "data = load_breast_cancer()\n",
        "Y=data.target\n",
        "X = data.data\n",
        "print(X.shape)\n",
        "print(Y.shape)"
      ],
      "metadata": {
        "colab": {
          "base_uri": "https://localhost:8080/"
        },
        "id": "S0x12c7wmKVB",
        "outputId": "9dbe9516-7d1f-409f-a3ed-7897381ead2e"
      },
      "execution_count": null,
      "outputs": [
        {
          "output_type": "stream",
          "name": "stdout",
          "text": [
            "(569, 30)\n",
            "(569,)\n"
          ]
        }
      ]
    },
    {
      "cell_type": "code",
      "source": [
        "from sklearn.preprocessing import MinMaxScaler\n",
        "scaler = MinMaxScaler()\n",
        "X=scaler.fit_transform(X)"
      ],
      "metadata": {
        "id": "iEZbdFiqs8cu"
      },
      "execution_count": null,
      "outputs": []
    },
    {
      "cell_type": "code",
      "source": [
        "from sklearn.model_selection import train_test_split\n",
        "X_train,X_test,y_train,y_test = train_test_split(X,Y,test_size=0.25)\n",
        "print(X_train.shape)\n",
        "print(y_train.shape)\n",
        "print(X_test.shape)\n",
        "print(y_test.shape)"
      ],
      "metadata": {
        "colab": {
          "base_uri": "https://localhost:8080/"
        },
        "id": "bNObLTnnm2hH",
        "outputId": "504c065c-58e7-4cad-da52-bfc6fb10417e"
      },
      "execution_count": null,
      "outputs": [
        {
          "output_type": "stream",
          "name": "stdout",
          "text": [
            "(426, 30)\n",
            "(426,)\n",
            "(143, 30)\n",
            "(143,)\n"
          ]
        }
      ]
    },
    {
      "cell_type": "markdown",
      "source": [
        "4. Write code for the sigmoid function and Logistic regression.\n",
        "(Logistic Regression code is available in the Week2/Examples folder. However, try to code it yourself. A template is provided for that.)\n",
        "\n",
        "*Optional* : Include the regularization terms as you did in the first question. "
      ],
      "metadata": {
        "id": "LYLC5gxfjQGM"
      }
    },
    {
      "cell_type": "code",
      "source": [
        "import numpy as np\n",
        "def sigmoid(z):\n",
        "    a=1.0/(1.0+ np.exp(-z))\n",
        "    return a\n",
        "def sigmoid_derivative(z):\n",
        "    return sigmoid(z)*(1-sigmoid(z))\n",
        "\n",
        "class LogisticRegression:\n",
        "    def __init__(self, learning_rate,epochs,penalty='None',alpha=0):\n",
        "        self.lr=learning_rate\n",
        "        self.epochs=epochs\n",
        "        self.penalty = penalty\n",
        "        self.alpha=alpha\n",
        "\n",
        "    def fit(self, X, y):\n",
        "        n_samples, n_features = X.shape\n",
        "        y = y.reshape(-1, 1)\n",
        "        self.weights=np.random.randn(n_features,1)/np.sqrt(n_features)\n",
        "        self.bias= np.random.randn(1,1)\n",
        "\n",
        "        for i in range(self.epochs):\n",
        "            z = np.dot(X,self.weights) + self.bias\n",
        "            y_pred = sigmoid(z)\n",
        "\n",
        "            \n",
        "            dw = -np.dot(X.T,(y - y_pred))/n_samples\n",
        "\n",
        "            if self.penalty == 'l1':\n",
        "                dw += self.alpha\n",
        "            elif self.penalty == 'l2':\n",
        "                dw += 2*self.alpha*np.sum(self.weights)\n",
        "                \n",
        "            db = -np.sum(y - y_pred)/n_samples\n",
        "            self.weights -= self.lr* dw\n",
        "            self.bias-= self.lr* db\n",
        "\n",
        "    def predict(self, X):\n",
        "        y_pred = np.dot(X,self.weights)+self.bias\n",
        "        Y_proba_pred=y_pred\n",
        "        for i in range(len(y_pred)):\n",
        "            if y_pred[i]<= 0.5:\n",
        "                y_pred[i] = 0\n",
        "            else:\n",
        "                y_pred[i] = 1   \n",
        "        return (Y_proba_pred,y_pred)"
      ],
      "metadata": {
        "id": "08ZkvQSbjRKq"
      },
      "execution_count": null,
      "outputs": []
    },
    {
      "cell_type": "markdown",
      "source": [
        "5. Fit your model on the dataset and make predictions.\n",
        "6. Compare your model with the Sklearn Logistic Regression model. Try out all the different penalties.\n",
        "7. Print accuracy_score in each case using sklearn.metrics ."
      ],
      "metadata": {
        "id": "eqhW1EWPjV2l"
      }
    },
    {
      "cell_type": "code",
      "source": [
        "# Create an instance of LogisticRegression\n",
        "logreg1 = LogisticRegression(0.1,3000) #Play around with different learning rates and epochs\n",
        "logreg2 = LogisticRegression(0.1,3000,penalty='l1',alpha=0.01)\n",
        "logreg3 = LogisticRegression(0.1,3000,penalty='l1',alpha=0.01)\n",
        "\n",
        "# Train the model\n",
        "logreg1.fit(X_train,y_train)\n",
        "logreg2.fit(X_train,y_train)\n",
        "logreg3.fit(X_train,y_train)\n",
        "\n",
        "# Make predictions on the test set\n",
        "Y_proba_pred1,y_pred1 = logreg1.predict(X_test)\n",
        "Y_proba_pred2,y_pred2 = logreg2.predict(X_test)\n",
        "Y_proba_pred3,y_pred3 = logreg3.predict(X_test)"
      ],
      "metadata": {
        "id": "iaHkdoEMjZPx"
      },
      "execution_count": null,
      "outputs": []
    },
    {
      "cell_type": "code",
      "source": [
        "from sklearn.metrics import accuracy_score\n",
        "print(accuracy_score(y_test,y_pred1))\n",
        "print(accuracy_score(y_test,y_pred2))\n",
        "print(accuracy_score(y_test,y_pred3))"
      ],
      "metadata": {
        "colab": {
          "base_uri": "https://localhost:8080/"
        },
        "id": "A5NVwmX7jeYl",
        "outputId": "5d0191a5-39ba-44ef-d2be-d2bbae1c8e81"
      },
      "execution_count": null,
      "outputs": [
        {
          "output_type": "stream",
          "name": "stdout",
          "text": [
            "0.972027972027972\n",
            "0.9440559440559441\n",
            "0.9440559440559441\n"
          ]
        }
      ]
    },
    {
      "cell_type": "code",
      "source": [
        "from sklearn.linear_model import LogisticRegression as LR\n",
        "logreg4 = LR(penalty=None)\n",
        "logreg5 = LR(penalty='l1',solver='saga')\n",
        "logreg6 = LR(penalty=\"l2\")\n",
        "logreg7 = LR(penalty=\"elasticnet\",l1_ratio=0.4,solver='saga')\n",
        "\n",
        "logreg4.fit(X_train,y_train)\n",
        "logreg5.fit(X_train,y_train)\n",
        "logreg6.fit(X_train,y_train)\n",
        "logreg7.fit(X_train,y_train)\n",
        "\n",
        "y_pred4 = logreg4.predict(X_test)\n",
        "y_pred5 = logreg5.predict(X_test)\n",
        "y_pred6 = logreg6.predict(X_test)\n",
        "y_pred7 = logreg6.predict(X_test)\n",
        "\n",
        "print(accuracy_score(y_test,y_pred4))\n",
        "print(accuracy_score(y_test,y_pred5))\n",
        "print(accuracy_score(y_test,y_pred6))\n",
        "print(accuracy_score(y_test,y_pred7))"
      ],
      "metadata": {
        "colab": {
          "base_uri": "https://localhost:8080/"
        },
        "id": "B35Caw4Qot7p",
        "outputId": "c9530e66-9c57-4663-ece4-cc9fab6ed69a"
      },
      "execution_count": null,
      "outputs": [
        {
          "output_type": "stream",
          "name": "stdout",
          "text": [
            "0.951048951048951\n",
            "0.965034965034965\n",
            "0.958041958041958\n",
            "0.958041958041958\n"
          ]
        },
        {
          "output_type": "stream",
          "name": "stderr",
          "text": [
            "/usr/local/lib/python3.10/dist-packages/sklearn/linear_model/_sag.py:350: ConvergenceWarning: The max_iter was reached which means the coef_ did not converge\n",
            "  warnings.warn(\n"
          ]
        }
      ]
    },
    {
      "cell_type": "markdown",
      "source": [
        "8. For the best model in each case (yours and scikit-learn), print the classification_report using sklearn.metrics .\n"
      ],
      "metadata": {
        "id": "Li-MoA7Rjbr-"
      }
    },
    {
      "cell_type": "code",
      "source": [
        "from sklearn.metrics import classification_report\n",
        "target_names = data.target_names\n",
        "print(classification_report(y_test, y_pred1, target_names=target_names))\n",
        "print(classification_report(y_test, y_pred5, target_names=target_names))"
      ],
      "metadata": {
        "colab": {
          "base_uri": "https://localhost:8080/"
        },
        "id": "gYqqczTYufcw",
        "outputId": "a2cc2f3b-0b59-4651-bd70-ecaa1313ae40"
      },
      "execution_count": null,
      "outputs": [
        {
          "output_type": "stream",
          "name": "stdout",
          "text": [
            "              precision    recall  f1-score   support\n",
            "\n",
            "   malignant       0.98      0.94      0.96        52\n",
            "      benign       0.97      0.99      0.98        91\n",
            "\n",
            "    accuracy                           0.97       143\n",
            "   macro avg       0.97      0.97      0.97       143\n",
            "weighted avg       0.97      0.97      0.97       143\n",
            "\n",
            "              precision    recall  f1-score   support\n",
            "\n",
            "   malignant       1.00      0.90      0.95        52\n",
            "      benign       0.95      1.00      0.97        91\n",
            "\n",
            "    accuracy                           0.97       143\n",
            "   macro avg       0.97      0.95      0.96       143\n",
            "weighted avg       0.97      0.97      0.96       143\n",
            "\n"
          ]
        }
      ]
    },
    {
      "cell_type": "markdown",
      "source": [
        "9. For the best model in each case (yours and scikit-learn), print the confusion_matrix using sklearn.metrics .\n"
      ],
      "metadata": {
        "id": "lxnI6gv8vQ0f"
      }
    },
    {
      "cell_type": "code",
      "source": [
        "from sklearn.metrics import confusion_matrix\n",
        "print(confusion_matrix(y_test, y_pred1))\n",
        "print(confusion_matrix(y_test, y_pred5))"
      ],
      "metadata": {
        "colab": {
          "base_uri": "https://localhost:8080/"
        },
        "id": "KqBUUKfwvPn9",
        "outputId": "326569f5-dba3-43f6-af20-0eaaa81650f0"
      },
      "execution_count": null,
      "outputs": [
        {
          "output_type": "stream",
          "name": "stdout",
          "text": [
            "[[49  3]\n",
            " [ 1 90]]\n",
            "[[47  5]\n",
            " [ 0 91]]\n"
          ]
        }
      ]
    },
    {
      "cell_type": "markdown",
      "source": [
        "10. Optional Challenge : For the best model in each case (yours and scikit-learn), print the roc_auc_score and plot the roc curves using sklearn.metrics and matplotlib."
      ],
      "metadata": {
        "id": "btMrbjJOvobb"
      }
    },
    {
      "cell_type": "code",
      "source": [
        "from sklearn.metrics import roc_auc_score\n",
        "print(roc_auc_score(y_test, logreg5.predict_proba(X_test)[:, 1]))\n",
        "print(roc_auc_score(y_test, Y_proba_pred2))"
      ],
      "metadata": {
        "colab": {
          "base_uri": "https://localhost:8080/",
          "height": 72
        },
        "id": "uzI-sghavn4y",
        "outputId": "22824db9-9da2-4d9a-ffc6-17208a986d36"
      },
      "execution_count": null,
      "outputs": [
        {
          "output_type": "stream",
          "name": "stdout",
          "text": [
            "0.9879543533389687\n",
            "0.9436813186813187\n"
          ]
        },
        {
          "output_type": "display_data",
          "data": {
            "text/plain": [
              "<Figure size 1000x1000 with 0 Axes>"
            ]
          },
          "metadata": {}
        }
      ]
    },
    {
      "cell_type": "code",
      "source": [
        "from sklearn.metrics import roc_curve\n",
        "import matplotlib.pyplot as plt\n",
        "plt.figure(figsize=(6,6))\n",
        "fpr1, tpr1, _ = roc_curve(y_test, logreg5.predict_proba(X_test)[:, 1], pos_label=1)\n",
        "fpr2, tpr2, _= roc_curve(y_test, Y_proba_pred2, pos_label=1)\n",
        "plt.plot(fpr1,tpr1,color='red')\n",
        "plt.plot(fpr2,tpr2,color='blue')\n",
        "plt.show()"
      ],
      "metadata": {
        "colab": {
          "base_uri": "https://localhost:8080/",
          "height": 522
        },
        "id": "zD_-S390xEE_",
        "outputId": "f387c6bc-1847-4636-d2e8-feaf426ca39b"
      },
      "execution_count": null,
      "outputs": [
        {
          "output_type": "display_data",
          "data": {
            "text/plain": [
              "<Figure size 600x600 with 1 Axes>"
            ],
            "image/png": "[encoded data removed]"
          },
          "metadata": {}
        }
      ]
    },
    {
      "cell_type": "markdown",
      "source": [
        "#Question 4\n",
        "\n",
        "How accurately can a K-Nearest Neighbors (KNN) model classify different types of glass based on a glass classification dataset consisting of 214 samples and 7 classes? Use the kaggle dataset \"https://www.kaggle.com/datasets/uciml/glass\". \n",
        "\n",
        "Context: This is a Glass Identification Data Set from UCI. It contains 10 attributes including id. The response is glass type(discrete 7 values)\n",
        "\n",
        "\n",
        "Build a knn model from scratch. Assign different colours to different classes and plot the data points using matplotlib. Also find the accuracy of the model.  \n",
        "\n"
      ],
      "metadata": {
        "id": "9cbNUcGzROmk"
      }
    },
    {
      "cell_type": "code",
      "source": [
        "import numpy as np\n",
        "from sklearn.model_selection import train_test_split\n",
        "import matplotlib.pyplot as plt\n",
        "from matplotlib.colors import ListedColormap as lcm\n",
        "from collections import Counter  "
      ],
      "metadata": {
        "id": "xfs8axBQRYq_"
      },
      "execution_count": null,
      "outputs": []
    },
    {
      "cell_type": "code",
      "source": [
        "def euclidian_distance(x,x1):\n",
        "  return np.sqrt(np.sum(np.subtract(x,x1)**2))"
      ],
      "metadata": {
        "id": "LUqje7fBR7gu"
      },
      "execution_count": null,
      "outputs": []
    },
    {
      "cell_type": "code",
      "source": [
        "class KNN:\n",
        "    def __init__(self,k):\n",
        "        self.k=k\n",
        "    def fit(self,X_train,y_train):\n",
        "        self.X_train=X_train\n",
        "        self.y_train=y_train\n",
        "    def predict(self,X_test):\n",
        "        y_pred=[]\n",
        "        for x in X_test:\n",
        "            distance = [euclidian_distance(x,x1) for x1 in self.X_train]\n",
        "            k_shortest_indices = np.argsort(distance)[:self.k]\n",
        "            k_labels = [self.y_train[i] for i in k_shortest_indices]\n",
        "            common_label = np.bincount(k_labels)\n",
        "            y_pred.append(np.argmax(common_label))\n",
        "        return np.array(y_pred)\n",
        "    \n",
        "def accuracy(predictions,y_test):\n",
        "    return np.sum(predictions==y_test)/len(y_test)"
      ],
      "metadata": {
        "id": "RnCJvoznSFAi"
      },
      "execution_count": null,
      "outputs": []
    },
    {
      "cell_type": "code",
      "source": [
        "import pandas as pd\n",
        "data= pd.read_csv('/content/glass.csv')\n",
        "data.head()"
      ],
      "metadata": {
        "id": "KUfUuj6WT2B5",
        "colab": {
          "base_uri": "https://localhost:8080/",
          "height": 206
        },
        "outputId": "58a668d2-5e81-4948-d733-8dec173fd27f"
      },
      "execution_count": null,
      "outputs": [
        {
          "output_type": "execute_result",
          "data": {
            "text/plain": [
              "        RI     Na    Mg    Al     Si     K    Ca   Ba   Fe  Type\n",
              "0  1.52101  13.64  4.49  1.10  71.78  0.06  8.75  0.0  0.0     1\n",
              "1  1.51761  13.89  3.60  1.36  72.73  0.48  7.83  0.0  0.0     1\n",
              "2  1.51618  13.53  3.55  1.54  72.99  0.39  7.78  0.0  0.0     1\n",
              "3  1.51766  13.21  3.69  1.29  72.61  0.57  8.22  0.0  0.0     1\n",
              "4  1.51742  13.27  3.62  1.24  73.08  0.55  8.07  0.0  0.0     1"
            ],
            "text/html": [
              "\n",
              "  <div id=\"df-4bb0a2fb-4f19-452f-90bb-aa181ac26a78\">\n",
              "    <div class=\"colab-df-container\">\n",
              "      <div>\n",
              "<style scoped>\n",
              "    .dataframe tbody tr th:only-of-type {\n",
              "        vertical-align: middle;\n",
              "    }\n",
              "\n",
              "    .dataframe tbody tr th {\n",
              "        vertical-align: top;\n",
              "    }\n",
              "\n",
              "    .dataframe thead th {\n",
              "        text-align: right;\n",
              "    }\n",
              "</style>\n",
              "<table border=\"1\" class=\"dataframe\">\n",
              "  <thead>\n",
              "    <tr style=\"text-align: right;\">\n",
              "      <th></th>\n",
              "      <th>RI</th>\n",
              "      <th>Na</th>\n",
              "      <th>Mg</th>\n",
              "      <th>Al</th>\n",
              "      <th>Si</th>\n",
              "      <th>K</th>\n",
              "      <th>Ca</th>\n",
              "      <th>Ba</th>\n",
              "      <th>Fe</th>\n",
              "      <th>Type</th>\n",
              "    </tr>\n",
              "  </thead>\n",
              "  <tbody>\n",
              "    <tr>\n",
              "      <th>0</th>\n",
              "      <td>1.52101</td>\n",
              "      <td>13.64</td>\n",
              "      <td>4.49</td>\n",
              "      <td>1.10</td>\n",
              "      <td>71.78</td>\n",
              "      <td>0.06</td>\n",
              "      <td>8.75</td>\n",
              "      <td>0.0</td>\n",
              "      <td>0.0</td>\n",
              "      <td>1</td>\n",
              "    </tr>\n",
              "    <tr>\n",
              "      <th>1</th>\n",
              "      <td>1.51761</td>\n",
              "      <td>13.89</td>\n",
              "      <td>3.60</td>\n",
              "      <td>1.36</td>\n",
              "      <td>72.73</td>\n",
              "      <td>0.48</td>\n",
              "      <td>7.83</td>\n",
              "      <td>0.0</td>\n",
              "      <td>0.0</td>\n",
              "      <td>1</td>\n",
              "    </tr>\n",
              "    <tr>\n",
              "      <th>2</th>\n",
              "      <td>1.51618</td>\n",
              "      <td>13.53</td>\n",
              "      <td>3.55</td>\n",
              "      <td>1.54</td>\n",
              "      <td>72.99</td>\n",
              "      <td>0.39</td>\n",
              "      <td>7.78</td>\n",
              "      <td>0.0</td>\n",
              "      <td>0.0</td>\n",
              "      <td>1</td>\n",
              "    </tr>\n",
              "    <tr>\n",
              "      <th>3</th>\n",
              "      <td>1.51766</td>\n",
              "      <td>13.21</td>\n",
              "      <td>3.69</td>\n",
              "      <td>1.29</td>\n",
              "      <td>72.61</td>\n",
              "      <td>0.57</td>\n",
              "      <td>8.22</td>\n",
              "      <td>0.0</td>\n",
              "      <td>0.0</td>\n",
              "      <td>1</td>\n",
              "    </tr>\n",
              "    <tr>\n",
              "      <th>4</th>\n",
              "      <td>1.51742</td>\n",
              "      <td>13.27</td>\n",
              "      <td>3.62</td>\n",
              "      <td>1.24</td>\n",
              "      <td>73.08</td>\n",
              "      <td>0.55</td>\n",
              "      <td>8.07</td>\n",
              "      <td>0.0</td>\n",
              "      <td>0.0</td>\n",
              "      <td>1</td>\n",
              "    </tr>\n",
              "  </tbody>\n",
              "</table>\n",
              "</div>\n",
              "      <button class=\"colab-df-convert\" onclick=\"convertToInteractive('df-4bb0a2fb-4f19-452f-90bb-aa181ac26a78')\"\n",
              "              title=\"Convert this dataframe to an interactive table.\"\n",
              "              style=\"display:none;\">\n",
              "        \n",
              "  <svg xmlns=\"http://www.w3.org/2000/svg\" height=\"24px\"viewBox=\"0 0 24 24\"\n",
              "       width=\"24px\">\n",
              "    <path d=\"M0 0h24v24H0V0z\" fill=\"none\"/>\n",
              "    <path d=\"M18.56 5.44l.94 2.06.94-2.06 2.06-.94-2.06-.94-.94-2.06-.94 2.06-2.06.94zm-11 1L8.5 8.5l.94-2.06 2.06-.94-2.06-.94L8.5 2.5l-.94 2.06-2.06.94zm10 10l.94 2.06.94-2.06 2.06-.94-2.06-.94-.94-2.06-.94 2.06-2.06.94z\"/><path d=\"M17.41 7.96l-1.37-1.37c-.4-.4-.92-.59-1.43-.59-.52 0-1.04.2-1.43.59L10.3 9.45l-7.72 7.72c-.78.78-.78 2.05 0 2.83L4 21.41c.39.39.9.59 1.41.59.51 0 1.02-.2 1.41-.59l7.78-7.78 2.81-2.81c.8-.78.8-2.07 0-2.86zM5.41 20L4 18.59l7.72-7.72 1.47 1.35L5.41 20z\"/>\n",
              "  </svg>\n",
              "      </button>\n",
              "      \n",
              "  <style>\n",
              "    .colab-df-container {\n",
              "      display:flex;\n",
              "      flex-wrap:wrap;\n",
              "      gap: 12px;\n",
              "    }\n",
              "\n",
              "    .colab-df-convert {\n",
              "      background-color: #E8F0FE;\n",
              "      border: none;\n",
              "      border-radius: 50%;\n",
              "      cursor: pointer;\n",
              "      display: none;\n",
              "      fill: #1967D2;\n",
              "      height: 32px;\n",
              "      padding: 0 0 0 0;\n",
              "      width: 32px;\n",
              "    }\n",
              "\n",
              "    .colab-df-convert:hover {\n",
              "      background-color: #E2EBFA;\n",
              "      box-shadow: 0px 1px 2px rgba(60, 64, 67, 0.3), 0px 1px 3px 1px rgba(60, 64, 67, 0.15);\n",
              "      fill: #174EA6;\n",
              "    }\n",
              "\n",
              "    [theme=dark] .colab-df-convert {\n",
              "      background-color: #3B4455;\n",
              "      fill: #D2E3FC;\n",
              "    }\n",
              "\n",
              "    [theme=dark] .colab-df-convert:hover {\n",
              "      background-color: #434B5C;\n",
              "      box-shadow: 0px 1px 3px 1px rgba(0, 0, 0, 0.15);\n",
              "      filter: drop-shadow(0px 1px 2px rgba(0, 0, 0, 0.3));\n",
              "      fill: #FFFFFF;\n",
              "    }\n",
              "  </style>\n",
              "\n",
              "      <script>\n",
              "        const buttonEl =\n",
              "          document.querySelector('#df-4bb0a2fb-4f19-452f-90bb-aa181ac26a78 button.colab-df-convert');\n",
              "        buttonEl.style.display =\n",
              "          google.colab.kernel.accessAllowed ? 'block' : 'none';\n",
              "\n",
              "        async function convertToInteractive(key) {\n",
              "          const element = document.querySelector('#df-4bb0a2fb-4f19-452f-90bb-aa181ac26a78');\n",
              "          const dataTable =\n",
              "            await google.colab.kernel.invokeFunction('convertToInteractive',\n",
              "                                                     [key], {});\n",
              "          if (!dataTable) return;\n",
              "\n",
              "          const docLinkHtml = 'Like what you see? Visit the ' +\n",
              "            '<a target=\"_blank\" href=https://colab.research.google.com/notebooks/data_table.ipynb>data table notebook</a>'\n",
              "            + ' to learn more about interactive tables.';\n",
              "          element.innerHTML = '';\n",
              "          dataTable['output_type'] = 'display_data';\n",
              "          await google.colab.output.renderOutput(dataTable, element);\n",
              "          const docLink = document.createElement('div');\n",
              "          docLink.innerHTML = docLinkHtml;\n",
              "          element.appendChild(docLink);\n",
              "        }\n",
              "      </script>\n",
              "    </div>\n",
              "  </div>\n",
              "  "
            ]
          },
          "metadata": {},
          "execution_count": 82
        }
      ]
    },
    {
      "cell_type": "code",
      "source": [
        "x= data.drop('Type',axis=1)\n",
        "y= data['Type']\n",
        "x_train,x_test,y_train,y_test=train_test_split(x,y,test_size=0.25)"
      ],
      "metadata": {
        "id": "GB8xnhM51cE7"
      },
      "execution_count": null,
      "outputs": []
    },
    {
      "cell_type": "code",
      "source": [
        "x_train = np.array(x_train)\n",
        "y_train = np.array(y_train)\n",
        "x_test = np.array(x_test)\n",
        "y_test = np.array(y_test)"
      ],
      "metadata": {
        "id": "bgmMTcUWZNdC"
      },
      "execution_count": null,
      "outputs": []
    },
    {
      "cell_type": "code",
      "source": [
        "clf=KNN(k=3)\n",
        "clf.fit(x_train,y_train)\n",
        "predictions=clf.predict(x_test)\n",
        "print(accuracy(predictions,y_test))"
      ],
      "metadata": {
        "id": "Vi_HI2gHYAPz",
        "colab": {
          "base_uri": "https://localhost:8080/"
        },
        "outputId": "4b6da150-8af7-4706-d348-9ccf5285f349"
      },
      "execution_count": null,
      "outputs": [
        {
          "output_type": "stream",
          "name": "stdout",
          "text": [
            "0.7407407407407407\n"
          ]
        }
      ]
    },
    {
      "cell_type": "code",
      "source": [
        "from sklearn.neighbors import KNeighborsClassifier as knn\n",
        "clf = knn(n_neighbors=3)\n",
        "clf.fit(x_train,y_train)\n",
        "pred=clf.predict(x_test)\n",
        "from sklearn.metrics import accuracy_score\n",
        "accuracy_score(y_test,pred)"
      ],
      "metadata": {
        "colab": {
          "base_uri": "https://localhost:8080/"
        },
        "id": "rKRTCDcPZRiv",
        "outputId": "a56c97c2-a743-439c-ce77-b32c2307d39d"
      },
      "execution_count": null,
      "outputs": [
        {
          "output_type": "execute_result",
          "data": {
            "text/plain": [
              "0.7407407407407407"
            ]
          },
          "metadata": {},
          "execution_count": 87
        }
      ]
    },
    {
      "cell_type": "code",
      "source": [
        "from sklearn.tree import DecisionTreeClassifier as dtc,plot_tree\n",
        "clf=dtc(max_depth=10,criterion=\"entropy\")\n",
        "clf.fit(x_train,y_train)\n",
        "pred=clf.predict(x_test)\n",
        "from sklearn.metrics import accuracy_score\n",
        "accuracy_score(y_test,pred)"
      ],
      "metadata": {
        "colab": {
          "base_uri": "https://localhost:8080/"
        },
        "id": "x3A_GVJw1RmI",
        "outputId": "9d21aa52-cd55-4292-aa88-a441aa25d962"
      },
      "execution_count": null,
      "outputs": [
        {
          "output_type": "execute_result",
          "data": {
            "text/plain": [
              "0.7037037037037037"
            ]
          },
          "metadata": {},
          "execution_count": 91
        }
      ]
    },
    {
      "cell_type": "code",
      "source": [
        "plot_tree(clf,max_depth=5)"
      ],
      "metadata": {
        "id": "-PcYOH-820OB"
      },
      "execution_count": null,
      "outputs": []
    }
  ]
}