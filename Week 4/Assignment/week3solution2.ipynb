{
  "nbformat": 4,
  "nbformat_minor": 0,
  "metadata": {
    "colab": {
      "provenance": []
    },
    "kernelspec": {
      "name": "python3",
      "display_name": "Python 3"
    },
    "language_info": {
      "name": "python"
    }
  },
  "cells": [
    {
      "cell_type": "code",
      "execution_count": 64,
      "metadata": {
        "id": "-KXpCNUJV22i"
      },
      "outputs": [],
      "source": [
        "# Load the important packages\n",
        "import pandas as pd\n",
        "import numpy as np\n",
        "import matplotlib.pyplot as plt\n",
        "from sklearn.inspection import DecisionBoundaryDisplay\n",
        "from sklearn.svm import SVR\n",
        "from sklearn.preprocessing import LabelEncoder,StandardScaler\n",
        "from sklearn.model_selection import train_test_split, RandomizedSearchCV, GridSearchCV\n",
        "from xgboost import XGBClassifier\n",
        "from sklearn.datasets import load_iris\n",
        "from sklearn.svm import SVR\n",
        "from sklearn.metrics import mean_absolute_error\n",
        "from sklearn.metrics import mean_squared_error\n",
        "from sklearn.base import estimator_html_repr\n",
        "from sklearn.ensemble import AdaBoostRegressor, RandomForestRegressor, GradientBoostingRegressor"
      ]
    },
    {
      "cell_type": "code",
      "source": [
        "data= pd.read_csv('insurance.csv')"
      ],
      "metadata": {
        "id": "Y1n3NsmXlU8u"
      },
      "execution_count": 3,
      "outputs": []
    },
    {
      "cell_type": "code",
      "source": [
        "categorical_cloumns=['sex','region','smoker']\n",
        "numercial_columns=['age','bmi', 'children' ]"
      ],
      "metadata": {
        "id": "5BVuj93Dl-V8"
      },
      "execution_count": 26,
      "outputs": []
    },
    {
      "cell_type": "code",
      "source": [
        "\n",
        "label_encoder= LabelEncoder()\n",
        "for columns in categorical_cloumns:\n",
        "  data[columns]= label_encoder.fit_transform(data[columns])\n"
      ],
      "metadata": {
        "id": "acKz6Ly7oT4O"
      },
      "execution_count": 17,
      "outputs": []
    },
    {
      "cell_type": "code",
      "source": [
        "scaler = StandardScaler()\n",
        "data[numercial_columns] = scaler.fit_transform(data[numercial_columns].values)\n",
        "\n",
        "X=data.drop('charges',axis=1)\n",
        "y=data['charges']\n",
        "y_scaler = StandardScaler()\n",
        "y = y_scaler.fit_transform(y.values.reshape(-1,1)).flatten()\n"
      ],
      "metadata": {
        "id": "shxRPAuiqJvJ"
      },
      "execution_count": 32,
      "outputs": []
    },
    {
      "cell_type": "code",
      "source": [
        "X_train, X_test, y_train, y_test = train_test_split(X, y, test_size=0.2, random_state=42)"
      ],
      "metadata": {
        "id": "g9DikSLh5Med"
      },
      "execution_count": 36,
      "outputs": []
    },
    {
      "cell_type": "code",
      "source": [
        "#Build the model\n",
        "svm_parameters = {\n",
        "    'kernel' : ['linear', 'rbf', 'poly', 'sigmoid'],\n",
        "    'gamma' : [0.5,0.02,0.1,1.0]}\n",
        "# Trained the model\n",
        "svm_random_search = RandomizedSearchCV(SVR(),svm_parameters,cv =3,n_iter = 10,random_state =42)\n",
        "svm_random_search.fit(X_train, y_train)\n",
        "best_svm =svm_random_search.best_estimator_\n",
        "\n",
        "y_pred_svm = best_svm.predict(X_test)\n",
        "y_pred_svm = y_scaler.inverse_transform(y_pred_svm.reshape(-1,1)).flatten()\n",
        "\n",
        "svm_mae = mean_absolute_error(y_scaler.inverse_transform(y_test.reshape(-1, 1)).flatten(), y_pred_svm)\n",
        "svm_mse = mean_squared_error(y_scaler.inverse_transform(y_test.reshape(-1, 1)).flatten(), y_pred_svm)\n",
        "\n",
        "\n",
        "print(\"Support Vector Regressor:\")\n",
        "print(\"MAE:\", svm_mae)\n",
        "print(\"MSE:\", svm_mse)\n",
        "print()"
      ],
      "metadata": {
        "colab": {
          "base_uri": "https://localhost:8080/"
        },
        "id": "w0JAuocslfM2",
        "outputId": "6d6b4e4f-ed78-44fb-9479-d942e8b32690"
      },
      "execution_count": 76,
      "outputs": [
        {
          "output_type": "stream",
          "name": "stdout",
          "text": [
            "Support Vector Regressor:\n",
            "MAE: 2597.1871788215212\n",
            "MSE: 22481450.914650753\n",
            "\n"
          ]
        }
      ]
    },
    {
      "cell_type": "code",
      "source": [
        "Adaboost_parameters = {'n_estimators' : [50,100,200],'loss' : ['linear','square' ,'exponential'] }\n",
        "\n",
        "Adaboost_grid_search = GridSearchCV(AdaBoostRegressor(), Adaboost_parameters, cv=3)\n",
        "Adaboost_grid_search.fit(X_train, y_train)\n",
        "best_adaboost = Adaboost_grid_search.best_estimator_\n",
        "\n",
        "y_pred_adaboost = best_adaboost.predict(X_test)\n",
        "y_pred_adaboost = y_scaler.inverse_transform(y_pred_adaboost.reshape(-1, 1)).flatten()\n",
        "\n",
        "adaboost_mae = mean_absolute_error(y_scaler.inverse_transform(y_test.reshape(-1, 1)).flatten(), y_pred_adaboost)\n",
        "adaboost_mse = mean_squared_error(y_scaler.inverse_transform(y_test.reshape(-1,1)).flatten(),y_pred_adaboost)\n",
        "\n",
        "\n",
        "print(\"AdaBoost Regressor:\")\n",
        "print(\"MAE:\", adaboost_mae)\n",
        "print(\"MSE:\", adaboost_mse)\n",
        "print()"
      ],
      "metadata": {
        "colab": {
          "base_uri": "https://localhost:8080/"
        },
        "id": "wYvDRmZeIRU3",
        "outputId": "7ea3aacf-c317-4b93-9028-b991acc47133"
      },
      "execution_count": 75,
      "outputs": [
        {
          "output_type": "stream",
          "name": "stdout",
          "text": [
            "AdaBoost Regressor:\n",
            "MAE: 3898.78839921603\n",
            "MSE: 25156346.191950623\n",
            "\n"
          ]
        }
      ]
    }
  ]
}