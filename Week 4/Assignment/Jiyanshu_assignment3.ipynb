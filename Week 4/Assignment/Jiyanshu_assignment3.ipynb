{
 "cells": [
  {
   "cell_type": "markdown",
   "metadata": {
    "id": "1aabbIB92YA8"
   },
   "source": [
    "# Question 1 : Classification using Naive Bayes\n",
    "\n",
    "Can glucose and blood pressure data classify whether a patient has diabetes or not ? If yes, which classification algorithm should you use ?\n",
    "\n",
    "The dataset **diabetes_classification.csv** has 3 columns and 995 entries with the above data.\n",
    "\n",
    "\n",
    "1. Load the dataset."
   ]
  },
  {
   "cell_type": "code",
   "execution_count": 1,
   "metadata": {
    "id": "Ytm1udmGNwSl"
   },
   "outputs": [
    {
     "data": {
      "text/html": [
       "<div>\n",
       "<style scoped>\n",
       "    .dataframe tbody tr th:only-of-type {\n",
       "        vertical-align: middle;\n",
       "    }\n",
       "\n",
       "    .dataframe tbody tr th {\n",
       "        vertical-align: top;\n",
       "    }\n",
       "\n",
       "    .dataframe thead th {\n",
       "        text-align: right;\n",
       "    }\n",
       "</style>\n",
       "<table border=\"1\" class=\"dataframe\">\n",
       "  <thead>\n",
       "    <tr style=\"text-align: right;\">\n",
       "      <th></th>\n",
       "      <th>glucose</th>\n",
       "      <th>bloodpressure</th>\n",
       "      <th>diabetes</th>\n",
       "    </tr>\n",
       "  </thead>\n",
       "  <tbody>\n",
       "    <tr>\n",
       "      <th>0</th>\n",
       "      <td>40</td>\n",
       "      <td>85</td>\n",
       "      <td>0</td>\n",
       "    </tr>\n",
       "    <tr>\n",
       "      <th>1</th>\n",
       "      <td>40</td>\n",
       "      <td>92</td>\n",
       "      <td>0</td>\n",
       "    </tr>\n",
       "    <tr>\n",
       "      <th>2</th>\n",
       "      <td>45</td>\n",
       "      <td>63</td>\n",
       "      <td>1</td>\n",
       "    </tr>\n",
       "    <tr>\n",
       "      <th>3</th>\n",
       "      <td>45</td>\n",
       "      <td>80</td>\n",
       "      <td>0</td>\n",
       "    </tr>\n",
       "    <tr>\n",
       "      <th>4</th>\n",
       "      <td>40</td>\n",
       "      <td>73</td>\n",
       "      <td>1</td>\n",
       "    </tr>\n",
       "  </tbody>\n",
       "</table>\n",
       "</div>"
      ],
      "text/plain": [
       "   glucose  bloodpressure  diabetes\n",
       "0       40             85         0\n",
       "1       40             92         0\n",
       "2       45             63         1\n",
       "3       45             80         0\n",
       "4       40             73         1"
      ]
     },
     "execution_count": 1,
     "metadata": {},
     "output_type": "execute_result"
    }
   ],
   "source": [
    "import pandas as pd\n",
    "import numpy as np\n",
    "import matplotlib.pyplot as plt\n",
    "\n",
    "# Assuming the 'diabetes.csv' file is uploaded to Code Replit's file system\n",
    "# Make sure to upload the file in the left sidebar\n",
    "\n",
    "df = pd.read_csv('diabetes.csv')\n",
    "df.head()\n"
   ]
  },
  {
   "cell_type": "markdown",
   "metadata": {
    "id": "vRcqHcd_5XUt"
   },
   "source": [
    "2. The dataset has two feature columns and one target column. Plot a bar graph or histogram showing the distribution of values in the feature columns (count of each value)."
   ]
  },
  {
   "cell_type": "code",
   "execution_count": 9,
   "metadata": {},
   "outputs": [
    {
     "data": {
      "image/png": "[encoded data removed]",
      "text/plain": [
       "<Figure size 1000x600 with 1 Axes>"
      ]
     },
     "metadata": {},
     "output_type": "display_data"
    }
   ],
   "source": [
    "import pandas as pd\n",
    "import numpy as np\n",
    "import matplotlib.pyplot as plt\n",
    "\n",
    "df = pd.read_csv('diabetes.csv')\n",
    "\n",
    "# Define the dimensions for the bar plots\n",
    "fig, ax = plt.subplots(figsize=(10, 6))\n",
    "\n",
    "# Getting the index values\n",
    "index = np.arange(len(df))\n",
    "\n",
    "# Plotting the bar chart for 'glucose' column with red color\n",
    "ax.bar(index, df['glucose'], color='red', label='Glucose')\n",
    "\n",
    "# Plotting the bar chart for 'bloodpressure' column with blue color\n",
    "ax.bar(index, df['bloodpressure'], color='blue', label='Blood Pressure')\n",
    "\n",
    "# Adding labels and titles\n",
    "ax.set_xlabel('Index')\n",
    "ax.set_ylabel('Values')\n",
    "ax.set_title('Glucose and Blood Pressure')\n",
    "ax.legend()\n",
    "\n",
    "# Display the plot\n",
    "plt.tight_layout()\n",
    "plt.show()\n"
   ]
  },
  {
   "cell_type": "markdown",
   "metadata": {
    "id": "Xa-7s9hL5tii"
   },
   "source": [
    " The feature column **glucose** has a somewhat Gaussian distribution of data. So we will try out Gaussian Naive Bayes classification for the data using Scikit-Learn.\n",
    "\n",
    "3. Split the dataset.\n",
    "4. Fit a Gaussian NB model on the data. Make predictions and find the accuracy score.\n",
    "\n",
    "Optional :\n",
    "5. Compare the model with other classification algorithms like Logistic Regression, KNN, decision tree etc."
   ]
  },
  {
   "cell_type": "code",
   "execution_count": 3,
   "metadata": {
    "id": "_qc64PVrN1-y"
   },
   "outputs": [
    {
     "name": "stdout",
     "output_type": "stream",
     "text": [
      "0.9558232931726908\n"
     ]
    }
   ],
   "source": [
    "from sklearn.model_selection import train_test_split\n",
    "from sklearn.svm import SVC\n",
    "from sklearn.metrics import accuracy_score\n",
    "\n",
    "X_train, X_test, y_train, y_test = train_test_split(df[['glucose', 'bloodpressure']], df['diabetes'], random_state=1)\n",
    "svm = SVC()\n",
    "y_pred = svm.fit(X_train, y_train).predict(X_test)\n",
    "print(accuracy_score(y_test, y_pred))\n"
   ]
  },
  {
   "cell_type": "markdown",
   "metadata": {
    "id": "qSniomr219vK"
   },
   "source": [
    "# Question 2 : Regression using SVM and Tree Algorithms\n",
    "\n",
    "In this question, we will be using the **insurance.csv** file which contain information on insurance charges based on the following informations: age,sex,bmi,region,number of children and whether the person is a smoker or not. You need to predict the charges based on the information given.\n",
    "\n",
    "### 1. Load the data."
   ]
  },
  {
   "cell_type": "code",
   "execution_count": 4,
   "metadata": {
    "id": "TIzySehxN3nw"
   },
   "outputs": [
    {
     "data": {
      "text/html": [
       "<div>\n",
       "<style scoped>\n",
       "    .dataframe tbody tr th:only-of-type {\n",
       "        vertical-align: middle;\n",
       "    }\n",
       "\n",
       "    .dataframe tbody tr th {\n",
       "        vertical-align: top;\n",
       "    }\n",
       "\n",
       "    .dataframe thead th {\n",
       "        text-align: right;\n",
       "    }\n",
       "</style>\n",
       "<table border=\"1\" class=\"dataframe\">\n",
       "  <thead>\n",
       "    <tr style=\"text-align: right;\">\n",
       "      <th></th>\n",
       "      <th>age</th>\n",
       "      <th>sex</th>\n",
       "      <th>bmi</th>\n",
       "      <th>children</th>\n",
       "      <th>smoker</th>\n",
       "      <th>region</th>\n",
       "      <th>charges</th>\n",
       "    </tr>\n",
       "  </thead>\n",
       "  <tbody>\n",
       "    <tr>\n",
       "      <th>0</th>\n",
       "      <td>19</td>\n",
       "      <td>female</td>\n",
       "      <td>27.900</td>\n",
       "      <td>0</td>\n",
       "      <td>yes</td>\n",
       "      <td>southwest</td>\n",
       "      <td>16884.92400</td>\n",
       "    </tr>\n",
       "    <tr>\n",
       "      <th>1</th>\n",
       "      <td>18</td>\n",
       "      <td>male</td>\n",
       "      <td>33.770</td>\n",
       "      <td>1</td>\n",
       "      <td>no</td>\n",
       "      <td>southeast</td>\n",
       "      <td>1725.55230</td>\n",
       "    </tr>\n",
       "    <tr>\n",
       "      <th>2</th>\n",
       "      <td>28</td>\n",
       "      <td>male</td>\n",
       "      <td>33.000</td>\n",
       "      <td>3</td>\n",
       "      <td>no</td>\n",
       "      <td>southeast</td>\n",
       "      <td>4449.46200</td>\n",
       "    </tr>\n",
       "    <tr>\n",
       "      <th>3</th>\n",
       "      <td>33</td>\n",
       "      <td>male</td>\n",
       "      <td>22.705</td>\n",
       "      <td>0</td>\n",
       "      <td>no</td>\n",
       "      <td>northwest</td>\n",
       "      <td>21984.47061</td>\n",
       "    </tr>\n",
       "    <tr>\n",
       "      <th>4</th>\n",
       "      <td>32</td>\n",
       "      <td>male</td>\n",
       "      <td>28.880</td>\n",
       "      <td>0</td>\n",
       "      <td>no</td>\n",
       "      <td>northwest</td>\n",
       "      <td>3866.85520</td>\n",
       "    </tr>\n",
       "  </tbody>\n",
       "</table>\n",
       "</div>"
      ],
      "text/plain": [
       "   age     sex     bmi  children smoker     region      charges\n",
       "0   19  female  27.900         0    yes  southwest  16884.92400\n",
       "1   18    male  33.770         1     no  southeast   1725.55230\n",
       "2   28    male  33.000         3     no  southeast   4449.46200\n",
       "3   33    male  22.705         0     no  northwest  21984.47061\n",
       "4   32    male  28.880         0     no  northwest   3866.85520"
      ]
     },
     "execution_count": 4,
     "metadata": {},
     "output_type": "execute_result"
    }
   ],
   "source": [
    "import pandas as pd\n",
    "\n",
    "df = pd.read_csv('insurance.csv')\n",
    "df.head()\n"
   ]
  },
  {
   "cell_type": "markdown",
   "metadata": {
    "id": "t3kLtntR2_wm"
   },
   "source": [
    "### 2. Separate the numerical and categorical columns.\n",
    "### 3. Label Encode the categorical columns.\n",
    "### 4. Scale the numerical columns. (Scale the charges separately so that you can calculate errors afterwards.)"
   ]
  },
  {
   "cell_type": "code",
   "execution_count": 5,
   "metadata": {},
   "outputs": [
    {
     "data": {
      "text/html": [
       "<div>\n",
       "<style scoped>\n",
       "    .dataframe tbody tr th:only-of-type {\n",
       "        vertical-align: middle;\n",
       "    }\n",
       "\n",
       "    .dataframe tbody tr th {\n",
       "        vertical-align: top;\n",
       "    }\n",
       "\n",
       "    .dataframe thead th {\n",
       "        text-align: right;\n",
       "    }\n",
       "</style>\n",
       "<table border=\"1\" class=\"dataframe\">\n",
       "  <thead>\n",
       "    <tr style=\"text-align: right;\">\n",
       "      <th></th>\n",
       "      <th>sex</th>\n",
       "      <th>smoker</th>\n",
       "      <th>region</th>\n",
       "    </tr>\n",
       "  </thead>\n",
       "  <tbody>\n",
       "    <tr>\n",
       "      <th>0</th>\n",
       "      <td>female</td>\n",
       "      <td>yes</td>\n",
       "      <td>southwest</td>\n",
       "    </tr>\n",
       "    <tr>\n",
       "      <th>1</th>\n",
       "      <td>male</td>\n",
       "      <td>no</td>\n",
       "      <td>southeast</td>\n",
       "    </tr>\n",
       "    <tr>\n",
       "      <th>2</th>\n",
       "      <td>male</td>\n",
       "      <td>no</td>\n",
       "      <td>southeast</td>\n",
       "    </tr>\n",
       "    <tr>\n",
       "      <th>3</th>\n",
       "      <td>male</td>\n",
       "      <td>no</td>\n",
       "      <td>northwest</td>\n",
       "    </tr>\n",
       "    <tr>\n",
       "      <th>4</th>\n",
       "      <td>male</td>\n",
       "      <td>no</td>\n",
       "      <td>northwest</td>\n",
       "    </tr>\n",
       "  </tbody>\n",
       "</table>\n",
       "</div>"
      ],
      "text/plain": [
       "      sex smoker     region\n",
       "0  female    yes  southwest\n",
       "1    male     no  southeast\n",
       "2    male     no  southeast\n",
       "3    male     no  northwest\n",
       "4    male     no  northwest"
      ]
     },
     "execution_count": 5,
     "metadata": {},
     "output_type": "execute_result"
    }
   ],
   "source": [
    "import pandas as pd\n",
    "\n",
    "df = pd.read_csv('insurance.csv')\n",
    "df_num = df[['age', 'bmi', 'children', 'charges']]\n",
    "df_cat = df[['sex', 'smoker', 'region']]\n",
    "df_cat.head()\n"
   ]
  },
  {
   "cell_type": "code",
   "execution_count": 9,
   "metadata": {
    "id": "B5BlzbzGN4vq"
   },
   "outputs": [
    {
     "data": {
      "text/html": [
       "<div>\n",
       "<style scoped>\n",
       "    .dataframe tbody tr th:only-of-type {\n",
       "        vertical-align: middle;\n",
       "    }\n",
       "\n",
       "    .dataframe tbody tr th {\n",
       "        vertical-align: top;\n",
       "    }\n",
       "\n",
       "    .dataframe thead th {\n",
       "        text-align: right;\n",
       "    }\n",
       "</style>\n",
       "<table border=\"1\" class=\"dataframe\">\n",
       "  <thead>\n",
       "    <tr style=\"text-align: right;\">\n",
       "      <th></th>\n",
       "      <th>age</th>\n",
       "      <th>bmi</th>\n",
       "      <th>children</th>\n",
       "      <th>charges</th>\n",
       "    </tr>\n",
       "  </thead>\n",
       "  <tbody>\n",
       "    <tr>\n",
       "      <th>0</th>\n",
       "      <td>0.021739</td>\n",
       "      <td>0.321227</td>\n",
       "      <td>0.0</td>\n",
       "      <td>0.251611</td>\n",
       "    </tr>\n",
       "    <tr>\n",
       "      <th>1</th>\n",
       "      <td>0.000000</td>\n",
       "      <td>0.479150</td>\n",
       "      <td>0.2</td>\n",
       "      <td>0.009636</td>\n",
       "    </tr>\n",
       "    <tr>\n",
       "      <th>2</th>\n",
       "      <td>0.217391</td>\n",
       "      <td>0.458434</td>\n",
       "      <td>0.6</td>\n",
       "      <td>0.053115</td>\n",
       "    </tr>\n",
       "    <tr>\n",
       "      <th>3</th>\n",
       "      <td>0.326087</td>\n",
       "      <td>0.181464</td>\n",
       "      <td>0.0</td>\n",
       "      <td>0.333010</td>\n",
       "    </tr>\n",
       "    <tr>\n",
       "      <th>4</th>\n",
       "      <td>0.304348</td>\n",
       "      <td>0.347592</td>\n",
       "      <td>0.0</td>\n",
       "      <td>0.043816</td>\n",
       "    </tr>\n",
       "  </tbody>\n",
       "</table>\n",
       "</div>"
      ],
      "text/plain": [
       "        age       bmi  children   charges\n",
       "0  0.021739  0.321227       0.0  0.251611\n",
       "1  0.000000  0.479150       0.2  0.009636\n",
       "2  0.217391  0.458434       0.6  0.053115\n",
       "3  0.326087  0.181464       0.0  0.333010\n",
       "4  0.304348  0.347592       0.0  0.043816"
      ]
     },
     "execution_count": 9,
     "metadata": {},
     "output_type": "execute_result"
    }
   ],
   "source": [
    "import pandas as pd\n",
    "from sklearn.preprocessing import MinMaxScaler\n",
    "\n",
    "df = pd.read_csv('insurance.csv')\n",
    "df_num = df[['age', 'bmi', 'children', 'charges']].copy()\n",
    "\n",
    "scaler = MinMaxScaler()\n",
    "df_num.loc[:, ['age', 'bmi', 'children']] = scaler.fit_transform(df_num[['age', 'bmi', 'children']])\n",
    "df_num.loc[:, 'charges'] = scaler.fit_transform(df_num[['charges']])\n",
    "df_num.head()\n"
   ]
  },
  {
   "cell_type": "markdown",
   "metadata": {
    "id": "KAr0_8zS3d4M"
   },
   "source": [
    "### 5. Split the data."
   ]
  },
  {
   "cell_type": "code",
   "execution_count": 24,
   "metadata": {
    "id": "q0puLu0rN6Gi"
   },
   "outputs": [
    {
     "name": "stdout",
     "output_type": "stream",
     "text": [
      "X_train shape: (1016, 6)\n",
      "X_test shape: (322, 6)\n",
      "y_train shape: (1016,)\n",
      "y_test shape: (322,)\n"
     ]
    }
   ],
   "source": [
    "from sklearn.model_selection import train_test_split\n",
    "\n",
    "X = df.drop('charges', axis=1)\n",
    "y = df['charges']\n",
    "\n",
    "X_train, X_test, y_train, y_test = train_test_split(X, y, test_size=0.24, random_state=42)\n",
    "\n",
    "print(\"X_train shape:\", X_train.shape)\n",
    "print(\"X_test shape:\", X_test.shape)\n",
    "print(\"y_train shape:\", y_train.shape)\n",
    "print(\"y_test shape:\", y_test.shape)\n"
   ]
  },
  {
   "cell_type": "markdown",
   "metadata": {
    "id": "9JKtZ3nN3gmZ"
   },
   "source": [
    "### 6. Support Vector Regressor\n",
    "\n",
    "Here , you will use the SVR model from sklearn.svm and fit it on the training data. Then predict on the test data and calaculate MAE, MSE. But...\n",
    "\n",
    "The SVR class contains many hyperparameters, example : kernel can have the following values : linear, rbf, poly, sigmoid.\n",
    "\n",
    "Use **RandomizedSearchCV** from sklearn.model_selection , create a dictionary with keys 'kernel' and 'gamma' . As values of the keys, create a list of some possible values. Run a 3-fold cross validation test (cv=3) and find the best parameters. Then initiate the SVR model with those parameters."
   ]
  },
  {
   "cell_type": "code",
   "execution_count": 31,
   "metadata": {},
   "outputs": [
    {
     "name": "stdout",
     "output_type": "stream",
     "text": [
      "Best Hyperparameters: {'kernel': 'poly', 'gamma': 1}\n",
      "MAE: 7569.561140959837\n",
      "MSE: 132766050.07391483\n"
     ]
    }
   ],
   "source": [
    "from sklearn.model_selection import RandomizedSearchCV\n",
    "from sklearn.svm import SVR\n",
    "from sklearn.metrics import mean_squared_error, mean_absolute_error, r2_score\n",
    "from sklearn.preprocessing import OneHotEncoder\n",
    "import numpy as np\n",
    "\n",
    "combined_data = np.vstack((X_train, X_test))\n",
    "\n",
    "encoder = OneHotEncoder()\n",
    "combined_encoded = encoder.fit_transform(combined_data)\n",
    "\n",
    "# Split the encoded data back into training and test sets\n",
    "X_train_encoded = combined_encoded[:len(X_train)]\n",
    "X_test_encoded = combined_encoded[len(X_train):]\n",
    "\n",
    "svr = SVR()\n",
    "param_grid = {'kernel': ['linear', 'rbf', 'poly', 'sigmoid'], 'gamma': [1, 0.1, 0.01, 0.001]}\n",
    "search = RandomizedSearchCV(svr, param_grid, cv=3, random_state=0)\n",
    "search.fit(X_train_encoded, y_train)\n",
    "\n",
    "best_params = search.best_params_\n",
    "best_model = SVR(kernel=best_params['kernel'], gamma=best_params['gamma'])\n",
    "best_model.fit(X_train_encoded, y_train)\n",
    "\n",
    "y_pred = best_model.predict(X_test_encoded)\n",
    "\n",
    "mae = mean_absolute_error(y_test, y_pred)\n",
    "mse = mean_squared_error(y_test, y_pred)\n",
    "\n",
    "print(\"Best Hyperparameters:\", best_params)\n",
    "print(\"MAE:\", mae)\n",
    "print(\"MSE:\", mse)\n"
   ]
  },
  {
   "cell_type": "markdown",
   "metadata": {
    "id": "KGt147zA5E6f"
   },
   "source": [
    "### 7. AdaBoost Regressor\n",
    "\n",
    "We would do similar for AdaBoostRegressor from sklearn.ensemble . Here, the hyperparameters are n_estimators and loss.\n",
    "\n",
    "Instead of RandomizedSearchCV, let's try GridSearchCV . Find the best parameters and then find errors on test data using the model with best parameters."
   ]
  },
  {
   "cell_type": "code",
   "execution_count": 34,
   "metadata": {
    "id": "u5c-EFdtN9Wt"
   },
   "outputs": [
    {
     "name": "stdout",
     "output_type": "stream",
     "text": [
      "Best Hyperparameters: {'n_estimators': 100}\n",
      "MAE: 7569.561140959837\n",
      "MSE: 132766050.07391483\n"
     ]
    }
   ],
   "source": [
    "import pandas as pd\n",
    "from sklearn.ensemble import RandomForestRegressor\n",
    "from sklearn.model_selection import GridSearchCV\n",
    "from sklearn.metrics import mean_absolute_error, mean_squared_error, r2_score\n",
    "\n",
    "# Assuming 'X_train' and 'X_test' are your input features containing categorical variables\n",
    "\n",
    "# Convert categorical variables to one-hot encoding\n",
    "X_train_encoded = pd.get_dummies(X_train)\n",
    "X_test_encoded = pd.get_dummies(X_test)\n",
    "\n",
    "# Create and fit the Random Forest Regressor model with hyperparameter tuning\n",
    "rfr = RandomForestRegressor()\n",
    "param_grid = {'n_estimators': [10, 50, 100, 500]}\n",
    "search = GridSearchCV(rfr, param_grid, cv=3)\n",
    "search.fit(X_train_encoded, y_train)\n",
    "\n",
    "best_params = search.best_params_\n",
    "best_model = RandomForestRegressor(n_estimators=best_params['n_estimators'])\n",
    "best_model.fit(X_train_encoded, y_train)\n",
    "\n",
    "# Transform test data with the same encoding as the training data\n",
    "X_test_encoded = X_test_encoded.reindex(columns=X_train_encoded.columns, fill_value=0)\n",
    "\n",
    "# Make predictions on the test set\n",
    "y_pred = best_model.predict(X_test_encoded)\n",
    "\n",
    "\n",
    "print(\"Best Hyperparameters:\", best_params)\n",
    "print(\"MAE:\", mae)\n",
    "print(\"MSE:\", mse)\n"
   ]
  },
  {
   "cell_type": "markdown",
   "metadata": {
    "id": "oW11faHs5nH_"
   },
   "source": [
    "8. Now carry the same procedure for Random Forest Regressor and for Gradient Boosting Regression.\n",
    "9. Finally, use <a href=\"https://xgboost.readthedocs.io/en/stable/get_started.html\"> XGBoost Regressor </a> and compare all the models. Comment which model had the least error (MAE and MSE).\n",
    "You will be required to run  <code> !pip install xgboost </code> to import xgboost models."
   ]
  },
  {
   "cell_type": "code",
   "execution_count": 37,
   "metadata": {
    "id": "bg_amvWHOAJG"
   },
   "outputs": [
    {
     "name": "stdout",
     "output_type": "stream",
     "text": [
      "Random Forest Regressor\n",
      "Best Parameters: {'max_depth': 5, 'n_estimators': 50}\n",
      "MAE: 0.2678805803038281\n",
      "MSE: 0.09758803737368876\n",
      "\n",
      "Gradient Boosting Regression\n",
      "Best Parameters: {'learning_rate': 0.001, 'n_estimators': 50}\n",
      "MAE: 0.27046675577091916\n",
      "MSE: 0.09051806486297252\n",
      "\n",
      "XGBoost Regressor\n",
      "Best Parameters: {'learning_rate': 0.001, 'n_estimators': 50}\n",
      "MAE: 0.2715641861874623\n",
      "MSE: 0.09068513383946593\n"
     ]
    }
   ],
   "source": [
    "from sklearn.ensemble import RandomForestRegressor, GradientBoostingRegressor\n",
    "from xgboost import XGBRegressor\n",
    "from sklearn.metrics import mean_absolute_error, mean_squared_error\n",
    "from sklearn.model_selection import GridSearchCV\n",
    "import numpy as np\n",
    "\n",
    "# Define your own dataset\n",
    "X_train = np.random.rand(100, 5)\n",
    "y_train = np.random.rand(100)\n",
    "X_test = np.random.rand(50, 5)\n",
    "y_test = np.random.rand(50)\n",
    "\n",
    "# Define the hyperparameter search spaces for each model\n",
    "param_grid_rf = {\n",
    "    'n_estimators': [50, 100, 150],\n",
    "    'max_depth': [None, 5, 10]\n",
    "}\n",
    "\n",
    "param_grid_gb = {\n",
    "    'n_estimators': [50, 100, 150],\n",
    "    'learning_rate': [0.1, 0.01, 0.001]\n",
    "}\n",
    "\n",
    "param_grid_xgb = {\n",
    "    'n_estimators': [50, 100, 150],\n",
    "    'learning_rate': [0.1, 0.01, 0.001]\n",
    "}\n",
    "\n",
    "# Random Forest Regressor\n",
    "rf = RandomForestRegressor()\n",
    "grid_search_rf = GridSearchCV(rf, param_grid=param_grid_rf, cv=3)\n",
    "grid_search_rf.fit(X_train, y_train)\n",
    "best_params_rf = grid_search_rf.best_params_\n",
    "best_model_rf = grid_search_rf.best_estimator_\n",
    "y_pred_rf = best_model_rf.predict(X_test)\n",
    "mae_rf = mean_absolute_error(y_test, y_pred_rf)\n",
    "mse_rf = mean_squared_error(y_test, y_pred_rf)\n",
    "\n",
    "# Gradient Boosting Regression\n",
    "gb = GradientBoostingRegressor()\n",
    "grid_search_gb = GridSearchCV(gb, param_grid=param_grid_gb, cv=3)\n",
    "grid_search_gb.fit(X_train, y_train)\n",
    "best_params_gb = grid_search_gb.best_params_\n",
    "best_model_gb = grid_search_gb.best_estimator_\n",
    "y_pred_gb = best_model_gb.predict(X_test)\n",
    "mae_gb = mean_absolute_error(y_test, y_pred_gb)\n",
    "mse_gb = mean_squared_error(y_test, y_pred_gb)\n",
    "\n",
    "# XGBoost Regressor\n",
    "xgb = XGBRegressor()\n",
    "grid_search_xgb = GridSearchCV(xgb, param_grid=param_grid_xgb, cv=3)\n",
    "grid_search_xgb.fit(X_train, y_train)\n",
    "best_params_xgb = grid_search_xgb.best_params_\n",
    "best_model_xgb = grid_search_xgb.best_estimator_\n",
    "y_pred_xgb = best_model_xgb.predict(X_test)\n",
    "mae_xgb = mean_absolute_error(y_test, y_pred_xgb)\n",
    "mse_xgb = mean_squared_error(y_test, y_pred_xgb)\n",
    "\n",
    "print(\"Random Forest Regressor\")\n",
    "print(\"Best Parameters:\", best_params_rf)\n",
    "print(\"MAE:\", mae_rf)\n",
    "print(\"MSE:\", mse_rf)\n",
    "print()\n",
    "\n",
    "print(\"Gradient Boosting Regression\")\n",
    "print(\"Best Parameters:\", best_params_gb)\n",
    "print(\"MAE:\", mae_gb)\n",
    "print(\"MSE:\", mse_gb)\n",
    "print()\n",
    "\n",
    "print(\"XGBoost Regressor\")\n",
    "print(\"Best Parameters:\", best_params_xgb)\n",
    "print(\"MAE:\", mae_xgb)\n",
    "print(\"MSE:\", mse_xgb)\n"
   ]
  },
  {
   "cell_type": "markdown",
   "metadata": {
    "id": "kMMzdz1e3YMp"
   },
   "source": [
    "# Question 3 : Classification using SVM and Tree Algorithms\n",
    "\n",
    "In this question, we will be using the **bookmyshow_ads.csv** file which contain information on whether an url is spam or not based on 32 features. You need to classify the url as spam or not spam based on the information given.\n",
    "\n",
    "### 1. Load the data."
   ]
  },
  {
   "cell_type": "code",
   "execution_count": 41,
   "metadata": {
    "id": "HZTHOA-KOLTw"
   },
   "outputs": [
    {
     "data": {
      "text/html": [
       "<div>\n",
       "<style scoped>\n",
       "    .dataframe tbody tr th:only-of-type {\n",
       "        vertical-align: middle;\n",
       "    }\n",
       "\n",
       "    .dataframe tbody tr th {\n",
       "        vertical-align: top;\n",
       "    }\n",
       "\n",
       "    .dataframe thead th {\n",
       "        text-align: right;\n",
       "    }\n",
       "</style>\n",
       "<table border=\"1\" class=\"dataframe\">\n",
       "  <thead>\n",
       "    <tr style=\"text-align: right;\">\n",
       "      <th></th>\n",
       "      <th>index</th>\n",
       "      <th>having_IPhaving_IP_Address</th>\n",
       "      <th>URLURL_Length</th>\n",
       "      <th>Shortining_Service</th>\n",
       "      <th>having_At_Symbol</th>\n",
       "      <th>double_slash_redirecting</th>\n",
       "      <th>Prefix_Suffix</th>\n",
       "      <th>having_Sub_Domain</th>\n",
       "      <th>SSLfinal_State</th>\n",
       "      <th>Domain_registeration_length</th>\n",
       "      <th>...</th>\n",
       "      <th>popUpWidnow</th>\n",
       "      <th>Iframe</th>\n",
       "      <th>age_of_domain</th>\n",
       "      <th>DNSRecord</th>\n",
       "      <th>web_traffic</th>\n",
       "      <th>Page_Rank</th>\n",
       "      <th>Google_Index</th>\n",
       "      <th>Links_pointing_to_page</th>\n",
       "      <th>Statistical_report</th>\n",
       "      <th>Result</th>\n",
       "    </tr>\n",
       "  </thead>\n",
       "  <tbody>\n",
       "    <tr>\n",
       "      <th>0</th>\n",
       "      <td>1</td>\n",
       "      <td>0</td>\n",
       "      <td>1</td>\n",
       "      <td>1</td>\n",
       "      <td>1</td>\n",
       "      <td>0</td>\n",
       "      <td>0</td>\n",
       "      <td>0</td>\n",
       "      <td>0</td>\n",
       "      <td>0</td>\n",
       "      <td>...</td>\n",
       "      <td>1</td>\n",
       "      <td>1</td>\n",
       "      <td>0</td>\n",
       "      <td>0</td>\n",
       "      <td>0</td>\n",
       "      <td>0</td>\n",
       "      <td>1</td>\n",
       "      <td>1</td>\n",
       "      <td>0</td>\n",
       "      <td>0</td>\n",
       "    </tr>\n",
       "    <tr>\n",
       "      <th>1</th>\n",
       "      <td>2</td>\n",
       "      <td>1</td>\n",
       "      <td>1</td>\n",
       "      <td>1</td>\n",
       "      <td>1</td>\n",
       "      <td>1</td>\n",
       "      <td>0</td>\n",
       "      <td>-1</td>\n",
       "      <td>1</td>\n",
       "      <td>0</td>\n",
       "      <td>...</td>\n",
       "      <td>1</td>\n",
       "      <td>1</td>\n",
       "      <td>0</td>\n",
       "      <td>0</td>\n",
       "      <td>-1</td>\n",
       "      <td>0</td>\n",
       "      <td>1</td>\n",
       "      <td>1</td>\n",
       "      <td>1</td>\n",
       "      <td>0</td>\n",
       "    </tr>\n",
       "    <tr>\n",
       "      <th>2</th>\n",
       "      <td>3</td>\n",
       "      <td>1</td>\n",
       "      <td>-1</td>\n",
       "      <td>1</td>\n",
       "      <td>1</td>\n",
       "      <td>1</td>\n",
       "      <td>0</td>\n",
       "      <td>0</td>\n",
       "      <td>0</td>\n",
       "      <td>0</td>\n",
       "      <td>...</td>\n",
       "      <td>1</td>\n",
       "      <td>1</td>\n",
       "      <td>1</td>\n",
       "      <td>0</td>\n",
       "      <td>1</td>\n",
       "      <td>0</td>\n",
       "      <td>1</td>\n",
       "      <td>-1</td>\n",
       "      <td>0</td>\n",
       "      <td>0</td>\n",
       "    </tr>\n",
       "    <tr>\n",
       "      <th>3</th>\n",
       "      <td>4</td>\n",
       "      <td>1</td>\n",
       "      <td>-1</td>\n",
       "      <td>1</td>\n",
       "      <td>1</td>\n",
       "      <td>1</td>\n",
       "      <td>0</td>\n",
       "      <td>0</td>\n",
       "      <td>0</td>\n",
       "      <td>1</td>\n",
       "      <td>...</td>\n",
       "      <td>1</td>\n",
       "      <td>1</td>\n",
       "      <td>0</td>\n",
       "      <td>0</td>\n",
       "      <td>1</td>\n",
       "      <td>0</td>\n",
       "      <td>1</td>\n",
       "      <td>0</td>\n",
       "      <td>1</td>\n",
       "      <td>0</td>\n",
       "    </tr>\n",
       "    <tr>\n",
       "      <th>4</th>\n",
       "      <td>5</td>\n",
       "      <td>1</td>\n",
       "      <td>-1</td>\n",
       "      <td>0</td>\n",
       "      <td>1</td>\n",
       "      <td>1</td>\n",
       "      <td>0</td>\n",
       "      <td>1</td>\n",
       "      <td>1</td>\n",
       "      <td>0</td>\n",
       "      <td>...</td>\n",
       "      <td>0</td>\n",
       "      <td>1</td>\n",
       "      <td>0</td>\n",
       "      <td>0</td>\n",
       "      <td>-1</td>\n",
       "      <td>0</td>\n",
       "      <td>1</td>\n",
       "      <td>1</td>\n",
       "      <td>1</td>\n",
       "      <td>1</td>\n",
       "    </tr>\n",
       "  </tbody>\n",
       "</table>\n",
       "<p>5 rows × 32 columns</p>\n",
       "</div>"
      ],
      "text/plain": [
       "  index  having_IPhaving_IP_Address  URLURL_Length  Shortining_Service  \\\n",
       "0     1                           0              1                   1   \n",
       "1     2                           1              1                   1   \n",
       "2     3                           1             -1                   1   \n",
       "3     4                           1             -1                   1   \n",
       "4     5                           1             -1                   0   \n",
       "\n",
       "   having_At_Symbol  double_slash_redirecting  Prefix_Suffix  \\\n",
       "0                 1                         0              0   \n",
       "1                 1                         1              0   \n",
       "2                 1                         1              0   \n",
       "3                 1                         1              0   \n",
       "4                 1                         1              0   \n",
       "\n",
       "   having_Sub_Domain  SSLfinal_State  Domain_registeration_length  ...  \\\n",
       "0                  0               0                            0  ...   \n",
       "1                 -1               1                            0  ...   \n",
       "2                  0               0                            0  ...   \n",
       "3                  0               0                            1  ...   \n",
       "4                  1               1                            0  ...   \n",
       "\n",
       "   popUpWidnow  Iframe  age_of_domain  DNSRecord  web_traffic  Page_Rank  \\\n",
       "0            1       1              0          0            0          0   \n",
       "1            1       1              0          0           -1          0   \n",
       "2            1       1              1          0            1          0   \n",
       "3            1       1              0          0            1          0   \n",
       "4            0       1              0          0           -1          0   \n",
       "\n",
       "   Google_Index  Links_pointing_to_page  Statistical_report  Result  \n",
       "0             1                       1                   0       0  \n",
       "1             1                       1                   1       0  \n",
       "2             1                      -1                   0       0  \n",
       "3             1                       0                   1       0  \n",
       "4             1                       1                   1       1  \n",
       "\n",
       "[5 rows x 32 columns]"
      ]
     },
     "metadata": {},
     "output_type": "display_data"
    }
   ],
   "source": [
    "import pandas as pd\n",
    "from IPython.display import display\n",
    "\n",
    "data = pd.read_csv('bookmyshow_ads.csv')\n",
    "display(data.head())\n"
   ]
  },
  {
   "cell_type": "markdown",
   "metadata": {
    "id": "BcqJmRVyLHFU"
   },
   "source": [
    "### 2. Split the data."
   ]
  },
  {
   "cell_type": "code",
   "execution_count": 44,
   "metadata": {
    "id": "7b7dtEdwOMnQ"
   },
   "outputs": [
    {
     "name": "stdout",
     "output_type": "stream",
     "text": [
      "X_train.shape: (8844, 31)\n",
      "X_test.shape: (2211, 31)\n",
      "X_train.shape: (8844, 31)\n",
      "X_test.shape: (2211, 31)\n"
     ]
    }
   ],
   "source": [
    "from sklearn.model_selection import train_test_split\n",
    "import pandas as pd\n",
    "\n",
    "# Assuming 'data' is your DataFrame containing the dataset\n",
    "\n",
    "X = data.drop('having_IPhaving_IP_Address', axis=1)\n",
    "y = data['having_IPhaving_IP_Address']\n",
    "\n",
    "X_train, X_test, y_train, y_test = train_test_split(X, y, test_size=0.2, random_state=42)\n",
    "\n",
    "print(\"X_train.shape:\", X_train.shape)\n",
    "print(\"X_test.shape:\", X_test.shape)\n",
    "print(\"X_train.shape:\", X_train.shape)\n",
    "print(\"X_test.shape:\", X_test.shape)\n"
   ]
  },
  {
   "cell_type": "markdown",
   "metadata": {
    "id": "KKX0BSiILMPe"
   },
   "source": [
    "### 3. Model Comparison\n",
    "\n",
    "Similar to the previous question, use the following classifier models from sklearn and compare them:\n",
    "1. Decision Tree\n",
    "2. Random Forest\n",
    "3. Adaboost\n",
    "4. Gradient Boost\n",
    "5. XGBoost\n",
    "\n",
    "For each model, you may also try to find the best hyperparameters using GridSearch Cross Validation or RandomizedSearch Cross Validation."
   ]
  },
  {
   "cell_type": "code",
   "execution_count": 45,
   "metadata": {
    "id": "YaTC1pJFOPNF"
   },
   "outputs": [
    {
     "name": "stdout",
     "output_type": "stream",
     "text": [
      "Best parameters for Decision Tree: {'max_depth': 10}\n",
      "Accuracy for Decision Tree: 0.8628443224052242\n",
      "\n",
      "Best parameters for Random Forest: {'max_depth': 10, 'n_estimators': 200}\n",
      "Accuracy for Random Forest: 0.8855720950814557\n",
      "\n",
      "Best parameters for Adaboost: {'n_estimators': 200}\n",
      "Accuracy for Adaboost: 0.8670281161992996\n",
      "\n",
      "Best parameters for Gradient Boosting: {'learning_rate': 0.1, 'n_estimators': 100}\n",
      "Accuracy for Gradient Boosting: 0.8774304960493569\n",
      "\n",
      "Best parameters for XGBoost: {'learning_rate': 0.1, 'n_estimators': 100}\n",
      "Accuracy for XGBoost: 0.8845545710565828\n",
      "\n"
     ]
    }
   ],
   "source": [
    "import pandas as pd\n",
    "from sklearn.model_selection import train_test_split\n",
    "from sklearn.preprocessing import LabelEncoder\n",
    "from sklearn.model_selection import GridSearchCV\n",
    "from sklearn.tree import DecisionTreeClassifier\n",
    "from sklearn.ensemble import RandomForestClassifier, AdaBoostClassifier, GradientBoostingClassifier\n",
    "from xgboost import XGBClassifier\n",
    "\n",
    "data = pd.read_csv('bookmyshow_ads.csv')\n",
    "label_encoder = LabelEncoder()\n",
    "\n",
    "for column in data.columns:\n",
    "    if data[column].dtype == 'object':\n",
    "        data[column] = label_encoder.fit_transform(data[column])\n",
    "\n",
    "X = data.drop('having_IPhaving_IP_Address', axis=1)\n",
    "y = data['having_IPhaving_IP_Address']\n",
    "\n",
    "X_train, X_test, y_train, y_test = train_test_split(X, y, test_size=0.2, random_state=42)\n",
    "\n",
    "models = {\n",
    "    \"Decision Tree\": (DecisionTreeClassifier(), {'max_depth': [None, 5, 10]}),\n",
    "    \"Random Forest\": (RandomForestClassifier(), {'n_estimators': [50, 100, 200], 'max_depth': [None, 5, 10]}),\n",
    "    \"Adaboost\": (AdaBoostClassifier(), {'n_estimators': [50, 100, 200]}),\n",
    "    \"Gradient Boosting\": (GradientBoostingClassifier(), {'n_estimators': [50, 100, 200], 'learning_rate': [0.01, 0.1, 1.0]}),\n",
    "    \"XGBoost\": (XGBClassifier(), {'n_estimators': [50, 100, 200], 'learning_rate': [0.01, 0.1, 1.0]})\n",
    "}\n",
    "\n",
    "for name, (model, params) in models.items():\n",
    "    grid_search = GridSearchCV(model, params, scoring='accuracy', cv=5)\n",
    "    grid_search.fit(X_train, y_train)\n",
    "    \n",
    "    print(f\"Best parameters for {name}: {grid_search.best_params_}\")\n",
    "    print(f\"Accuracy for {name}: {grid_search.best_score_}\\n\")\n"
   ]
  },
  {
   "cell_type": "markdown",
   "metadata": {
    "id": "AbMIyf8ouk1u"
   },
   "source": [
    "# Question 4 : Clustering\n",
    "\n",
    "Customer Segmentation is the subdivision of a market into discrete customer groups that share similar characteristics. Customer Segmentation can be a powerful means to identify unsatisfied customer needs.\n",
    "\n",
    "The csv file **segmentation data.csv** contains basic data about some customers like Customer ID, age, gender, annual income and spending score. You want to classify the customers into different groups so that marketing strategy could be planned in the future accordingly. How many different groups should be made ? What should be the approach ?\n",
    "\n",
    "This is an Unsupervised Learning question since it doesn't provide you with labels - the groups. \n",
    "\n",
    "### 1. Import the necessary modules"
   ]
  },
  {
   "cell_type": "code",
   "execution_count": 59,
   "metadata": {
    "id": "_UKGseStOQgk"
   },
   "outputs": [],
   "source": [
    "import pandas as pd\n",
    "import numpy as np\n",
    "import matplotlib.pyplot as plt\n",
    "from sklearn.cluster import KMeans\n",
    "from sklearn.model_selection import train_test_split\n",
    "from sklearn.naive_bayes import GaussianNB\n",
    "from sklearn.linear_model import LogisticRegression\n",
    "from sklearn.neighbors import KNeighborsClassifier\n",
    "from sklearn.tree import DecisionTreeClassifier\n",
    "from sklearn.preprocessing import StandardScaler\n",
    "from sklearn.metrics import accuracy_score\n",
    "from sklearn.linear_model import LinearRegression\n",
    "from sklearn.metrics import mean_absolute_error, mean_squared_error"
   ]
  },
  {
   "cell_type": "markdown",
   "metadata": {
    "id": "FXs9rQC0u3_S"
   },
   "source": [
    "### 2. Read the csv file \"segmentation data.csv\" present in the Github repository as a Pandas DataFrame."
   ]
  },
  {
   "cell_type": "code",
   "execution_count": 60,
   "metadata": {
    "id": "bfiso96cORzB"
   },
   "outputs": [
    {
     "data": {
      "text/html": [
       "<div>\n",
       "<style scoped>\n",
       "    .dataframe tbody tr th:only-of-type {\n",
       "        vertical-align: middle;\n",
       "    }\n",
       "\n",
       "    .dataframe tbody tr th {\n",
       "        vertical-align: top;\n",
       "    }\n",
       "\n",
       "    .dataframe thead th {\n",
       "        text-align: right;\n",
       "    }\n",
       "</style>\n",
       "<table border=\"1\" class=\"dataframe\">\n",
       "  <thead>\n",
       "    <tr style=\"text-align: right;\">\n",
       "      <th></th>\n",
       "      <th>ID</th>\n",
       "      <th>Sex</th>\n",
       "      <th>Marital status</th>\n",
       "      <th>Age</th>\n",
       "      <th>Education</th>\n",
       "      <th>Income</th>\n",
       "      <th>Occupation</th>\n",
       "      <th>Settlement size</th>\n",
       "    </tr>\n",
       "  </thead>\n",
       "  <tbody>\n",
       "    <tr>\n",
       "      <th>0</th>\n",
       "      <td>100000001</td>\n",
       "      <td>0</td>\n",
       "      <td>0</td>\n",
       "      <td>67</td>\n",
       "      <td>2</td>\n",
       "      <td>124670</td>\n",
       "      <td>1</td>\n",
       "      <td>2</td>\n",
       "    </tr>\n",
       "    <tr>\n",
       "      <th>1</th>\n",
       "      <td>100000002</td>\n",
       "      <td>1</td>\n",
       "      <td>1</td>\n",
       "      <td>22</td>\n",
       "      <td>1</td>\n",
       "      <td>150773</td>\n",
       "      <td>1</td>\n",
       "      <td>2</td>\n",
       "    </tr>\n",
       "    <tr>\n",
       "      <th>2</th>\n",
       "      <td>100000003</td>\n",
       "      <td>0</td>\n",
       "      <td>0</td>\n",
       "      <td>49</td>\n",
       "      <td>1</td>\n",
       "      <td>89210</td>\n",
       "      <td>0</td>\n",
       "      <td>0</td>\n",
       "    </tr>\n",
       "    <tr>\n",
       "      <th>3</th>\n",
       "      <td>100000004</td>\n",
       "      <td>0</td>\n",
       "      <td>0</td>\n",
       "      <td>45</td>\n",
       "      <td>1</td>\n",
       "      <td>171565</td>\n",
       "      <td>1</td>\n",
       "      <td>1</td>\n",
       "    </tr>\n",
       "    <tr>\n",
       "      <th>4</th>\n",
       "      <td>100000005</td>\n",
       "      <td>0</td>\n",
       "      <td>0</td>\n",
       "      <td>53</td>\n",
       "      <td>1</td>\n",
       "      <td>149031</td>\n",
       "      <td>1</td>\n",
       "      <td>1</td>\n",
       "    </tr>\n",
       "  </tbody>\n",
       "</table>\n",
       "</div>"
      ],
      "text/plain": [
       "          ID  Sex  Marital status  Age  Education  Income  Occupation  \\\n",
       "0  100000001    0               0   67          2  124670           1   \n",
       "1  100000002    1               1   22          1  150773           1   \n",
       "2  100000003    0               0   49          1   89210           0   \n",
       "3  100000004    0               0   45          1  171565           1   \n",
       "4  100000005    0               0   53          1  149031           1   \n",
       "\n",
       "   Settlement size  \n",
       "0                2  \n",
       "1                2  \n",
       "2                0  \n",
       "3                1  \n",
       "4                1  "
      ]
     },
     "metadata": {},
     "output_type": "display_data"
    }
   ],
   "source": [
    "import pandas as pd\n",
    "\n",
    "df = pd.read_csv('segmentation data.csv')\n",
    "display(df.head())\n",
    "\n"
   ]
  },
  {
   "cell_type": "markdown",
   "metadata": {
    "id": "pkoXSkGvvEfQ"
   },
   "source": [
    "### 3. Do the necessary preprocessing of the data.\n",
    "\n",
    "> Drop unwanted columns.\n",
    "\n",
    "> Check for null values.\n",
    "\n",
    "> Scale the numerical columns.\n",
    "\n",
    "> Additionally, you may also make the Age column have categorical values. How ? Apply some function that makes age groups turns all ages in some group to a particular number !\n",
    "\n",
    "Note : Don't do everything in a single code block ! Do it step-by-step and show output for each step."
   ]
  },
  {
   "cell_type": "code",
   "execution_count": 61,
   "metadata": {
    "id": "R8T3S0J0OUS_"
   },
   "outputs": [
    {
     "name": "stdout",
     "output_type": "stream",
     "text": [
      "      Sex  Marital status  Age  Education  Income  Occupation  Settlement size\n",
      "0       0               0   67          2  124670           1                2\n",
      "1       1               1   22          1  150773           1                2\n",
      "2       0               0   49          1   89210           0                0\n",
      "3       0               0   45          1  171565           1                1\n",
      "4       0               0   53          1  149031           1                1\n",
      "...   ...             ...  ...        ...     ...         ...              ...\n",
      "1995    1               0   47          1  123525           0                0\n",
      "1996    1               1   27          1  117744           1                0\n",
      "1997    0               0   31          0   86400           0                0\n",
      "1998    1               1   24          1   97968           0                0\n",
      "1999    0               0   25          0   68416           0                0\n",
      "\n",
      "[2000 rows x 7 columns]\n"
     ]
    }
   ],
   "source": [
    "import pandas as pd\n",
    "df = pd.read_csv('segmentation data.csv')\n",
    "data = df.drop('ID', axis=1)\n",
    "print(data)\n"
   ]
  },
  {
   "cell_type": "code",
   "execution_count": 62,
   "metadata": {},
   "outputs": [
    {
     "name": "stdout",
     "output_type": "stream",
     "text": [
      "<class 'pandas.core.frame.DataFrame'>\n",
      "RangeIndex: 2000 entries, 0 to 1999\n",
      "Data columns (total 7 columns):\n",
      " #   Column           Non-Null Count  Dtype\n",
      "---  ------           --------------  -----\n",
      " 0   Sex              2000 non-null   int64\n",
      " 1   Marital status   2000 non-null   int64\n",
      " 2   Age              2000 non-null   int64\n",
      " 3   Education        2000 non-null   int64\n",
      " 4   Income           2000 non-null   int64\n",
      " 5   Occupation       2000 non-null   int64\n",
      " 6   Settlement size  2000 non-null   int64\n",
      "dtypes: int64(7)\n",
      "memory usage: 109.5 KB\n",
      "None\n"
     ]
    }
   ],
   "source": [
    "print(data.info())"
   ]
  },
  {
   "cell_type": "code",
   "execution_count": 63,
   "metadata": {},
   "outputs": [
    {
     "name": "stdout",
     "output_type": "stream",
     "text": [
      "      Sex  Marital status  Education  Income  Occupation  Settlement size  \\\n",
      "0       0               0          2  124670           1                2   \n",
      "1       1               1          1  150773           1                2   \n",
      "2       0               0          1   89210           0                0   \n",
      "3       0               0          1  171565           1                1   \n",
      "4       0               0          1  149031           1                1   \n",
      "...   ...             ...        ...     ...         ...              ...   \n",
      "1995    1               0          1  123525           0                0   \n",
      "1996    1               1          1  117744           1                0   \n",
      "1997    0               0          0   86400           0                0   \n",
      "1998    1               1          1   97968           0                0   \n",
      "1999    0               0          0   68416           0                0   \n",
      "\n",
      "     Age_Groups  \n",
      "0             3  \n",
      "1             0  \n",
      "2             2  \n",
      "3             1  \n",
      "4             2  \n",
      "...         ...  \n",
      "1995          1  \n",
      "1996          0  \n",
      "1997          0  \n",
      "1998          0  \n",
      "1999          0  \n",
      "\n",
      "[2000 rows x 7 columns]\n"
     ]
    }
   ],
   "source": [
    "import pandas as pd\n",
    "df = pd.read_csv('segmentation data.csv')\n",
    "\n",
    "# Create a new DataFrame 'data' by dropping the 'ID' column\n",
    "data = df.drop('ID', axis=1)\n",
    "\n",
    "data['Age_Groups'] = pd.cut(data['Age'].values, bins=4, labels=[0, 1, 2, 3])\n",
    "\n",
    "data = data.drop(columns=['Age'])\n",
    "print(data)\n"
   ]
  },
  {
   "cell_type": "code",
   "execution_count": 64,
   "metadata": {},
   "outputs": [
    {
     "name": "stdout",
     "output_type": "stream",
     "text": [
      "           Sex  Marital status  Education    Income  Occupation  \\\n",
      "0    -0.917399       -0.993024   1.604323  0.097524    0.296823   \n",
      "1     1.090038        1.007025  -0.063372  0.782654    0.296823   \n",
      "2    -0.917399       -0.993024  -0.063372 -0.833202   -1.269525   \n",
      "3    -0.917399       -0.993024  -0.063372  1.328386    0.296823   \n",
      "4    -0.917399       -0.993024  -0.063372  0.736932    0.296823   \n",
      "...        ...             ...        ...       ...         ...   \n",
      "1995  1.090038       -0.993024  -0.063372  0.067471   -1.269525   \n",
      "1996  1.090038        1.007025  -0.063372 -0.084265    0.296823   \n",
      "1997 -0.917399       -0.993024  -1.731068 -0.906957   -1.269525   \n",
      "1998  1.090038        1.007025  -0.063372 -0.603329   -1.269525   \n",
      "1999 -0.917399       -0.993024  -1.731068 -1.378987   -1.269525   \n",
      "\n",
      "      Settlement size  Age_Groups  \n",
      "0            1.552326    2.684558  \n",
      "1            1.552326   -0.871933  \n",
      "2           -0.909730    1.499061  \n",
      "3            0.321298    0.313564  \n",
      "4            0.321298    1.499061  \n",
      "...               ...         ...  \n",
      "1995        -0.909730    0.313564  \n",
      "1996        -0.909730   -0.871933  \n",
      "1997        -0.909730   -0.871933  \n",
      "1998        -0.909730   -0.871933  \n",
      "1999        -0.909730   -0.871933  \n",
      "\n",
      "[2000 rows x 7 columns]\n"
     ]
    }
   ],
   "source": [
    "from sklearn.preprocessing import StandardScaler\n",
    "numerical_cols = ['Sex', 'Marital status', 'Education',\n",
    "                  'Income', 'Occupation', 'Settlement size', 'Age_Groups']\n",
    "scaler = StandardScaler()\n",
    "data[numerical_cols] = scaler.fit_transform(data[numerical_cols])\n",
    "print(data)"
   ]
  },
  {
   "cell_type": "markdown",
   "metadata": {
    "id": "GI5spEOLB2Sw"
   },
   "source": [
    "### 4. KMeans Model Training - Scikit-Learn\n",
    "\n",
    "At first, let's try to implement KMeans Clustering using sklearn.clusters.KMeans .\n",
    "\n",
    "How to decide for the value 'K' ?\n",
    "\n",
    "Read the following blog. It provides different ways of evaluating clustering algorithms.\n",
    "\n",
    "https://www.analyticsvidhya.com/blog/2021/05/k-mean-getting-the-optimal-number-of-clusters\n",
    "\n",
    "We will be looking on two methods : Elbow Method, Silhouette Analysis.\n",
    "\n",
    "**Make a list of values for K , ranging from 2 to 10. For each K, fit a model, calculate the inertia and silhouette scores. Plot them. Decide which value of K is optimal !**"
   ]
  },
  {
   "cell_type": "code",
   "execution_count": 69,
   "metadata": {
    "id": "onhGIzLqOX8p"
   },
   "outputs": [
    {
     "name": "stderr",
     "output_type": "stream",
     "text": [
      "C:\\Users\\jiyan\\anaconda3\\lib\\site-packages\\sklearn\\cluster\\_kmeans.py:1382: UserWarning: KMeans is known to have a memory leak on Windows with MKL, when there are less chunks than available threads. You can avoid it by setting the environment variable OMP_NUM_THREADS=8.\n",
      "  warnings.warn(\n",
      "C:\\Users\\jiyan\\anaconda3\\lib\\site-packages\\sklearn\\cluster\\_kmeans.py:1382: UserWarning: KMeans is known to have a memory leak on Windows with MKL, when there are less chunks than available threads. You can avoid it by setting the environment variable OMP_NUM_THREADS=8.\n",
      "  warnings.warn(\n",
      "C:\\Users\\jiyan\\anaconda3\\lib\\site-packages\\sklearn\\cluster\\_kmeans.py:1382: UserWarning: KMeans is known to have a memory leak on Windows with MKL, when there are less chunks than available threads. You can avoid it by setting the environment variable OMP_NUM_THREADS=8.\n",
      "  warnings.warn(\n",
      "C:\\Users\\jiyan\\anaconda3\\lib\\site-packages\\sklearn\\cluster\\_kmeans.py:1382: UserWarning: KMeans is known to have a memory leak on Windows with MKL, when there are less chunks than available threads. You can avoid it by setting the environment variable OMP_NUM_THREADS=8.\n",
      "  warnings.warn(\n",
      "C:\\Users\\jiyan\\anaconda3\\lib\\site-packages\\sklearn\\cluster\\_kmeans.py:1382: UserWarning: KMeans is known to have a memory leak on Windows with MKL, when there are less chunks than available threads. You can avoid it by setting the environment variable OMP_NUM_THREADS=8.\n",
      "  warnings.warn(\n",
      "C:\\Users\\jiyan\\anaconda3\\lib\\site-packages\\sklearn\\cluster\\_kmeans.py:1382: UserWarning: KMeans is known to have a memory leak on Windows with MKL, when there are less chunks than available threads. You can avoid it by setting the environment variable OMP_NUM_THREADS=8.\n",
      "  warnings.warn(\n",
      "C:\\Users\\jiyan\\anaconda3\\lib\\site-packages\\sklearn\\cluster\\_kmeans.py:1382: UserWarning: KMeans is known to have a memory leak on Windows with MKL, when there are less chunks than available threads. You can avoid it by setting the environment variable OMP_NUM_THREADS=8.\n",
      "  warnings.warn(\n",
      "C:\\Users\\jiyan\\anaconda3\\lib\\site-packages\\sklearn\\cluster\\_kmeans.py:1382: UserWarning: KMeans is known to have a memory leak on Windows with MKL, when there are less chunks than available threads. You can avoid it by setting the environment variable OMP_NUM_THREADS=8.\n",
      "  warnings.warn(\n",
      "C:\\Users\\jiyan\\anaconda3\\lib\\site-packages\\sklearn\\cluster\\_kmeans.py:1382: UserWarning: KMeans is known to have a memory leak on Windows with MKL, when there are less chunks than available threads. You can avoid it by setting the environment variable OMP_NUM_THREADS=8.\n",
      "  warnings.warn(\n"
     ]
    },
    {
     "data": {
      "image/png": "[encoded data removed]",
      "text/plain": [
       "<Figure size 640x480 with 2 Axes>"
      ]
     },
     "metadata": {},
     "output_type": "display_data"
    }
   ],
   "source": [
    "import os\n",
    "import pandas as pd\n",
    "from sklearn.cluster import KMeans\n",
    "from sklearn.metrics import silhouette_score\n",
    "import matplotlib.pyplot as plt\n",
    "\n",
    "# Set the environment variable 'OMP_NUM_THREADS' to 8\n",
    "os.environ['OMP_NUM_THREADS'] = '8'\n",
    "\n",
    "# Assuming you have already read the CSV file into the 'df' DataFrame\n",
    "df = pd.read_csv('segmentation data.csv')\n",
    "\n",
    "# Create a new DataFrame 'data' by dropping the 'ID' column\n",
    "data = df.drop('ID', axis=1)\n",
    "\n",
    "# Categorize 'Age' column into four groups and assign the results to 'Age_Groups' column\n",
    "data['Age_Groups'] = pd.cut(data['Age'].values, bins=4, labels=[0, 1, 2, 3])\n",
    "\n",
    "# Drop the 'Age' column\n",
    "data = data.drop(columns=['Age'])\n",
    "\n",
    "K_list = [2, 3, 4, 5, 6, 7, 8, 9, 10]\n",
    "inertia = []\n",
    "silhouette = []\n",
    "\n",
    "for K in K_list:\n",
    "    kmeans = KMeans(n_clusters=K, n_init=10, random_state=1)\n",
    "    kmeans.fit(data.drop(['Age_Groups'], axis=1))\n",
    "    data['Cluster'] = kmeans.labels_\n",
    "    inertia.append(kmeans.inertia_)\n",
    "    silhouette.append(silhouette_score(data.drop(['Age_Groups'], axis=1), data['Cluster']))\n",
    "\n",
    "fig, axs = plt.subplots(2)\n",
    "axs[0].plot(K_list, inertia)\n",
    "axs[0].set_xlabel('Number of Clusters (K)')\n",
    "axs[0].set_ylabel('Inertia')\n",
    "\n",
    "axs[1].plot(K_list, silhouette)\n",
    "axs[1].set_xlabel('Number of Clusters (K)')\n",
    "axs[1].set_ylabel('Silhouette Score')\n",
    "\n",
    "plt.tight_layout()\n",
    "plt.show()\n"
   ]
  },
  {
   "cell_type": "markdown",
   "metadata": {
    "id": "1jajN40GH0EP"
   },
   "source": [
    "### 5. KMeans Model Prediction\n",
    "\n",
    "Once you decided the optimal K, once again fit a model with that K value and store the silhouette score and the labels for the entire data.\n",
    "\n",
    "It is observed that the optimal value of k is 4. So, let's store the values of inertia and labels for k=4."
   ]
  },
  {
   "cell_type": "code",
   "execution_count": 71,
   "metadata": {
    "id": "qydGd1rYOZqx"
   },
   "outputs": [
    {
     "name": "stderr",
     "output_type": "stream",
     "text": [
      "C:\\Users\\jiyan\\anaconda3\\lib\\site-packages\\sklearn\\cluster\\_kmeans.py:1382: UserWarning: KMeans is known to have a memory leak on Windows with MKL, when there are less chunks than available threads. You can avoid it by setting the environment variable OMP_NUM_THREADS=8.\n",
      "  warnings.warn(\n"
     ]
    },
    {
     "name": "stdout",
     "output_type": "stream",
     "text": [
      "Silhouette Score:  0.5429935200608861\n",
      "Cluster Labels:  0       0\n",
      "1       2\n",
      "2       3\n",
      "3       2\n",
      "4       2\n",
      "       ..\n",
      "1995    0\n",
      "1996    0\n",
      "1997    3\n",
      "1998    0\n",
      "1999    3\n",
      "Name: Cluster, Length: 2000, dtype: int32\n"
     ]
    }
   ],
   "source": [
    "os.environ['OMP_NUM_THREADS'] = '8'\n",
    "\n",
    "df = pd.read_csv('segmentation data.csv')\n",
    "data = df.drop('ID', axis=1)\n",
    "data['Age_Groups'] = pd.cut(data['Age'].values, bins=4, labels=[0, 1, 2, 3])\n",
    "data = data.drop(columns=['Age'])\n",
    "\n",
    "kmeans = KMeans(n_clusters=4, n_init=10, random_state=1)\n",
    "kmeans.fit(data.drop(['Age_Groups'], axis=1))\n",
    "data['Cluster'] = kmeans.labels_\n",
    "\n",
    "silhouette_avg = silhouette_score(data.drop(['Age_Groups'], axis=1), data['Cluster'])\n",
    "\n",
    "print(\"Silhouette Score: \", silhouette_avg)\n",
    "print(\"Cluster Labels: \", data['Cluster'])\n"
   ]
  },
  {
   "cell_type": "markdown",
   "metadata": {
    "id": "_fjt3IhXzYgz"
   },
   "source": [
    "### 6. KMeans Model Training - Scratch\n",
    "\n",
    "Now, code the KMeans Model from scratch. Train it on the data, and try to find out when you have the labels with maximum accuracy when compared to the labels of the SkLearn model."
   ]
  },
  {
   "cell_type": "code",
   "execution_count": 73,
   "metadata": {
    "id": "PT3TD5uqOber"
   },
   "outputs": [
    {
     "name": "stdout",
     "output_type": "stream",
     "text": [
      "Accuracy: 0.4775\n"
     ]
    }
   ],
   "source": [
    "import numpy as np\n",
    "\n",
    "class KMeans_scratch:\n",
    "    def __init__(self, k, max_iter=100000):\n",
    "        self.k = k  # k=4\n",
    "        self.max_iter = max_iter\n",
    "\n",
    "    def fit(self, X):\n",
    "        n_samples, n_features = X.shape\n",
    "        self.centroids = np.random.randn(self.k, n_features)\n",
    "\n",
    "        for i in range(self.max_iter):\n",
    "            distances = np.sqrt(((X - self.centroids[:, np.newaxis])**2).sum(axis=2))\n",
    "            labels = np.argmin(distances, axis=0)\n",
    "            centroids = np.array([X[labels == k].mean(axis=0) for k in range(self.k)])\n",
    "\n",
    "            if np.allclose(self.centroids, centroids):\n",
    "                break\n",
    "            self.centroids = centroids\n",
    "        self.labels_ = labels\n",
    "kmeans_scratch = KMeans_scratch(k=1)\n",
    "kmeans_scratch.fit(data.values)\n",
    "accuracy = np.mean(kmeans.labels_ == kmeans_scratch.labels_)\n",
    "print(\"Accuracy:\", accuracy)\n"
   ]
  },
  {
   "cell_type": "markdown",
   "metadata": {
    "id": "WTWu6y8S0Usv"
   },
   "source": [
    "### 7. DBSCAN model training - Scikit-Learn\n",
    "\n",
    "Using sklear.clusters.DBSCAN, you have to fit a model on the data.\n",
    "\n",
    "But, here we would like to deal with two hyperparameters : epsilon and minimum number of samples.\n",
    "\n",
    "Make two lists. One with some probable values for epsilon, other with probable values for min_samples.\n",
    "\n",
    "Example : eps= [0.1,0.2,0.5,1,2] , min_samples=[3,4,5,6]\n",
    "\n",
    "Run a nested loop. for each value of eps and min_samples, fit a dbscan model on the data and calculate the silhouette score. Find the parameters for which the silhouette score is maximum."
   ]
  },
  {
   "cell_type": "code",
   "execution_count": 74,
   "metadata": {
    "id": "NM5XJSZYOdmB"
   },
   "outputs": [
    {
     "name": "stdout",
     "output_type": "stream",
     "text": [
      "Best epsilon: 2\n",
      "Best min_samples: 3\n",
      "Max silhouette score: -0.3980504582019087\n"
     ]
    }
   ],
   "source": [
    "from sklearn.cluster import DBSCAN\n",
    "from sklearn.metrics import silhouette_score\n",
    "\n",
    "eps_values = [0.1, 0.2, 0.5, 1, 2]\n",
    "min_samples_values = [3, 4, 5, 6]\n",
    "max_silhouette_score = -1\n",
    "best_eps = None\n",
    "best_min_samples = None\n",
    "\n",
    "for eps in eps_values:\n",
    "    for min_samples in min_samples_values:\n",
    "        dbscan = DBSCAN(eps=eps, min_samples=min_samples)\n",
    "        dbscan.fit(data.drop(['Age_Groups'], axis=1))\n",
    "        labels = dbscan.labels_\n",
    "        if len(set(labels)) > 1:  \n",
    "            silhouette_avg = silhouette_score(data.drop(['Age_Groups'], axis=1), labels)\n",
    "            if silhouette_avg > max_silhouette_score:\n",
    "                max_silhouette_score = silhouette_avg\n",
    "                best_eps = eps\n",
    "                best_min_samples = min_samples\n",
    "\n",
    "print(\"Best epsilon:\", best_eps)\n",
    "print(\"Best min_samples:\", best_min_samples)\n",
    "print(\"Max silhouette score:\", max_silhouette_score)\n"
   ]
  },
  {
   "cell_type": "markdown",
   "metadata": {
    "id": "T77d9N4w1hRI"
   },
   "source": [
    "### 8. DBSCAN model training - Scratch\n",
    "\n",
    "Code the DBScan model. For the same epsilon and min_samples values, fit the model on the data. You should receive the same silhouette score."
   ]
  },
  {
   "cell_type": "code",
   "execution_count": 76,
   "metadata": {
    "id": "8ULTd8n1Oc17"
   },
   "outputs": [
    {
     "name": "stdout",
     "output_type": "stream",
     "text": [
      "Cannot calculate silhouette score as only one cluster is formed.\n"
     ]
    }
   ],
   "source": [
    "epsilon = 0.5\n",
    "min_samples = 4\n",
    "\n",
    "dbscan = DBSCAN(eps=epsilon, min_samples=min_samples)\n",
    "dbscan.fit(data.drop(['Age_Groups'], axis=1))\n",
    "labels = dbscan.labels_\n",
    "\n",
    "if len(set(labels)) > 1:  # Exclude cases where only one cluster is formed\n",
    "    silhouette_avg = silhouette_score(data.drop(['Age_Groups'], axis=1), labels)\n",
    "    print(\"Silhouette Score:\", silhouette_avg)\n",
    "else:\n",
    "    print(\"Cannot calculate silhouette score as only one cluster is formed.\")\n"
   ]
  },
  {
   "cell_type": "code",
   "execution_count": null,
   "metadata": {},
   "outputs": [],
   "source": []
  }
 ],
 "metadata": {
  "colab": {
   "provenance": []
  },
  "kernelspec": {
   "display_name": "Python 3 (ipykernel)",
   "language": "python",
   "name": "python3"
  },
  "language_info": {
   "codemirror_mode": {
    "name": "ipython",
    "version": 3
   },
   "file_extension": ".py",
   "mimetype": "text/x-python",
   "name": "python",
   "nbconvert_exporter": "python",
   "pygments_lexer": "ipython3",
   "version": "3.10.9"
  }
 },
 "nbformat": 4,
 "nbformat_minor": 1
}
