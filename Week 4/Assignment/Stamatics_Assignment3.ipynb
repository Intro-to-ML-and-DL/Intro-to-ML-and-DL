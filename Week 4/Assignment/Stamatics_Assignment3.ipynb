{
 "cells": [
  {
   "cell_type": "markdown",
   "metadata": {
    "id": "1aabbIB92YA8"
   },
   "source": [
    "# Question 1 : Classification using Naive Bayes\n",
    "\n",
    "Can glucose and blood pressure data classify whether a patient has diabetes or not ? If yes, which classification algorithm should you use ?\n",
    "\n",
    "The dataset **diabetes_classification.csv** has 3 columns and 995 entries with the above data.\n",
    "\n",
    "\n",
    "1. Load the dataset."
   ]
  },
  {
   "cell_type": "code",
   "execution_count": 1,
   "metadata": {
    "id": "Ytm1udmGNwSl"
   },
   "outputs": [],
   "source": [
    "import numpy as np\n",
    "import pandas as pd\n",
    "from sklearn.model_selection import train_test_split\n",
    "from sklearn.naive_bayes import GaussianNB\n",
    "from sklearn.tree import DecisionTreeClassifier\n",
    "from sklearn.metrics import accuracy_score\n",
    "from sklearn.ensemble import RandomForestClassifier\n",
    "from sklearn.ensemble import AdaBoostClassifier, AdaBoostRegressor\n",
    "from sklearn.ensemble import GradientBoostingClassifier\n",
    "from sklearn.preprocessing import MinMaxScaler\n",
    "from sklearn.preprocessing import LabelEncoder\n",
    "from sklearn.svm import SVR\n",
    "from sklearn.model_selection import RandomizedSearchCV, GridSearchCV\n",
    "from sklearn.metrics import mean_absolute_error, mean_squared_error\n",
    "from sklearn.ensemble import RandomForestRegressor"
   ]
  },
  {
   "cell_type": "code",
   "execution_count": 2,
   "metadata": {},
   "outputs": [
    {
     "data": {
      "text/html": [
       "<div>\n",
       "<style scoped>\n",
       "    .dataframe tbody tr th:only-of-type {\n",
       "        vertical-align: middle;\n",
       "    }\n",
       "\n",
       "    .dataframe tbody tr th {\n",
       "        vertical-align: top;\n",
       "    }\n",
       "\n",
       "    .dataframe thead th {\n",
       "        text-align: right;\n",
       "    }\n",
       "</style>\n",
       "<table border=\"1\" class=\"dataframe\">\n",
       "  <thead>\n",
       "    <tr style=\"text-align: right;\">\n",
       "      <th></th>\n",
       "      <th>glucose</th>\n",
       "      <th>bloodpressure</th>\n",
       "      <th>diabetes</th>\n",
       "    </tr>\n",
       "  </thead>\n",
       "  <tbody>\n",
       "    <tr>\n",
       "      <th>0</th>\n",
       "      <td>40</td>\n",
       "      <td>85</td>\n",
       "      <td>0</td>\n",
       "    </tr>\n",
       "    <tr>\n",
       "      <th>1</th>\n",
       "      <td>40</td>\n",
       "      <td>92</td>\n",
       "      <td>0</td>\n",
       "    </tr>\n",
       "    <tr>\n",
       "      <th>2</th>\n",
       "      <td>45</td>\n",
       "      <td>63</td>\n",
       "      <td>1</td>\n",
       "    </tr>\n",
       "    <tr>\n",
       "      <th>3</th>\n",
       "      <td>45</td>\n",
       "      <td>80</td>\n",
       "      <td>0</td>\n",
       "    </tr>\n",
       "    <tr>\n",
       "      <th>4</th>\n",
       "      <td>40</td>\n",
       "      <td>73</td>\n",
       "      <td>1</td>\n",
       "    </tr>\n",
       "    <tr>\n",
       "      <th>...</th>\n",
       "      <td>...</td>\n",
       "      <td>...</td>\n",
       "      <td>...</td>\n",
       "    </tr>\n",
       "    <tr>\n",
       "      <th>990</th>\n",
       "      <td>45</td>\n",
       "      <td>87</td>\n",
       "      <td>0</td>\n",
       "    </tr>\n",
       "    <tr>\n",
       "      <th>991</th>\n",
       "      <td>40</td>\n",
       "      <td>83</td>\n",
       "      <td>0</td>\n",
       "    </tr>\n",
       "    <tr>\n",
       "      <th>992</th>\n",
       "      <td>40</td>\n",
       "      <td>83</td>\n",
       "      <td>0</td>\n",
       "    </tr>\n",
       "    <tr>\n",
       "      <th>993</th>\n",
       "      <td>40</td>\n",
       "      <td>60</td>\n",
       "      <td>1</td>\n",
       "    </tr>\n",
       "    <tr>\n",
       "      <th>994</th>\n",
       "      <td>45</td>\n",
       "      <td>82</td>\n",
       "      <td>0</td>\n",
       "    </tr>\n",
       "  </tbody>\n",
       "</table>\n",
       "<p>995 rows × 3 columns</p>\n",
       "</div>"
      ],
      "text/plain": [
       "     glucose  bloodpressure  diabetes\n",
       "0         40             85         0\n",
       "1         40             92         0\n",
       "2         45             63         1\n",
       "3         45             80         0\n",
       "4         40             73         1\n",
       "..       ...            ...       ...\n",
       "990       45             87         0\n",
       "991       40             83         0\n",
       "992       40             83         0\n",
       "993       40             60         1\n",
       "994       45             82         0\n",
       "\n",
       "[995 rows x 3 columns]"
      ]
     },
     "execution_count": 2,
     "metadata": {},
     "output_type": "execute_result"
    }
   ],
   "source": [
    "data = pd.read_csv(\"diabetes.csv\")\n",
    "data"
   ]
  },
  {
   "cell_type": "markdown",
   "metadata": {
    "id": "vRcqHcd_5XUt"
   },
   "source": [
    "2. The dataset has two feature columns and one target column. Plot a bar graph or histogram showing the distribution of values in the feature columns (count of each value)."
   ]
  },
  {
   "cell_type": "code",
   "execution_count": 3,
   "metadata": {
    "id": "VdiNiiJdNy-K"
   },
   "outputs": [
    {
     "data": {
      "text/plain": [
       "<Axes: >"
      ]
     },
     "execution_count": 3,
     "metadata": {},
     "output_type": "execute_result"
    },
    {
     "data": {
      "image/png": "[encoded data removed]",
      "text/plain": [
       "<Figure size 640x480 with 1 Axes>"
      ]
     },
     "metadata": {},
     "output_type": "display_data"
    }
   ],
   "source": [
    "data[\"glucose\"].hist()#histogram distribution of glucose feature"
   ]
  },
  {
   "cell_type": "code",
   "execution_count": 4,
   "metadata": {},
   "outputs": [
    {
     "data": {
      "text/plain": [
       "<Axes: >"
      ]
     },
     "execution_count": 4,
     "metadata": {},
     "output_type": "execute_result"
    },
    {
     "data": {
      "image/png": "[encoded data removed]",
      "text/plain": [
       "<Figure size 640x480 with 1 Axes>"
      ]
     },
     "metadata": {},
     "output_type": "display_data"
    }
   ],
   "source": [
    "data[\"bloodpressure\"].hist()"
   ]
  },
  {
   "cell_type": "markdown",
   "metadata": {
    "id": "Xa-7s9hL5tii"
   },
   "source": [
    " The feature column **glucose** has a somewhat Gaussian distribution of data. So we will try out Gaussian Naive Bayes classification for the data using Scikit-Learn.\n",
    "\n",
    "3. Split the dataset.\n",
    "4. Fit a Gaussian NB model on the data. Make predictions and find the accuracy score.\n",
    "\n",
    "Optional :\n",
    "5. Compare the model with other classification algorithms like Logistic Regression, KNN, decision tree etc."
   ]
  },
  {
   "cell_type": "code",
   "execution_count": 5,
   "metadata": {
    "id": "_qc64PVrN1-y"
   },
   "outputs": [
    {
     "data": {
      "text/plain": [
       "0.9246231155778895"
      ]
     },
     "execution_count": 5,
     "metadata": {},
     "output_type": "execute_result"
    }
   ],
   "source": [
    "train,test = train_test_split(data,test_size=0.20)\n",
    "X_test = test.iloc[:,:-1].values\n",
    "y_test = test.iloc[:,-1].values\n",
    "X_train = train.iloc[:,:-1].values\n",
    "y_train = train.iloc[:,-1].values\n",
    "gnb= GaussianNB()\n",
    "gnb.fit(X_train,y_train)\n",
    "y_pred = gnb.predict(X_test)\n",
    "accuracy_score(y_test,y_pred)"
   ]
  },
  {
   "cell_type": "markdown",
   "metadata": {
    "id": "qSniomr219vK"
   },
   "source": [
    "# Question 2 : Regression using SVM and Tree Algorithms\n",
    "\n",
    "In this question, we will be using the **insurance.csv** file which contain information on insurance charges based on the following informations: age,sex,bmi,region,number of children and whether the person is a smoker or not. You need to predict the charges based on the information given.\n",
    "\n",
    "### 1. Load the data."
   ]
  },
  {
   "cell_type": "code",
   "execution_count": null,
   "metadata": {
    "id": "TIzySehxN3nw"
   },
   "outputs": [],
   "source": [
    "data2 = pd.read_csv(\"insurance.csv\")\n",
    "data2\n"
   ]
  },
  {
   "cell_type": "markdown",
   "metadata": {
    "id": "t3kLtntR2_wm"
   },
   "source": [
    "### 2. Separate the numerical and categorical columns.\n",
    "### 3. Label Encode the categorical columns.\n",
    "### 4. Scale the numerical columns. (Scale the charges separately so that you can calculate errors afterwards.)"
   ]
  },
  {
   "cell_type": "code",
   "execution_count": null,
   "metadata": {
    "id": "B5BlzbzGN4vq"
   },
   "outputs": [],
   "source": [
    "data2.dtypes\n",
    "numerical_columns = data2.select_dtypes(include=[\"int64\", \"float64\"]).columns\n",
    "categorical_columns = data2.select_dtypes(include=[\"object\"]).columns\n",
    "data2"
   ]
  },
  {
   "cell_type": "code",
   "execution_count": null,
   "metadata": {},
   "outputs": [],
   "source": [
    "\n",
    "label_encoder = LabelEncoder()\n",
    "for column in categorical_columns:\n",
    "    data2[column] = label_encoder.fit_transform(data2[column])\n",
    "data2"
   ]
  },
  {
   "cell_type": "code",
   "execution_count": null,
   "metadata": {},
   "outputs": [],
   "source": [
    "scaler2 = MinMaxScaler()\n",
    "data2[numerical_columns] = scaler2.fit_transform(data2[numerical_columns])\n",
    "data2\n",
    "#i didnt understand why you asked to separately scale the charges"
   ]
  },
  {
   "cell_type": "markdown",
   "metadata": {
    "id": "KAr0_8zS3d4M"
   },
   "source": [
    "### 5. Split the data."
   ]
  },
  {
   "cell_type": "code",
   "execution_count": null,
   "metadata": {
    "id": "q0puLu0rN6Gi"
   },
   "outputs": [],
   "source": [
    "train,test = train_test_split(data2,test_size=0.25)\n",
    "X_test = test.iloc[:,:-1].values\n",
    "y_test = test.iloc[:,-1].values\n",
    "X_train = train.iloc[:,:-1].values\n",
    "y_train = train.iloc[:,-1].values\n",
    "X_train"
   ]
  },
  {
   "cell_type": "markdown",
   "metadata": {
    "id": "9JKtZ3nN3gmZ"
   },
   "source": [
    "### 6. Support Vector Regressor\n",
    "\n",
    "Here , you will use the SVR model from sklearn.svm and fit it on the training data. Then predict on the test data and calaculate MAE, MSE. But...\n",
    "\n",
    "The SVR class contains many hyperparameters, example : kernel can have the following values : linear, rbf, poly, sigmoid.\n",
    "\n",
    "Use **RandomizedSearchCV** from sklearn.model_selection , create a dictionary with keys 'kernel' and 'gamma' . As values of the keys, create a list of some possible values. Run a 3-fold cross validation test (cv=3) and find the best parameters. Then initiate the SVR model with those parameters."
   ]
  },
  {
   "cell_type": "code",
   "execution_count": null,
   "metadata": {
    "id": "TTXaAbc7N7oS"
   },
   "outputs": [],
   "source": [
    "svr = SVR()\n",
    "hyperparameters = {'kernel':['linear','rbf','poly','sigmoid'], 'gamma':['scale', 'auto']}\n",
    "rscv = RandomizedSearchCV(estimator=svr, param_distributions=hyperparameters, cv=3)\n",
    "rscv.fit(X_train,y_train)\n",
    "best_parameters = rscv.best_params_\n",
    "svr = SVR(kernel=best_parameters['kernel'], gamma=best_parameters['gamma'])\n",
    "svr.fit(X_train,y_train)\n",
    "y_pred_svr = svr.predict(X_test)\n",
    "mae = mean_absolute_error(y_test, y_pred_svr)\n",
    "mse = mean_squared_error(y_test, y_pred_svr)\n",
    "print(\"best parameters:\", best_parameters)\n",
    "print(\"mae:\", mae)\n",
    "print(\"mse:\", mse)"
   ]
  },
  {
   "cell_type": "markdown",
   "metadata": {
    "id": "KGt147zA5E6f"
   },
   "source": [
    "### 7. AdaBoost Regressor\n",
    "\n",
    "We would do similar for AdaBoostRegressor from sklearn.ensemble . Here, the hyperparameters are n_estimators and loss.\n",
    "\n",
    "Instead of RandomizedSearchCV, let's try GridSearchCV . Find the best parameters and then find errors on test data using the model with best parameters."
   ]
  },
  {
   "cell_type": "code",
   "execution_count": null,
   "metadata": {
    "id": "u5c-EFdtN9Wt"
   },
   "outputs": [],
   "source": [
    "abr= AdaBoostRegressor()\n",
    "hyperparameters = {'n_estimators':list(range(50,100)), 'loss': ['linear','square','exponential']}\n",
    "gscv = GridSearchCV(abr, hyperparameters, cv=3)\n",
    "gscv.fit(X_train,y_train)\n",
    "best_parameters = gscv.best_params_\n",
    "abr = AdaBoostRegressor(n_estimators=best_parameters['n_estimators'], loss = best_parameters['loss'])\n",
    "abr.fit(X_train,y_train)\n",
    "y_pred_abr = abr.predict(X_test)\n",
    "mae = mean_absolute_error(y_test,y_pred_abr)\n",
    "mse = mean_squared_error(y_test,y_pred_abr)\n",
    "print(\"best parameters:\", best_parameters)\n",
    "print(\"mae:\", mae)\n",
    "print(\"mse:\", mse)"
   ]
  },
  {
   "cell_type": "markdown",
   "metadata": {
    "id": "oW11faHs5nH_"
   },
   "source": [
    "8. Now carry the same procedure for Random Forest Regressor and for Gradient Boosting Regression.\n",
    "9. Finally, use <a href=\"https://xgboost.readthedocs.io/en/stable/get_started.html\"> XGBoost Regressor </a> and compare all the models. Comment which model had the least error (MAE and MSE).\n",
    "You will be required to run  <code> !pip install xgboost </code> to import xgboost models."
   ]
  },
  {
   "cell_type": "code",
   "execution_count": null,
   "metadata": {
    "id": "bg_amvWHOAJG"
   },
   "outputs": [],
   "source": []
  },
  {
   "cell_type": "markdown",
   "metadata": {
    "id": "kMMzdz1e3YMp"
   },
   "source": [
    "# Question 3 : Classification using SVM and Tree Algorithms\n",
    "\n",
    "In this question, we will be using the **bookmyshow_ads.csv** file which contain information on whether an url is spam or not based on 32 features. You need to classify the url as spam or not spam based on the information given.\n",
    "\n",
    "### 1. Load the data."
   ]
  },
  {
   "cell_type": "code",
   "execution_count": null,
   "metadata": {
    "id": "HZTHOA-KOLTw"
   },
   "outputs": [],
   "source": [
    "data1 = pd.read_csv(\"bookmyshow_ads.csv\")\n",
    "data1"
   ]
  },
  {
   "cell_type": "markdown",
   "metadata": {
    "id": "BcqJmRVyLHFU"
   },
   "source": [
    "### 2. Split the data."
   ]
  },
  {
   "cell_type": "code",
   "execution_count": null,
   "metadata": {
    "id": "7b7dtEdwOMnQ"
   },
   "outputs": [],
   "source": [
    "train, test = train_test_split(data1,test_size = 0.1,random_state=10)\n",
    "X_test = test.iloc[:,1:-1].values\n",
    "y_test = test.iloc[:,-1].values\n",
    "X_train = train.iloc[:,1:-1].values\n",
    "y_train = train.iloc[:,-1].values\n",
    "X_test\n"
   ]
  },
  {
   "cell_type": "markdown",
   "metadata": {
    "id": "KKX0BSiILMPe"
   },
   "source": [
    "### 3. Model Comparison\n",
    "\n",
    "Similar to the previous question, use the following classifier models from sklearn and compare them:\n",
    "1. Decision Tree\n",
    "2. Random Forest\n",
    "3. Adaboost\n",
    "4. Gradient Boost\n",
    "5. XGBoost\n",
    "\n",
    "For each model, you may also try to find the best hyperparameters using GridSearch Cross Validation or RandomizedSearch Cross Validation."
   ]
  },
  {
   "cell_type": "code",
   "execution_count": null,
   "metadata": {
    "id": "YaTC1pJFOPNF"
   },
   "outputs": [],
   "source": [
    "#decision tree\n",
    "dtc = DecisionTreeClassifier(criterion='gini')\n",
    "dtc.fit(X_train,y_train)\n",
    "y_pred_dtc = dtc.predict(X_test)\n",
    "print(\"accuracy score of DecisionTreeClassifier: \",accuracy_score(y_pred_dtc,y_test))\n"
   ]
  },
  {
   "cell_type": "code",
   "execution_count": null,
   "metadata": {},
   "outputs": [],
   "source": [
    "#rANDOM fOREST\n",
    "rfc = RandomForestClassifier(max_features='log2', n_estimators=500)\n",
    "rfc.fit(X_train,y_train)\n",
    "y_pred_rfc = rfc.predict(X_test)\n",
    "print(\"accuracy score of RandomForestClassifier: \",accuracy_score(y_pred_rfc,y_test))"
   ]
  },
  {
   "cell_type": "code",
   "execution_count": null,
   "metadata": {},
   "outputs": [],
   "source": [
    "#adaboost\n",
    "abc = AdaBoostClassifier(n_estimators=100)\n",
    "abc.fit(X_train,y_train)\n",
    "y_pred_abc = abc.predict(X_test)\n",
    "print(\"accuracy score of AdaBoostClassifier: \",accuracy_score(y_pred_abc,y_test))"
   ]
  },
  {
   "cell_type": "code",
   "execution_count": null,
   "metadata": {},
   "outputs": [],
   "source": [
    "#gradient boost\n",
    "gbc = GradientBoostingClassifier(n_estimators=500)\n",
    "gbc.fit(X_train,y_train)\n",
    "y_pred_gbc = gbc.predict(X_test)\n",
    "print(\"accuracy score of GradientBoostingClassifier: \",accuracy_score(y_pred_gbc,y_test))"
   ]
  },
  {
   "cell_type": "code",
   "execution_count": null,
   "metadata": {},
   "outputs": [],
   "source": [
    "#XGBoost\n",
    "import xgboost \n",
    "xgb = xgboost.XGBClassifier()\n",
    "xgb.fit(X_train,y_train)\n",
    "y_pred_xgb = xgb.predict(X_test)\n",
    "print(\"accuracy score of XGBoostingClassifier: \",accuracy_score(y_pred_xgb,y_test))"
   ]
  },
  {
   "cell_type": "markdown",
   "metadata": {
    "id": "AbMIyf8ouk1u"
   },
   "source": [
    "# Question 4 : Clustering\n",
    "\n",
    "Customer Segmentation is the subdivision of a market into discrete customer groups that share similar characteristics. Customer Segmentation can be a powerful means to identify unsatisfied customer needs.\n",
    "\n",
    "The csv file **segmentation data.csv** contains basic data about some customers like Customer ID, age, gender, annual income and spending score. You want to classify the customers into different groups so that marketing strategy could be planned in the future accordingly. How many different groups should be made ? What should be the approach ?\n",
    "\n",
    "This is an Unsupervised Learning question since it doesn't provide you with labels - the groups. \n",
    "\n",
    "### 1. Import the necessary modules"
   ]
  },
  {
   "cell_type": "code",
   "execution_count": null,
   "metadata": {
    "id": "_UKGseStOQgk"
   },
   "outputs": [],
   "source": []
  },
  {
   "cell_type": "markdown",
   "metadata": {
    "id": "FXs9rQC0u3_S"
   },
   "source": [
    "### 2. Read the csv file \"segmentation data.csv\" present in the Github repository as a Pandas DataFrame."
   ]
  },
  {
   "cell_type": "code",
   "execution_count": null,
   "metadata": {
    "id": "bfiso96cORzB"
   },
   "outputs": [],
   "source": [
    "data4 = pd.read_csv(\"segmentation data.csv\")\n",
    "data4"
   ]
  },
  {
   "cell_type": "markdown",
   "metadata": {
    "id": "pkoXSkGvvEfQ"
   },
   "source": [
    "### 3. Do the necessary preprocessing of the data.\n",
    "\n",
    "> Drop unwanted columns.\n",
    "\n",
    "> Check for null values.\n",
    "\n",
    "> Scale the numerical columns.\n",
    "\n",
    "> Additionally, you may also make the Age column have categorical values. How ? Apply some function that makes age groups turns all ages in some group to a particular number !\n",
    "\n",
    "Note : Don't do everything in a single code block ! Do it step-by-step and show output for each step."
   ]
  },
  {
   "cell_type": "code",
   "execution_count": null,
   "metadata": {
    "id": "R8T3S0J0OUS_"
   },
   "outputs": [],
   "source": [
    "data4.drop(columns=['ID'], inplace=True)\n",
    "data4"
   ]
  },
  {
   "cell_type": "code",
   "execution_count": null,
   "metadata": {},
   "outputs": [],
   "source": [
    "data4.isna().sum()"
   ]
  },
  {
   "cell_type": "code",
   "execution_count": null,
   "metadata": {},
   "outputs": [],
   "source": []
  },
  {
   "cell_type": "code",
   "execution_count": null,
   "metadata": {},
   "outputs": [],
   "source": []
  },
  {
   "cell_type": "code",
   "execution_count": null,
   "metadata": {},
   "outputs": [],
   "source": [
    "scaler = MinMaxScaler()\n",
    "data4.columns = scaler.fit_transform(data4.columns)\n",
    "data4"
   ]
  },
  {
   "cell_type": "code",
   "execution_count": null,
   "metadata": {},
   "outputs": [],
   "source": [
    "def age_to_category(age):\n",
    "    if age >= 0.90:\n",
    "        return 9\n",
    "    elif age >= 0.80:\n",
    "        return 8\n",
    "    elif age >= 0.70:\n",
    "        return 7\n",
    "    elif age >= 0.60:\n",
    "        return 6\n",
    "    elif age >= 0.50:\n",
    "        return 5\n",
    "    elif age >= 0.40:\n",
    "        return 4\n",
    "    elif age >= 0.30:\n",
    "        return 3\n",
    "    elif age >= 0.20:\n",
    "        return 2\n",
    "    elif age >= 0.10:\n",
    "        return 1\n",
    "    else:\n",
    "        return 0\n",
    "\n",
    "data4['Age'] = data4['Age'].apply(age_to_category)\n",
    "data4"
   ]
  },
  {
   "cell_type": "markdown",
   "metadata": {
    "id": "GI5spEOLB2Sw"
   },
   "source": [
    "### 4. KMeans Model Training - Scikit-Learn\n",
    "\n",
    "At first, let's try to implement KMeans Clustering using sklearn.clusters.KMeans .\n",
    "\n",
    "How to decide for the value 'K' ?\n",
    "\n",
    "Read the following blog. It provides different ways of evaluating clustering algorithms.\n",
    "\n",
    "https://www.analyticsvidhya.com/blog/2021/05/k-mean-getting-the-optimal-number-of-clusters\n",
    "\n",
    "We will be looking on two methods : Elbow Method, Silhouette Analysis.\n",
    "\n",
    "**Make a list of values for K , ranging from 2 to 10. For each K, fit a model, calculate the inertia and silhouette scores. Plot them. Decide which value of K is optimal !**"
   ]
  },
  {
   "cell_type": "code",
   "execution_count": null,
   "metadata": {
    "id": "onhGIzLqOX8p"
   },
   "outputs": [],
   "source": [
    "from sklearn.cluster import KMeans\n"
   ]
  },
  {
   "cell_type": "markdown",
   "metadata": {
    "id": "1jajN40GH0EP"
   },
   "source": [
    "### 5. KMeans Model Prediction\n",
    "\n",
    "Once you decided the optimal K, once again fit a model with that K value and store the silhouette score and the labels for the entire data.\n",
    "\n",
    "It is observed that the optimal value of k is 4. So, let's store the values of inertia and labels for k=4."
   ]
  },
  {
   "cell_type": "code",
   "execution_count": null,
   "metadata": {
    "id": "qydGd1rYOZqx"
   },
   "outputs": [],
   "source": []
  },
  {
   "cell_type": "markdown",
   "metadata": {
    "id": "_fjt3IhXzYgz"
   },
   "source": [
    "### 6. KMeans Model Training - Scratch\n",
    "\n",
    "Now, code the KMeans Model from scratch. Train it on the data, and try to find out when you have the labels with maximum accuracy when compared to the labels of the SkLearn model."
   ]
  },
  {
   "cell_type": "code",
   "execution_count": null,
   "metadata": {
    "id": "PT3TD5uqOber"
   },
   "outputs": [],
   "source": []
  },
  {
   "cell_type": "markdown",
   "metadata": {
    "id": "WTWu6y8S0Usv"
   },
   "source": [
    "### 7. DBSCAN model training - Scikit-Learn\n",
    "\n",
    "Using sklear.clusters.DBSCAN, you have to fit a model on the data.\n",
    "\n",
    "But, here we would like to deal with two hyperparameters : epsilon and minimum number of samples.\n",
    "\n",
    "Make two lists. One with some probable values for epsilon, other with probable values for min_samples.\n",
    "\n",
    "Example : eps= [0.1,0.2,0.5,1,2] , min_samples=[3,4,5,6]\n",
    "\n",
    "Run a nested loop. for each value of eps and min_samples, fit a dbscan model on the data and calculate the silhouette score. Find the parameters for which the silhouette score is maximum."
   ]
  },
  {
   "cell_type": "code",
   "execution_count": null,
   "metadata": {
    "id": "NM5XJSZYOdmB"
   },
   "outputs": [],
   "source": []
  },
  {
   "cell_type": "markdown",
   "metadata": {
    "id": "T77d9N4w1hRI"
   },
   "source": [
    "### 8. DBSCAN model training - Scratch\n",
    "\n",
    "Code the DBScan model. For the same epsilon and min_samples values, fit the model on the data. You should receive the same silhouette score."
   ]
  },
  {
   "cell_type": "code",
   "execution_count": null,
   "metadata": {
    "id": "8ULTd8n1Oc17"
   },
   "outputs": [],
   "source": []
  }
 ],
 "metadata": {
  "colab": {
   "provenance": []
  },
  "kernelspec": {
   "display_name": "Python 3 (ipykernel)",
   "language": "python",
   "name": "python3"
  },
  "language_info": {
   "codemirror_mode": {
    "name": "ipython",
    "version": 3
   },
   "file_extension": ".py",
   "mimetype": "text/x-python",
   "name": "python",
   "nbconvert_exporter": "python",
   "pygments_lexer": "ipython3",
   "version": "3.11.2"
  }
 },
 "nbformat": 4,
 "nbformat_minor": 1
}
