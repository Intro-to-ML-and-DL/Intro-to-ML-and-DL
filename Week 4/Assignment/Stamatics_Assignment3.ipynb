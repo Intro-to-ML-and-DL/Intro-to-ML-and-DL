{
 "cells": [
  {
   "attachments": {},
   "cell_type": "markdown",
   "metadata": {
    "id": "1aabbIB92YA8"
   },
   "source": [
    "# Question 1 : Classification using Naive Bayes\n",
    "\n",
    "Can glucose and blood pressure data classify whether a patient has diabetes or not ? If yes, which classification algorithm should you use ?\n",
    "\n",
    "The dataset **diabetes_classification.csv** has 3 columns and 995 entries with the above data.\n",
    "\n",
    "\n",
    "1. Load the dataset."
   ]
  },
  {
   "cell_type": "code",
   "execution_count": 1,
   "metadata": {
    "id": "Ytm1udmGNwSl"
   },
   "outputs": [
    {
     "data": {
      "text/html": [
       "<div>\n",
       "<style scoped>\n",
       "    .dataframe tbody tr th:only-of-type {\n",
       "        vertical-align: middle;\n",
       "    }\n",
       "\n",
       "    .dataframe tbody tr th {\n",
       "        vertical-align: top;\n",
       "    }\n",
       "\n",
       "    .dataframe thead th {\n",
       "        text-align: right;\n",
       "    }\n",
       "</style>\n",
       "<table border=\"1\" class=\"dataframe\">\n",
       "  <thead>\n",
       "    <tr style=\"text-align: right;\">\n",
       "      <th></th>\n",
       "      <th>glucose</th>\n",
       "      <th>bloodpressure</th>\n",
       "      <th>diabetes</th>\n",
       "    </tr>\n",
       "  </thead>\n",
       "  <tbody>\n",
       "    <tr>\n",
       "      <th>0</th>\n",
       "      <td>40</td>\n",
       "      <td>85</td>\n",
       "      <td>0</td>\n",
       "    </tr>\n",
       "    <tr>\n",
       "      <th>1</th>\n",
       "      <td>40</td>\n",
       "      <td>92</td>\n",
       "      <td>0</td>\n",
       "    </tr>\n",
       "    <tr>\n",
       "      <th>2</th>\n",
       "      <td>45</td>\n",
       "      <td>63</td>\n",
       "      <td>1</td>\n",
       "    </tr>\n",
       "    <tr>\n",
       "      <th>3</th>\n",
       "      <td>45</td>\n",
       "      <td>80</td>\n",
       "      <td>0</td>\n",
       "    </tr>\n",
       "    <tr>\n",
       "      <th>4</th>\n",
       "      <td>40</td>\n",
       "      <td>73</td>\n",
       "      <td>1</td>\n",
       "    </tr>\n",
       "  </tbody>\n",
       "</table>\n",
       "</div>"
      ],
      "text/plain": [
       "   glucose  bloodpressure  diabetes\n",
       "0       40             85         0\n",
       "1       40             92         0\n",
       "2       45             63         1\n",
       "3       45             80         0\n",
       "4       40             73         1"
      ]
     },
     "execution_count": 1,
     "metadata": {},
     "output_type": "execute_result"
    }
   ],
   "source": [
    "import pandas as pd\n",
    "import numpy as np\n",
    "import matplotlib.pyplot as plt\n",
    "\n",
    "df = pd.read_csv('diabetes.csv')\n",
    "df.head()"
   ]
  },
  {
   "attachments": {},
   "cell_type": "markdown",
   "metadata": {
    "id": "vRcqHcd_5XUt"
   },
   "source": [
    "2. The dataset has two feature columns and one target column. Plot a bar graph or histogram showing the distribution of values in the feature columns (count of each value)."
   ]
  },
  {
   "cell_type": "code",
   "execution_count": 2,
   "metadata": {
    "id": "VdiNiiJdNy-K"
   },
   "outputs": [
    {
     "data": {
      "text/plain": [
       "<BarContainer object of 995 artists>"
      ]
     },
     "execution_count": 2,
     "metadata": {},
     "output_type": "execute_result"
    },
    {
     "data": {
      "image/png": "[encoded data removed]",
      "text/plain": [
       "<Figure size 640x480 with 1 Axes>"
      ]
     },
     "metadata": {},
     "output_type": "display_data"
    }
   ],
   "source": [
    "plt.bar(df['glucose'], height = 1,  color = 'red')\n",
    "plt.bar(df['bloodpressure'], height = 1, color = 'blue')"
   ]
  },
  {
   "attachments": {},
   "cell_type": "markdown",
   "metadata": {
    "id": "Xa-7s9hL5tii"
   },
   "source": [
    " The feature column **glucose** has a somewhat Gaussian distribution of data. So we will try out Gaussian Naive Bayes classification for the data using Scikit-Learn.\n",
    "\n",
    "3. Split the dataset.\n",
    "4. Fit a Gaussian NB model on the data. Make predictions and find the accuracy score.\n",
    "\n",
    "Optional :\n",
    "5. Compare the model with other classification algorithms like Logistic Regression, KNN, decision tree etc."
   ]
  },
  {
   "cell_type": "code",
   "execution_count": 3,
   "metadata": {
    "id": "_qc64PVrN1-y"
   },
   "outputs": [
    {
     "name": "stdout",
     "output_type": "stream",
     "text": [
      "0.9477911646586346\n"
     ]
    }
   ],
   "source": [
    "from sklearn.model_selection import train_test_split\n",
    "from sklearn.naive_bayes import GaussianNB\n",
    "from sklearn.metrics import accuracy_score\n",
    "\n",
    "X_train, X_test, y_train, y_test = train_test_split(df[['glucose', 'bloodpressure']], df['diabetes'], random_state = 1)\n",
    "gnb = GaussianNB()\n",
    "y_pred = gnb.fit(X_train, y_train).predict(X_test)\n",
    "print(accuracy_score(y_test, y_pred))"
   ]
  },
  {
   "attachments": {},
   "cell_type": "markdown",
   "metadata": {
    "id": "qSniomr219vK"
   },
   "source": [
    "# Question 2 : Regression using SVM and Tree Algorithms\n",
    "\n",
    "In this question, we will be using the **insurance.csv** file which contain information on insurance charges based on the following informations: age,sex,bmi,region,number of children and whether the person is a smoker or not. You need to predict the charges based on the information given.\n",
    "\n",
    "### 1. Load the data."
   ]
  },
  {
   "cell_type": "code",
   "execution_count": 4,
   "metadata": {
    "id": "TIzySehxN3nw"
   },
   "outputs": [
    {
     "data": {
      "text/html": [
       "<div>\n",
       "<style scoped>\n",
       "    .dataframe tbody tr th:only-of-type {\n",
       "        vertical-align: middle;\n",
       "    }\n",
       "\n",
       "    .dataframe tbody tr th {\n",
       "        vertical-align: top;\n",
       "    }\n",
       "\n",
       "    .dataframe thead th {\n",
       "        text-align: right;\n",
       "    }\n",
       "</style>\n",
       "<table border=\"1\" class=\"dataframe\">\n",
       "  <thead>\n",
       "    <tr style=\"text-align: right;\">\n",
       "      <th></th>\n",
       "      <th>age</th>\n",
       "      <th>sex</th>\n",
       "      <th>bmi</th>\n",
       "      <th>children</th>\n",
       "      <th>smoker</th>\n",
       "      <th>region</th>\n",
       "      <th>charges</th>\n",
       "    </tr>\n",
       "  </thead>\n",
       "  <tbody>\n",
       "    <tr>\n",
       "      <th>0</th>\n",
       "      <td>19</td>\n",
       "      <td>female</td>\n",
       "      <td>27.900</td>\n",
       "      <td>0</td>\n",
       "      <td>yes</td>\n",
       "      <td>southwest</td>\n",
       "      <td>16884.92400</td>\n",
       "    </tr>\n",
       "    <tr>\n",
       "      <th>1</th>\n",
       "      <td>18</td>\n",
       "      <td>male</td>\n",
       "      <td>33.770</td>\n",
       "      <td>1</td>\n",
       "      <td>no</td>\n",
       "      <td>southeast</td>\n",
       "      <td>1725.55230</td>\n",
       "    </tr>\n",
       "    <tr>\n",
       "      <th>2</th>\n",
       "      <td>28</td>\n",
       "      <td>male</td>\n",
       "      <td>33.000</td>\n",
       "      <td>3</td>\n",
       "      <td>no</td>\n",
       "      <td>southeast</td>\n",
       "      <td>4449.46200</td>\n",
       "    </tr>\n",
       "    <tr>\n",
       "      <th>3</th>\n",
       "      <td>33</td>\n",
       "      <td>male</td>\n",
       "      <td>22.705</td>\n",
       "      <td>0</td>\n",
       "      <td>no</td>\n",
       "      <td>northwest</td>\n",
       "      <td>21984.47061</td>\n",
       "    </tr>\n",
       "    <tr>\n",
       "      <th>4</th>\n",
       "      <td>32</td>\n",
       "      <td>male</td>\n",
       "      <td>28.880</td>\n",
       "      <td>0</td>\n",
       "      <td>no</td>\n",
       "      <td>northwest</td>\n",
       "      <td>3866.85520</td>\n",
       "    </tr>\n",
       "  </tbody>\n",
       "</table>\n",
       "</div>"
      ],
      "text/plain": [
       "   age     sex     bmi  children smoker     region      charges\n",
       "0   19  female  27.900         0    yes  southwest  16884.92400\n",
       "1   18    male  33.770         1     no  southeast   1725.55230\n",
       "2   28    male  33.000         3     no  southeast   4449.46200\n",
       "3   33    male  22.705         0     no  northwest  21984.47061\n",
       "4   32    male  28.880         0     no  northwest   3866.85520"
      ]
     },
     "execution_count": 4,
     "metadata": {},
     "output_type": "execute_result"
    }
   ],
   "source": [
    "df = pd.read_csv('insurance.csv')\n",
    "df.head()"
   ]
  },
  {
   "attachments": {},
   "cell_type": "markdown",
   "metadata": {
    "id": "t3kLtntR2_wm"
   },
   "source": [
    "### 2. Separate the numerical and categorical columns.\n",
    "\n"
   ]
  },
  {
   "cell_type": "code",
   "execution_count": 5,
   "metadata": {
    "id": "B5BlzbzGN4vq"
   },
   "outputs": [
    {
     "data": {
      "text/html": [
       "<div>\n",
       "<style scoped>\n",
       "    .dataframe tbody tr th:only-of-type {\n",
       "        vertical-align: middle;\n",
       "    }\n",
       "\n",
       "    .dataframe tbody tr th {\n",
       "        vertical-align: top;\n",
       "    }\n",
       "\n",
       "    .dataframe thead th {\n",
       "        text-align: right;\n",
       "    }\n",
       "</style>\n",
       "<table border=\"1\" class=\"dataframe\">\n",
       "  <thead>\n",
       "    <tr style=\"text-align: right;\">\n",
       "      <th></th>\n",
       "      <th>sex</th>\n",
       "      <th>smoker</th>\n",
       "      <th>region</th>\n",
       "    </tr>\n",
       "  </thead>\n",
       "  <tbody>\n",
       "    <tr>\n",
       "      <th>0</th>\n",
       "      <td>female</td>\n",
       "      <td>yes</td>\n",
       "      <td>southwest</td>\n",
       "    </tr>\n",
       "    <tr>\n",
       "      <th>1</th>\n",
       "      <td>male</td>\n",
       "      <td>no</td>\n",
       "      <td>southeast</td>\n",
       "    </tr>\n",
       "    <tr>\n",
       "      <th>2</th>\n",
       "      <td>male</td>\n",
       "      <td>no</td>\n",
       "      <td>southeast</td>\n",
       "    </tr>\n",
       "    <tr>\n",
       "      <th>3</th>\n",
       "      <td>male</td>\n",
       "      <td>no</td>\n",
       "      <td>northwest</td>\n",
       "    </tr>\n",
       "    <tr>\n",
       "      <th>4</th>\n",
       "      <td>male</td>\n",
       "      <td>no</td>\n",
       "      <td>northwest</td>\n",
       "    </tr>\n",
       "  </tbody>\n",
       "</table>\n",
       "</div>"
      ],
      "text/plain": [
       "      sex smoker     region\n",
       "0  female    yes  southwest\n",
       "1    male     no  southeast\n",
       "2    male     no  southeast\n",
       "3    male     no  northwest\n",
       "4    male     no  northwest"
      ]
     },
     "execution_count": 5,
     "metadata": {},
     "output_type": "execute_result"
    }
   ],
   "source": [
    "df_num = df[['age', 'bmi', 'children', 'charges']]\n",
    "df_cat = df[['sex', 'smoker', 'region']]\n",
    "df_cat.head()"
   ]
  },
  {
   "attachments": {},
   "cell_type": "markdown",
   "metadata": {},
   "source": [
    "### 3. Label Encode the categorical columns.\n"
   ]
  },
  {
   "cell_type": "code",
   "execution_count": 6,
   "metadata": {},
   "outputs": [
    {
     "data": {
      "text/html": [
       "<div>\n",
       "<style scoped>\n",
       "    .dataframe tbody tr th:only-of-type {\n",
       "        vertical-align: middle;\n",
       "    }\n",
       "\n",
       "    .dataframe tbody tr th {\n",
       "        vertical-align: top;\n",
       "    }\n",
       "\n",
       "    .dataframe thead th {\n",
       "        text-align: right;\n",
       "    }\n",
       "</style>\n",
       "<table border=\"1\" class=\"dataframe\">\n",
       "  <thead>\n",
       "    <tr style=\"text-align: right;\">\n",
       "      <th></th>\n",
       "      <th>sex</th>\n",
       "      <th>smoker</th>\n",
       "      <th>region</th>\n",
       "      <th>sex_encoded</th>\n",
       "      <th>smoker_encoded</th>\n",
       "      <th>region_encoded</th>\n",
       "    </tr>\n",
       "  </thead>\n",
       "  <tbody>\n",
       "    <tr>\n",
       "      <th>0</th>\n",
       "      <td>female</td>\n",
       "      <td>yes</td>\n",
       "      <td>southwest</td>\n",
       "      <td>0</td>\n",
       "      <td>1</td>\n",
       "      <td>3</td>\n",
       "    </tr>\n",
       "    <tr>\n",
       "      <th>1</th>\n",
       "      <td>male</td>\n",
       "      <td>no</td>\n",
       "      <td>southeast</td>\n",
       "      <td>1</td>\n",
       "      <td>0</td>\n",
       "      <td>2</td>\n",
       "    </tr>\n",
       "    <tr>\n",
       "      <th>2</th>\n",
       "      <td>male</td>\n",
       "      <td>no</td>\n",
       "      <td>southeast</td>\n",
       "      <td>1</td>\n",
       "      <td>0</td>\n",
       "      <td>2</td>\n",
       "    </tr>\n",
       "    <tr>\n",
       "      <th>3</th>\n",
       "      <td>male</td>\n",
       "      <td>no</td>\n",
       "      <td>northwest</td>\n",
       "      <td>1</td>\n",
       "      <td>0</td>\n",
       "      <td>1</td>\n",
       "    </tr>\n",
       "    <tr>\n",
       "      <th>4</th>\n",
       "      <td>male</td>\n",
       "      <td>no</td>\n",
       "      <td>northwest</td>\n",
       "      <td>1</td>\n",
       "      <td>0</td>\n",
       "      <td>1</td>\n",
       "    </tr>\n",
       "  </tbody>\n",
       "</table>\n",
       "</div>"
      ],
      "text/plain": [
       "      sex smoker     region  sex_encoded  smoker_encoded  region_encoded\n",
       "0  female    yes  southwest            0               1               3\n",
       "1    male     no  southeast            1               0               2\n",
       "2    male     no  southeast            1               0               2\n",
       "3    male     no  northwest            1               0               1\n",
       "4    male     no  northwest            1               0               1"
      ]
     },
     "execution_count": 6,
     "metadata": {},
     "output_type": "execute_result"
    }
   ],
   "source": [
    "from sklearn import preprocessing\n",
    "\n",
    "le_sex = preprocessing.LabelEncoder()\n",
    "le_smoker = preprocessing.LabelEncoder()\n",
    "le_region = preprocessing.LabelEncoder()\n",
    "le_sex.fit(df_cat['sex'].unique())\n",
    "le_smoker.fit(df_cat['smoker'].unique())\n",
    "le_region.fit(df_cat['region'].unique())\n",
    "df_cat = df_cat.assign(sex_encoded = le_sex.transform(df_cat.sex))\n",
    "df_cat = df_cat.assign(smoker_encoded = le_smoker.transform(df_cat.smoker))\n",
    "df_cat = df_cat.assign(region_encoded = le_region.transform(df_cat.region))\n",
    "df_cat.head()"
   ]
  },
  {
   "attachments": {},
   "cell_type": "markdown",
   "metadata": {},
   "source": [
    "### 4. Scale the numerical columns. (Scale the charges separately so that you can calculate errors afterwards.)"
   ]
  },
  {
   "cell_type": "code",
   "execution_count": 7,
   "metadata": {},
   "outputs": [
    {
     "name": "stderr",
     "output_type": "stream",
     "text": [
      "C:\\Users\\Devansh Bansal\\AppData\\Local\\Temp\\ipykernel_2672\\1131736153.py:4: SettingWithCopyWarning: \n",
      "A value is trying to be set on a copy of a slice from a DataFrame.\n",
      "Try using .loc[row_indexer,col_indexer] = value instead\n",
      "\n",
      "See the caveats in the documentation: https://pandas.pydata.org/pandas-docs/stable/user_guide/indexing.html#returning-a-view-versus-a-copy\n",
      "  df_num[['age', 'bmi', 'children']] = scaler.fit_transform(df_num[['age', 'bmi', 'children']])\n",
      "C:\\Users\\Devansh Bansal\\AppData\\Local\\Temp\\ipykernel_2672\\1131736153.py:5: SettingWithCopyWarning: \n",
      "A value is trying to be set on a copy of a slice from a DataFrame.\n",
      "Try using .loc[row_indexer,col_indexer] = value instead\n",
      "\n",
      "See the caveats in the documentation: https://pandas.pydata.org/pandas-docs/stable/user_guide/indexing.html#returning-a-view-versus-a-copy\n",
      "  df_num['charges'] = scaler.fit_transform(df_num[['charges']])\n"
     ]
    },
    {
     "data": {
      "text/html": [
       "<div>\n",
       "<style scoped>\n",
       "    .dataframe tbody tr th:only-of-type {\n",
       "        vertical-align: middle;\n",
       "    }\n",
       "\n",
       "    .dataframe tbody tr th {\n",
       "        vertical-align: top;\n",
       "    }\n",
       "\n",
       "    .dataframe thead th {\n",
       "        text-align: right;\n",
       "    }\n",
       "</style>\n",
       "<table border=\"1\" class=\"dataframe\">\n",
       "  <thead>\n",
       "    <tr style=\"text-align: right;\">\n",
       "      <th></th>\n",
       "      <th>age</th>\n",
       "      <th>bmi</th>\n",
       "      <th>children</th>\n",
       "      <th>charges</th>\n",
       "    </tr>\n",
       "  </thead>\n",
       "  <tbody>\n",
       "    <tr>\n",
       "      <th>0</th>\n",
       "      <td>0.021739</td>\n",
       "      <td>0.321227</td>\n",
       "      <td>0.0</td>\n",
       "      <td>0.251611</td>\n",
       "    </tr>\n",
       "    <tr>\n",
       "      <th>1</th>\n",
       "      <td>0.000000</td>\n",
       "      <td>0.479150</td>\n",
       "      <td>0.2</td>\n",
       "      <td>0.009636</td>\n",
       "    </tr>\n",
       "    <tr>\n",
       "      <th>2</th>\n",
       "      <td>0.217391</td>\n",
       "      <td>0.458434</td>\n",
       "      <td>0.6</td>\n",
       "      <td>0.053115</td>\n",
       "    </tr>\n",
       "    <tr>\n",
       "      <th>3</th>\n",
       "      <td>0.326087</td>\n",
       "      <td>0.181464</td>\n",
       "      <td>0.0</td>\n",
       "      <td>0.333010</td>\n",
       "    </tr>\n",
       "    <tr>\n",
       "      <th>4</th>\n",
       "      <td>0.304348</td>\n",
       "      <td>0.347592</td>\n",
       "      <td>0.0</td>\n",
       "      <td>0.043816</td>\n",
       "    </tr>\n",
       "  </tbody>\n",
       "</table>\n",
       "</div>"
      ],
      "text/plain": [
       "        age       bmi  children   charges\n",
       "0  0.021739  0.321227       0.0  0.251611\n",
       "1  0.000000  0.479150       0.2  0.009636\n",
       "2  0.217391  0.458434       0.6  0.053115\n",
       "3  0.326087  0.181464       0.0  0.333010\n",
       "4  0.304348  0.347592       0.0  0.043816"
      ]
     },
     "execution_count": 7,
     "metadata": {},
     "output_type": "execute_result"
    }
   ],
   "source": [
    "from sklearn.preprocessing import MinMaxScaler\n",
    "\n",
    "scaler = MinMaxScaler()\n",
    "df_num[['age', 'bmi', 'children']] = scaler.fit_transform(df_num[['age', 'bmi', 'children']])\n",
    "df_num['charges'] = scaler.fit_transform(df_num[['charges']])\n",
    "df_num.head()"
   ]
  },
  {
   "attachments": {},
   "cell_type": "markdown",
   "metadata": {
    "id": "KAr0_8zS3d4M"
   },
   "source": [
    "### 5. Split the data."
   ]
  },
  {
   "cell_type": "code",
   "execution_count": 8,
   "metadata": {
    "id": "q0puLu0rN6Gi"
   },
   "outputs": [],
   "source": [
    "from sklearn.model_selection import train_test_split\n",
    "\n",
    "df_final = pd.concat([df_num, df_cat], axis = 1)\n",
    "X_train, X_test, y_train, y_test = train_test_split(df_final[['age', 'bmi', 'children','sex_encoded', 'smoker_encoded', 'region_encoded']], df_final['charges'], random_state = 1)"
   ]
  },
  {
   "attachments": {},
   "cell_type": "markdown",
   "metadata": {
    "id": "9JKtZ3nN3gmZ"
   },
   "source": [
    "### 6. Support Vector Regressor\n",
    "\n",
    "Here , you will use the SVR model from sklearn.svm and fit it on the training data. Then predict on the test data and calaculate MAE, MSE. But...\n",
    "\n",
    "The SVR class contains many hyperparameters, example : kernel can have the following values : linear, rbf, poly, sigmoid.\n",
    "\n",
    "Use **RandomizedSearchCV** from sklearn.model_selection , create a dictionary with keys 'kernel' and 'gamma' . As values of the keys, create a list of some possible values. Run a 3-fold cross validation test (cv=3) and find the best parameters. Then initiate the SVR model with those parameters."
   ]
  },
  {
   "cell_type": "code",
   "execution_count": 9,
   "metadata": {
    "id": "TTXaAbc7N7oS"
   },
   "outputs": [
    {
     "name": "stdout",
     "output_type": "stream",
     "text": [
      "Best Hyperparameters: {'kernel': 'poly', 'gamma': 1}\n",
      "MAE: 0.08284606670582445\n",
      "MSE: 0.008572510884140532\n",
      "r2: 0.7498744621985871\n"
     ]
    }
   ],
   "source": [
    "from sklearn.model_selection import RandomizedSearchCV\n",
    "from sklearn.svm import SVR\n",
    "from sklearn.metrics import mean_squared_error, mean_absolute_error, r2_score\n",
    "\n",
    "svr = SVR()\n",
    "dict = {'kernel' : ['linear', 'rbf', 'poly', 'sigmoid'], 'gamma' : [1, 0.1, 0.01, 0.001]}\n",
    "search = RandomizedSearchCV(svr, dict, cv = 3, random_state=0)\n",
    "search.fit(X_train, y_train)\n",
    "\n",
    "best_params = search.best_params_\n",
    "best_model = SVR(kernel = best_params['kernel'], gamma = best_params['gamma'])\n",
    "best_model.fit(X_train, y_train)\n",
    "\n",
    "y_pred = best_model.predict(X_test)\n",
    "\n",
    "mae = mean_absolute_error(y_test, y_pred) \n",
    "mse = mean_squared_error(y_test, y_pred)\n",
    "r2 = r2_score(y_test, y_pred)\n",
    "\n",
    "print(\"Best Hyperparameters:\", best_params)\n",
    "print(\"MAE:\", mae)\n",
    "print(\"MSE:\", mse)\n",
    "print(\"r2:\", r2)"
   ]
  },
  {
   "attachments": {},
   "cell_type": "markdown",
   "metadata": {
    "id": "KGt147zA5E6f"
   },
   "source": [
    "### 7. AdaBoost Regressor\n",
    "\n",
    "We would do similar for AdaBoostRegressor from sklearn.ensemble . Here, the hyperparameters are n_estimators and loss.\n",
    "\n",
    "Instead of RandomizedSearchCV, let's try GridSearchCV . Find the best parameters and then find errors on test data using the model with best parameters."
   ]
  },
  {
   "cell_type": "code",
   "execution_count": 10,
   "metadata": {
    "id": "u5c-EFdtN9Wt"
   },
   "outputs": [
    {
     "name": "stdout",
     "output_type": "stream",
     "text": [
      "Best Hyperparameters: {'loss': 'linear', 'n_estimators': 100}\n",
      "MAE: 0.0631099154041216\n",
      "MSE: 0.006713727649279002\n",
      "r2: 0.8041093488682706\n"
     ]
    }
   ],
   "source": [
    "from sklearn.ensemble import AdaBoostRegressor\n",
    "from sklearn.model_selection import GridSearchCV\n",
    "\n",
    "abr = AdaBoostRegressor()\n",
    "dict = {'loss' : ['linear', 'square', 'exponential'], 'n_estimators' : [10, 50, 100,500]}\n",
    "search = GridSearchCV(abr, dict, cv = 3)\n",
    "search.fit(X_train, y_train)\n",
    "\n",
    "best_params = search.best_params_\n",
    "best_model = AdaBoostRegressor(n_estimators = best_params['n_estimators'], loss = best_params['loss'])\n",
    "best_model.fit(X_train, y_train)\n",
    "\n",
    "y_pred = best_model.predict(X_test)\n",
    "\n",
    "mae = mean_absolute_error(y_test, y_pred) \n",
    "mse = mean_squared_error(y_test, y_pred)\n",
    "r2 = r2_score(y_test, y_pred)\n",
    "\n",
    "print(\"Best Hyperparameters:\", best_params)\n",
    "print(\"MAE:\", mae)\n",
    "print(\"MSE:\", mse)\n",
    "print(\"r2:\", r2)"
   ]
  },
  {
   "attachments": {},
   "cell_type": "markdown",
   "metadata": {
    "id": "oW11faHs5nH_"
   },
   "source": [
    "8. Now carry the same procedure for Random Forest Regressor and for Gradient Boosting Regression.\n"
   ]
  },
  {
   "cell_type": "code",
   "execution_count": 11,
   "metadata": {},
   "outputs": [
    {
     "name": "stdout",
     "output_type": "stream",
     "text": [
      "Best Hyperparameters: {'n_estimators': 500}\n",
      "MAE: 0.04286140538075424\n",
      "MSE: 0.005736957447535279\n",
      "r2: 0.8326091869345641\n"
     ]
    }
   ],
   "source": [
    "from sklearn.ensemble import RandomForestRegressor\n",
    "\n",
    "rfr = RandomForestRegressor()\n",
    "dict = {'n_estimators' : [10, 50, 100,500]}\n",
    "search = GridSearchCV(rfr, dict, cv = 3)\n",
    "search.fit(X_train, y_train)\n",
    "\n",
    "best_params = search.best_params_\n",
    "best_model = RandomForestRegressor(n_estimators = best_params['n_estimators'])\n",
    "best_model.fit(X_train, y_train)\n",
    "\n",
    "y_pred = best_model.predict(X_test)\n",
    "\n",
    "mae = mean_absolute_error(y_test, y_pred) \n",
    "mse = mean_squared_error(y_test, y_pred)\n",
    "r2 = r2_score(y_test, y_pred)\n",
    "\n",
    "print(\"Best Hyperparameters:\", best_params)\n",
    "print(\"MAE:\", mae)\n",
    "print(\"MSE:\", mse)\n",
    "print(\"r2:\", r2)"
   ]
  },
  {
   "cell_type": "code",
   "execution_count": 12,
   "metadata": {},
   "outputs": [
    {
     "name": "stdout",
     "output_type": "stream",
     "text": [
      "Best Hyperparameters: {'learning_rate': 0.01, 'n_estimators': 500}\n",
      "MAE: 0.03878715538935702\n",
      "MSE: 0.004833856566927197\n",
      "r2: 0.8589595289176729\n"
     ]
    }
   ],
   "source": [
    "from sklearn.ensemble import GradientBoostingRegressor\n",
    "\n",
    "gbr = GradientBoostingRegressor()\n",
    "dict = {'n_estimators' : [10, 50, 100,500], 'learning_rate' : [0.1, 0.01, 0.001]}\n",
    "search = GridSearchCV(gbr, dict, cv = 3)\n",
    "search.fit(X_train, y_train)\n",
    "\n",
    "best_params = search.best_params_\n",
    "best_model = GradientBoostingRegressor(n_estimators = best_params['n_estimators'], learning_rate = best_params['learning_rate'])\n",
    "best_model.fit(X_train, y_train)\n",
    "\n",
    "y_pred = best_model.predict(X_test)\n",
    "\n",
    "mae = mean_absolute_error(y_test, y_pred) \n",
    "mse = mean_squared_error(y_test, y_pred)\n",
    "r2 = r2_score(y_test, y_pred)\n",
    "\n",
    "print(\"Best Hyperparameters:\", best_params)\n",
    "print(\"MAE:\", mae)\n",
    "print(\"MSE:\", mse)\n",
    "print(\"r2:\", r2)"
   ]
  },
  {
   "attachments": {},
   "cell_type": "markdown",
   "metadata": {},
   "source": [
    "9. Finally, use <a href=\"https://xgboost.readthedocs.io/en/stable/get_started.html\"> XGBoost Regressor </a> and compare all the models. Comment which model had the least error (MAE and MSE).\n",
    "You will be required to run  <code> !pip install xgboost </code> to import xgboost models."
   ]
  },
  {
   "cell_type": "code",
   "execution_count": 13,
   "metadata": {
    "id": "bg_amvWHOAJG"
   },
   "outputs": [
    {
     "name": "stdout",
     "output_type": "stream",
     "text": [
      "Requirement already satisfied: xgboost in c:\\users\\devansh bansal\\appdata\\local\\programs\\python\\python311\\lib\\site-packages (1.7.6)\n",
      "Requirement already satisfied: numpy in c:\\users\\devansh bansal\\appdata\\local\\programs\\python\\python311\\lib\\site-packages (from xgboost) (1.24.2)\n",
      "Requirement already satisfied: scipy in c:\\users\\devansh bansal\\appdata\\local\\programs\\python\\python311\\lib\\site-packages (from xgboost) (1.10.1)\n",
      "Note: you may need to restart the kernel to use updated packages.\n",
      "Best Hyperparameters: {'booster': 'dart', 'eta': 0.1}\n",
      "MAE: 0.04180025636707856\n",
      "MSE: 0.00571908305906886\n",
      "r2: 0.8331307192007179\n"
     ]
    }
   ],
   "source": [
    "%pip install xgboost\n",
    "from xgboost import XGBRegressor\n",
    "\n",
    "xgb = XGBRegressor()\n",
    "dict = {'booster' : ['gbtree','gblinear','dart'], 'eta' : [0.1, 0.01, 0.001]}\n",
    "search = GridSearchCV(xgb, dict, cv = 3)\n",
    "search.fit(X_train, y_train)\n",
    "\n",
    "best_params = search.best_params_\n",
    "best_model = XGBRegressor(booster = best_params['booster'], eta = best_params['eta'])\n",
    "best_model.fit(X_train, y_train)\n",
    "\n",
    "y_pred = best_model.predict(X_test)\n",
    "\n",
    "mae = mean_absolute_error(y_test, y_pred) \n",
    "mse = mean_squared_error(y_test, y_pred)\n",
    "r2 = r2_score(y_test, y_pred)\n",
    "\n",
    "print(\"Best Hyperparameters:\", best_params)\n",
    "print(\"MAE:\", mae)\n",
    "print(\"MSE:\", mse)\n",
    "print(\"r2:\", r2)"
   ]
  },
  {
   "attachments": {},
   "cell_type": "markdown",
   "metadata": {},
   "source": [
    "### Gradient Boosting Regressor had the least MAE and MSE.\n",
    "#  "
   ]
  },
  {
   "attachments": {},
   "cell_type": "markdown",
   "metadata": {
    "id": "kMMzdz1e3YMp"
   },
   "source": [
    "# Question 3 : Classification using SVM and Tree Algorithms\n",
    "\n",
    "In this question, we will be using the **bookmyshow_ads.csv** file which contain information on whether an url is spam or not based on 32 features. You need to classify the url as spam or not spam based on the information given.\n",
    "\n",
    "### 1. Load the data."
   ]
  },
  {
   "cell_type": "code",
   "execution_count": 21,
   "metadata": {
    "id": "HZTHOA-KOLTw"
   },
   "outputs": [
    {
     "name": "stdout",
     "output_type": "stream",
     "text": [
      "<class 'pandas.core.frame.DataFrame'>\n",
      "RangeIndex: 11055 entries, 0 to 11054\n",
      "Data columns (total 32 columns):\n",
      " #   Column                       Non-Null Count  Dtype \n",
      "---  ------                       --------------  ----- \n",
      " 0   index                        11055 non-null  object\n",
      " 1   having_IPhaving_IP_Address   11055 non-null  int64 \n",
      " 2   URLURL_Length                11055 non-null  int64 \n",
      " 3   Shortining_Service           11055 non-null  int64 \n",
      " 4   having_At_Symbol             11055 non-null  int64 \n",
      " 5   double_slash_redirecting     11055 non-null  int64 \n",
      " 6   Prefix_Suffix                11055 non-null  int64 \n",
      " 7   having_Sub_Domain            11055 non-null  int64 \n",
      " 8   SSLfinal_State               11055 non-null  int64 \n",
      " 9   Domain_registeration_length  11055 non-null  int64 \n",
      " 10  Favicon                      11055 non-null  int64 \n",
      " 11  port                         11055 non-null  int64 \n",
      " 12  HTTPS_token                  11055 non-null  int64 \n",
      " 13  Request_URL                  11055 non-null  int64 \n",
      " 14  URL_of_Anchor                11055 non-null  int64 \n",
      " 15  Links_in_tags                11055 non-null  int64 \n",
      " 16  SFH                          11055 non-null  int64 \n",
      " 17  Submitting_to_email          11055 non-null  int64 \n",
      " 18  Abnormal_URL                 11055 non-null  int64 \n",
      " 19  Redirect                     11055 non-null  int64 \n",
      " 20  on_mouseover                 11055 non-null  int64 \n",
      " 21  RightClick                   11055 non-null  int64 \n",
      " 22  popUpWidnow                  11055 non-null  int64 \n",
      " 23  Iframe                       11055 non-null  int64 \n",
      " 24  age_of_domain                11055 non-null  int64 \n",
      " 25  DNSRecord                    11055 non-null  int64 \n",
      " 26  web_traffic                  11055 non-null  int64 \n",
      " 27  Page_Rank                    11055 non-null  int64 \n",
      " 28  Google_Index                 11055 non-null  int64 \n",
      " 29  Links_pointing_to_page       11055 non-null  int64 \n",
      " 30  Statistical_report           11055 non-null  int64 \n",
      " 31  Result                       11055 non-null  int64 \n",
      "dtypes: int64(31), object(1)\n",
      "memory usage: 2.7+ MB\n",
      "None\n"
     ]
    }
   ],
   "source": [
    "df = pd.read_csv('bookmyshow_ads.csv')\n",
    "print(df.info())"
   ]
  },
  {
   "attachments": {},
   "cell_type": "markdown",
   "metadata": {
    "id": "BcqJmRVyLHFU"
   },
   "source": [
    "### 2. Split the data."
   ]
  },
  {
   "cell_type": "code",
   "execution_count": 27,
   "metadata": {
    "id": "7b7dtEdwOMnQ"
   },
   "outputs": [
    {
     "name": "stdout",
     "output_type": "stream",
     "text": [
      "<class 'pandas.core.frame.DataFrame'>\n",
      "Int64Index: 8291 entries, 4640 to 235\n",
      "Data columns (total 30 columns):\n",
      " #   Column                       Non-Null Count  Dtype\n",
      "---  ------                       --------------  -----\n",
      " 0   having_IPhaving_IP_Address   8291 non-null   int64\n",
      " 1   URLURL_Length                8291 non-null   int64\n",
      " 2   Shortining_Service           8291 non-null   int64\n",
      " 3   having_At_Symbol             8291 non-null   int64\n",
      " 4   double_slash_redirecting     8291 non-null   int64\n",
      " 5   Prefix_Suffix                8291 non-null   int64\n",
      " 6   having_Sub_Domain            8291 non-null   int64\n",
      " 7   SSLfinal_State               8291 non-null   int64\n",
      " 8   Domain_registeration_length  8291 non-null   int64\n",
      " 9   Favicon                      8291 non-null   int64\n",
      " 10  port                         8291 non-null   int64\n",
      " 11  HTTPS_token                  8291 non-null   int64\n",
      " 12  Request_URL                  8291 non-null   int64\n",
      " 13  URL_of_Anchor                8291 non-null   int64\n",
      " 14  Links_in_tags                8291 non-null   int64\n",
      " 15  SFH                          8291 non-null   int64\n",
      " 16  Submitting_to_email          8291 non-null   int64\n",
      " 17  Abnormal_URL                 8291 non-null   int64\n",
      " 18  Redirect                     8291 non-null   int64\n",
      " 19  on_mouseover                 8291 non-null   int64\n",
      " 20  RightClick                   8291 non-null   int64\n",
      " 21  popUpWidnow                  8291 non-null   int64\n",
      " 22  Iframe                       8291 non-null   int64\n",
      " 23  age_of_domain                8291 non-null   int64\n",
      " 24  DNSRecord                    8291 non-null   int64\n",
      " 25  web_traffic                  8291 non-null   int64\n",
      " 26  Page_Rank                    8291 non-null   int64\n",
      " 27  Google_Index                 8291 non-null   int64\n",
      " 28  Links_pointing_to_page       8291 non-null   int64\n",
      " 29  Statistical_report           8291 non-null   int64\n",
      "dtypes: int64(30)\n",
      "memory usage: 2.0 MB\n"
     ]
    }
   ],
   "source": [
    "X_train, X_test, y_train, y_test = train_test_split(df.drop(['Result','index'], axis = 1), df['Result'], random_state = 1)\n",
    "X_train.info()"
   ]
  },
  {
   "attachments": {},
   "cell_type": "markdown",
   "metadata": {
    "id": "KKX0BSiILMPe"
   },
   "source": [
    "### 3. Model Comparison\n",
    "\n",
    "Similar to the previous question, use the following classifier models from sklearn and compare them:\n",
    "1. Decision Tree\n",
    "2. Random Forest\n",
    "3. Adaboost\n",
    "4. Gradient Boost\n",
    "5. XGBoost\n",
    "\n",
    "For each model, you may also try to find the best hyperparameters using GridSearch Cross Validation or RandomizedSearch Cross Validation."
   ]
  },
  {
   "cell_type": "code",
   "execution_count": 28,
   "metadata": {
    "id": "YaTC1pJFOPNF"
   },
   "outputs": [
    {
     "name": "stdout",
     "output_type": "stream",
     "text": [
      "Best Hyperparameters: {'criterion': 'entropy', 'max_features': None}\n",
      "Accuracy: 0.9663531114327062\n"
     ]
    }
   ],
   "source": [
    "from sklearn.tree import DecisionTreeClassifier\n",
    "from sklearn.metrics import accuracy_score\n",
    "\n",
    "dtc = DecisionTreeClassifier()\n",
    "dict = {'max_features' : ['sqrt', 'log2', None], 'criterion' : ['gini', 'entropy', 'log_loss']}\n",
    "search = GridSearchCV(dtc, dict, cv = 3)\n",
    "search.fit(X_train, y_train)\n",
    "\n",
    "best_params = search.best_params_\n",
    "best_model = DecisionTreeClassifier(max_features = best_params['max_features'], criterion = best_params['criterion'])\n",
    "best_model.fit(X_train, y_train)\n",
    "\n",
    "y_pred = best_model.predict(X_test)\n",
    "\n",
    "accuracy = accuracy_score(y_test, y_pred)\n",
    "\n",
    "print(\"Best Hyperparameters:\", best_params)\n",
    "print(\"Accuracy:\", accuracy)"
   ]
  },
  {
   "cell_type": "code",
   "execution_count": 29,
   "metadata": {},
   "outputs": [
    {
     "name": "stdout",
     "output_type": "stream",
     "text": [
      "Best Hyperparameters: {'n_estimators': 500}\n",
      "Accuracy: 0.9721418234442837\n"
     ]
    }
   ],
   "source": [
    "from sklearn.ensemble import RandomForestClassifier\n",
    "\n",
    "rfc = RandomForestClassifier()\n",
    "dict = {'n_estimators' : [10, 50, 100,500]}\n",
    "search = GridSearchCV(rfr, dict, cv = 3)\n",
    "search.fit(X_train, y_train)\n",
    "\n",
    "best_params = search.best_params_\n",
    "best_model = RandomForestClassifier(n_estimators = best_params['n_estimators'])\n",
    "best_model.fit(X_train, y_train)\n",
    "\n",
    "y_pred = best_model.predict(X_test)\n",
    "\n",
    "accuracy = accuracy_score(y_test, y_pred)\n",
    "\n",
    "print(\"Best Hyperparameters:\", best_params)\n",
    "print(\"Accuracy:\", accuracy)"
   ]
  },
  {
   "cell_type": "code",
   "execution_count": 30,
   "metadata": {},
   "outputs": [
    {
     "name": "stdout",
     "output_type": "stream",
     "text": [
      "Best Hyperparameters: {'n_estimators': 50}\n",
      "Accuracy: 0.9345151953690304\n"
     ]
    }
   ],
   "source": [
    "from sklearn.ensemble import AdaBoostClassifier\n",
    "\n",
    "abc = AdaBoostClassifier()\n",
    "dict = {'n_estimators' : [10, 50, 100,500]}\n",
    "search = GridSearchCV(abc, dict, cv = 3)\n",
    "search.fit(X_train, y_train)\n",
    "\n",
    "best_params = search.best_params_\n",
    "best_model = AdaBoostClassifier(n_estimators = best_params['n_estimators'])\n",
    "best_model.fit(X_train, y_train)\n",
    "\n",
    "y_pred = best_model.predict(X_test)\n",
    "\n",
    "accuracy = accuracy_score(y_test, y_pred)\n",
    "\n",
    "print(\"Best Hyperparameters:\", best_params)\n",
    "print(\"Accuracy:\", accuracy)"
   ]
  },
  {
   "cell_type": "code",
   "execution_count": 31,
   "metadata": {},
   "outputs": [
    {
     "name": "stdout",
     "output_type": "stream",
     "text": [
      "Best Hyperparameters: {'learning_rate': 0.1, 'n_estimators': 500}\n",
      "Accuracy: 0.959479015918958\n"
     ]
    }
   ],
   "source": [
    "from sklearn.ensemble import GradientBoostingClassifier\n",
    "\n",
    "gbc = GradientBoostingClassifier()\n",
    "dict = {'n_estimators' : [10, 50, 100,500], 'learning_rate' : [0.1, 0.01, 0.001]}\n",
    "search = GridSearchCV(gbc, dict, cv = 3)\n",
    "search.fit(X_train, y_train)\n",
    "\n",
    "best_params = search.best_params_\n",
    "best_model = GradientBoostingClassifier(n_estimators = best_params['n_estimators'], learning_rate = best_params['learning_rate'])\n",
    "best_model.fit(X_train, y_train)\n",
    "\n",
    "y_pred = best_model.predict(X_test)\n",
    "\n",
    "accuracy = accuracy_score(y_test, y_pred)\n",
    "\n",
    "print(\"Best Hyperparameters:\", best_params)\n",
    "print(\"Accuracy:\", accuracy)"
   ]
  },
  {
   "cell_type": "code",
   "execution_count": 32,
   "metadata": {},
   "outputs": [
    {
     "name": "stdout",
     "output_type": "stream",
     "text": [
      "Best Hyperparameters: {'booster': 'gbtree', 'eta': 0.1}\n",
      "Accuracy: 0.9645441389290883\n"
     ]
    }
   ],
   "source": [
    "from xgboost import XGBClassifier\n",
    "\n",
    "xgc = XGBClassifier()\n",
    "dict = {'booster' : ['gbtree','gblinear','dart'], 'eta' : [0.1, 0.01, 0.001]}\n",
    "search = GridSearchCV(xgc, dict, cv = 3)\n",
    "search.fit(X_train, y_train)\n",
    "\n",
    "best_params = search.best_params_\n",
    "best_model = XGBClassifier(booster = best_params['booster'], eta = best_params['eta'])\n",
    "best_model.fit(X_train, y_train)\n",
    "\n",
    "y_pred = best_model.predict(X_test)\n",
    "\n",
    "accuracy = accuracy_score(y_test, y_pred)\n",
    "\n",
    "print(\"Best Hyperparameters:\", best_params)\n",
    "print(\"Accuracy:\", accuracy)"
   ]
  },
  {
   "attachments": {},
   "cell_type": "markdown",
   "metadata": {},
   "source": [
    "### RandomForestClassifier is the most accurate."
   ]
  },
  {
   "attachments": {},
   "cell_type": "markdown",
   "metadata": {
    "id": "AbMIyf8ouk1u"
   },
   "source": [
    "# Question 4 : Clustering\n",
    "\n",
    "Customer Segmentation is the subdivision of a market into discrete customer groups that share similar characteristics. Customer Segmentation can be a powerful means to identify unsatisfied customer needs.\n",
    "\n",
    "The csv file **segmentation data.csv** contains basic data about some customers like Customer ID, age, gender, annual income and spending score. You want to classify the customers into different groups so that marketing strategy could be planned in the future accordingly. How many different groups should be made ? What should be the approach ?\n",
    "\n",
    "This is an Unsupervised Learning question since it doesn't provide you with labels - the groups. \n",
    "\n",
    "### 1. Import the necessary modules"
   ]
  },
  {
   "cell_type": "code",
   "execution_count": null,
   "metadata": {
    "id": "_UKGseStOQgk"
   },
   "outputs": [],
   "source": []
  },
  {
   "attachments": {},
   "cell_type": "markdown",
   "metadata": {
    "id": "FXs9rQC0u3_S"
   },
   "source": [
    "### 2. Read the csv file \"segmentation data.csv\" present in the Github repository as a Pandas DataFrame."
   ]
  },
  {
   "cell_type": "code",
   "execution_count": 42,
   "metadata": {
    "id": "bfiso96cORzB"
   },
   "outputs": [
    {
     "name": "stdout",
     "output_type": "stream",
     "text": [
      "          ID  Sex  Marital status  Age  Education  Income  Occupation  \\\n",
      "0  100000001    0               0   67          2  124670           1   \n",
      "1  100000002    1               1   22          1  150773           1   \n",
      "2  100000003    0               0   49          1   89210           0   \n",
      "3  100000004    0               0   45          1  171565           1   \n",
      "4  100000005    0               0   53          1  149031           1   \n",
      "\n",
      "   Settlement size  \n",
      "0                2  \n",
      "1                2  \n",
      "2                0  \n",
      "3                1  \n",
      "4                1  \n"
     ]
    }
   ],
   "source": [
    "df = pd.read_csv('segmentation data.csv')\n",
    "print(df.head())"
   ]
  },
  {
   "attachments": {},
   "cell_type": "markdown",
   "metadata": {
    "id": "pkoXSkGvvEfQ"
   },
   "source": [
    "### 3. Do the necessary preprocessing of the data.\n",
    "\n",
    "> Drop unwanted columns.\n",
    "\n",
    "> Check for null values.\n",
    "\n",
    "> Scale the numerical columns.\n",
    "\n",
    "> Additionally, you may also make the Age column have categorical values. How ? Apply some function that makes age groups turns all ages in some group to a particular number !\n",
    "\n",
    "Note : Don't do everything in a single code block ! Do it step-by-step and show output for each step."
   ]
  },
  {
   "cell_type": "code",
   "execution_count": 43,
   "metadata": {
    "id": "R8T3S0J0OUS_"
   },
   "outputs": [
    {
     "name": "stdout",
     "output_type": "stream",
     "text": [
      "<class 'pandas.core.frame.DataFrame'>\n",
      "RangeIndex: 2000 entries, 0 to 1999\n",
      "Data columns (total 7 columns):\n",
      " #   Column           Non-Null Count  Dtype\n",
      "---  ------           --------------  -----\n",
      " 0   Sex              2000 non-null   int64\n",
      " 1   Marital status   2000 non-null   int64\n",
      " 2   Age              2000 non-null   int64\n",
      " 3   Education        2000 non-null   int64\n",
      " 4   Income           2000 non-null   int64\n",
      " 5   Occupation       2000 non-null   int64\n",
      " 6   Settlement size  2000 non-null   int64\n",
      "dtypes: int64(7)\n",
      "memory usage: 109.5 KB\n"
     ]
    }
   ],
   "source": [
    "df.drop(['ID'], axis = 1, inplace = True)\n",
    "df.info()"
   ]
  },
  {
   "cell_type": "code",
   "execution_count": 46,
   "metadata": {},
   "outputs": [
    {
     "data": {
      "text/html": [
       "<div>\n",
       "<style scoped>\n",
       "    .dataframe tbody tr th:only-of-type {\n",
       "        vertical-align: middle;\n",
       "    }\n",
       "\n",
       "    .dataframe tbody tr th {\n",
       "        vertical-align: top;\n",
       "    }\n",
       "\n",
       "    .dataframe thead th {\n",
       "        text-align: right;\n",
       "    }\n",
       "</style>\n",
       "<table border=\"1\" class=\"dataframe\">\n",
       "  <thead>\n",
       "    <tr style=\"text-align: right;\">\n",
       "      <th></th>\n",
       "      <th>Sex</th>\n",
       "      <th>Marital status</th>\n",
       "      <th>Age</th>\n",
       "      <th>Education</th>\n",
       "      <th>Income</th>\n",
       "      <th>Occupation</th>\n",
       "      <th>Settlement size</th>\n",
       "      <th>Age_Group</th>\n",
       "    </tr>\n",
       "  </thead>\n",
       "  <tbody>\n",
       "    <tr>\n",
       "      <th>0</th>\n",
       "      <td>0.0</td>\n",
       "      <td>0.0</td>\n",
       "      <td>0.844828</td>\n",
       "      <td>0.666667</td>\n",
       "      <td>0.324781</td>\n",
       "      <td>0.5</td>\n",
       "      <td>1.0</td>\n",
       "      <td>67</td>\n",
       "    </tr>\n",
       "    <tr>\n",
       "      <th>1</th>\n",
       "      <td>1.0</td>\n",
       "      <td>1.0</td>\n",
       "      <td>0.068966</td>\n",
       "      <td>0.333333</td>\n",
       "      <td>0.420210</td>\n",
       "      <td>0.5</td>\n",
       "      <td>1.0</td>\n",
       "      <td>22</td>\n",
       "    </tr>\n",
       "    <tr>\n",
       "      <th>2</th>\n",
       "      <td>0.0</td>\n",
       "      <td>0.0</td>\n",
       "      <td>0.534483</td>\n",
       "      <td>0.333333</td>\n",
       "      <td>0.195144</td>\n",
       "      <td>0.0</td>\n",
       "      <td>0.0</td>\n",
       "      <td>49</td>\n",
       "    </tr>\n",
       "    <tr>\n",
       "      <th>3</th>\n",
       "      <td>0.0</td>\n",
       "      <td>0.0</td>\n",
       "      <td>0.465517</td>\n",
       "      <td>0.333333</td>\n",
       "      <td>0.496223</td>\n",
       "      <td>0.5</td>\n",
       "      <td>0.5</td>\n",
       "      <td>45</td>\n",
       "    </tr>\n",
       "    <tr>\n",
       "      <th>4</th>\n",
       "      <td>0.0</td>\n",
       "      <td>0.0</td>\n",
       "      <td>0.603448</td>\n",
       "      <td>0.333333</td>\n",
       "      <td>0.413842</td>\n",
       "      <td>0.5</td>\n",
       "      <td>0.5</td>\n",
       "      <td>53</td>\n",
       "    </tr>\n",
       "  </tbody>\n",
       "</table>\n",
       "</div>"
      ],
      "text/plain": [
       "   Sex  Marital status       Age  Education    Income  Occupation  \\\n",
       "0  0.0             0.0  0.844828   0.666667  0.324781         0.5   \n",
       "1  1.0             1.0  0.068966   0.333333  0.420210         0.5   \n",
       "2  0.0             0.0  0.534483   0.333333  0.195144         0.0   \n",
       "3  0.0             0.0  0.465517   0.333333  0.496223         0.5   \n",
       "4  0.0             0.0  0.603448   0.333333  0.413842         0.5   \n",
       "\n",
       "   Settlement size  Age_Group  \n",
       "0              1.0         67  \n",
       "1              1.0         22  \n",
       "2              0.0         49  \n",
       "3              0.5         45  \n",
       "4              0.5         53  "
      ]
     },
     "execution_count": 46,
     "metadata": {},
     "output_type": "execute_result"
    }
   ],
   "source": [
    "scaler = MinMaxScaler()\n",
    "data = pd.DataFrame(scaler.fit_transform(df), columns = df.columns)\n",
    "data = data.assign(Age_Group = df['Age'])\n",
    "data.head()"
   ]
  },
  {
   "cell_type": "code",
   "execution_count": 47,
   "metadata": {},
   "outputs": [
    {
     "data": {
      "text/html": [
       "<div>\n",
       "<style scoped>\n",
       "    .dataframe tbody tr th:only-of-type {\n",
       "        vertical-align: middle;\n",
       "    }\n",
       "\n",
       "    .dataframe tbody tr th {\n",
       "        vertical-align: top;\n",
       "    }\n",
       "\n",
       "    .dataframe thead th {\n",
       "        text-align: right;\n",
       "    }\n",
       "</style>\n",
       "<table border=\"1\" class=\"dataframe\">\n",
       "  <thead>\n",
       "    <tr style=\"text-align: right;\">\n",
       "      <th></th>\n",
       "      <th>Sex</th>\n",
       "      <th>Marital status</th>\n",
       "      <th>Age</th>\n",
       "      <th>Education</th>\n",
       "      <th>Income</th>\n",
       "      <th>Occupation</th>\n",
       "      <th>Settlement size</th>\n",
       "      <th>Age_Group</th>\n",
       "    </tr>\n",
       "  </thead>\n",
       "  <tbody>\n",
       "    <tr>\n",
       "      <th>0</th>\n",
       "      <td>0.0</td>\n",
       "      <td>0.0</td>\n",
       "      <td>0.844828</td>\n",
       "      <td>0.666667</td>\n",
       "      <td>0.324781</td>\n",
       "      <td>0.5</td>\n",
       "      <td>1.0</td>\n",
       "      <td>Old</td>\n",
       "    </tr>\n",
       "    <tr>\n",
       "      <th>1</th>\n",
       "      <td>1.0</td>\n",
       "      <td>1.0</td>\n",
       "      <td>0.068966</td>\n",
       "      <td>0.333333</td>\n",
       "      <td>0.420210</td>\n",
       "      <td>0.5</td>\n",
       "      <td>1.0</td>\n",
       "      <td>Middle</td>\n",
       "    </tr>\n",
       "    <tr>\n",
       "      <th>2</th>\n",
       "      <td>0.0</td>\n",
       "      <td>0.0</td>\n",
       "      <td>0.534483</td>\n",
       "      <td>0.333333</td>\n",
       "      <td>0.195144</td>\n",
       "      <td>0.0</td>\n",
       "      <td>0.0</td>\n",
       "      <td>Senior</td>\n",
       "    </tr>\n",
       "    <tr>\n",
       "      <th>3</th>\n",
       "      <td>0.0</td>\n",
       "      <td>0.0</td>\n",
       "      <td>0.465517</td>\n",
       "      <td>0.333333</td>\n",
       "      <td>0.496223</td>\n",
       "      <td>0.5</td>\n",
       "      <td>0.5</td>\n",
       "      <td>Senior</td>\n",
       "    </tr>\n",
       "    <tr>\n",
       "      <th>4</th>\n",
       "      <td>0.0</td>\n",
       "      <td>0.0</td>\n",
       "      <td>0.603448</td>\n",
       "      <td>0.333333</td>\n",
       "      <td>0.413842</td>\n",
       "      <td>0.5</td>\n",
       "      <td>0.5</td>\n",
       "      <td>Senior</td>\n",
       "    </tr>\n",
       "  </tbody>\n",
       "</table>\n",
       "</div>"
      ],
      "text/plain": [
       "   Sex  Marital status       Age  Education    Income  Occupation  \\\n",
       "0  0.0             0.0  0.844828   0.666667  0.324781         0.5   \n",
       "1  1.0             1.0  0.068966   0.333333  0.420210         0.5   \n",
       "2  0.0             0.0  0.534483   0.333333  0.195144         0.0   \n",
       "3  0.0             0.0  0.465517   0.333333  0.496223         0.5   \n",
       "4  0.0             0.0  0.603448   0.333333  0.413842         0.5   \n",
       "\n",
       "   Settlement size Age_Group  \n",
       "0              1.0       Old  \n",
       "1              1.0    Middle  \n",
       "2              0.0    Senior  \n",
       "3              0.5    Senior  \n",
       "4              0.5    Senior  "
      ]
     },
     "execution_count": 47,
     "metadata": {},
     "output_type": "execute_result"
    }
   ],
   "source": [
    "for age in data['Age_Group']:\n",
    "    if age < 18:\n",
    "        data['Age_Group'].replace(age, 'Young', inplace = True)\n",
    "    elif age < 35:\n",
    "        data['Age_Group'].replace(age, 'Middle', inplace = True)\n",
    "    elif age < 60:\n",
    "        data['Age_Group'].replace(age, 'Senior', inplace = True)\n",
    "    else:\n",
    "        data['Age_Group'].replace(age, 'Old', inplace = True)\n",
    "data.head()"
   ]
  },
  {
   "attachments": {},
   "cell_type": "markdown",
   "metadata": {
    "id": "GI5spEOLB2Sw"
   },
   "source": [
    "### 4. KMeans Model Training - Scikit-Learn\n",
    "\n",
    "At first, let's try to implement KMeans Clustering using sklearn.clusters.KMeans .\n",
    "\n",
    "How to decide for the value 'K' ?\n",
    "\n",
    "Read the following blog. It provides different ways of evaluating clustering algorithms.\n",
    "\n",
    "https://www.analyticsvidhya.com/blog/2021/05/k-mean-getting-the-optimal-number-of-clusters\n",
    "\n",
    "We will be looking on two methods : Elbow Method, Silhouette Analysis.\n",
    "\n",
    "**Make a list of values for K , ranging from 2 to 10. For each K, fit a model, calculate the inertia and silhouette scores. Plot them. Decide which value of K is optimal !**"
   ]
  },
  {
   "cell_type": "code",
   "execution_count": 54,
   "metadata": {
    "id": "onhGIzLqOX8p"
   },
   "outputs": [
    {
     "data": {
      "text/plain": [
       "[<matplotlib.lines.Line2D at 0x282b7d2ddd0>]"
      ]
     },
     "execution_count": 54,
     "metadata": {},
     "output_type": "execute_result"
    },
    {
     "data": {
      "image/png": "[encoded data removed]",
      "text/plain": [
       "<Figure size 640x480 with 2 Axes>"
      ]
     },
     "metadata": {},
     "output_type": "display_data"
    }
   ],
   "source": [
    "from sklearn.cluster import KMeans\n",
    "from sklearn.metrics import silhouette_score\n",
    "\n",
    "K_list = [2, 3, 4, 5, 6, 7, 8, 9, 10]\n",
    "inertia = []\n",
    "silhouette = []\n",
    "for K in K_list:\n",
    "    kmeans = KMeans(n_clusters = K, n_init = 10, random_state = 1)\n",
    "    kmeans.fit(data.drop(['Age_Group'], axis = 1))\n",
    "    data['Cluster'] = kmeans.labels_\n",
    "    inertia.append(kmeans.inertia_)\n",
    "    silhouette.append(silhouette_score(data.drop(['Age_Group'], axis = 1), data['Cluster']))\n",
    "fig, axs = plt.subplots(2)\n",
    "axs[0].plot(K_list, inertia)\n",
    "axs[1].plot(K_list, silhouette)\n"
   ]
  },
  {
   "attachments": {},
   "cell_type": "markdown",
   "metadata": {
    "id": "1jajN40GH0EP"
   },
   "source": [
    "### 5. KMeans Model Prediction\n",
    "\n",
    "Once you decided the optimal K, once again fit a model with that K value and store the silhouette score and the labels for the entire data.\n",
    "\n",
    "It is observed that the optimal value of k is 4. So, let's store the values of inertia and labels for k=4."
   ]
  },
  {
   "cell_type": "code",
   "execution_count": 59,
   "metadata": {
    "id": "qydGd1rYOZqx"
   },
   "outputs": [],
   "source": [
    "kmeans = KMeans(n_clusters = 3, n_init = 10, random_state = 1)\n",
    "kmeans.fit(data.drop(['Age_Group'], axis = 1))\n",
    "data['Cluster'] = kmeans.labels_\n",
    "ss = silhouette_score(data.drop(['Age_Group'], axis = 1), data['Cluster'])"
   ]
  },
  {
   "attachments": {},
   "cell_type": "markdown",
   "metadata": {
    "id": "_fjt3IhXzYgz"
   },
   "source": [
    "### 6. KMeans Model Training - Scratch\n",
    "\n",
    "Now, code the KMeans Model from scratch. Train it on the data, and try to find out when you have the labels with maximum accuracy when compared to the labels of the SkLearn model."
   ]
  },
  {
   "attachments": {},
   "cell_type": "markdown",
   "metadata": {
    "id": "WTWu6y8S0Usv"
   },
   "source": [
    "### 7. DBSCAN model training - Scikit-Learn\n",
    "\n",
    "Using sklear.clusters.DBSCAN, you have to fit a model on the data.\n",
    "\n",
    "But, here we would like to deal with two hyperparameters : epsilon and minimum number of samples.\n",
    "\n",
    "Make two lists. One with some probable values for epsilon, other with probable values for min_samples.\n",
    "\n",
    "Example : eps= [0.1,0.2,0.5,1,2] , min_samples=[3,4,5,6]\n",
    "\n",
    "Run a nested loop. for each value of eps and min_samples, fit a dbscan model on the data and calculate the silhouette score. Find the parameters for which the silhouette score is maximum."
   ]
  },
  {
   "cell_type": "code",
   "execution_count": 60,
   "metadata": {
    "id": "NM5XJSZYOdmB"
   },
   "outputs": [
    {
     "name": "stdout",
     "output_type": "stream",
     "text": [
      "Best eps: 0.3\n",
      "Best min_samples: 2\n",
      "Best silhouette score: 0.8890579142106397\n"
     ]
    }
   ],
   "source": [
    "from sklearn.cluster import DBSCAN\n",
    "eps = [0.1, 0.2, 0.3, 0.4, 0.5, 0.6, 0.7, 0.8, 0.9, 1]\n",
    "min_samples = [2, 3, 4, 5, 6, 7, 8, 9, 10]\n",
    "\n",
    "max = 0\n",
    "best_eps = 0\n",
    "best_min_samples = 0\n",
    "for e in eps:\n",
    "    for s in min_samples:\n",
    "        dbscan = DBSCAN(eps = e, min_samples = s)\n",
    "        dbscan.fit(data.drop(['Age_Group'], axis = 1))\n",
    "        data['Cluster'] = dbscan.labels_\n",
    "        ss = silhouette_score(data.drop(['Age_Group'], axis = 1), data['Cluster'])\n",
    "        if ss > max:\n",
    "            max = ss\n",
    "            best_eps = e\n",
    "            best_min_samples = s\n",
    "print(\"Best eps:\", best_eps)\n",
    "print(\"Best min_samples:\", best_min_samples)\n",
    "print(\"Best silhouette score:\", max)"
   ]
  },
  {
   "attachments": {},
   "cell_type": "markdown",
   "metadata": {
    "id": "T77d9N4w1hRI"
   },
   "source": [
    "### 8. DBSCAN model training - Scratch\n",
    "\n",
    "Code the DBScan model. For the same epsilon and min_samples values, fit the model on the data. You should receive the same silhouette score."
   ]
  }
 ],
 "metadata": {
  "colab": {
   "provenance": []
  },
  "kernelspec": {
   "display_name": "Python 3",
   "name": "python3"
  },
  "language_info": {
   "codemirror_mode": {
    "name": "ipython",
    "version": 3
   },
   "file_extension": ".py",
   "mimetype": "text/x-python",
   "name": "python",
   "nbconvert_exporter": "python",
   "pygments_lexer": "ipython3",
   "version": "3.11.2"
  }
 },
 "nbformat": 4,
 "nbformat_minor": 0
}
