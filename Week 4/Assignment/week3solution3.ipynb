{
  "nbformat": 4,
  "nbformat_minor": 0,
  "metadata": {
    "colab": {
      "provenance": []
    },
    "kernelspec": {
      "name": "python3",
      "display_name": "Python 3"
    },
    "language_info": {
      "name": "python"
    }
  },
  "cells": [
    {
      "cell_type": "code",
      "execution_count": 4,
      "metadata": {
        "id": "Kepk3QB_YkY_"
      },
      "outputs": [],
      "source": [
        "import pandas as pd\n",
        "from sklearn.model_selection import train_test_split\n",
        "from sklearn.tree import DecisionTreeClassifier\n",
        "from sklearn.ensemble import RandomForestClassifier, AdaBoostClassifier, GradientBoostingClassifier\n",
        "from sklearn.metrics import accuracy_score\n",
        "from sklearn.model_selection import GridSearchCV\n",
        "from xgboost import XGBClassifier\n",
        "from sklearn.preprocessing import StandardScaler\n",
        "from sklearn.cluster import KMeans\n",
        "import matplotlib.pyplot as plt"
      ]
    },
    {
      "cell_type": "code",
      "source": [
        "\n",
        "data = pd.read_csv('bookmyshow_ads.csv')\n",
        "print(data.info())\n",
        "\n"
      ],
      "metadata": {
        "colab": {
          "base_uri": "https://localhost:8080/"
        },
        "id": "mVVdeNXJrBao",
        "outputId": "41c71b06-e040-41d5-fb65-013c300d247d"
      },
      "execution_count": 5,
      "outputs": [
        {
          "output_type": "stream",
          "name": "stdout",
          "text": [
            "<class 'pandas.core.frame.DataFrame'>\n",
            "RangeIndex: 11055 entries, 0 to 11054\n",
            "Data columns (total 32 columns):\n",
            " #   Column                       Non-Null Count  Dtype \n",
            "---  ------                       --------------  ----- \n",
            " 0   index                        11055 non-null  object\n",
            " 1   having_IPhaving_IP_Address   11055 non-null  int64 \n",
            " 2   URLURL_Length                11055 non-null  int64 \n",
            " 3   Shortining_Service           11055 non-null  int64 \n",
            " 4   having_At_Symbol             11055 non-null  int64 \n",
            " 5   double_slash_redirecting     11055 non-null  int64 \n",
            " 6   Prefix_Suffix                11055 non-null  int64 \n",
            " 7   having_Sub_Domain            11055 non-null  int64 \n",
            " 8   SSLfinal_State               11055 non-null  int64 \n",
            " 9   Domain_registeration_length  11055 non-null  int64 \n",
            " 10  Favicon                      11055 non-null  int64 \n",
            " 11  port                         11055 non-null  int64 \n",
            " 12  HTTPS_token                  11055 non-null  int64 \n",
            " 13  Request_URL                  11055 non-null  int64 \n",
            " 14  URL_of_Anchor                11055 non-null  int64 \n",
            " 15  Links_in_tags                11055 non-null  int64 \n",
            " 16  SFH                          11055 non-null  int64 \n",
            " 17  Submitting_to_email          11055 non-null  int64 \n",
            " 18  Abnormal_URL                 11055 non-null  int64 \n",
            " 19  Redirect                     11055 non-null  int64 \n",
            " 20  on_mouseover                 11055 non-null  int64 \n",
            " 21  RightClick                   11055 non-null  int64 \n",
            " 22  popUpWidnow                  11055 non-null  int64 \n",
            " 23  Iframe                       11055 non-null  int64 \n",
            " 24  age_of_domain                11055 non-null  int64 \n",
            " 25  DNSRecord                    11055 non-null  int64 \n",
            " 26  web_traffic                  11055 non-null  int64 \n",
            " 27  Page_Rank                    11055 non-null  int64 \n",
            " 28  Google_Index                 11055 non-null  int64 \n",
            " 29  Links_pointing_to_page       11055 non-null  int64 \n",
            " 30  Statistical_report           11055 non-null  int64 \n",
            " 31  Result                       11055 non-null  int64 \n",
            "dtypes: int64(31), object(1)\n",
            "memory usage: 2.7+ MB\n",
            "None\n"
          ]
        }
      ]
    },
    {
      "cell_type": "code",
      "source": [
        "data = data.drop(['index'], axis=1)\n",
        "print(data.isnull().sum())\n",
        "\n",
        "# Scale numerical columns\n",
        "scaler = StandardScaler()\n",
        "numerical_cols = data.columns[1:-1]\n",
        "data[numerical_cols] = scaler.fit_transform(data[numerical_cols])\n",
        "\n",
        "# Split the data into training and testing sets\n",
        "X_train, X_test, y_train, y_test = train_test_split(data.drop(['Result'], axis=1), data['Result'], random_state=1)\n",
        "X_train.info()\n",
        "\n"
      ],
      "metadata": {
        "colab": {
          "base_uri": "https://localhost:8080/"
        },
        "id": "10xJrPknrCXe",
        "outputId": "1eb4c400-f7ba-408d-bae2-25a919f8ae97"
      },
      "execution_count": 6,
      "outputs": [
        {
          "output_type": "stream",
          "name": "stdout",
          "text": [
            "having_IPhaving_IP_Address     0\n",
            "URLURL_Length                  0\n",
            "Shortining_Service             0\n",
            "having_At_Symbol               0\n",
            "double_slash_redirecting       0\n",
            "Prefix_Suffix                  0\n",
            "having_Sub_Domain              0\n",
            "SSLfinal_State                 0\n",
            "Domain_registeration_length    0\n",
            "Favicon                        0\n",
            "port                           0\n",
            "HTTPS_token                    0\n",
            "Request_URL                    0\n",
            "URL_of_Anchor                  0\n",
            "Links_in_tags                  0\n",
            "SFH                            0\n",
            "Submitting_to_email            0\n",
            "Abnormal_URL                   0\n",
            "Redirect                       0\n",
            "on_mouseover                   0\n",
            "RightClick                     0\n",
            "popUpWidnow                    0\n",
            "Iframe                         0\n",
            "age_of_domain                  0\n",
            "DNSRecord                      0\n",
            "web_traffic                    0\n",
            "Page_Rank                      0\n",
            "Google_Index                   0\n",
            "Links_pointing_to_page         0\n",
            "Statistical_report             0\n",
            "Result                         0\n",
            "dtype: int64\n",
            "<class 'pandas.core.frame.DataFrame'>\n",
            "Int64Index: 8291 entries, 4640 to 235\n",
            "Data columns (total 30 columns):\n",
            " #   Column                       Non-Null Count  Dtype  \n",
            "---  ------                       --------------  -----  \n",
            " 0   having_IPhaving_IP_Address   8291 non-null   int64  \n",
            " 1   URLURL_Length                8291 non-null   float64\n",
            " 2   Shortining_Service           8291 non-null   float64\n",
            " 3   having_At_Symbol             8291 non-null   float64\n",
            " 4   double_slash_redirecting     8291 non-null   float64\n",
            " 5   Prefix_Suffix                8291 non-null   float64\n",
            " 6   having_Sub_Domain            8291 non-null   float64\n",
            " 7   SSLfinal_State               8291 non-null   float64\n",
            " 8   Domain_registeration_length  8291 non-null   float64\n",
            " 9   Favicon                      8291 non-null   float64\n",
            " 10  port                         8291 non-null   float64\n",
            " 11  HTTPS_token                  8291 non-null   float64\n",
            " 12  Request_URL                  8291 non-null   float64\n",
            " 13  URL_of_Anchor                8291 non-null   float64\n",
            " 14  Links_in_tags                8291 non-null   float64\n",
            " 15  SFH                          8291 non-null   float64\n",
            " 16  Submitting_to_email          8291 non-null   float64\n",
            " 17  Abnormal_URL                 8291 non-null   float64\n",
            " 18  Redirect                     8291 non-null   float64\n",
            " 19  on_mouseover                 8291 non-null   float64\n",
            " 20  RightClick                   8291 non-null   float64\n",
            " 21  popUpWidnow                  8291 non-null   float64\n",
            " 22  Iframe                       8291 non-null   float64\n",
            " 23  age_of_domain                8291 non-null   float64\n",
            " 24  DNSRecord                    8291 non-null   float64\n",
            " 25  web_traffic                  8291 non-null   float64\n",
            " 26  Page_Rank                    8291 non-null   float64\n",
            " 27  Google_Index                 8291 non-null   float64\n",
            " 28  Links_pointing_to_page       8291 non-null   float64\n",
            " 29  Statistical_report           8291 non-null   float64\n",
            "dtypes: float64(29), int64(1)\n",
            "memory usage: 2.0 MB\n"
          ]
        }
      ]
    },
    {
      "cell_type": "code",
      "source": [
        "# Decision Tree Classifier\n",
        "dtc = DecisionTreeClassifier()\n",
        "param_grid = {'max_features': ['sqrt', 'log2', None], 'criterion': ['gini', 'entropy', 'log_loss']}\n",
        "search = GridSearchCV(dtc, param_grid, cv=3)\n",
        "search.fit(X_train, y_train)\n",
        "\n",
        "best_params = search.best_params_\n",
        "best_model = DecisionTreeClassifier(max_features=best_params['max_features'], criterion=best_params['criterion'])\n",
        "best_model.fit(X_train, y_train)\n",
        "\n",
        "y_pred = best_model.predict(X_test)\n",
        "\n",
        "accuracy = accuracy_score(y_test, y_pred)\n",
        "\n",
        "print(\"Best Hyperparameters:\", best_params)\n",
        "print(\"Accuracy:\", accuracy)\n",
        "\n",
        "# RandomForestClassifier\n",
        "rfc = RandomForestClassifier()\n",
        "param_grid = {'n_estimators': [10, 50, 100, 500]}\n",
        "search = GridSearchCV(rfc, param_grid, cv=3)\n",
        "search.fit(X_train, y_train)\n",
        "\n",
        "best_params = search.best_params_\n",
        "best_model = RandomForestClassifier(n_estimators=best_params['n_estimators'])\n",
        "best_model.fit(X_train, y_train)\n",
        "\n",
        "y_pred = best_model.predict(X_test)\n",
        "\n",
        "accuracy = accuracy_score(y_test, y_pred)\n",
        "\n",
        "print(\"Best Hyperparameters:\", best_params)\n",
        "print(\"Accuracy:\", accuracy)\n",
        "\n",
        "# AdaBoostClassifier\n",
        "abc = AdaBoostClassifier()\n",
        "param_grid = {'n_estimators': [10, 50, 100, 500]}\n",
        "search = GridSearchCV(abc, param_grid, cv=3)\n",
        "search.fit(X_train, y_train)\n",
        "\n",
        "best_params = search.best_params_\n",
        "best_model = AdaBoostClassifier(n_estimators=best_params['n_estimators'])\n",
        "best_model.fit(X_train, y_train)\n",
        "\n",
        "y_pred = best_model.predict(X_test)\n",
        "\n",
        "accuracy = accuracy_score(y_test, y_pred)\n",
        "\n",
        "print(\"Best Hyperparameters:\", best_params)\n",
        "print(\"Accuracy:\", accuracy)\n",
        "\n",
        "# GradientBoostingClassifier\n",
        "gbc = GradientBoostingClassifier()\n",
        "param_grid = {'n_estimators': [10, 50, 100, 500], 'learning_rate': [0.1, 0.01, 0.001]}\n",
        "search = GridSearchCV(gbc, param_grid, cv=3)\n",
        "search.fit(X_train, y_train)\n",
        "\n",
        "best_params = search.best_params_\n",
        "best_model = GradientBoostingClassifier(n_estimators=best_params['n_estimators'], learning_rate=best_params['learning_rate'])\n",
        "best_model.fit(X_train, y_train)\n",
        "\n",
        "y_pred = best_model.predict(X_test)\n",
        "\n",
        "accuracy = accuracy_score(y_test, y_pred)\n",
        "\n",
        "print(\"Best Hyperparameters:\", best_params)\n",
        "print(\"Accuracy:\", accuracy)\n"
      ],
      "metadata": {
        "colab": {
          "base_uri": "https://localhost:8080/"
        },
        "id": "YgyNv33PrSnc",
        "outputId": "15382a14-4bb6-464a-fde7-f66636b311ee"
      },
      "execution_count": null,
      "outputs": [
        {
          "output_type": "stream",
          "name": "stdout",
          "text": [
            "Best Hyperparameters: {'criterion': 'entropy', 'max_features': None}\n",
            "Accuracy: 0.9659913169319826\n",
            "Best Hyperparameters: {'n_estimators': 100}\n",
            "Accuracy: 0.9710564399421129\n",
            "Best Hyperparameters: {'n_estimators': 50}\n",
            "Accuracy: 0.9345151953690304\n"
          ]
        }
      ]
    }
  ]
}