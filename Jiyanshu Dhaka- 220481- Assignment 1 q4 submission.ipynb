{
 "cells": [
  {
   "cell_type": "code",
   "execution_count": 7,
   "id": "4b3bf6be",
   "metadata": {},
   "outputs": [
    {
     "name": "stdout",
     "output_type": "stream",
     "text": [
      "     index   Country,Other          Continent  Population  TotalCases  \\\n",
      "0        8             USA      North America         NaN         NaN   \n",
      "1        9           India               Asia         NaN         NaN   \n",
      "2       10          France             Europe         NaN         NaN   \n",
      "3       11         Germany             Europe         NaN         NaN   \n",
      "4       12          Brazil      South America         NaN         NaN   \n",
      "..     ...             ...                ...         ...         ...   \n",
      "226    234    Vatican City             Europe       799.0        29.0   \n",
      "227    235  Western Sahara             Africa         NaN        10.0   \n",
      "228    236      MS Zaandam                  0         NaN         9.0   \n",
      "229    237         Tokelau  Australia/Oceania         NaN         5.0   \n",
      "230    238           China               Asia         NaN         NaN   \n",
      "\n",
      "     NewCases  TotalDeaths  NewDeaths  TotalRecovered  NewRecovered  \\\n",
      "0         0.0          NaN          0             NaN           0.0   \n",
      "1         0.0          NaN          0             NaN           0.0   \n",
      "2         0.0          NaN          0             NaN           0.0   \n",
      "3         0.0          NaN          0             NaN           NaN   \n",
      "4         0.0          NaN          0             NaN           0.0   \n",
      "..        ...          ...        ...             ...           ...   \n",
      "226       0.0          NaN          0            29.0           0.0   \n",
      "227       0.0          1.0          0             9.0           0.0   \n",
      "228       0.0          2.0          0             7.0           0.0   \n",
      "229       0.0          NaN          0             0.0           0.0   \n",
      "230       0.0          NaN          0             NaN           0.0   \n",
      "\n",
      "     ActiveCases  \n",
      "0            NaN  \n",
      "1            NaN  \n",
      "2            NaN  \n",
      "3            NaN  \n",
      "4            NaN  \n",
      "..           ...  \n",
      "226          0.0  \n",
      "227          0.0  \n",
      "228          0.0  \n",
      "229          5.0  \n",
      "230          NaN  \n",
      "\n",
      "[231 rows x 11 columns]\n"
     ]
    }
   ],
   "source": [
    "import requests as req\n",
    "import pandas as pd\n",
    "import numpy as nm\n",
    "from bs4 import BeautifulSoup\n",
    "from lxml import etree\n",
    "\n",
    "url = 'https://www.worldometers.info/coronavirus/'\n",
    "page = req.get(url)\n",
    "htmlcontent = page.content\n",
    "soup = BeautifulSoup(page.text, 'lxml')\n",
    "table = soup.find('table', id=\"main_table_countries_today\")\n",
    "\n",
    "headers = []\n",
    "first_row = table.find('tr')\n",
    "\n",
    "for i in (first_row.find_all('th')[1:2] + first_row.find_all('th')[15:13:-1] + first_row.find_all('th')[2:9]):\n",
    "    title = i.text\n",
    "    headers.append(title)\n",
    "\n",
    "mydata = pd.DataFrame(columns=headers)\n",
    "for j in table.find_all('tr')[1:]:\n",
    "    row_data = j.find_all('td')\n",
    "    row = [i.text for i in (row_data[1:2] + row_data[15:13:-1] + row_data[2:9])]\n",
    "    length = len(mydata)\n",
    "    mydata.loc[length] = row\n",
    "\n",
    "mydata.drop(mydata.index[:8], inplace=True)\n",
    "mydata.reset_index(inplace=True)\n",
    "mydata.drop(mydata.index[231:239], inplace=True)\n",
    "mydata.replace('', nm.nan, inplace=True)\n",
    "mydata.fillna(0, inplace=True)\n",
    "\n",
    "numeric_columns = ['Population', 'TotalCases', 'NewCases', 'TotalDeaths',\n",
    "                   'NewDeaths', 'TotalRecovered', 'NewRecovered', 'ActiveCases']\n",
    "mydata[numeric_columns] = mydata[numeric_columns].apply(pd.to_numeric, errors='coerce')\n",
    "\n",
    "print(mydata)\n"
   ]
  },
  {
   "cell_type": "code",
   "execution_count": null,
   "id": "f2e3e4fa",
   "metadata": {},
   "outputs": [],
   "source": []
  }
 ],
 "metadata": {
  "kernelspec": {
   "display_name": "Python 3 (ipykernel)",
   "language": "python",
   "name": "python3"
  },
  "language_info": {
   "codemirror_mode": {
    "name": "ipython",
    "version": 3
   },
   "file_extension": ".py",
   "mimetype": "text/x-python",
   "name": "python",
   "nbconvert_exporter": "python",
   "pygments_lexer": "ipython3",
   "version": "3.10.9"
  }
 },
 "nbformat": 4,
 "nbformat_minor": 5
}
