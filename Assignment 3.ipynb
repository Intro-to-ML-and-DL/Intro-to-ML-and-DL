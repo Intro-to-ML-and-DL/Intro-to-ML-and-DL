{
  "nbformat": 4,
  "nbformat_minor": 0,
  "metadata": {
    "colab": {
      "provenance": []
    },
    "kernelspec": {
      "name": "python3",
      "display_name": "Python 3"
    },
    "language_info": {
      "name": "python"
    }
  },
  "cells": [
    {
      "cell_type": "code",
      "execution_count": 1,
      "metadata": {
        "id": "aywiSggsNVBO"
      },
      "outputs": [],
      "source": [
        "#Question 1\n",
        "\n",
        "import pandas as pd\n",
        "import matplotlib.pyplot as plt\n",
        "from sklearn.model_selection import train_test_split\n",
        "from sklearn.naive_bayes import GaussianNB\n",
        "from sklearn.metrics import accuracy_score"
      ]
    },
    {
      "cell_type": "code",
      "source": [
        "data = pd.read_csv('diabetes.csv')"
      ],
      "metadata": {
        "id": "lgzm126hNtut"
      },
      "execution_count": 2,
      "outputs": []
    },
    {
      "cell_type": "code",
      "source": [
        "plt.hist(data['glucose'], bins=20)\n",
        "plt.xlabel('Glucose')\n",
        "plt.ylabel('Count')\n",
        "plt.show()"
      ],
      "metadata": {
        "colab": {
          "base_uri": "https://localhost:8080/",
          "height": 449
        },
        "id": "qxYj7g0DNyN1",
        "outputId": "7522eff1-7644-465f-942f-1e4c801e95fb"
      },
      "execution_count": 3,
      "outputs": [
        {
          "output_type": "display_data",
          "data": {
            "text/plain": [
              "<Figure size 640x480 with 1 Axes>"
            ],
            "image/png": "[encoded data removed]"
          },
          "metadata": {}
        }
      ]
    },
    {
      "cell_type": "code",
      "source": [
        "plt.hist(data['bloodpressure'], bins=20)\n",
        "plt.xlabel('Blood Pressure')\n",
        "plt.ylabel('Count')\n",
        "plt.tight_layout()\n",
        "plt.show()"
      ],
      "metadata": {
        "colab": {
          "base_uri": "https://localhost:8080/",
          "height": 487
        },
        "id": "xdG62fc0Siu4",
        "outputId": "3863d2d2-6924-4d17-d972-60ad15ad5e3f"
      },
      "execution_count": 4,
      "outputs": [
        {
          "output_type": "display_data",
          "data": {
            "text/plain": [
              "<Figure size 640x480 with 1 Axes>"
            ],
            "image/png": "[encoded data removed]"
          },
          "metadata": {}
        }
      ]
    },
    {
      "cell_type": "code",
      "source": [
        "X = data[['glucose', 'bloodpressure']]\n",
        "y = data['diabetes']\n",
        "X_train, X_test, y_train, y_test = train_test_split(X, y, test_size=0.2)\n",
        "gnb = GaussianNB()\n",
        "gnb.fit(X_train, y_train)\n",
        "y_pred = gnb.predict(X_test)\n",
        "accuracy = accuracy_score(y_test, y_pred)\n",
        "print(accuracy)"
      ],
      "metadata": {
        "colab": {
          "base_uri": "https://localhost:8080/"
        },
        "id": "VG8FBSv1TGpR",
        "outputId": "391c0421-381e-41ef-94aa-4c5c35360ec5"
      },
      "execution_count": 5,
      "outputs": [
        {
          "output_type": "stream",
          "name": "stdout",
          "text": [
            "0.9597989949748744\n"
          ]
        }
      ]
    },
    {
      "cell_type": "code",
      "source": [
        "# Question 2\n",
        "\n",
        "!pip install xgboost\n",
        "import pandas as pd\n",
        "from sklearn.preprocessing import LabelEncoder\n",
        "from sklearn.preprocessing import StandardScaler\n",
        "from sklearn.model_selection import train_test_split\n",
        "from sklearn.svm import SVR\n",
        "from sklearn.model_selection import RandomizedSearchCV\n",
        "from sklearn.metrics import mean_absolute_error, mean_squared_error\n",
        "from sklearn.ensemble import AdaBoostRegressor\n",
        "from sklearn.model_selection import GridSearchCV\n",
        "from sklearn.ensemble import RandomForestRegressor, GradientBoostingRegressor\n",
        "from xgboost import XGBRegressor"
      ],
      "metadata": {
        "id": "hLxOCJlYTqeF",
        "colab": {
          "base_uri": "https://localhost:8080/"
        },
        "outputId": "f7fb5e72-283d-4e21-efc3-c2a565e4d37b"
      },
      "execution_count": 1,
      "outputs": [
        {
          "output_type": "stream",
          "name": "stdout",
          "text": [
            "Looking in indexes: https://pypi.org/simple, https://us-python.pkg.dev/colab-wheels/public/simple/\n",
            "Requirement already satisfied: xgboost in /usr/local/lib/python3.10/dist-packages (1.7.5)\n",
            "Requirement already satisfied: numpy in /usr/local/lib/python3.10/dist-packages (from xgboost) (1.22.4)\n",
            "Requirement already satisfied: scipy in /usr/local/lib/python3.10/dist-packages (from xgboost) (1.10.1)\n"
          ]
        }
      ]
    },
    {
      "cell_type": "code",
      "source": [
        "data = pd.read_csv('insurance.csv')"
      ],
      "metadata": {
        "id": "Kt2NjRnDVLEN"
      },
      "execution_count": 2,
      "outputs": []
    },
    {
      "cell_type": "code",
      "source": [
        "num_cols = ['age', 'bmi', 'children']\n",
        "cat_cols = ['sex', 'region', 'smoker']\n",
        "target_col = 'charges'"
      ],
      "metadata": {
        "id": "hO-JVCBSVWT1"
      },
      "execution_count": 3,
      "outputs": []
    },
    {
      "cell_type": "code",
      "source": [
        "label_encoder = LabelEncoder()\n",
        "for col in cat_cols:\n",
        "    data[col] = label_encoder.fit_transform(data[col])"
      ],
      "metadata": {
        "id": "fBxL47_-Vch8"
      },
      "execution_count": 4,
      "outputs": []
    },
    {
      "cell_type": "code",
      "source": [
        "scaler = StandardScaler()\n",
        "data[num_cols] = scaler.fit_transform(data[num_cols].values)\n",
        "scaler_charges = StandardScaler()\n",
        "data[target_col] = scaler_charges.fit_transform(data[target_col].values.reshape(-1, 1))"
      ],
      "metadata": {
        "id": "H0Wne6HBVwOo"
      },
      "execution_count": 5,
      "outputs": []
    },
    {
      "cell_type": "code",
      "source": [
        "X = data.drop(target_col, axis=1)\n",
        "y = data[target_col]\n",
        "X_train, X_test, y_train, y_test = train_test_split(X, y, test_size=0.2)"
      ],
      "metadata": {
        "id": "EH0LKjaNZgVK"
      },
      "execution_count": 6,
      "outputs": []
    },
    {
      "cell_type": "code",
      "source": [
        "svr_grid = {\n",
        "    'kernel': ['linear', 'rbf', 'sigmoid'],\n",
        "    'gamma': [0.1, 1.0, 10.0]\n",
        "}\n",
        "svr = SVR()\n",
        "rs_svr = RandomizedSearchCV(svr, svr_grid, cv=3)\n",
        "rs_svr.fit(X_train, y_train)\n",
        "best_svr = rs_svr.best_estimator_\n",
        "y_pred_svr = best_svr.predict(X_test)\n",
        "mae_svr = mean_absolute_error(y_test, y_pred_svr)\n",
        "mse_svr = mean_squared_error(y_test, y_pred_svr)"
      ],
      "metadata": {
        "id": "zKPINaIyZ_xl",
        "colab": {
          "base_uri": "https://localhost:8080/"
        },
        "outputId": "082673ab-5931-4a27-eef0-8fad7495554e"
      },
      "execution_count": 9,
      "outputs": [
        {
          "output_type": "stream",
          "name": "stderr",
          "text": [
            "/usr/local/lib/python3.10/dist-packages/sklearn/model_selection/_search.py:305: UserWarning: The total space of parameters 9 is smaller than n_iter=10. Running 9 iterations. For exhaustive searches, use GridSearchCV.\n",
            "  warnings.warn(\n"
          ]
        }
      ]
    },
    {
      "cell_type": "code",
      "source": [
        "adaboost_grid = {\n",
        "    'n_estimators': [50, 100, 200],\n",
        "    'loss': ['linear', 'square', 'exponential']\n",
        "}\n",
        "adaboost = AdaBoostRegressor()\n",
        "adaboost_gs = GridSearchCV(adaboost, adaboost_grid, cv=3)\n",
        "adaboost_gs.fit(X_train, y_train)\n",
        "best_adaboost = adaboost_gs.best_estimator_\n",
        "y_pred_adaboost = best_adaboost.predict(X_test)\n",
        "mae_adaboost = mean_absolute_error(y_test, y_pred_adaboost)\n",
        "mse_adaboost = mean_squared_error(y_test, y_pred_adaboost)"
      ],
      "metadata": {
        "id": "S-7Fc7wTbgmn"
      },
      "execution_count": 10,
      "outputs": []
    },
    {
      "cell_type": "code",
      "source": [
        "# Random Forest Regressor\n",
        "random_forest = RandomForestRegressor()\n",
        "random_forest.fit(X_train, y_train)\n",
        "y_pred_random_forest = random_forest.predict(X_test)\n",
        "mae_random_forest = mean_absolute_error(y_test, y_pred_random_forest)\n",
        "mse_random_forest = mean_squared_error(y_test, y_pred_random_forest)\n",
        "\n",
        "# Gradient Boosting Regression\n",
        "gradient_boosting = GradientBoostingRegressor()\n",
        "gradient_boosting.fit(X_train, y_train)\n",
        "y_pred_gradient_boosting = gradient_boosting.predict(X_test)\n",
        "mae_gradient_boosting = mean_absolute_error(y_test, y_pred_gradient_boosting)\n",
        "mse_gradient_boosting = mean_squared_error(y_test, y_pred_gradient_boosting)\n",
        "\n",
        "# XGBoost Regressor\n",
        "xgb_regressor = XGBRegressor()\n",
        "xgb_regressor.fit(X_train, y_train)\n",
        "y_pred_xgb = xgb_regressor.predict(X_test)\n",
        "mae_xgb = mean_absolute_error(y_test, y_pred_xgb)\n",
        "mse_xgb = mean_squared_error(y_test, y_pred_xgb)"
      ],
      "metadata": {
        "id": "sGhOk36ccgy8"
      },
      "execution_count": 11,
      "outputs": []
    },
    {
      "cell_type": "code",
      "source": [
        "models = ['SVR', 'AdaBoost', 'Random Forest', 'Gradient Boosting', 'XGBoost']\n",
        "mae_scores = [mae_svr, mae_adaboost, mae_random_forest, mae_gradient_boosting, mae_xgb]\n",
        "mse_scores = [mse_svr, mse_adaboost, mse_random_forest, mse_gradient_boosting, mse_xgb]\n",
        "\n",
        "# Print MAE scores\n",
        "print(\"MAE Scores:\")\n",
        "for model, score in zip(models, mae_scores):\n",
        "    print(f\"{model}: {score}\")\n",
        "\n",
        "# Print MSE scores\n",
        "print(\"\\nMSE Scores:\")\n",
        "for model, score in zip(models, mse_scores):\n",
        "    print(f\"{model}: {score}\")"
      ],
      "metadata": {
        "colab": {
          "base_uri": "https://localhost:8080/"
        },
        "id": "2t74AbR2gtH4",
        "outputId": "21351447-2a8f-4ea5-f48e-7febdcf0b3a0"
      },
      "execution_count": 12,
      "outputs": [
        {
          "output_type": "stream",
          "name": "stdout",
          "text": [
            "MAE Scores:\n",
            "SVR: 0.21030902111052796\n",
            "AdaBoost: 0.3470096916036045\n",
            "Random Forest: 0.2166471113359101\n",
            "Gradient Boosting: 0.19721700363447356\n",
            "XGBoost: 0.24074102782382037\n",
            "\n",
            "MSE Scores:\n",
            "SVR: 0.14620024386017894\n",
            "AdaBoost: 0.1876147549070931\n",
            "Random Forest: 0.14470096529025375\n",
            "Gradient Boosting: 0.12978475274479548\n",
            "XGBoost: 0.17186544103223161\n"
          ]
        }
      ]
    },
    {
      "cell_type": "code",
      "source": [
        "# Question 3\n",
        "\n",
        "\n",
        "import pandas as pd\n",
        "from sklearn.model_selection import train_test_split\n",
        "from sklearn.tree import DecisionTreeClassifier\n",
        "from sklearn.ensemble import RandomForestClassifier, AdaBoostClassifier, GradientBoostingClassifier\n",
        "from xgboost import XGBClassifier\n",
        "from sklearn.model_selection import GridSearchCV, RandomizedSearchCV\n",
        "from sklearn.metrics import accuracy_score"
      ],
      "metadata": {
        "id": "b4YcVtXu1XPf"
      },
      "execution_count": 13,
      "outputs": []
    },
    {
      "cell_type": "code",
      "source": [
        "data = pd.read_csv('bookmyshow_ads.csv')"
      ],
      "metadata": {
        "id": "cHuzvrFW1hTz"
      },
      "execution_count": 14,
      "outputs": []
    },
    {
      "cell_type": "code",
      "source": [
        "X = data.drop(['index', 'Result'], axis=1)\n",
        "y = data['Result']\n",
        "X_train, X_test, y_train, y_test = train_test_split(X, y, test_size=0.2)"
      ],
      "metadata": {
        "id": "klu9sqvN1pMl"
      },
      "execution_count": 24,
      "outputs": []
    },
    {
      "cell_type": "code",
      "source": [
        "X_train"
      ],
      "metadata": {
        "colab": {
          "base_uri": "https://localhost:8080/",
          "height": 487
        },
        "id": "mW4iiB8PwE-P",
        "outputId": "a6c9e61f-6762-44c0-baea-0492464b47e6"
      },
      "execution_count": 26,
      "outputs": [
        {
          "output_type": "execute_result",
          "data": {
            "text/plain": [
              "       having_IPhaving_IP_Address  URLURL_Length  Shortining_Service  \\\n",
              "799                             1              0                   1   \n",
              "9726                            0              0                   0   \n",
              "5989                            0              0                   1   \n",
              "2205                            1              0                   1   \n",
              "5698                            0              0                   1   \n",
              "...                           ...            ...                 ...   \n",
              "1635                            1              0                   1   \n",
              "3339                            1              1                   1   \n",
              "10262                           0              0                   1   \n",
              "4800                            1              0                   1   \n",
              "10622                           0              0                   1   \n",
              "\n",
              "       having_At_Symbol  double_slash_redirecting  Prefix_Suffix  \\\n",
              "799                   1                         1              1   \n",
              "9726                  0                         0              0   \n",
              "5989                  1                         1              0   \n",
              "2205                  1                         1              0   \n",
              "5698                  1                         1              0   \n",
              "...                 ...                       ...            ...   \n",
              "1635                  1                         1              0   \n",
              "3339                  1                         1              0   \n",
              "10262                 1                         1              0   \n",
              "4800                  1                         1              0   \n",
              "10622                 1                         1              0   \n",
              "\n",
              "       having_Sub_Domain  SSLfinal_State  Domain_registeration_length  \\\n",
              "799                    0               1                            1   \n",
              "9726                  -1               1                            1   \n",
              "5989                  -1               0                            0   \n",
              "2205                   0               0                            0   \n",
              "5698                  -1               0                            1   \n",
              "...                  ...             ...                          ...   \n",
              "1635                   0               1                            0   \n",
              "3339                   0               1                            0   \n",
              "10262                 -1               0                            0   \n",
              "4800                   0               1                            0   \n",
              "10622                 -1               0                            1   \n",
              "\n",
              "       Favicon  ...  RightClick  popUpWidnow  Iframe  age_of_domain  \\\n",
              "799          0  ...           1            0       0              1   \n",
              "9726         0  ...           1            0       1              1   \n",
              "5989         1  ...           1            1       1              0   \n",
              "2205         0  ...           0            0       0              0   \n",
              "5698         1  ...           1            1       1              0   \n",
              "...        ...  ...         ...          ...     ...            ...   \n",
              "1635         0  ...           1            0       1              1   \n",
              "3339         0  ...           1            1       1              0   \n",
              "10262        1  ...           1            0       1              1   \n",
              "4800         1  ...           1            1       1              1   \n",
              "10622        1  ...           1            1       1              1   \n",
              "\n",
              "       DNSRecord  web_traffic  Page_Rank  Google_Index  \\\n",
              "799            1            1          0             1   \n",
              "9726           0            1          0             1   \n",
              "5989           1            1          1             1   \n",
              "2205           1            0          0             1   \n",
              "5698           1            0          1             1   \n",
              "...          ...          ...        ...           ...   \n",
              "1635           0            1          1             1   \n",
              "3339           1            1          1             1   \n",
              "10262          1           -1          0             1   \n",
              "4800           1            1          0             1   \n",
              "10622          1           -1          0             1   \n",
              "\n",
              "       Links_pointing_to_page  Statistical_report  \n",
              "799                         1                   0  \n",
              "9726                        1                   1  \n",
              "5989                       -1                   1  \n",
              "2205                       -1                   0  \n",
              "5698                       -1                   1  \n",
              "...                       ...                 ...  \n",
              "1635                        1                   1  \n",
              "3339                       -1                   0  \n",
              "10262                       1                   1  \n",
              "4800                       -1                   1  \n",
              "10622                      -1                   0  \n",
              "\n",
              "[8844 rows x 30 columns]"
            ],
            "text/html": [
              "\n",
              "  <div id=\"df-50632357-1cf9-462f-bfbc-59a93dc0b952\">\n",
              "    <div class=\"colab-df-container\">\n",
              "      <div>\n",
              "<style scoped>\n",
              "    .dataframe tbody tr th:only-of-type {\n",
              "        vertical-align: middle;\n",
              "    }\n",
              "\n",
              "    .dataframe tbody tr th {\n",
              "        vertical-align: top;\n",
              "    }\n",
              "\n",
              "    .dataframe thead th {\n",
              "        text-align: right;\n",
              "    }\n",
              "</style>\n",
              "<table border=\"1\" class=\"dataframe\">\n",
              "  <thead>\n",
              "    <tr style=\"text-align: right;\">\n",
              "      <th></th>\n",
              "      <th>having_IPhaving_IP_Address</th>\n",
              "      <th>URLURL_Length</th>\n",
              "      <th>Shortining_Service</th>\n",
              "      <th>having_At_Symbol</th>\n",
              "      <th>double_slash_redirecting</th>\n",
              "      <th>Prefix_Suffix</th>\n",
              "      <th>having_Sub_Domain</th>\n",
              "      <th>SSLfinal_State</th>\n",
              "      <th>Domain_registeration_length</th>\n",
              "      <th>Favicon</th>\n",
              "      <th>...</th>\n",
              "      <th>RightClick</th>\n",
              "      <th>popUpWidnow</th>\n",
              "      <th>Iframe</th>\n",
              "      <th>age_of_domain</th>\n",
              "      <th>DNSRecord</th>\n",
              "      <th>web_traffic</th>\n",
              "      <th>Page_Rank</th>\n",
              "      <th>Google_Index</th>\n",
              "      <th>Links_pointing_to_page</th>\n",
              "      <th>Statistical_report</th>\n",
              "    </tr>\n",
              "  </thead>\n",
              "  <tbody>\n",
              "    <tr>\n",
              "      <th>799</th>\n",
              "      <td>1</td>\n",
              "      <td>0</td>\n",
              "      <td>1</td>\n",
              "      <td>1</td>\n",
              "      <td>1</td>\n",
              "      <td>1</td>\n",
              "      <td>0</td>\n",
              "      <td>1</td>\n",
              "      <td>1</td>\n",
              "      <td>0</td>\n",
              "      <td>...</td>\n",
              "      <td>1</td>\n",
              "      <td>0</td>\n",
              "      <td>0</td>\n",
              "      <td>1</td>\n",
              "      <td>1</td>\n",
              "      <td>1</td>\n",
              "      <td>0</td>\n",
              "      <td>1</td>\n",
              "      <td>1</td>\n",
              "      <td>0</td>\n",
              "    </tr>\n",
              "    <tr>\n",
              "      <th>9726</th>\n",
              "      <td>0</td>\n",
              "      <td>0</td>\n",
              "      <td>0</td>\n",
              "      <td>0</td>\n",
              "      <td>0</td>\n",
              "      <td>0</td>\n",
              "      <td>-1</td>\n",
              "      <td>1</td>\n",
              "      <td>1</td>\n",
              "      <td>0</td>\n",
              "      <td>...</td>\n",
              "      <td>1</td>\n",
              "      <td>0</td>\n",
              "      <td>1</td>\n",
              "      <td>1</td>\n",
              "      <td>0</td>\n",
              "      <td>1</td>\n",
              "      <td>0</td>\n",
              "      <td>1</td>\n",
              "      <td>1</td>\n",
              "      <td>1</td>\n",
              "    </tr>\n",
              "    <tr>\n",
              "      <th>5989</th>\n",
              "      <td>0</td>\n",
              "      <td>0</td>\n",
              "      <td>1</td>\n",
              "      <td>1</td>\n",
              "      <td>1</td>\n",
              "      <td>0</td>\n",
              "      <td>-1</td>\n",
              "      <td>0</td>\n",
              "      <td>0</td>\n",
              "      <td>1</td>\n",
              "      <td>...</td>\n",
              "      <td>1</td>\n",
              "      <td>1</td>\n",
              "      <td>1</td>\n",
              "      <td>0</td>\n",
              "      <td>1</td>\n",
              "      <td>1</td>\n",
              "      <td>1</td>\n",
              "      <td>1</td>\n",
              "      <td>-1</td>\n",
              "      <td>1</td>\n",
              "    </tr>\n",
              "    <tr>\n",
              "      <th>2205</th>\n",
              "      <td>1</td>\n",
              "      <td>0</td>\n",
              "      <td>1</td>\n",
              "      <td>1</td>\n",
              "      <td>1</td>\n",
              "      <td>0</td>\n",
              "      <td>0</td>\n",
              "      <td>0</td>\n",
              "      <td>0</td>\n",
              "      <td>0</td>\n",
              "      <td>...</td>\n",
              "      <td>0</td>\n",
              "      <td>0</td>\n",
              "      <td>0</td>\n",
              "      <td>0</td>\n",
              "      <td>1</td>\n",
              "      <td>0</td>\n",
              "      <td>0</td>\n",
              "      <td>1</td>\n",
              "      <td>-1</td>\n",
              "      <td>0</td>\n",
              "    </tr>\n",
              "    <tr>\n",
              "      <th>5698</th>\n",
              "      <td>0</td>\n",
              "      <td>0</td>\n",
              "      <td>1</td>\n",
              "      <td>1</td>\n",
              "      <td>1</td>\n",
              "      <td>0</td>\n",
              "      <td>-1</td>\n",
              "      <td>0</td>\n",
              "      <td>1</td>\n",
              "      <td>1</td>\n",
              "      <td>...</td>\n",
              "      <td>1</td>\n",
              "      <td>1</td>\n",
              "      <td>1</td>\n",
              "      <td>0</td>\n",
              "      <td>1</td>\n",
              "      <td>0</td>\n",
              "      <td>1</td>\n",
              "      <td>1</td>\n",
              "      <td>-1</td>\n",
              "      <td>1</td>\n",
              "    </tr>\n",
              "    <tr>\n",
              "      <th>...</th>\n",
              "      <td>...</td>\n",
              "      <td>...</td>\n",
              "      <td>...</td>\n",
              "      <td>...</td>\n",
              "      <td>...</td>\n",
              "      <td>...</td>\n",
              "      <td>...</td>\n",
              "      <td>...</td>\n",
              "      <td>...</td>\n",
              "      <td>...</td>\n",
              "      <td>...</td>\n",
              "      <td>...</td>\n",
              "      <td>...</td>\n",
              "      <td>...</td>\n",
              "      <td>...</td>\n",
              "      <td>...</td>\n",
              "      <td>...</td>\n",
              "      <td>...</td>\n",
              "      <td>...</td>\n",
              "      <td>...</td>\n",
              "      <td>...</td>\n",
              "    </tr>\n",
              "    <tr>\n",
              "      <th>1635</th>\n",
              "      <td>1</td>\n",
              "      <td>0</td>\n",
              "      <td>1</td>\n",
              "      <td>1</td>\n",
              "      <td>1</td>\n",
              "      <td>0</td>\n",
              "      <td>0</td>\n",
              "      <td>1</td>\n",
              "      <td>0</td>\n",
              "      <td>0</td>\n",
              "      <td>...</td>\n",
              "      <td>1</td>\n",
              "      <td>0</td>\n",
              "      <td>1</td>\n",
              "      <td>1</td>\n",
              "      <td>0</td>\n",
              "      <td>1</td>\n",
              "      <td>1</td>\n",
              "      <td>1</td>\n",
              "      <td>1</td>\n",
              "      <td>1</td>\n",
              "    </tr>\n",
              "    <tr>\n",
              "      <th>3339</th>\n",
              "      <td>1</td>\n",
              "      <td>1</td>\n",
              "      <td>1</td>\n",
              "      <td>1</td>\n",
              "      <td>1</td>\n",
              "      <td>0</td>\n",
              "      <td>0</td>\n",
              "      <td>1</td>\n",
              "      <td>0</td>\n",
              "      <td>0</td>\n",
              "      <td>...</td>\n",
              "      <td>1</td>\n",
              "      <td>1</td>\n",
              "      <td>1</td>\n",
              "      <td>0</td>\n",
              "      <td>1</td>\n",
              "      <td>1</td>\n",
              "      <td>1</td>\n",
              "      <td>1</td>\n",
              "      <td>-1</td>\n",
              "      <td>0</td>\n",
              "    </tr>\n",
              "    <tr>\n",
              "      <th>10262</th>\n",
              "      <td>0</td>\n",
              "      <td>0</td>\n",
              "      <td>1</td>\n",
              "      <td>1</td>\n",
              "      <td>1</td>\n",
              "      <td>0</td>\n",
              "      <td>-1</td>\n",
              "      <td>0</td>\n",
              "      <td>0</td>\n",
              "      <td>1</td>\n",
              "      <td>...</td>\n",
              "      <td>1</td>\n",
              "      <td>0</td>\n",
              "      <td>1</td>\n",
              "      <td>1</td>\n",
              "      <td>1</td>\n",
              "      <td>-1</td>\n",
              "      <td>0</td>\n",
              "      <td>1</td>\n",
              "      <td>1</td>\n",
              "      <td>1</td>\n",
              "    </tr>\n",
              "    <tr>\n",
              "      <th>4800</th>\n",
              "      <td>1</td>\n",
              "      <td>0</td>\n",
              "      <td>1</td>\n",
              "      <td>1</td>\n",
              "      <td>1</td>\n",
              "      <td>0</td>\n",
              "      <td>0</td>\n",
              "      <td>1</td>\n",
              "      <td>0</td>\n",
              "      <td>1</td>\n",
              "      <td>...</td>\n",
              "      <td>1</td>\n",
              "      <td>1</td>\n",
              "      <td>1</td>\n",
              "      <td>1</td>\n",
              "      <td>1</td>\n",
              "      <td>1</td>\n",
              "      <td>0</td>\n",
              "      <td>1</td>\n",
              "      <td>-1</td>\n",
              "      <td>1</td>\n",
              "    </tr>\n",
              "    <tr>\n",
              "      <th>10622</th>\n",
              "      <td>0</td>\n",
              "      <td>0</td>\n",
              "      <td>1</td>\n",
              "      <td>1</td>\n",
              "      <td>1</td>\n",
              "      <td>0</td>\n",
              "      <td>-1</td>\n",
              "      <td>0</td>\n",
              "      <td>1</td>\n",
              "      <td>1</td>\n",
              "      <td>...</td>\n",
              "      <td>1</td>\n",
              "      <td>1</td>\n",
              "      <td>1</td>\n",
              "      <td>1</td>\n",
              "      <td>1</td>\n",
              "      <td>-1</td>\n",
              "      <td>0</td>\n",
              "      <td>1</td>\n",
              "      <td>-1</td>\n",
              "      <td>0</td>\n",
              "    </tr>\n",
              "  </tbody>\n",
              "</table>\n",
              "<p>8844 rows × 30 columns</p>\n",
              "</div>\n",
              "      <button class=\"colab-df-convert\" onclick=\"convertToInteractive('df-50632357-1cf9-462f-bfbc-59a93dc0b952')\"\n",
              "              title=\"Convert this dataframe to an interactive table.\"\n",
              "              style=\"display:none;\">\n",
              "        \n",
              "  <svg xmlns=\"http://www.w3.org/2000/svg\" height=\"24px\"viewBox=\"0 0 24 24\"\n",
              "       width=\"24px\">\n",
              "    <path d=\"M0 0h24v24H0V0z\" fill=\"none\"/>\n",
              "    <path d=\"M18.56 5.44l.94 2.06.94-2.06 2.06-.94-2.06-.94-.94-2.06-.94 2.06-2.06.94zm-11 1L8.5 8.5l.94-2.06 2.06-.94-2.06-.94L8.5 2.5l-.94 2.06-2.06.94zm10 10l.94 2.06.94-2.06 2.06-.94-2.06-.94-.94-2.06-.94 2.06-2.06.94z\"/><path d=\"M17.41 7.96l-1.37-1.37c-.4-.4-.92-.59-1.43-.59-.52 0-1.04.2-1.43.59L10.3 9.45l-7.72 7.72c-.78.78-.78 2.05 0 2.83L4 21.41c.39.39.9.59 1.41.59.51 0 1.02-.2 1.41-.59l7.78-7.78 2.81-2.81c.8-.78.8-2.07 0-2.86zM5.41 20L4 18.59l7.72-7.72 1.47 1.35L5.41 20z\"/>\n",
              "  </svg>\n",
              "      </button>\n",
              "      \n",
              "  <style>\n",
              "    .colab-df-container {\n",
              "      display:flex;\n",
              "      flex-wrap:wrap;\n",
              "      gap: 12px;\n",
              "    }\n",
              "\n",
              "    .colab-df-convert {\n",
              "      background-color: #E8F0FE;\n",
              "      border: none;\n",
              "      border-radius: 50%;\n",
              "      cursor: pointer;\n",
              "      display: none;\n",
              "      fill: #1967D2;\n",
              "      height: 32px;\n",
              "      padding: 0 0 0 0;\n",
              "      width: 32px;\n",
              "    }\n",
              "\n",
              "    .colab-df-convert:hover {\n",
              "      background-color: #E2EBFA;\n",
              "      box-shadow: 0px 1px 2px rgba(60, 64, 67, 0.3), 0px 1px 3px 1px rgba(60, 64, 67, 0.15);\n",
              "      fill: #174EA6;\n",
              "    }\n",
              "\n",
              "    [theme=dark] .colab-df-convert {\n",
              "      background-color: #3B4455;\n",
              "      fill: #D2E3FC;\n",
              "    }\n",
              "\n",
              "    [theme=dark] .colab-df-convert:hover {\n",
              "      background-color: #434B5C;\n",
              "      box-shadow: 0px 1px 3px 1px rgba(0, 0, 0, 0.15);\n",
              "      filter: drop-shadow(0px 1px 2px rgba(0, 0, 0, 0.3));\n",
              "      fill: #FFFFFF;\n",
              "    }\n",
              "  </style>\n",
              "\n",
              "      <script>\n",
              "        const buttonEl =\n",
              "          document.querySelector('#df-50632357-1cf9-462f-bfbc-59a93dc0b952 button.colab-df-convert');\n",
              "        buttonEl.style.display =\n",
              "          google.colab.kernel.accessAllowed ? 'block' : 'none';\n",
              "\n",
              "        async function convertToInteractive(key) {\n",
              "          const element = document.querySelector('#df-50632357-1cf9-462f-bfbc-59a93dc0b952');\n",
              "          const dataTable =\n",
              "            await google.colab.kernel.invokeFunction('convertToInteractive',\n",
              "                                                     [key], {});\n",
              "          if (!dataTable) return;\n",
              "\n",
              "          const docLinkHtml = 'Like what you see? Visit the ' +\n",
              "            '<a target=\"_blank\" href=https://colab.research.google.com/notebooks/data_table.ipynb>data table notebook</a>'\n",
              "            + ' to learn more about interactive tables.';\n",
              "          element.innerHTML = '';\n",
              "          dataTable['output_type'] = 'display_data';\n",
              "          await google.colab.output.renderOutput(dataTable, element);\n",
              "          const docLink = document.createElement('div');\n",
              "          docLink.innerHTML = docLinkHtml;\n",
              "          element.appendChild(docLink);\n",
              "        }\n",
              "      </script>\n",
              "    </div>\n",
              "  </div>\n",
              "  "
            ]
          },
          "metadata": {},
          "execution_count": 26
        }
      ]
    },
    {
      "cell_type": "code",
      "source": [
        "models = [\n",
        "    ('Decision Tree', DecisionTreeClassifier(), {'max_depth': [None, 5, 10]}),\n",
        "    ('Random Forest', RandomForestClassifier(), {'n_estimators': [50, 100, 200]}),\n",
        "    ('AdaBoost', AdaBoostClassifier(), {'n_estimators': [50, 100, 200], 'learning_rate': [0.1, 0.5, 1.0]}),\n",
        "    ('Gradient Boost', GradientBoostingClassifier(), {'n_estimators': [50, 100, 200], 'learning_rate': [0.1, 0.5, 1.0]}),\n",
        "    ('XGBoost', XGBClassifier(), {'n_estimators': [50, 100, 200], 'learning_rate': [0.1, 0.5, 1.0]})\n",
        "]\n",
        "for name, model, param_grid in models:\n",
        "    print(f\"Model: {name}\")\n",
        "    model.fit(X_train, y_train)\n",
        "    y_pred = model.predict(X_test)\n",
        "    accuracy = accuracy_score(y_test, y_pred)\n",
        "    print(f\"Accuracy: {accuracy:.5f}\")"
      ],
      "metadata": {
        "colab": {
          "base_uri": "https://localhost:8080/"
        },
        "id": "VtI9gSHh1t8U",
        "outputId": "c31f0c15-abde-43e5-9f18-262e786cb542"
      },
      "execution_count": 31,
      "outputs": [
        {
          "output_type": "stream",
          "name": "stdout",
          "text": [
            "Model: Decision Tree\n",
            "Accuracy: 0.95568\n",
            "\n",
            "Model: Random Forest\n",
            "Accuracy: 0.96879\n",
            "\n",
            "Model: AdaBoost\n",
            "Accuracy: 0.93125\n",
            "\n",
            "Model: Gradient Boost\n",
            "Accuracy: 0.94437\n",
            "\n",
            "Model: XGBoost\n",
            "Accuracy: 0.96517\n",
            "\n"
          ]
        }
      ]
    },
    {
      "cell_type": "code",
      "source": [
        "for name, model, param_grid in models:\n",
        "    print(f\"Model: {name}\")\n",
        "    # GridSearchCV\n",
        "    grid_search = GridSearchCV(model, param_grid=param_grid, cv=3)\n",
        "    grid_search.fit(X_train, y_train)\n",
        "    best_params = grid_search.best_params_\n",
        "    print(\"Best Parameters (GridSearchCV):\")\n",
        "    for param, value in best_params.items():\n",
        "        print(f\"{param}: {value}\")\n",
        "    # RandomizedSearchCV\n",
        "    randomized_search = RandomizedSearchCV(model, param_distributions=param_grid, n_iter=10, cv=3)\n",
        "    randomized_search.fit(X_train, y_train)\n",
        "    best_params = randomized_search.best_params_\n",
        "    print(\"\\nBest Parameters (RandomizedSearchCV):\")\n",
        "    for param, value in best_params.items():\n",
        "        print(f\"{param}: {value}\")"
      ],
      "metadata": {
        "colab": {
          "base_uri": "https://localhost:8080/"
        },
        "id": "WOMnZc5N2Foz",
        "outputId": "c759ccfd-d08e-4bd2-f95f-cbe892d7bd83"
      },
      "execution_count": 32,
      "outputs": [
        {
          "output_type": "stream",
          "name": "stdout",
          "text": [
            "Model: Decision Tree\n",
            "Best Parameters (GridSearchCV):\n",
            "max_depth: None\n"
          ]
        },
        {
          "output_type": "stream",
          "name": "stderr",
          "text": [
            "/usr/local/lib/python3.10/dist-packages/sklearn/model_selection/_search.py:305: UserWarning: The total space of parameters 3 is smaller than n_iter=10. Running 3 iterations. For exhaustive searches, use GridSearchCV.\n",
            "  warnings.warn(\n"
          ]
        },
        {
          "output_type": "stream",
          "name": "stdout",
          "text": [
            "\n",
            "Best Parameters (RandomizedSearchCV):\n",
            "max_depth: None\n",
            "\n",
            "Model: Random Forest\n",
            "Best Parameters (GridSearchCV):\n",
            "n_estimators: 200\n"
          ]
        },
        {
          "output_type": "stream",
          "name": "stderr",
          "text": [
            "/usr/local/lib/python3.10/dist-packages/sklearn/model_selection/_search.py:305: UserWarning: The total space of parameters 3 is smaller than n_iter=10. Running 3 iterations. For exhaustive searches, use GridSearchCV.\n",
            "  warnings.warn(\n"
          ]
        },
        {
          "output_type": "stream",
          "name": "stdout",
          "text": [
            "\n",
            "Best Parameters (RandomizedSearchCV):\n",
            "n_estimators: 100\n",
            "\n",
            "Model: AdaBoost\n",
            "Best Parameters (GridSearchCV):\n",
            "learning_rate: 1.0\n",
            "n_estimators: 50\n"
          ]
        },
        {
          "output_type": "stream",
          "name": "stderr",
          "text": [
            "/usr/local/lib/python3.10/dist-packages/sklearn/model_selection/_search.py:305: UserWarning: The total space of parameters 9 is smaller than n_iter=10. Running 9 iterations. For exhaustive searches, use GridSearchCV.\n",
            "  warnings.warn(\n"
          ]
        },
        {
          "output_type": "stream",
          "name": "stdout",
          "text": [
            "\n",
            "Best Parameters (RandomizedSearchCV):\n",
            "n_estimators: 50\n",
            "learning_rate: 1.0\n",
            "\n",
            "Model: Gradient Boost\n",
            "Best Parameters (GridSearchCV):\n",
            "learning_rate: 0.5\n",
            "n_estimators: 200\n"
          ]
        },
        {
          "output_type": "stream",
          "name": "stderr",
          "text": [
            "/usr/local/lib/python3.10/dist-packages/sklearn/model_selection/_search.py:305: UserWarning: The total space of parameters 9 is smaller than n_iter=10. Running 9 iterations. For exhaustive searches, use GridSearchCV.\n",
            "  warnings.warn(\n"
          ]
        },
        {
          "output_type": "stream",
          "name": "stdout",
          "text": [
            "\n",
            "Best Parameters (RandomizedSearchCV):\n",
            "n_estimators: 200\n",
            "learning_rate: 0.5\n",
            "\n",
            "Model: XGBoost\n",
            "Best Parameters (GridSearchCV):\n",
            "learning_rate: 0.5\n",
            "n_estimators: 200\n"
          ]
        },
        {
          "output_type": "stream",
          "name": "stderr",
          "text": [
            "/usr/local/lib/python3.10/dist-packages/sklearn/model_selection/_search.py:305: UserWarning: The total space of parameters 9 is smaller than n_iter=10. Running 9 iterations. For exhaustive searches, use GridSearchCV.\n",
            "  warnings.warn(\n"
          ]
        },
        {
          "output_type": "stream",
          "name": "stdout",
          "text": [
            "\n",
            "Best Parameters (RandomizedSearchCV):\n",
            "n_estimators: 200\n",
            "learning_rate: 0.5\n",
            "\n"
          ]
        }
      ]
    },
    {
      "cell_type": "code",
      "source": [
        "# Question 4\n",
        "\n",
        "import pandas as pd\n",
        "import numpy as np\n",
        "import matplotlib.pyplot as plt\n",
        "from sklearn.cluster import KMeans, DBSCAN\n",
        "from sklearn.preprocessing import StandardScaler\n",
        "from sklearn.metrics import silhouette_score"
      ],
      "metadata": {
        "id": "piKNbyvv2bnA"
      },
      "execution_count": 40,
      "outputs": []
    },
    {
      "cell_type": "code",
      "source": [
        "data = pd.read_csv('segmentation data.csv')"
      ],
      "metadata": {
        "id": "alXxsPuR66VP"
      },
      "execution_count": 34,
      "outputs": []
    },
    {
      "cell_type": "code",
      "source": [
        "data = data.drop(['ID'], axis=1)\n",
        "print(data.isnull().sum())\n",
        "scaler = StandardScaler()\n",
        "data_scaled = scaler.fit_transform(data[['Age', 'Income']])\n",
        "\n",
        "def age_groups(age):\n",
        "    if age <= 28:\n",
        "        return 'Young'\n",
        "    elif age <= 60:\n",
        "        return 'Adult'\n",
        "    else:\n",
        "        return 'Senior'\n",
        "data['Age Group'] = data['Age'].apply(age_groups)"
      ],
      "metadata": {
        "colab": {
          "base_uri": "https://localhost:8080/"
        },
        "id": "j5otcXLQ6_Ja",
        "outputId": "cb30eb08-bd3b-4c6e-eee8-ba4876c8e6ad"
      },
      "execution_count": 35,
      "outputs": [
        {
          "output_type": "stream",
          "name": "stdout",
          "text": [
            "Sex                0\n",
            "Marital status     0\n",
            "Age                0\n",
            "Education          0\n",
            "Income             0\n",
            "Occupation         0\n",
            "Settlement size    0\n",
            "dtype: int64\n"
          ]
        }
      ]
    },
    {
      "cell_type": "code",
      "source": [
        "k_values = range(2, 11)\n",
        "inertia_values = []\n",
        "silhouette_scores = []\n",
        "for k in k_values:\n",
        "    kmeans = KMeans(n_clusters=k, random_state=42)\n",
        "    kmeans.fit(data_scaled)\n",
        "    inertia_values.append(kmeans.inertia_)\n",
        "    silhouette_scores.append(silhouette_score(data_scaled, kmeans.labels_))\n",
        "plt.plot(k_values, inertia_values, marker='o')\n",
        "plt.xlabel('Number of Clusters (K)')\n",
        "plt.ylabel('Inertia')\n",
        "plt.title('KMeans: Inertia vs Number of Clusters')\n",
        "plt.show()\n",
        "\n",
        "plt.plot(k_values, silhouette_scores, marker='o')\n",
        "plt.xlabel('Number of Clusters (K)')\n",
        "plt.ylabel('Silhouette Score')\n",
        "plt.title('KMeans: Silhouette Score vs Number of Clusters')\n",
        "plt.show()"
      ],
      "metadata": {
        "colab": {
          "base_uri": "https://localhost:8080/",
          "height": 1000
        },
        "id": "0JRA8xwX7qbT",
        "outputId": "f0986caf-7f47-4f7d-d066-d5dd4564b9e2"
      },
      "execution_count": 36,
      "outputs": [
        {
          "output_type": "stream",
          "name": "stderr",
          "text": [
            "/usr/local/lib/python3.10/dist-packages/sklearn/cluster/_kmeans.py:870: FutureWarning: The default value of `n_init` will change from 10 to 'auto' in 1.4. Set the value of `n_init` explicitly to suppress the warning\n",
            "  warnings.warn(\n",
            "/usr/local/lib/python3.10/dist-packages/sklearn/cluster/_kmeans.py:870: FutureWarning: The default value of `n_init` will change from 10 to 'auto' in 1.4. Set the value of `n_init` explicitly to suppress the warning\n",
            "  warnings.warn(\n",
            "/usr/local/lib/python3.10/dist-packages/sklearn/cluster/_kmeans.py:870: FutureWarning: The default value of `n_init` will change from 10 to 'auto' in 1.4. Set the value of `n_init` explicitly to suppress the warning\n",
            "  warnings.warn(\n",
            "/usr/local/lib/python3.10/dist-packages/sklearn/cluster/_kmeans.py:870: FutureWarning: The default value of `n_init` will change from 10 to 'auto' in 1.4. Set the value of `n_init` explicitly to suppress the warning\n",
            "  warnings.warn(\n",
            "/usr/local/lib/python3.10/dist-packages/sklearn/cluster/_kmeans.py:870: FutureWarning: The default value of `n_init` will change from 10 to 'auto' in 1.4. Set the value of `n_init` explicitly to suppress the warning\n",
            "  warnings.warn(\n",
            "/usr/local/lib/python3.10/dist-packages/sklearn/cluster/_kmeans.py:870: FutureWarning: The default value of `n_init` will change from 10 to 'auto' in 1.4. Set the value of `n_init` explicitly to suppress the warning\n",
            "  warnings.warn(\n",
            "/usr/local/lib/python3.10/dist-packages/sklearn/cluster/_kmeans.py:870: FutureWarning: The default value of `n_init` will change from 10 to 'auto' in 1.4. Set the value of `n_init` explicitly to suppress the warning\n",
            "  warnings.warn(\n",
            "/usr/local/lib/python3.10/dist-packages/sklearn/cluster/_kmeans.py:870: FutureWarning: The default value of `n_init` will change from 10 to 'auto' in 1.4. Set the value of `n_init` explicitly to suppress the warning\n",
            "  warnings.warn(\n",
            "/usr/local/lib/python3.10/dist-packages/sklearn/cluster/_kmeans.py:870: FutureWarning: The default value of `n_init` will change from 10 to 'auto' in 1.4. Set the value of `n_init` explicitly to suppress the warning\n",
            "  warnings.warn(\n"
          ]
        },
        {
          "output_type": "display_data",
          "data": {
            "text/plain": [
              "<Figure size 640x480 with 1 Axes>"
            ],
            "image/png": "[encoded data removed]"
          },
          "metadata": {}
        },
        {
          "output_type": "display_data",
          "data": {
            "text/plain": [
              "<Figure size 640x480 with 1 Axes>"
            ],
            "image/png": "[encoded data removed]"
          },
          "metadata": {}
        }
      ]
    },
    {
      "cell_type": "code",
      "source": [
        "kmeans = KMeans(n_clusters=4, random_state=42)\n",
        "kmeans.fit(data_scaled)\n",
        "silhouette_score_kmeans = silhouette_score(data_scaled, kmeans.labels_)\n",
        "labels_kmeans = kmeans.labels_"
      ],
      "metadata": {
        "colab": {
          "base_uri": "https://localhost:8080/"
        },
        "id": "h8vgc-rI8oDF",
        "outputId": "a4449d32-da9d-4ba6-cba8-922ccb02b5fa"
      },
      "execution_count": 37,
      "outputs": [
        {
          "output_type": "stream",
          "name": "stderr",
          "text": [
            "/usr/local/lib/python3.10/dist-packages/sklearn/cluster/_kmeans.py:870: FutureWarning: The default value of `n_init` will change from 10 to 'auto' in 1.4. Set the value of `n_init` explicitly to suppress the warning\n",
            "  warnings.warn(\n"
          ]
        }
      ]
    },
    {
      "cell_type": "code",
      "source": [
        "def euclidean_distance(a, b):\n",
        "    return np.linalg.norm(a - b)\n",
        "\n",
        "def assign_clusters(data, centroids):\n",
        "    clusters = []\n",
        "    for point in data:\n",
        "        distances = [euclidean_distance(point, centroid) for centroid in centroids]\n",
        "        cluster = np.argmin(distances)\n",
        "        clusters.append(cluster)\n",
        "    return clusters\n",
        "\n",
        "def update_centroids(data, clusters, K):\n",
        "    centroids = []\n",
        "    for k in range(K):\n",
        "        cluster_points = data[np.array(clusters) == k]\n",
        "        centroid = np.mean(cluster_points, axis=0)\n",
        "        centroids.append(centroid)\n",
        "    return centroids\n",
        "\n",
        "def compare_element(elem1, elem2):\n",
        "    if type(elem1) != type(elem2):\n",
        "        return False\n",
        "    if isinstance(elem1, np.ndarray):\n",
        "        return (elem1 == elem2).all()\n",
        "\n",
        "\n",
        "def train_kmeans(data, K, max_iterations=100):\n",
        "    centroids = data[np.random.choice(data.shape[0], size=K, replace=False)]\n",
        "    for _ in range(max_iterations):\n",
        "        clusters = assign_clusters(data, centroids)\n",
        "        new_centroids = update_centroids(data, clusters, K)\n",
        "        if np.all(compare_element(centroids, new_centroids)):\n",
        "            break\n",
        "        centroids = new_centroids\n",
        "    return clusters\n",
        "\n",
        "best_accuracy = 0\n",
        "best_labels = None\n",
        "for _ in range(10):\n",
        "    labels = train_kmeans(data_scaled, 5)  # 5 gives the closest result\n",
        "    accuracy = np.mean(labels == labels_kmeans)\n",
        "    if accuracy > best_accuracy:\n",
        "        best_accuracy = accuracy\n",
        "        best_labels = labels\n",
        "print(f\"Accuracy compared to sklearn KMeans: {best_accuracy:.4f}\")"
      ],
      "metadata": {
        "colab": {
          "base_uri": "https://localhost:8080/"
        },
        "id": "kTIXUuyq86e0",
        "outputId": "9c2f68b0-19f9-4e8a-bc0b-f1ec6ae667f5"
      },
      "execution_count": 53,
      "outputs": [
        {
          "output_type": "stream",
          "name": "stdout",
          "text": [
            "Accuracy compared to sklearn KMeans: 0.3185\n"
          ]
        }
      ]
    },
    {
      "cell_type": "code",
      "source": [
        "epsilon_values = [0.1, 0.2, 0.5, 1, 2]\n",
        "min_samples_values = [3, 4, 5, 6]\n",
        "max_silhouette_score = -1\n",
        "best_eps = None\n",
        "best_min_samples = None\n",
        "for eps in epsilon_values:\n",
        "    for min_samples in min_samples_values:\n",
        "        dbscan = DBSCAN(eps=eps, min_samples=min_samples)\n",
        "        dbscan.fit(data_scaled)\n",
        "        k=np.unique(dbscan.labels_)\n",
        "        if(len(k)>1):\n",
        "          silhouette = silhouette_score(data_scaled, dbscan.labels_)\n",
        "          if silhouette > max_silhouette_score:\n",
        "              max_silhouette_score = silhouette\n",
        "              best_eps = eps\n",
        "              best_min_samples = min_samples\n",
        "print(f\"Best parameters (DBSCAN): epsilon={best_eps}, min_samples={best_min_samples}\")"
      ],
      "metadata": {
        "colab": {
          "base_uri": "https://localhost:8080/"
        },
        "id": "vnhPU15JEidy",
        "outputId": "d2b209f0-cd61-4631-dfe1-032ec4643259"
      },
      "execution_count": 62,
      "outputs": [
        {
          "output_type": "stream",
          "name": "stdout",
          "text": [
            "Best parameters (DBSCAN): epsilon=1, min_samples=3\n"
          ]
        }
      ]
    },
    {
      "cell_type": "code",
      "source": [
        "def distance(a, b):\n",
        "    return np.linalg.norm(a - b)\n",
        "\n",
        "def get_neighbors(data, point, epsilon):\n",
        "    neighbors = []\n",
        "    for i, p in enumerate(data):\n",
        "        if distance(point, p) < epsilon:\n",
        "            neighbors.append(i)\n",
        "    return neighbors\n",
        "\n",
        "def expand_cluster(data, labels, point_index, neighbors, cluster_id, epsilon, min_samples):\n",
        "    labels[point_index] = cluster_id\n",
        "    i = 0\n",
        "    while i < len(neighbors):\n",
        "        neighbor_index = neighbors[i]\n",
        "        if labels[neighbor_index] == -1:\n",
        "            labels[neighbor_index] = cluster_id\n",
        "        elif labels[neighbor_index] == 0:\n",
        "            labels[neighbor_index] = cluster_id\n",
        "            new_neighbors = get_neighbors(data, data[neighbor_index], epsilon)\n",
        "            if len(new_neighbors) >= min_samples:\n",
        "                neighbors += new_neighbors\n",
        "        i += 1\n",
        "\n",
        "def train_dbscan(data, epsilon, min_samples):\n",
        "    labels = np.zeros(len(data))\n",
        "    cluster_id = 0\n",
        "    for i, point in enumerate(data):\n",
        "        if labels[i] != 0:\n",
        "            continue\n",
        "        neighbors = get_neighbors(data, point, epsilon)\n",
        "        if len(neighbors) < min_samples:\n",
        "            labels[i] = -1\n",
        "        else:\n",
        "            cluster_id += 1\n",
        "            expand_cluster(data, labels, i, neighbors, cluster_id, epsilon, min_samples)\n",
        "    return labels\n",
        "\n",
        "labels_dbscan = train_dbscan(data_scaled, best_eps, best_min_samples)\n",
        "silhouette_score_dbscan = silhouette_score(data_scaled, labels_dbscan)\n",
        "print(f\"Silhouette score (DBSCAN): {silhouette_score_dbscan:.4f}\")"
      ],
      "metadata": {
        "colab": {
          "base_uri": "https://localhost:8080/"
        },
        "id": "mX9CXmqFHnVQ",
        "outputId": "a4507eb3-aae5-4c94-849d-e25019ee249d"
      },
      "execution_count": 63,
      "outputs": [
        {
          "output_type": "stream",
          "name": "stdout",
          "text": [
            "Silhouette score (DBSCAN): 0.6420\n"
          ]
        }
      ]
    }
  ]
}