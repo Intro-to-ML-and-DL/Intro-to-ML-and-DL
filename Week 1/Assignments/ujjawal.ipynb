{
  "cells": [
    {
      "attachments": {},
      "cell_type": "markdown",
      "metadata": {
        "id": "M7IlzQhajs71"
      },
      "source": [
        "###Question 1:\n",
        "Generate a dataset for linear regression with 1000 samples, 5 features and single target.\n",
        "\n",
        "Visualize the data by plotting the target column against each feature column. Also plot the best fit line in each case.\n",
        "\n",
        "Hint : search for obtaining regression line using numpy."
      ]
    },
    {
      "cell_type": "code",
      "execution_count": null,
      "metadata": {
        "id": "X4-07o0-eHZU"
      },
      "outputs": [],
      "source": [
        "import numpy as np\n",
        "import matplotlib.pyplot as plt\n",
        "\n",
        "# Set random seed for reproducibility\n",
        "np.random.seed(42)\n",
        "\n",
        "# Generate random data\n",
        "num_samples = 1000\n",
        "num_features = 5\n",
        "\n",
        "# Generate features (X) from a random normal distribution\n",
        "X = np.random.randn(num_samples, num_features)\n",
        "\n",
        "# Generate target values (y) from a linear combination of features with some noise\n",
        "true_coefficients = np.array([2, -1, 0.5, 1.5, -0.5])\n",
        "noise = np.random.randn(num_samples) * 0.5\n",
        "y = np.dot(X, true_coefficients) + noise\n",
        "\n",
        "# Visualize the data\n",
        "fig, axs = plt.subplots(num_features, 1, figsize=(6, 20))\n",
        "\n",
        "for i in range(num_features):\n",
        "    ax = axs[i]\n",
        "    ax.scatter(X[:, i], y, s=5, alpha=0.5)\n",
        "    ax.set_xlabel('Feature {}'.format(i+1))\n",
        "    ax.set_ylabel('Target')\n",
        "    ax.set_title('Feature {} vs Target'.format(i+1))\n",
        "\n",
        "    # Calculate best fit line\n",
        "    coefficients = np.polyfit(X[:, i], y, 1)\n",
        "    best_fit_line = np.polyval(coefficients, X[:, i])\n",
        "    \n",
        "    # Plot best fit line\n",
        "    ax.plot(X[:, i], best_fit_line, color='red')\n",
        "\n",
        "plt.tight_layout()\n",
        "plt.show()"
      ]
    },
    {
      "attachments": {},
      "cell_type": "markdown",
      "metadata": {
        "id": "GOGDTvDVd57W"
      },
      "source": [
        "### Question 2:\n",
        "Make a classification dataset of 1000 samples with 2 features, 2 classes and 2 clusters per class.\n",
        "Plot the data."
      ]
    },
    {
      "cell_type": "code",
      "execution_count": null,
      "metadata": {
        "id": "DspQLHVeeH01"
      },
      "outputs": [],
      "source": [
        "import numpy as np\n",
        "import matplotlib.pyplot as plt\n",
        "from sklearn.datasets import make_blobs\n",
        "\n",
        "# Set random seed for reproducibility\n",
        "np.random.seed(42)\n",
        "\n",
        "# Generate classification dataset\n",
        "num_samples = 1000\n",
        "num_features = 2\n",
        "num_classes = 2\n",
        "num_clusters_per_class = 2\n",
        "\n",
        "X, y = make_blobs(n_samples=num_samples, n_features=num_features, centers=num_classes * num_clusters_per_class,\n",
        "                  cluster_std=1.0, center_box=(-10.0, 10.0), random_state=42)\n",
        "\n",
        "# Plot the data\n",
        "plt.figure(figsize=(8, 6))\n",
        "for class_label in range(num_classes):\n",
        "    class_samples = X[y == class_label]\n",
        "    plt.scatter(class_samples[:, 0], class_samples[:, 1], label='Class {}'.format(class_label))\n",
        "\n",
        "plt.xlabel('Feature 1')\n",
        "plt.ylabel('Feature 2')\n",
        "plt.title('Classification Dataset')\n",
        "plt.legend()\n",
        "plt.grid(True)\n",
        "plt.show()"
      ]
    },
    {
      "attachments": {},
      "cell_type": "markdown",
      "metadata": {
        "id": "7ghM2NebJXtR"
      },
      "source": [
        "### Question 3:\n",
        "Make a clustering dataset with 2 features and 4 clusters."
      ]
    },
    {
      "cell_type": "code",
      "execution_count": null,
      "metadata": {
        "id": "sjjsnbxieIZN"
      },
      "outputs": [],
      "source": [
        "import numpy as np\n",
        "import matplotlib.pyplot as plt\n",
        "from sklearn.datasets import make_blobs\n",
        "\n",
        "# Set random seed for reproducibility\n",
        "np.random.seed(42)\n",
        "\n",
        "# Generate clustering dataset\n",
        "num_samples = 1000\n",
        "num_features = 2\n",
        "num_clusters = 4\n",
        "\n",
        "X, y = make_blobs(n_samples=num_samples, n_features=num_features, centers=num_clusters,\n",
        "                  cluster_std=1.0, center_box=(-10.0, 10.0), random_state=42)\n",
        "\n",
        "# Plot the data\n",
        "plt.figure(figsize=(8, 6))\n",
        "plt.scatter(X[:, 0], X[:, 1], c=y, cmap='viridis')\n",
        "\n",
        "plt.xlabel('Feature 1')\n",
        "plt.ylabel('Feature 2')\n",
        "plt.title('Clustering Dataset')\n",
        "plt.grid(True)\n",
        "plt.colorbar()\n",
        "plt.show()"
      ]
    },
    {
      "attachments": {},
      "cell_type": "markdown",
      "metadata": {
        "id": "eskxgE9T1jh2"
      },
      "source": [
        "## Question 4\n",
        "Go to the website https://www.worldometers.info/coronavirus/ and scrape the table containing covid-19 infection and deaths data using requests and BeautifulSoup.  Convert the table to a Pandas dataframe with the following columns : Country, Continent, Population, TotalCases, NewCases, TotalDeaths, NewDeaths,TotalRecovered, NewRecovered,  ActiveCases.\n",
        "\n",
        "*(<b>Optional Challenge :</b> Change the data type of the Columns (Population ... till ActiveCases) to integer. For that you need to remove the commas and plus signs. You may need to use df.apply() and pd.to_numeric() . Take care of the values which are empty strings.)"
      ]
    },
    {
      "cell_type": "code",
      "execution_count": null,
      "metadata": {
        "id": "V7fs4Th9eI6W"
      },
      "outputs": [],
      "source": [
        "import requests\n",
        "from bs4 import BeautifulSoup\n",
        "import pandas as pd\n",
        "\n",
        "# Send a GET request to the website\n",
        "url = 'https://www.worldometers.info/coronavirus/'\n",
        "response = requests.get(url)\n",
        "\n",
        "# Create a BeautifulSoup object to parse the HTML content\n",
        "soup = BeautifulSoup(response.content, 'html.parser')\n",
        "\n",
        "# Find the table element with class 'table' and extract the table data\n",
        "table = soup.find('table', class_='table')\n",
        "table_rows = table.find_all('tr')\n",
        "\n",
        "# Extract the table headers (column names)\n",
        "headers = []\n",
        "for th in table_rows[0].find_all('th'):\n",
        "    headers.append(th.text.strip())\n",
        "\n",
        "# Extract the table rows (data rows)\n",
        "rows = []\n",
        "for row in table_rows[1:]:\n",
        "    data = []\n",
        "    for td in row.find_all('td'):\n",
        "        data.append(td.text.strip())\n",
        "    rows.append(data)\n",
        "\n",
        "# Create a Pandas dataframe from the extracted table data\n",
        "df = pd.DataFrame(rows, columns=headers)\n",
        "#print(df.columns)\n",
        "\n",
        "# Select the desired columns\n",
        "columns_to_keep = ['Country,Other', 'Continent', 'Population', 'TotalCases', 'NewCases',\n",
        "                  'TotalDeaths', 'NewDeaths', 'TotalRecovered', 'NewRecovered', 'ActiveCases']\n",
        "df = df[columns_to_keep]\n",
        "\n",
        "# Print the resulting dataframe\n",
        "print(df)"
      ]
    },
    {
      "attachments": {},
      "cell_type": "markdown",
      "metadata": {
        "id": "QhHpN4yCxn-H"
      },
      "source": [
        "# Question 5\n",
        "\n",
        "Generate an imbalanced classification dataset using sklearn of 1000 samples with 2 features, 2 classes and 1 cluster per class. Plot the data. One of the class should contain only 5% of the total samples. Confirm this either using numpy or Counter. Plot the data.\n",
        "\n",
        "Now oversample the minority class to 5 times its initial size using SMOTE. Verify the number. Plot the data.\n",
        "\n",
        "Now undersample the majority class to 3 times the size of minority class using RandomUnderSampler. Verify the number. Plot the data.\n",
        "\n",
        "Reference : Last markdown cell of the examples."
      ]
    },
    {
      "cell_type": "code",
      "execution_count": null,
      "metadata": {
        "id": "hLKcLL42lCa2"
      },
      "outputs": [],
      "source": [
        "import numpy as np\n",
        "import matplotlib.pyplot as plt\n",
        "from sklearn.datasets import make_classification\n",
        "from sklearn.model_selection import train_test_split\n",
        "from imblearn.over_sampling import SMOTE\n",
        "from imblearn.under_sampling import RandomUnderSampler\n",
        "from collections import Counter\n",
        "\n",
        "# Set random seed for reproducibility\n",
        "np.random.seed(42)\n",
        "\n",
        "# Generate imbalanced classification dataset\n",
        "num_samples = 1000\n",
        "num_features = 2\n",
        "num_clusters_per_class = 1\n",
        "class_ratio = 0.05\n",
        "\n",
        "X, y = make_classification(n_samples=num_samples, n_features=num_features, n_informative=num_features,\n",
        "                           n_redundant=0, n_clusters_per_class=num_clusters_per_class,\n",
        "                           weights=[class_ratio, 1-class_ratio], flip_y=0, random_state=42)\n",
        "\n",
        "# Plot the original data\n",
        "plt.figure(figsize=(8, 6))\n",
        "plt.scatter(X[y == 0, 0], X[y == 0, 1], label='Class 0')\n",
        "plt.scatter(X[y == 1, 0], X[y == 1, 1], label='Class 1')\n",
        "plt.xlabel('Feature 1')\n",
        "plt.ylabel('Feature 2')\n",
        "plt.title('Imbalanced Classification Dataset (Original)')\n",
        "plt.legend()\n",
        "plt.grid(True)\n",
        "plt.show()\n",
        "\n",
        "# Confirm class imbalance using Counter\n",
        "print('Class distribution (Original):', Counter(y))\n",
        "\n",
        "# Oversample the minority class using SMOTE\n",
        "oversampler = SMOTE(sampling_strategy=0.2, random_state=42)\n",
        "X_oversampled, y_oversampled = oversampler.fit_resample(X, y)\n",
        "\n",
        "# Plot the oversampled data\n",
        "plt.figure(figsize=(8, 6))\n",
        "plt.scatter(X_oversampled[y_oversampled == 0, 0], X_oversampled[y_oversampled == 0, 1], label='Class 0')\n",
        "plt.scatter(X_oversampled[y_oversampled == 1, 0], X_oversampled[y_oversampled == 1, 1], label='Class 1')\n",
        "plt.xlabel('Feature 1')\n",
        "plt.ylabel('Feature 2')\n",
        "plt.title('Imbalanced Classification Dataset (Oversampled)')\n",
        "plt.legend()\n",
        "plt.grid(True)\n",
        "plt.show()\n",
        "\n",
        "# Confirm class imbalance after oversampling\n",
        "print('Class distribution (Oversampled):', Counter(y_oversampled))\n",
        "\n",
        "# Undersample the majority class using RandomUnderSampler\n",
        "undersampler = RandomUnderSampler(sampling_strategy=0.15, random_state=42)\n",
        "X_undersampled, y_undersampled = undersampler.fit_resample(X, y)\n",
        "\n",
        "# Plot the undersampled data\n",
        "plt.figure(figsize=(8, 6))\n",
        "plt.scatter(X_undersampled[y_undersampled == 0, 0], X_undersampled[y_undersampled == 0, 1], label='Class 0')\n",
        "plt.scatter(X_undersampled[y_undersampled == 1, 0], X_undersampled[y_undersampled == 1, 1], label='Class 1')\n",
        "plt.xlabel('Feature 1')\n",
        "plt.ylabel('Feature 2')\n",
        "plt.title('Imbalanced Classification Dataset (Undersampled)')\n",
        "plt.legend()\n",
        "plt.grid(True)\n",
        "plt.show()\n",
        "\n",
        "# Confirm class imbalance after undersampling\n",
        "print('Class distribution (Undersampled):', Counter(y_undersampled))"
      ]
    },
    {
      "attachments": {},
      "cell_type": "markdown",
      "metadata": {
        "id": "6_j0Smzgk6mZ"
      },
      "source": [
        "##Question 6\n",
        "\n",
        "Write a Python code to perform data preprocessing on a dataset using the scikit-learn library. Follow the instructions below:\n",
        "\n",
        " * Load the dataset using the scikit-learn `load_iris` function.\n",
        " * Assign the feature data to a variable named `X` and the target data to a variable named `y`.\n",
        " * Create a pandas DataFrame called `df` using `X` as the data and the feature names obtained from the dataset.\n",
        " * Display the first 5 rows of the DataFrame `df`.\n",
        " *  Check if there are any missing values in the DataFrame and handle them accordingly.\n",
        " * Split the data into training and testing sets using the `train_test_split` function from scikit-learn. Assign 70% of the data to the training set and the remaining 30% to the testing set.\n",
        " * Print the dimensions of the training set and testing set respectively.\n",
        " *  Standardize the feature data in the training set using the `StandardScaler` from scikit-learn.\n",
        " *  Apply the same scaling transformation on the testing set.\n",
        " * Print the first 5 rows of the standardized training set."
      ]
    },
    {
      "cell_type": "code",
      "execution_count": null,
      "metadata": {
        "id": "wCJg725i4xiY"
      },
      "outputs": [],
      "source": [
        "import pandas as pd\n",
        "from sklearn.datasets import load_iris\n",
        "from sklearn.model_selection import train_test_split\n",
        "from sklearn.preprocessing import StandardScaler\n",
        "\n",
        "# Load the dataset\n",
        "iris = load_iris()\n",
        "\n",
        "# Assign the feature data to X and target data to y\n",
        "X = iris.data\n",
        "y = iris.target\n",
        "\n",
        "# Create a pandas DataFrame using X and feature names\n",
        "df = pd.DataFrame(X, columns=iris.feature_names)\n",
        "\n",
        "# Display the first 5 rows of the DataFrame\n",
        "print(df.head())\n",
        "\n",
        "# Check for missing values\n",
        "print(df.isnull().sum())\n",
        "\n",
        "# Split the data into training and testing sets\n",
        "X_train, X_test, y_train, y_test = train_test_split(X, y, test_size=0.3, random_state=42)\n",
        "\n",
        "# Print the dimensions of the training and testing sets\n",
        "print(\"Training set dimensions:\", X_train.shape)\n",
        "print(\"Testing set dimensions:\", X_test.shape)\n",
        "\n",
        "# Standardize the feature data in the training set\n",
        "scaler = StandardScaler()\n",
        "X_train_scaled = scaler.fit_transform(X_train)\n",
        "\n",
        "# Apply the same scaling transformation on the testing set\n",
        "X_test_scaled = scaler.transform(X_test)\n",
        "\n",
        "# Print the first 5 rows of the standardized training set\n",
        "print(pd.DataFrame(X_train_scaled, columns=iris.feature_names).head())"
      ]
    }
  ],
  "metadata": {
    "colab": {
      "provenance": []
    },
    "kernelspec": {
      "display_name": "Python 3",
      "name": "python3"
    },
    "language_info": {
      "name": "python"
    }
  },
  "nbformat": 4,
  "nbformat_minor": 0
}
