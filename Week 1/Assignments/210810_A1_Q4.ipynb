{
 "cells": [
  {
   "cell_type": "code",
   "execution_count": null,
   "id": "b8cd6bc2",
   "metadata": {},
   "outputs": [],
   "source": [
    "import requests\n",
    "from bs4 import BeautifulSoup\n",
    "import pandas as pd\n",
    "\n",
    "# Send a GET request to the website\n",
    "url = 'https://www.worldometers.info/coronavirus/'\n",
    "response = requests.get(url)\n",
    "\n",
    "# Create BeautifulSoup object\n",
    "soup = BeautifulSoup(response.content, 'html.parser')\n",
    "\n",
    "# Find the table containing COVID-19 data\n",
    "table = soup.find('table', {'id': 'main_table_countries_today'})\n",
    "\n",
    "# Get the table headers\n",
    "headers = []\n",
    "for th in table.find_all('th'):\n",
    "    headers.append(th.text.strip())\n",
    "\n",
    "# Initialize an empty list to store the table data\n",
    "data = []\n",
    "\n",
    "# Iterate through the table rows and extract the data\n",
    "for row in table.find_all('tr'):\n",
    "    row_data = []\n",
    "    for td in row.find_all('td'):\n",
    "        row_data.append(td.text.strip())\n",
    "    if row_data:\n",
    "        data.append(row_data)\n",
    "\n",
    "# Create a Pandas DataFrame with the extracted data\n",
    "df = pd.DataFrame(data, columns=headers)\n",
    "\n",
    "# Filter and reorder the columns\n",
    "columns_to_keep = ['Country', 'Continent', 'Population', 'TotalCases', 'NewCases', 'TotalDeaths',\n",
    "                   'NewDeaths', 'TotalRecovered', 'NewRecovered', 'ActiveCases']\n",
    "df = df[columns_to_keep]\n",
    "\n",
    "# Display the DataFrame\n",
    "print(df)\n"
   ]
  }
 ],
 "metadata": {
  "kernelspec": {
   "display_name": "Python 3 (ipykernel)",
   "language": "python",
   "name": "python3"
  },
  "language_info": {
   "codemirror_mode": {
    "name": "ipython",
    "version": 3
   },
   "file_extension": ".py",
   "mimetype": "text/x-python",
   "name": "python",
   "nbconvert_exporter": "python",
   "pygments_lexer": "ipython3",
   "version": "3.11.3"
  }
 },
 "nbformat": 4,
 "nbformat_minor": 5
}
