{
  "cells": [
    {
      "cell_type": "markdown",
      "metadata": {
        "id": "M7IlzQhajs71"
      },
      "source": [
        "###Question 1:\n",
        "Generate a dataset for linear regression with 1000 samples, 5 features and single target.\n",
        "\n",
        "Visualize the data by plotting the target column against each feature column. Also plot the best fit line in each case.\n",
        "\n",
        "Hint : search for obtaining regression line using numpy."
      ]
    },
    {
      "cell_type": "code",
      "execution_count": null,
      "metadata": {
        "id": "X4-07o0-eHZU"
      },
      "outputs": [],
      "source": [
        "import numpy as np\n",
        "import matplotlib.pyplot as plt\n",
        "from sklearn.datasets import make_regression as mr\n",
        "X,y = mr(n_samples=1000, n_features=5, noise=0)\n",
        "\n",
        "\n",
        "fig2,ax= plt.subplots(5,1,figsize=(15,15))\n",
        "for i in range(5):\n",
        "  plt.subplot(5,1,i+1)\n",
        "  plt.scatter(X[:,i],y, color='y')\n",
        "  a,b=np.polyfit(X[:,i],y,1)          \n",
        "  plt.plot(X[:,i],a*X[:,i]+b, color='red')        \n"
      ]
    },
    {
      "cell_type": "markdown",
      "metadata": {
        "id": "GOGDTvDVd57W"
      },
      "source": [
        "### Question 2:\n",
        "Make a classification dataset of 1000 samples with 2 features, 2 classes and 2 clusters per class.\n",
        "Plot the data."
      ]
    },
    {
      "cell_type": "code",
      "execution_count": null,
      "metadata": {
        "id": "DspQLHVeeH01"
      },
      "outputs": [],
      "source": [
        "from sklearn.datasets import make_classification\n",
        "X,y= make_classification(n_samples=1000,n_features=2, n_informative=2, n_redundant=0,n_classes=2,n_clusters_per_class=2)\n",
        "\n",
        "plt.scatter(X[:, 0],X[:,1], c=y)\n",
        "plt.xlabel('Feature 1')\n",
        "plt.ylabel('Feature 2')\n",
        "plt.show()"
      ]
    },
    {
      "cell_type": "markdown",
      "metadata": {
        "id": "7ghM2NebJXtR"
      },
      "source": [
        "### Question 3:\n",
        "Make a clustering dataset with 2 features and 4 clusters."
      ]
    },
    {
      "cell_type": "code",
      "execution_count": null,
      "metadata": {
        "id": "sjjsnbxieIZN"
      },
      "outputs": [],
      "source": [
        "from sklearn.datasets import make_classification\n",
        "X,y= make_classification(n_samples=1000,n_features=2, n_informative=2, n_redundant=0,n_classes=2,n_clusters_per_class=4)\n",
        "\n",
        "plt.scatter(X[:, 0],X[:,1], c=y)\n",
        "plt.xlabel('Feature 1')\n",
        "plt.ylabel('Feature 2')\n",
        "plt.show()"
      ]
    },
    {
      "cell_type": "markdown",
      "metadata": {
        "id": "eskxgE9T1jh2"
      },
      "source": [
        "## Question 4\n",
        "Go to the website https://www.worldometers.info/coronavirus/ and scrape the table containing covid-19 infection and deaths data using requests and BeautifulSoup.  Convert the table to a Pandas dataframe with the following columns : Country, Continent, Population, TotalCases, NewCases, TotalDeaths, NewDeaths,TotalRecovered, NewRecovered,  ActiveCases.\n",
        "\n",
        "*(<b>Optional Challenge :</b> Change the data type of the Columns (Population ... till ActiveCases) to integer. For that you need to remove the commas and plus signs. You may need to use df.apply() and pd.to_numeric() . Take care of the values which are empty strings.)"
      ]
    },
    {
      "cell_type": "code",
      "execution_count": null,
      "metadata": {
        "id": "V7fs4Th9eI6W"
      },
      "outputs": [],
      "source": [
        "import requests as req\n",
        "url = ' https://www.worldometers.info/coronavirus/'\n",
        "page= req.get(url)\n",
        "from bs4 import BeautifulSoup\n",
        "soup = BeautifulSoup(page.text, 'lxml')\n",
        "table = soup.find('table', id='main_table_countries_today')\n",
        "\n",
        "headers = []\n",
        "first_row=table.find('tr');\n",
        "\n",
        "for i in first_row.find_all('th'):\n",
        " title = i.text\n",
        " headers.append(title)\n",
        "\n",
        "headers\n",
        "\n",
        "import pandas as pd\n",
        "mydata = pd.DataFrame(columns = headers)\n",
        "for j in table1.find_all('tr', )[2:]:\n",
        " row_data = j.find_all('td')\n",
        " row = [i.text for i in row_data]\n",
        " length = len(mydata)\n",
        " mydata.loc[length] = row\n",
        "\n",
        " columns=['Country,Other','Continent','Population','TotalCases','NewCases','TotalDeaths','NewDeaths','TotalRecovered','NewRecovered','ActiveCases']\n",
        "mydata=mydata[columns]\n",
        "mydata.head()"
      ]
    },
    {
      "cell_type": "markdown",
      "metadata": {
        "id": "QhHpN4yCxn-H"
      },
      "source": [
        "# Question 5\n",
        "\n",
        "Generate an imbalanced classification dataset using sklearn of 1000 samples with 2 features, 2 classes and 1 cluster per class. Plot the data. One of the class should contain only 5% of the total samples. Confirm this either using numpy or Counter. Plot the data.\n",
        "\n",
        "Now oversample the minority class to 5 times its initial size using SMOTE. Verify the number. Plot the data.\n",
        "\n",
        "Now undersample the majority class to 3 times the size of minority class using RandomUnderSampler. Verify the number. Plot the data.\n",
        "\n",
        "Reference : Last markdown cell of the examples."
      ]
    },
    {
      "cell_type": "code",
      "execution_count": null,
      "metadata": {
        "id": "hLKcLL42lCa2"
      },
      "outputs": [],
      "source": [
        "from sklearn.datasets import make_classification\n",
        "X,y = make_classification(n_samples=1000, n_features=2, n_redundant=0,n_clusters_per_class=1, weights=[0.95], flip_y=0)\n",
        "import numpy as np\n",
        "print(np.unique(y,return_counts=True))\n",
        "\n",
        "import matplotlib.pyplot as plt\n",
        "plt.scatter(X[:, 0],X[:,1], c=y)\n",
        "plt.xlabel('Feature 1')\n",
        "plt.ylabel('Feature 2')\n",
        "plt.show()\n",
        "from imblearn.over_sampling import SMOTE\n",
        "over = SMOTE(sampling_strategy=0.2638)\n",
        "X, y = over.fit_resample(X, y)\n",
        "print(np.unique(y,return_counts=True))\n",
        "plt.scatter(X[:, 0],X[:,1], c=y)\n",
        "plt.xlabel('Feature 1')\n",
        "plt.ylabel('Feature 2')\n",
        "plt.show()"
      ]
    },
    {
      "cell_type": "markdown",
      "metadata": {
        "id": "6_j0Smzgk6mZ"
      },
      "source": [
        "##Question 6\n",
        "\n",
        "Write a Python code to perform data preprocessing on a dataset using the scikit-learn library. Follow the instructions below:\n",
        "\n",
        " * Load the dataset using the scikit-learn `load_iris` function.\n",
        " * Assign the feature data to a variable named `X` and the target data to a variable named `y`.\n",
        " * Create a pandas DataFrame called `df` using `X` as the data and the feature names obtained from the dataset.\n",
        " * Display the first 5 rows of the DataFrame `df`.\n",
        " *  Check if there are any missing values in the DataFrame and handle them accordingly.\n",
        " * Split the data into training and testing sets using the `train_test_split` function from scikit-learn. Assign 70% of the data to the training set and the remaining 30% to the testing set.\n",
        " * Print the dimensions of the training set and testing set respectively.\n",
        " *  Standardize the feature data in the training set using the `StandardScaler` from scikit-learn.\n",
        " *  Apply the same scaling transformation on the testing set.\n",
        " * Print the first 5 rows of the standardized training set."
      ]
    },
    {
      "cell_type": "code",
      "execution_count": null,
      "metadata": {
        "id": "wCJg725i4xiY"
      },
      "outputs": [],
      "source": [
        "from sklearn.datasets import load_iris\n",
        "iris = load_iris()\n",
        "X = iris.data\n",
        "y = iris.target\n",
        "import pandas as pd\n",
        "df = pd.DataFrame(X, columns=iris.feature_names)\n",
        "df.head()"
      ]
    }
  ],
  "metadata": {
    "colab": {
      "provenance": []
    },
    "kernelspec": {
      "display_name": "Python 3",
      "name": "python3"
    },
    "language_info": {
      "name": "python"
    }
  },
  "nbformat": 4,
  "nbformat_minor": 0
}
