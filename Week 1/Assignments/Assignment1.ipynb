{
  "nbformat": 4,
  "nbformat_minor": 0,
  "metadata": {
    "colab": {
      "provenance": []
    },
    "kernelspec": {
      "name": "python3",
      "display_name": "Python 3"
    },
    "language_info": {
      "name": "python"
    }
  },
  "cells": [
    {
      "cell_type": "markdown",
      "source": [
        "###Question 1:\n",
        "Generate a dataset for linear regression with 1000 samples, 5 features and single target.\n",
        "\n",
        "Visualize the data by plotting the target column against each feature column. Also plot the best fit line in each case.\n",
        "\n",
        "Hint : search for obtaining regression line using numpy."
      ],
      "metadata": {
        "id": "M7IlzQhajs71"
      }
    },
    {
      "cell_type": "code",
      "source": [],
      "metadata": {
        "id": "X4-07o0-eHZU"
      },
      "execution_count": null,
      "outputs": []
    },
    {
      "cell_type": "markdown",
      "source": [
        "### Question 2:\n",
        "Make a classification dataset of 1000 samples with 2 features, 2 classes and 2 clusters per class.\n",
        "Plot the data."
      ],
      "metadata": {
        "id": "GOGDTvDVd57W"
      }
    },
    {
      "cell_type": "code",
      "source": [],
      "metadata": {
        "id": "DspQLHVeeH01"
      },
      "execution_count": null,
      "outputs": []
    },
    {
      "cell_type": "markdown",
      "source": [
        "### Question 3:\n",
        "Make a clustering dataset with 2 features and 4 clusters."
      ],
      "metadata": {
        "id": "7ghM2NebJXtR"
      }
    },
    {
      "cell_type": "code",
      "source": [],
      "metadata": {
        "id": "sjjsnbxieIZN"
      },
      "execution_count": null,
      "outputs": []
    },
    {
      "cell_type": "markdown",
      "source": [
        "## Question 4\n",
        "Go to the website https://www.worldometers.info/coronavirus/ and scrape the table containing covid-19 infection and deaths data using requests and BeautifulSoup.  Convert the table to a Pandas dataframe with the following columns : Country, Continent, Population, TotalCases, NewCases, TotalDeaths, NewDeaths,TotalRecovered, NewRecovered,  ActiveCases.\n",
        "\n",
        "*(<b>Optional Challenge :</b> Change the data type of the Columns (Population ... till ActiveCases) to integer. For that you need to remove the commas and plus signs. You may need to use df.apply() and pd.to_numeric() . Take care of the values which are empty strings.)"
      ],
      "metadata": {
        "id": "eskxgE9T1jh2"
      }
    },
    {
      "cell_type": "code",
      "source": [],
      "metadata": {
        "id": "V7fs4Th9eI6W"
      },
      "execution_count": null,
      "outputs": []
    },
    {
      "cell_type": "markdown",
      "source": [
        "# Question 5\n",
        "\n",
        "Generate an imbalanced classification dataset using sklearn of 1000 samples with 2 features, 2 classes and 1 cluster per class. Plot the data. One of the class should contain only 5% of the total samples. Confirm this either using numpy or Counter. Plot the data.\n",
        "\n",
        "Now oversample the minority class to 5 times its initial size using SMOTE. Verify the number. Plot the data.\n",
        "\n",
        "Now undersample the majority class to 3 times the size of minority class using RandomUnderSampler. Verify the number. Plot the data.\n",
        "\n",
        "Reference : Last markdown cell of the examples."
      ],
      "metadata": {
        "id": "QhHpN4yCxn-H"
      }
    },
    {
      "cell_type": "code",
      "source": [],
      "metadata": {
        "id": "hLKcLL42lCa2"
      },
      "execution_count": null,
      "outputs": []
    },
    {
      "cell_type": "markdown",
      "source": [
        "##Question 6\n",
        "\n",
        "Write a Python code to perform data preprocessing on a dataset using the scikit-learn library. Follow the instructions below:\n",
        "\n",
        " * Load the dataset using the scikit-learn `load_iris` function.\n",
        " * Assign the feature data to a variable named `X` and the target data to a variable named `y`.\n",
        " * Create a pandas DataFrame called `df` using `X` as the data and the feature names obtained from the dataset.\n",
        " * Display the first 5 rows of the DataFrame `df`.\n",
        " *  Check if there are any missing values in the DataFrame and handle them accordingly.\n",
        " * Split the data into training and testing sets using the `train_test_split` function from scikit-learn. Assign 70% of the data to the training set and the remaining 30% to the testing set.\n",
        " * Print the dimensions of the training set and testing set respectively.\n",
        " *  Standardize the feature data in the training set using the `StandardScaler` from scikit-learn.\n",
        " *  Apply the same scaling transformation on the testing set.\n",
        " * Print the first 5 rows of the standardized training set."
      ],
      "metadata": {
        "id": "6_j0Smzgk6mZ"
      }
    },
    {
      "cell_type": "code",
      "source": [],
      "metadata": {
        "id": "wCJg725i4xiY"
      },
      "execution_count": null,
      "outputs": []
    }
  ]
}