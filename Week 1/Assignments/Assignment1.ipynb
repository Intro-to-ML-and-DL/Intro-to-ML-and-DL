{
  "cells": [
    {
      "attachments": {},
      "cell_type": "markdown",
      "metadata": {
        "id": "M7IlzQhajs71"
      },
      "source": [
        "###Question 1:\n",
        "Generate a dataset for linear regression with 1000 samples, 5 features and single target.\n",
        "\n",
        "Visualize the data by plotting the target column against each feature column. Also plot the best fit line in each case.\n",
        "\n",
        "Hint : search for obtaining regression line using numpy."
      ]
    },
    {
      "cell_type": "code",
      "execution_count": null,
      "metadata": {
        "id": "X4-07o0-eHZU"
      },
      "outputs": [],
      "source": [
        "import numpy as np\n",
        "import matplotlib.pyplot as plt\n",
        "from sklearn.datasets import make_regression as mr\n",
        "from sklearn.linear_model import LinearRegression\n",
        "X,y = mr(n_samples=1000, n_features=5, noise=40)\n",
        "print(X.shape)\n",
        "print(y.shape)\n",
        "regmodel = LinearRegression()\n",
        "fig2,ax= plt.subplots(5,1,figsize=(5,25))\n",
        "for i in range(5):\n",
        "  regmodel.fit(X[:,i][:,np.newaxis], y)\n",
        "  x1=X[:,i]\n",
        "  y1 = regmodel.predict(x1[:,np.newaxis])\n",
        "  ax=plt.subplot(511+i)\n",
        "  plt.scatter(X[:,i],y, color='blue')\n",
        "  ax.plot(x1,y1,\"r\")\n",
        "plt.show()"
      ]
    },
    {
      "attachments": {},
      "cell_type": "markdown",
      "metadata": {
        "id": "GOGDTvDVd57W"
      },
      "source": [
        "### Question 2:\n",
        "Make a classification dataset of 1000 samples with 2 features, 2 classes and 2 clusters per class.\n",
        "Plot the data."
      ]
    },
    {
      "cell_type": "code",
      "execution_count": null,
      "metadata": {
        "id": "DspQLHVeeH01"
      },
      "outputs": [],
      "source": [
        "import matplotlib.pyplot as plt\n",
        "from sklearn.datasets import make_classification as mc\n",
        "X,y=mc(n_samples=1000,n_features=2,n_informative=2,n_redundant=0,n_classes=2,n_clusters_per_class=2)\n",
        "plt.scatter(X[:,0],X[:,1],c=y)\n",
        "plt.xlabel('Feature 1')\n",
        "plt.ylabel('Feature 2')\n",
        "plt.show()"
      ]
    },
    {
      "attachments": {},
      "cell_type": "markdown",
      "metadata": {
        "id": "7ghM2NebJXtR"
      },
      "source": [
        "### Question 3:\n",
        "Make a clustering dataset with 2 features and 4 clusters."
      ]
    },
    {
      "cell_type": "code",
      "execution_count": null,
      "metadata": {
        "id": "sjjsnbxieIZN"
      },
      "outputs": [],
      "source": [
        "import matplotlib.pyplot as plt\n",
        "from sklearn.datasets import make_blobs as mb\n",
        "X,y=mb(n_samples=500,n_features=2,centers=4)\n",
        "plt.scatter(X[:,0],X[:,1],c=y)\n",
        "plt.xlabel('Feature 1')\n",
        "plt.ylabel('Feature 2')\n",
        "plt.show()"
      ]
    },
    {
      "attachments": {},
      "cell_type": "markdown",
      "metadata": {
        "id": "eskxgE9T1jh2"
      },
      "source": [
        "## Question 4\n",
        "Go to the website https://www.worldometers.info/coronavirus/ and scrape the table containing covid-19 infection and deaths data using requests and BeautifulSoup.  Convert the table to a Pandas dataframe with the following columns : Country, Continent, Population, TotalCases, NewCases, TotalDeaths, NewDeaths,TotalRecovered, NewRecovered,  ActiveCases.\n",
        "\n",
        "*(<b>Optional Challenge :</b> Change the data type of the Columns (Population ... till ActiveCases) to integer. For that you need to remove the commas and plus signs. You may need to use df.apply() and pd.to_numeric() . Take care of the values which are empty strings.)"
      ]
    },
    {
      "cell_type": "code",
      "execution_count": null,
      "metadata": {
        "id": "V7fs4Th9eI6W"
      },
      "outputs": [],
      "source": [
        "import requests as req\n",
        "import pandas as pd\n",
        "from bs4 import BeautifulSoup as bs \n",
        "url='https://www.worldometers.info/coronavirus/'\n",
        "page=req.get(url)\n",
        "print(page.status_code)\n",
        "soup=bs(page.text,'lxml')\n",
        "table = soup.find('table')\n",
        "temp = []\n",
        "headers = []\n",
        "row1=table.find('tr'); #considering 1st row for headers\n",
        "for i in row1.find_all('th'): #iterating the row for all column names\n",
        "    title = i.text\n",
        "    temp.append(title) #storing all column names in the list temp\n",
        "for i in range (len(temp)):\n",
        "    if((i>=1 and i<=8)):\n",
        "        headers.append(temp[i])\n",
        "print(headers)\n",
        "data = pd.DataFrame(columns = headers)\n",
        "for j in table.find_all('tr')[9:240]:\n",
        "  row_data = j.find_all('td')[1:9]\n",
        "  row = [i.text for i in row_data]\n",
        "  length = len(data)\n",
        "  data.loc[length] = row\n",
        "print(data) "
      ]
    },
    {
      "attachments": {},
      "cell_type": "markdown",
      "metadata": {
        "id": "QhHpN4yCxn-H"
      },
      "source": [
        "# Question 5\n",
        "\n",
        "Generate an imbalanced classification dataset using sklearn of 1000 samples with 2 features, 2 classes and 1 cluster per class. Plot the data. One of the class should contain only 5% of the total samples. Confirm this either using numpy or Counter. Plot the data.\n",
        "\n",
        "Now oversample the minority class to 5 times its initial size using SMOTE. Verify the number. Plot the data.\n",
        "\n",
        "Now undersample the majority class to 3 times the size of minority class using RandomUnderSampler. Verify the number. Plot the data.\n",
        "\n",
        "Reference : Last markdown cell of the examples."
      ]
    },
    {
      "cell_type": "code",
      "execution_count": null,
      "metadata": {
        "id": "hLKcLL42lCa2"
      },
      "outputs": [],
      "source": [
        "import matplotlib.pyplot as plt\n",
        "import numpy as np\n",
        "from sklearn.datasets import make_classification as mc\n",
        "from imblearn.over_sampling import SMOTE\n",
        "from imblearn.under_sampling import RandomUnderSampler as RUS\n",
        "X,y=mc(n_samples=1000,n_features=2,n_classes=2,n_clusters_per_class=1,n_informative=2,n_redundant=0,weights=[0.95,0.05])\n",
        "def fun() :\n",
        "    nclasses=np.bincount(y) #array containing num of samples corresponding to each class in y\n",
        "    nsamples=len(y) #total num of samples in y\n",
        "    props=nclasses/nsamples #array containing proportion of samples of each class\n",
        "    for label,count,prop in zip(range(len(nclasses)),nclasses,props):\n",
        "        print(f\"Class {label}: Count={count}, proportion={prop}\")\n",
        "    plt.scatter(X[:,0],X[:,1],c=y)\n",
        "    plt.xlabel('First Feature')\n",
        "    plt.ylabel('Second Feature')\n",
        "    plt.show()\n",
        "fun()\n",
        "nclasses=np.bincount(y) \n",
        "nsamples=len(y) \n",
        "a=nclasses[1]*5\n",
        "b=nsamples-nclasses[1]\n",
        "smote=SMOTE(sampling_strategy=a/b)\n",
        "X,y=smote.fit_resample(X,y)\n",
        "fun()\n",
        "rus=RUS(sampling_strategy=1/3)\n",
        "X,y=rus.fit_resample(X,y)\n",
        "fun()\n",
        "\n"
      ]
    },
    {
      "attachments": {},
      "cell_type": "markdown",
      "metadata": {
        "id": "6_j0Smzgk6mZ"
      },
      "source": [
        "##Question 6\n",
        "\n",
        "Write a Python code to perform data preprocessing on a dataset using the scikit-learn library. Follow the instructions below:\n",
        "\n",
        " * Load the dataset using the scikit-learn `load_iris` function.\n",
        " * Assign the feature data to a variable named `X` and the target data to a variable named `y`.\n",
        " * Create a pandas DataFrame called `df` using `X` as the data and the feature names obtained from the dataset.\n",
        " * Display the first 5 rows of the DataFrame `df`.\n",
        " *  Check if there are any missing values in the DataFrame and handle them accordingly.\n",
        " * Split the data into training and testing sets using the `train_test_split` function from scikit-learn. Assign 70% of the data to the training set and the remaining 30% to the testing set.\n",
        " * Print the dimensions of the training set and testing set respectively.\n",
        " *  Standardize the feature data in the training set using the `StandardScaler` from scikit-learn.\n",
        " *  Apply the same scaling transformation on the testing set.\n",
        " * Print the first 5 rows of the standardized training set."
      ]
    },
    {
      "cell_type": "code",
      "execution_count": null,
      "metadata": {
        "id": "wCJg725i4xiY"
      },
      "outputs": [],
      "source": [
        "from sklearn.datasets import load_iris\n",
        "from sklearn.model_selection import train_test_split as tts\n",
        "from sklearn.preprocessing import StandardScaler as ss\n",
        "import pandas as pd\n",
        "import numpy as np\n",
        "iris=load_iris()\n",
        "X,y=iris.data,iris.target\n",
        "df=pd.DataFrame(X,columns=iris.feature_names)\n",
        "print(df.head())\n",
        "print(df.isna().sum())\n",
        "Xtrain,Xtest,ytrain,ytest=tts(X,y,train_size=0.7)\n",
        "print(Xtrain.shape)\n",
        "print(ytrain.shape)\n",
        "print(Xtest.shape)\n",
        "print(ytest.shape)\n",
        "df1=pd.DataFrame(Xtrain,columns=iris.feature_names)\n",
        "scaler = ss()\n",
        "for i in range(4):\n",
        "    arr=np.array(df1.iloc[:,i])\n",
        "    df1.iloc[:,i]=scaler.fit_transform(arr.reshape(-1,1))\n",
        "df2=pd.DataFrame(Xtest,columns=iris.feature_names)\n",
        "for i in range(4):\n",
        "    arr1=np.array(df2.iloc[:,i])\n",
        "    df2.iloc[:,i]=scaler.fit_transform(arr1.reshape(-1,1))\n",
        "print(df1.head())\n",
        "print(df2.head())"
      ]
    }
  ],
  "metadata": {
    "colab": {
      "provenance": []
    },
    "kernelspec": {
      "display_name": "Python 3",
      "name": "python3"
    },
    "language_info": {
      "name": "python"
    }
  },
  "nbformat": 4,
  "nbformat_minor": 0
}
