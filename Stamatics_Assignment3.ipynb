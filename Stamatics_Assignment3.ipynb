{
 "cells": [
  {
   "cell_type": "markdown",
   "metadata": {
    "id": "1aabbIB92YA8"
   },
   "source": [
    "# Question 1 : Classification using Naive Bayes\n",
    "\n",
    "Can glucose and blood pressure data classify whether a patient has diabetes or not ? If yes, which classification algorithm should you use ?\n",
    "\n",
    "The dataset **diabetes_classification.csv** has 3 columns and 995 entries with the above data.\n",
    "\n",
    "\n",
    "1. Load the dataset."
   ]
  },
  {
   "cell_type": "code",
   "execution_count": 8,
   "metadata": {
    "id": "Ytm1udmGNwSl"
   },
   "outputs": [
    {
     "data": {
      "text/html": [
       "<div>\n",
       "<style scoped>\n",
       "    .dataframe tbody tr th:only-of-type {\n",
       "        vertical-align: middle;\n",
       "    }\n",
       "\n",
       "    .dataframe tbody tr th {\n",
       "        vertical-align: top;\n",
       "    }\n",
       "\n",
       "    .dataframe thead th {\n",
       "        text-align: right;\n",
       "    }\n",
       "</style>\n",
       "<table border=\"1\" class=\"dataframe\">\n",
       "  <thead>\n",
       "    <tr style=\"text-align: right;\">\n",
       "      <th></th>\n",
       "      <th>glucose</th>\n",
       "      <th>bloodpressure</th>\n",
       "      <th>diabetes</th>\n",
       "    </tr>\n",
       "  </thead>\n",
       "  <tbody>\n",
       "    <tr>\n",
       "      <th>0</th>\n",
       "      <td>40</td>\n",
       "      <td>85</td>\n",
       "      <td>0</td>\n",
       "    </tr>\n",
       "    <tr>\n",
       "      <th>1</th>\n",
       "      <td>40</td>\n",
       "      <td>92</td>\n",
       "      <td>0</td>\n",
       "    </tr>\n",
       "    <tr>\n",
       "      <th>2</th>\n",
       "      <td>45</td>\n",
       "      <td>63</td>\n",
       "      <td>1</td>\n",
       "    </tr>\n",
       "    <tr>\n",
       "      <th>3</th>\n",
       "      <td>45</td>\n",
       "      <td>80</td>\n",
       "      <td>0</td>\n",
       "    </tr>\n",
       "    <tr>\n",
       "      <th>4</th>\n",
       "      <td>40</td>\n",
       "      <td>73</td>\n",
       "      <td>1</td>\n",
       "    </tr>\n",
       "  </tbody>\n",
       "</table>\n",
       "</div>"
      ],
      "text/plain": [
       "   glucose  bloodpressure  diabetes\n",
       "0       40             85         0\n",
       "1       40             92         0\n",
       "2       45             63         1\n",
       "3       45             80         0\n",
       "4       40             73         1"
      ]
     },
     "execution_count": 8,
     "metadata": {},
     "output_type": "execute_result"
    }
   ],
   "source": [
    "import pandas as pd\n",
    "a = pd.read_csv(\"diabetes.csv\")\n",
    "a.head()"
   ]
  },
  {
   "cell_type": "markdown",
   "metadata": {
    "id": "vRcqHcd_5XUt"
   },
   "source": [
    "2. The dataset has two feature columns and one target column. Plot a bar graph or histogram showing the distribution of values in the feature columns (count of each value)."
   ]
  },
  {
   "cell_type": "code",
   "execution_count": 9,
   "metadata": {
    "id": "VdiNiiJdNy-K"
   },
   "outputs": [
    {
     "data": {
      "image/png": "[encoded data removed]",
      "text/plain": [
       "<Figure size 640x480 with 1 Axes>"
      ]
     },
     "metadata": {},
     "output_type": "display_data"
    }
   ],
   "source": [
    "import matplotlib.pyplot as plt\n",
    "\n",
    "plt.hist([a['glucose'], a['bloodpressure']],\n",
    "         label=['glucose', 'bloodpressure'])\n",
    "plt.xlabel('Level')\n",
    "plt.ylabel('No. of people')\n",
    "plt.legend()\n",
    "plt.show()"
   ]
  },
  {
   "cell_type": "markdown",
   "metadata": {
    "id": "Xa-7s9hL5tii"
   },
   "source": [
    " The feature column **glucose** has a somewhat Gaussian distribution of data. So we will try out Gaussian Naive Bayes classification for the data using Scikit-Learn.\n",
    "\n",
    "3. Split the dataset.\n",
    "4. Fit a Gaussian NB model on the data. Make predictions and find the accuracy score.\n",
    "\n",
    "Optional :\n",
    "5. Compare the model with other classification algorithms like Logistic Regression, KNN, decision tree etc."
   ]
  },
  {
   "cell_type": "code",
   "execution_count": 24,
   "metadata": {
    "id": "_qc64PVrN1-y"
   },
   "outputs": [
    {
     "name": "stdout",
     "output_type": "stream",
     "text": [
      "Accuracy Score : 0.723404255319149\n"
     ]
    }
   ],
   "source": [
    "from sklearn.model_selection import train_test_split\n",
    "from sklearn.naive_bayes import GaussianNB\n",
    "from sklearn.metrics import accuracy_score\n",
    "\n",
    "X = a[['glucose']]\n",
    "y = a['diabetes']\n",
    "\n",
    "X_train, X_test, y_train, y_test = train_test_split(\n",
    "    X, y, test_size=0.33)\n",
    "\n",
    "gnb = GaussianNB()\n",
    "gnb.fit(X_train, y_train)\n",
    "y_pred = gnb.predict(X_test)\n",
    "\n",
    "print(\"Accuracy Score :\", accuracy_score(y_test, y_pred))"
   ]
  },
  {
   "cell_type": "markdown",
   "metadata": {
    "id": "qSniomr219vK"
   },
   "source": [
    "# Question 2 : Regression using SVM and Tree Algorithms\n",
    "\n",
    "In this question, we will be using the **insurance.csv** file which contain information on insurance charges based on the following informations: age,sex,bmi,region,number of children and whether the person is a smoker or not. You need to predict the charges based on the information given.\n",
    "\n",
    "### 1. Load the data."
   ]
  },
  {
   "cell_type": "code",
   "execution_count": 30,
   "metadata": {
    "id": "TIzySehxN3nw"
   },
   "outputs": [
    {
     "data": {
      "text/html": [
       "<div>\n",
       "<style scoped>\n",
       "    .dataframe tbody tr th:only-of-type {\n",
       "        vertical-align: middle;\n",
       "    }\n",
       "\n",
       "    .dataframe tbody tr th {\n",
       "        vertical-align: top;\n",
       "    }\n",
       "\n",
       "    .dataframe thead th {\n",
       "        text-align: right;\n",
       "    }\n",
       "</style>\n",
       "<table border=\"1\" class=\"dataframe\">\n",
       "  <thead>\n",
       "    <tr style=\"text-align: right;\">\n",
       "      <th></th>\n",
       "      <th>age</th>\n",
       "      <th>sex</th>\n",
       "      <th>bmi</th>\n",
       "      <th>children</th>\n",
       "      <th>smoker</th>\n",
       "      <th>region</th>\n",
       "      <th>charges</th>\n",
       "    </tr>\n",
       "  </thead>\n",
       "  <tbody>\n",
       "    <tr>\n",
       "      <th>0</th>\n",
       "      <td>19</td>\n",
       "      <td>female</td>\n",
       "      <td>27.900</td>\n",
       "      <td>0</td>\n",
       "      <td>yes</td>\n",
       "      <td>southwest</td>\n",
       "      <td>16884.92400</td>\n",
       "    </tr>\n",
       "    <tr>\n",
       "      <th>1</th>\n",
       "      <td>18</td>\n",
       "      <td>male</td>\n",
       "      <td>33.770</td>\n",
       "      <td>1</td>\n",
       "      <td>no</td>\n",
       "      <td>southeast</td>\n",
       "      <td>1725.55230</td>\n",
       "    </tr>\n",
       "    <tr>\n",
       "      <th>2</th>\n",
       "      <td>28</td>\n",
       "      <td>male</td>\n",
       "      <td>33.000</td>\n",
       "      <td>3</td>\n",
       "      <td>no</td>\n",
       "      <td>southeast</td>\n",
       "      <td>4449.46200</td>\n",
       "    </tr>\n",
       "    <tr>\n",
       "      <th>3</th>\n",
       "      <td>33</td>\n",
       "      <td>male</td>\n",
       "      <td>22.705</td>\n",
       "      <td>0</td>\n",
       "      <td>no</td>\n",
       "      <td>northwest</td>\n",
       "      <td>21984.47061</td>\n",
       "    </tr>\n",
       "    <tr>\n",
       "      <th>4</th>\n",
       "      <td>32</td>\n",
       "      <td>male</td>\n",
       "      <td>28.880</td>\n",
       "      <td>0</td>\n",
       "      <td>no</td>\n",
       "      <td>northwest</td>\n",
       "      <td>3866.85520</td>\n",
       "    </tr>\n",
       "  </tbody>\n",
       "</table>\n",
       "</div>"
      ],
      "text/plain": [
       "   age     sex     bmi  children smoker     region      charges\n",
       "0   19  female  27.900         0    yes  southwest  16884.92400\n",
       "1   18    male  33.770         1     no  southeast   1725.55230\n",
       "2   28    male  33.000         3     no  southeast   4449.46200\n",
       "3   33    male  22.705         0     no  northwest  21984.47061\n",
       "4   32    male  28.880         0     no  northwest   3866.85520"
      ]
     },
     "execution_count": 30,
     "metadata": {},
     "output_type": "execute_result"
    }
   ],
   "source": [
    "import pandas as pd\n",
    "b= pd.read_csv(\"insurance.csv\")\n",
    "b.head()"
   ]
  },
  {
   "cell_type": "markdown",
   "metadata": {
    "id": "t3kLtntR2_wm"
   },
   "source": [
    "### 2. Separate the numerical and categorical columns.\n",
    "### 3. Label Encode the categorical columns.\n",
    "### 4. Scale the numerical columns. (Scale the charges separately so that you can calculate errors afterwards.)"
   ]
  },
  {
   "cell_type": "code",
   "execution_count": 61,
   "metadata": {
    "id": "B5BlzbzGN4vq"
   },
   "outputs": [],
   "source": [
    "from sklearn.preprocessing import LabelEncoder, StandardScaler\n",
    "\n",
    "numerical_cols = ['age', 'bmi', 'children', 'charges']\n",
    "categorical_cols = ['sex', 'smoker', 'region']\n",
    "\n",
    "label_encoder = LabelEncoder()\n",
    "b[categorical_cols] = b[categorical_cols].apply(\n",
    "    lambda col: label_encoder.fit_transform(col))\n",
    "\n",
    "charges = b['charges']\n",
    "b.drop('charges', axis=1)\n",
    "\n",
    "scaler = StandardScaler()\n",
    "b[numerical_cols] = scaler.fit_transform(b[numerical_cols])\n",
    "charges_scaler = StandardScaler()\n",
    "charges = scaler.fit_transform(charges.values.reshape(-1, 1))\n",
    "\n",
    "b['charges'] = charges"
   ]
  },
  {
   "cell_type": "markdown",
   "metadata": {
    "id": "KAr0_8zS3d4M"
   },
   "source": [
    "### 5. Split the data."
   ]
  },
  {
   "cell_type": "code",
   "execution_count": 62,
   "metadata": {
    "id": "q0puLu0rN6Gi"
   },
   "outputs": [],
   "source": [
    "from sklearn.model_selection import train_test_split\n",
    "\n",
    "X = b.iloc[0:1338, 0:6]\n",
    "y = b.iloc[0:1338, 6]\n",
    "\n",
    "X_train, X_test, y_train, y_test = train_test_split(X, y, test_size=0.20)\n"
   ]
  },
  {
   "cell_type": "markdown",
   "metadata": {
    "id": "9JKtZ3nN3gmZ"
   },
   "source": [
    "### 6. Support Vector Regressor\n",
    "\n",
    "Here , you will use the SVR model from sklearn.svm and fit it on the training data. Then predict on the test data and calaculate MAE, MSE. But...\n",
    "\n",
    "The SVR class contains many hyperparameters, example : kernel can have the following values : linear, rbf, poly, sigmoid.\n",
    "\n",
    "Use **RandomizedSearchCV** from sklearn.model_selection , create a dictionary with keys 'kernel' and 'gamma' . As values of the keys, create a list of some possible values. Run a 3-fold cross validation test (cv=3) and find the best parameters. Then initiate the SVR model with those parameters."
   ]
  },
  {
   "cell_type": "code",
   "execution_count": 63,
   "metadata": {
    "id": "TTXaAbc7N7oS"
   },
   "outputs": [
    {
     "name": "stdout",
     "output_type": "stream",
     "text": [
      "Mean Absolute Error : 0.19964944448161415\n",
      "Mean Squared Error : 0.14579117734945954\n"
     ]
    }
   ],
   "source": [
    "from sklearn.svm import SVR\n",
    "from sklearn.model_selection import RandomizedSearchCV\n",
    "from sklearn.metrics import mean_absolute_error, mean_squared_error\n",
    "\n",
    "hyperparameters = {\n",
    "    'kernel': ['linear', 'rbf', 'poly', 'sigmoid'],\n",
    "    'gamma': [0.1, 0.01, 0.001]\n",
    "}\n",
    "\n",
    "svr = SVR()\n",
    "\n",
    "# creating a RandomizedSearchCV object\n",
    "random_search = RandomizedSearchCV(\n",
    "    estimator=svr, param_distributions=hyperparameters, cv=3, n_iter=12, random_state=42)\n",
    "random_search.fit(X_train, y_train)\n",
    "\n",
    "# getting the best parameters found by RandomizedSearchCV\n",
    "best_hyperparameters = random_search.best_params_\n",
    "\n",
    "# initializing an SVR model with the best parameters\n",
    "best_svr = SVR(\n",
    "    kernel=best_hyperparameters['kernel'], gamma=best_hyperparameters['gamma'])\n",
    "best_svr.fit(X_train, y_train)\n",
    "\n",
    "predictions = best_svr.predict(X_test)\n",
    "\n",
    "print(\"Mean Absolute Error :\", mean_absolute_error(y_test, predictions))\n",
    "print(\"Mean Squared Error :\", mean_squared_error(y_test, predictions))\n"
   ]
  },
  {
   "cell_type": "markdown",
   "metadata": {
    "id": "KGt147zA5E6f"
   },
   "source": [
    "### 7. AdaBoost Regressor\n",
    "\n",
    "We would do similar for AdaBoostRegressor from sklearn.ensemble . Here, the hyperparameters are n_estimators and loss.\n",
    "\n",
    "Instead of RandomizedSearchCV, let's try GridSearchCV . Find the best parameters and then find errors on test data using the model with best parameters."
   ]
  },
  {
   "cell_type": "code",
   "execution_count": 64,
   "metadata": {
    "id": "u5c-EFdtN9Wt"
   },
   "outputs": [
    {
     "name": "stdout",
     "output_type": "stream",
     "text": [
      "Mean Absolute Error (MAE): 0.36250105568776037\n",
      "Mean Squared Error (MSE): 0.18127743423295598\n"
     ]
    }
   ],
   "source": [
    "from sklearn.ensemble import AdaBoostRegressor\n",
    "from sklearn.model_selection import GridSearchCV\n",
    "\n",
    "hyperparameters = {\n",
    "    'n_estimators': [50, 100, 200],\n",
    "    'loss': ['linear', 'square', 'exponential']\n",
    "}\n",
    "\n",
    "adaboost = AdaBoostRegressor()\n",
    "\n",
    "# creating a GridSearchCV object\n",
    "grid_search = GridSearchCV(\n",
    "    estimator=adaboost, param_grid=hyperparameters, cv=3)\n",
    "grid_search.fit(X_train, y_train)\n",
    "\n",
    "# getting the best parameters found by GridSearchCV\n",
    "best_hyperparameters = grid_search.best_params_\n",
    "\n",
    "# initializing an AdaBoostRegressor model with the best parameters\n",
    "best_adaboost = AdaBoostRegressor(\n",
    "    n_estimators=best_hyperparameters['n_estimators'], loss=best_hyperparameters['loss'])\n",
    "best_adaboost.fit(X_train, y_train)\n",
    "\n",
    "predictions = best_adaboost.predict(X_test)\n",
    "print(\"Mean Absolute Error (MAE):\", mean_absolute_error(y_test, predictions))\n",
    "print(\"Mean Squared Error (MSE):\",  mean_squared_error(y_test, predictions))\n"
   ]
  },
  {
   "cell_type": "markdown",
   "metadata": {
    "id": "oW11faHs5nH_"
   },
   "source": [
    "8. Now carry the same procedure for Random Forest Regressor and for Gradient Boosting Regression.\n",
    "9. Finally, use <a href=\"https://xgboost.readthedocs.io/en/stable/get_started.html\"> XGBoost Regressor </a> and compare all the models. Comment which model had the least error (MAE and MSE).\n",
    "You will be required to run  <code> !pip install xgboost </code> to import xgboost models."
   ]
  },
  {
   "cell_type": "code",
   "execution_count": 66,
   "metadata": {
    "id": "bg_amvWHOAJG"
   },
   "outputs": [
    {
     "name": "stdout",
     "output_type": "stream",
     "text": [
      "Random Forest Regressor :\n",
      "MAE : 0.20087943797335583\n",
      "MSE : 0.12901862060067426\n",
      "\n",
      "Gradient Boosting Regression :\n",
      "MAE : 0.19309221692586073\n",
      "MSE : 0.11980170295369907\n",
      "\n",
      "XGBoost Regressor :\n",
      "MAE : 0.24616319103497067\n",
      "MSE : 0.18078499549772292\n",
      "\n",
      "The Gradient Boosting Regression Model has the least error\n"
     ]
    }
   ],
   "source": [
    "from sklearn.ensemble import RandomForestRegressor, GradientBoostingRegressor\n",
    "from xgboost import XGBRegressor\n",
    "\n",
    "# Random Forest Regressor\n",
    "hyperparameters_rf = {\n",
    "    'n_estimators': [50, 100, 200],\n",
    "    'max_depth': [None, 5, 10]\n",
    "}\n",
    "\n",
    "rf = RandomForestRegressor()\n",
    "grid_search_rf = GridSearchCV(\n",
    "    estimator=rf, param_grid=hyperparameters_rf, cv=3)\n",
    "grid_search_rf.fit(X_train, y_train)\n",
    "best_hyperparameters_rf = grid_search_rf.best_params_\n",
    "best_rf = RandomForestRegressor(\n",
    "    n_estimators=best_hyperparameters_rf['n_estimators'], max_depth=best_hyperparameters_rf['max_depth'])\n",
    "best_rf.fit(X_train, y_train)\n",
    "rf_predictions = best_rf.predict(X_test)\n",
    "\n",
    "print(\"Random Forest Regressor :\")\n",
    "print(\"MAE :\", mean_absolute_error(y_test, rf_predictions))\n",
    "print(\"MSE :\", mean_squared_error(y_test, rf_predictions))\n",
    "print()\n",
    "\n",
    "# Gradient Boosting Regression\n",
    "hyperparameters_gb = {\n",
    "    'n_estimators': [50, 100, 200],\n",
    "    'learning_rate': [0.1, 0.05, 0.01]\n",
    "}\n",
    "\n",
    "gb = GradientBoostingRegressor()\n",
    "grid_search_gb = GridSearchCV(\n",
    "    estimator=gb, param_grid=hyperparameters_gb, cv=3)\n",
    "grid_search_gb.fit(X_train, y_train)\n",
    "best_hyperparameters_gb = grid_search_gb.best_params_\n",
    "best_gb = GradientBoostingRegressor(\n",
    "    n_estimators=best_hyperparameters_gb['n_estimators'], learning_rate=best_hyperparameters_gb['learning_rate'])\n",
    "best_gb.fit(X_train, y_train)\n",
    "gb_predictions = best_gb.predict(X_test)\n",
    "print(\"Gradient Boosting Regression :\")\n",
    "print(\"MAE :\", mean_absolute_error(y_test, gb_predictions))\n",
    "print(\"MSE :\", mean_squared_error(y_test, gb_predictions))\n",
    "print()\n",
    "\n",
    "# XGBoost Regressor\n",
    "xgb = XGBRegressor()\n",
    "xgb.fit(X_train, y_train)\n",
    "xgb_predictions = xgb.predict(X_test)\n",
    "\n",
    "print(\"XGBoost Regressor :\")\n",
    "print(\"MAE :\", mean_absolute_error(y_test, xgb_predictions))\n",
    "print(\"MSE :\", mean_squared_error(y_test, xgb_predictions))\n",
    "print()\n",
    "\n",
    "print(\"The Gradient Boosting Regression Model has the least error\")"
   ]
  },
  {
   "cell_type": "markdown",
   "metadata": {
    "id": "kMMzdz1e3YMp"
   },
   "source": [
    "# Question 3 : Classification using SVM and Tree Algorithms\n",
    "\n",
    "In this question, we will be using the **bookmyshow_ads.csv** file which contain information on whether an url is spam or not based on 32 features. You need to classify the url as spam or not spam based on the information given.\n",
    "\n",
    "### 1. Load the data."
   ]
  },
  {
   "cell_type": "code",
   "execution_count": 67,
   "metadata": {
    "id": "HZTHOA-KOLTw"
   },
   "outputs": [
    {
     "data": {
      "text/html": [
       "<div>\n",
       "<style scoped>\n",
       "    .dataframe tbody tr th:only-of-type {\n",
       "        vertical-align: middle;\n",
       "    }\n",
       "\n",
       "    .dataframe tbody tr th {\n",
       "        vertical-align: top;\n",
       "    }\n",
       "\n",
       "    .dataframe thead th {\n",
       "        text-align: right;\n",
       "    }\n",
       "</style>\n",
       "<table border=\"1\" class=\"dataframe\">\n",
       "  <thead>\n",
       "    <tr style=\"text-align: right;\">\n",
       "      <th></th>\n",
       "      <th>index</th>\n",
       "      <th>having_IPhaving_IP_Address</th>\n",
       "      <th>URLURL_Length</th>\n",
       "      <th>Shortining_Service</th>\n",
       "      <th>having_At_Symbol</th>\n",
       "      <th>double_slash_redirecting</th>\n",
       "      <th>Prefix_Suffix</th>\n",
       "      <th>having_Sub_Domain</th>\n",
       "      <th>SSLfinal_State</th>\n",
       "      <th>Domain_registeration_length</th>\n",
       "      <th>...</th>\n",
       "      <th>popUpWidnow</th>\n",
       "      <th>Iframe</th>\n",
       "      <th>age_of_domain</th>\n",
       "      <th>DNSRecord</th>\n",
       "      <th>web_traffic</th>\n",
       "      <th>Page_Rank</th>\n",
       "      <th>Google_Index</th>\n",
       "      <th>Links_pointing_to_page</th>\n",
       "      <th>Statistical_report</th>\n",
       "      <th>Result</th>\n",
       "    </tr>\n",
       "  </thead>\n",
       "  <tbody>\n",
       "    <tr>\n",
       "      <th>0</th>\n",
       "      <td>1</td>\n",
       "      <td>0</td>\n",
       "      <td>1</td>\n",
       "      <td>1</td>\n",
       "      <td>1</td>\n",
       "      <td>0</td>\n",
       "      <td>0</td>\n",
       "      <td>0</td>\n",
       "      <td>0</td>\n",
       "      <td>0</td>\n",
       "      <td>...</td>\n",
       "      <td>1</td>\n",
       "      <td>1</td>\n",
       "      <td>0</td>\n",
       "      <td>0</td>\n",
       "      <td>0</td>\n",
       "      <td>0</td>\n",
       "      <td>1</td>\n",
       "      <td>1</td>\n",
       "      <td>0</td>\n",
       "      <td>0</td>\n",
       "    </tr>\n",
       "    <tr>\n",
       "      <th>1</th>\n",
       "      <td>2</td>\n",
       "      <td>1</td>\n",
       "      <td>1</td>\n",
       "      <td>1</td>\n",
       "      <td>1</td>\n",
       "      <td>1</td>\n",
       "      <td>0</td>\n",
       "      <td>-1</td>\n",
       "      <td>1</td>\n",
       "      <td>0</td>\n",
       "      <td>...</td>\n",
       "      <td>1</td>\n",
       "      <td>1</td>\n",
       "      <td>0</td>\n",
       "      <td>0</td>\n",
       "      <td>-1</td>\n",
       "      <td>0</td>\n",
       "      <td>1</td>\n",
       "      <td>1</td>\n",
       "      <td>1</td>\n",
       "      <td>0</td>\n",
       "    </tr>\n",
       "    <tr>\n",
       "      <th>2</th>\n",
       "      <td>3</td>\n",
       "      <td>1</td>\n",
       "      <td>-1</td>\n",
       "      <td>1</td>\n",
       "      <td>1</td>\n",
       "      <td>1</td>\n",
       "      <td>0</td>\n",
       "      <td>0</td>\n",
       "      <td>0</td>\n",
       "      <td>0</td>\n",
       "      <td>...</td>\n",
       "      <td>1</td>\n",
       "      <td>1</td>\n",
       "      <td>1</td>\n",
       "      <td>0</td>\n",
       "      <td>1</td>\n",
       "      <td>0</td>\n",
       "      <td>1</td>\n",
       "      <td>-1</td>\n",
       "      <td>0</td>\n",
       "      <td>0</td>\n",
       "    </tr>\n",
       "    <tr>\n",
       "      <th>3</th>\n",
       "      <td>4</td>\n",
       "      <td>1</td>\n",
       "      <td>-1</td>\n",
       "      <td>1</td>\n",
       "      <td>1</td>\n",
       "      <td>1</td>\n",
       "      <td>0</td>\n",
       "      <td>0</td>\n",
       "      <td>0</td>\n",
       "      <td>1</td>\n",
       "      <td>...</td>\n",
       "      <td>1</td>\n",
       "      <td>1</td>\n",
       "      <td>0</td>\n",
       "      <td>0</td>\n",
       "      <td>1</td>\n",
       "      <td>0</td>\n",
       "      <td>1</td>\n",
       "      <td>0</td>\n",
       "      <td>1</td>\n",
       "      <td>0</td>\n",
       "    </tr>\n",
       "    <tr>\n",
       "      <th>4</th>\n",
       "      <td>5</td>\n",
       "      <td>1</td>\n",
       "      <td>-1</td>\n",
       "      <td>0</td>\n",
       "      <td>1</td>\n",
       "      <td>1</td>\n",
       "      <td>0</td>\n",
       "      <td>1</td>\n",
       "      <td>1</td>\n",
       "      <td>0</td>\n",
       "      <td>...</td>\n",
       "      <td>0</td>\n",
       "      <td>1</td>\n",
       "      <td>0</td>\n",
       "      <td>0</td>\n",
       "      <td>-1</td>\n",
       "      <td>0</td>\n",
       "      <td>1</td>\n",
       "      <td>1</td>\n",
       "      <td>1</td>\n",
       "      <td>1</td>\n",
       "    </tr>\n",
       "  </tbody>\n",
       "</table>\n",
       "<p>5 rows × 32 columns</p>\n",
       "</div>"
      ],
      "text/plain": [
       "  index  having_IPhaving_IP_Address  URLURL_Length  Shortining_Service   \n",
       "0     1                           0              1                   1  \\\n",
       "1     2                           1              1                   1   \n",
       "2     3                           1             -1                   1   \n",
       "3     4                           1             -1                   1   \n",
       "4     5                           1             -1                   0   \n",
       "\n",
       "   having_At_Symbol  double_slash_redirecting  Prefix_Suffix   \n",
       "0                 1                         0              0  \\\n",
       "1                 1                         1              0   \n",
       "2                 1                         1              0   \n",
       "3                 1                         1              0   \n",
       "4                 1                         1              0   \n",
       "\n",
       "   having_Sub_Domain  SSLfinal_State  Domain_registeration_length  ...   \n",
       "0                  0               0                            0  ...  \\\n",
       "1                 -1               1                            0  ...   \n",
       "2                  0               0                            0  ...   \n",
       "3                  0               0                            1  ...   \n",
       "4                  1               1                            0  ...   \n",
       "\n",
       "   popUpWidnow  Iframe  age_of_domain  DNSRecord  web_traffic  Page_Rank   \n",
       "0            1       1              0          0            0          0  \\\n",
       "1            1       1              0          0           -1          0   \n",
       "2            1       1              1          0            1          0   \n",
       "3            1       1              0          0            1          0   \n",
       "4            0       1              0          0           -1          0   \n",
       "\n",
       "   Google_Index  Links_pointing_to_page  Statistical_report  Result  \n",
       "0             1                       1                   0       0  \n",
       "1             1                       1                   1       0  \n",
       "2             1                      -1                   0       0  \n",
       "3             1                       0                   1       0  \n",
       "4             1                       1                   1       1  \n",
       "\n",
       "[5 rows x 32 columns]"
      ]
     },
     "execution_count": 67,
     "metadata": {},
     "output_type": "execute_result"
    }
   ],
   "source": [
    "import pandas as pd\n",
    "c= pd.read_csv(\"bookmyshow_ads.csv\")\n",
    "c.head()"
   ]
  },
  {
   "cell_type": "markdown",
   "metadata": {
    "id": "BcqJmRVyLHFU"
   },
   "source": [
    "### 2. Split the data."
   ]
  },
  {
   "cell_type": "code",
   "execution_count": 68,
   "metadata": {
    "id": "7b7dtEdwOMnQ"
   },
   "outputs": [],
   "source": [
    "X = c.iloc[0:11056, 1:31]\n",
    "y = c.iloc[0:11056, 31]\n",
    "\n",
    "X_train, X_test, y_train, y_test = train_test_split(X, y, test_size=0.20)"
   ]
  },
  {
   "cell_type": "markdown",
   "metadata": {
    "id": "KKX0BSiILMPe"
   },
   "source": [
    "### 3. Model Comparison\n",
    "\n",
    "Similar to the previous question, use the following classifier models from sklearn and compare them:\n",
    "1. Decision Tree\n",
    "2. Random Forest\n",
    "3. Adaboost\n",
    "4. Gradient Boost\n",
    "5. XGBoost\n",
    "\n",
    "For each model, you may also try to find the best hyperparameters using GridSearch Cross Validation or RandomizedSearch Cross Validation."
   ]
  },
  {
   "cell_type": "code",
   "execution_count": 69,
   "metadata": {
    "id": "YaTC1pJFOPNF"
   },
   "outputs": [
    {
     "name": "stdout",
     "output_type": "stream",
     "text": [
      "Decision Tree Classifier Accuracy : 0.9674355495251018\n",
      "Random Forest Classifier Accuracy : 0.973767526006332\n",
      "AdaBoost Classifier Accuracy : 0.9330619629127092\n",
      "Gradient Boosting Classifier Accuracy : 0.9516056083220262\n",
      "XGBoost Classifier Accuracy : 0.9719583898688376\n"
     ]
    }
   ],
   "source": [
    "from sklearn.tree import DecisionTreeClassifier\n",
    "from sklearn.ensemble import RandomForestClassifier, AdaBoostClassifier, GradientBoostingClassifier\n",
    "from sklearn.model_selection import GridSearchCV\n",
    "from xgboost import XGBClassifier\n",
    "from sklearn.metrics import accuracy_score\n",
    "# Decision Tree Classifier\n",
    "hyperparameters_dt = {\n",
    "    'criterion': ['gini', 'entropy'],\n",
    "    'max_depth': [None, 5, 10],\n",
    "    'min_samples_split': [2, 5, 10],\n",
    "    'min_samples_leaf': [1, 2, 4]\n",
    "}\n",
    "\n",
    "dt = DecisionTreeClassifier()\n",
    "grid_search_dt = GridSearchCV(\n",
    "    estimator=dt, param_grid=hyperparameters_dt, cv=3)\n",
    "grid_search_dt.fit(X_train, y_train)\n",
    "best_hyperparameters_dt = grid_search_dt.best_params_\n",
    "best_dt = DecisionTreeClassifier(criterion=best_hyperparameters_dt['criterion'],\n",
    "                                 max_depth=best_hyperparameters_dt['max_depth'],\n",
    "                                 min_samples_split=best_hyperparameters_dt['min_samples_split'],\n",
    "                                 min_samples_leaf=best_hyperparameters_dt['min_samples_leaf'])\n",
    "best_dt.fit(X_train, y_train)\n",
    "\n",
    "dt_predictions = best_dt.predict(X_test)\n",
    "print(\"Decision Tree Classifier Accuracy :\",\n",
    "      accuracy_score(y_test, dt_predictions))\n",
    "# Random Forest Classifier\n",
    "hyperparameters_rf = {\n",
    "    'n_estimators': [50, 100, 200],\n",
    "    'max_depth': [None, 5, 10]\n",
    "}\n",
    "\n",
    "rf = RandomForestClassifier()\n",
    "grid_search_rf = GridSearchCV(\n",
    "    estimator=rf, param_grid=hyperparameters_rf, cv=3)\n",
    "grid_search_rf.fit(X_train, y_train)\n",
    "best_hyperparameters_rf = grid_search_rf.best_params_\n",
    "best_rf = RandomForestClassifier(\n",
    "    n_estimators=best_hyperparameters_rf['n_estimators'], max_depth=best_hyperparameters_rf['max_depth'])\n",
    "best_rf.fit(X_train, y_train)\n",
    "\n",
    "rf_predictions = best_rf.predict(X_test)\n",
    "print(\"Random Forest Classifier Accuracy :\",\n",
    "      accuracy_score(y_test, rf_predictions))\n",
    "# AdaBoost Classifier\n",
    "hyperparameters_adaboost = {\n",
    "    'n_estimators': [50, 100, 200],\n",
    "    'learning_rate': [0.1, 0.05, 0.01]\n",
    "}\n",
    "\n",
    "adaboost = AdaBoostClassifier()\n",
    "grid_search_adaboost = GridSearchCV(\n",
    "    estimator=adaboost, param_grid=hyperparameters_adaboost, cv=3)\n",
    "grid_search_adaboost.fit(X_train, y_train)\n",
    "best_hyperparameters_adaboost = grid_search_adaboost.best_params_\n",
    "best_adaboost = AdaBoostClassifier(\n",
    "    n_estimators=best_hyperparameters_adaboost['n_estimators'], learning_rate=best_hyperparameters_adaboost['learning_rate'])\n",
    "best_adaboost.fit(X_train, y_train)\n",
    "\n",
    "adaboost_predictions = best_adaboost.predict(X_test)\n",
    "print(\"AdaBoost Classifier Accuracy :\",\n",
    "      accuracy_score(y_test, adaboost_predictions))\n",
    "\n",
    "# Gradient Boosting Classifier\n",
    "hyperparameters_gb_gb = {\n",
    "    'n_estimators': [50, 100, 200],\n",
    "    'learning_rate': [0.1, 0.05, 0.01]\n",
    "}\n",
    "\n",
    "gb = GradientBoostingClassifier()\n",
    "grid_search_gb = GridSearchCV(\n",
    "    estimator=gb, param_grid=hyperparameters_gb, cv=3)\n",
    "grid_search_gb.fit(X_train, y_train)\n",
    "best_hyperparameters_gb = grid_search_gb.best_params_\n",
    "best_gb = GradientBoostingClassifier(\n",
    "    n_estimators=best_hyperparameters_gb['n_estimators'], learning_rate=best_hyperparameters_gb['learning_rate'])\n",
    "best_gb.fit(X_train, y_train)\n",
    "\n",
    "gb_predictions = best_gb.predict(X_test)\n",
    "print(\"Gradient Boosting Classifier Accuracy :\",\n",
    "      accuracy_score(y_test, gb_predictions))\n",
    "\n",
    "# XGBoost Classifier\n",
    "xgb = XGBClassifier()\n",
    "xgb.fit(X_train, y_train)\n",
    "\n",
    "xgb_predictions = xgb.predict(X_test)\n",
    "print(\"XGBoost Classifier Accuracy :\", accuracy_score(y_test, xgb_predictions))\n",
    "\n"
   ]
  },
  {
   "cell_type": "markdown",
   "metadata": {
    "id": "AbMIyf8ouk1u"
   },
   "source": [
    "# Question 4 : Clustering\n",
    "\n",
    "Customer Segmentation is the subdivision of a market into discrete customer groups that share similar characteristics. Customer Segmentation can be a powerful means to identify unsatisfied customer needs.\n",
    "\n",
    "The csv file **segmentation data.csv** contains basic data about some customers like Customer ID, age, gender, annual income and spending score. You want to classify the customers into different groups so that marketing strategy could be planned in the future accordingly. How many different groups should be made ? What should be the approach ?\n",
    "\n",
    "This is an Unsupervised Learning question since it doesn't provide you with labels - the groups. \n",
    "\n",
    "### 1. Import the necessary modules"
   ]
  },
  {
   "cell_type": "code",
   "execution_count": 41,
   "metadata": {
    "id": "_UKGseStOQgk"
   },
   "outputs": [],
   "source": [
    "import numpy as np\n",
    "import pandas as pd\n",
    "from sklearn.preprocessing import StandardScaler\n",
    "import matplotlib.pyplot as plt\n",
    "from sklearn.cluster import KMeans\n",
    "from sklearn.metrics import silhouette_score\n",
    "from sklearn.cluster import DBSCAN"
   ]
  },
  {
   "cell_type": "markdown",
   "metadata": {
    "id": "FXs9rQC0u3_S"
   },
   "source": [
    "### 2. Read the csv file \"segmentation data.csv\" present in the Github repository as a Pandas DataFrame."
   ]
  },
  {
   "cell_type": "code",
   "execution_count": 82,
   "metadata": {
    "id": "bfiso96cORzB"
   },
   "outputs": [
    {
     "data": {
      "text/html": [
       "<div>\n",
       "<style scoped>\n",
       "    .dataframe tbody tr th:only-of-type {\n",
       "        vertical-align: middle;\n",
       "    }\n",
       "\n",
       "    .dataframe tbody tr th {\n",
       "        vertical-align: top;\n",
       "    }\n",
       "\n",
       "    .dataframe thead th {\n",
       "        text-align: right;\n",
       "    }\n",
       "</style>\n",
       "<table border=\"1\" class=\"dataframe\">\n",
       "  <thead>\n",
       "    <tr style=\"text-align: right;\">\n",
       "      <th></th>\n",
       "      <th>ID</th>\n",
       "      <th>Sex</th>\n",
       "      <th>Marital status</th>\n",
       "      <th>Age</th>\n",
       "      <th>Education</th>\n",
       "      <th>Income</th>\n",
       "      <th>Occupation</th>\n",
       "      <th>Settlement size</th>\n",
       "    </tr>\n",
       "  </thead>\n",
       "  <tbody>\n",
       "    <tr>\n",
       "      <th>0</th>\n",
       "      <td>100000001</td>\n",
       "      <td>0</td>\n",
       "      <td>0</td>\n",
       "      <td>67</td>\n",
       "      <td>2</td>\n",
       "      <td>124670</td>\n",
       "      <td>1</td>\n",
       "      <td>2</td>\n",
       "    </tr>\n",
       "    <tr>\n",
       "      <th>1</th>\n",
       "      <td>100000002</td>\n",
       "      <td>1</td>\n",
       "      <td>1</td>\n",
       "      <td>22</td>\n",
       "      <td>1</td>\n",
       "      <td>150773</td>\n",
       "      <td>1</td>\n",
       "      <td>2</td>\n",
       "    </tr>\n",
       "    <tr>\n",
       "      <th>2</th>\n",
       "      <td>100000003</td>\n",
       "      <td>0</td>\n",
       "      <td>0</td>\n",
       "      <td>49</td>\n",
       "      <td>1</td>\n",
       "      <td>89210</td>\n",
       "      <td>0</td>\n",
       "      <td>0</td>\n",
       "    </tr>\n",
       "    <tr>\n",
       "      <th>3</th>\n",
       "      <td>100000004</td>\n",
       "      <td>0</td>\n",
       "      <td>0</td>\n",
       "      <td>45</td>\n",
       "      <td>1</td>\n",
       "      <td>171565</td>\n",
       "      <td>1</td>\n",
       "      <td>1</td>\n",
       "    </tr>\n",
       "    <tr>\n",
       "      <th>4</th>\n",
       "      <td>100000005</td>\n",
       "      <td>0</td>\n",
       "      <td>0</td>\n",
       "      <td>53</td>\n",
       "      <td>1</td>\n",
       "      <td>149031</td>\n",
       "      <td>1</td>\n",
       "      <td>1</td>\n",
       "    </tr>\n",
       "  </tbody>\n",
       "</table>\n",
       "</div>"
      ],
      "text/plain": [
       "          ID  Sex  Marital status  Age  Education  Income  Occupation   \n",
       "0  100000001    0               0   67          2  124670           1  \\\n",
       "1  100000002    1               1   22          1  150773           1   \n",
       "2  100000003    0               0   49          1   89210           0   \n",
       "3  100000004    0               0   45          1  171565           1   \n",
       "4  100000005    0               0   53          1  149031           1   \n",
       "\n",
       "   Settlement size  \n",
       "0                2  \n",
       "1                2  \n",
       "2                0  \n",
       "3                1  \n",
       "4                1  "
      ]
     },
     "execution_count": 82,
     "metadata": {},
     "output_type": "execute_result"
    }
   ],
   "source": [
    "d=pd.read_csv(\"segmentation data.csv\")\n",
    "d.head()"
   ]
  },
  {
   "cell_type": "markdown",
   "metadata": {
    "id": "pkoXSkGvvEfQ"
   },
   "source": [
    "### 3. Do the necessary preprocessing of the data.\n",
    "\n",
    "> Drop unwanted columns.\n",
    "\n",
    "> Check for null values.\n",
    "\n",
    "> Scale the numerical columns.\n",
    "\n",
    "> Additionally, you may also make the Age column have categorical values. How ? Apply some function that makes age groups turns all ages in some group to a particular number !\n",
    "\n",
    "Note : Don't do everything in a single code block ! Do it step-by-step and show output for each step."
   ]
  },
  {
   "cell_type": "code",
   "execution_count": 83,
   "metadata": {
    "id": "R8T3S0J0OUS_"
   },
   "outputs": [
    {
     "name": "stdout",
     "output_type": "stream",
     "text": [
      "      Sex  Marital status  Age  Education  Income  Occupation  Settlement size\n",
      "0       0               0   67          2  124670           1                2\n",
      "1       1               1   22          1  150773           1                2\n",
      "2       0               0   49          1   89210           0                0\n",
      "3       0               0   45          1  171565           1                1\n",
      "4       0               0   53          1  149031           1                1\n",
      "...   ...             ...  ...        ...     ...         ...              ...\n",
      "1995    1               0   47          1  123525           0                0\n",
      "1996    1               1   27          1  117744           1                0\n",
      "1997    0               0   31          0   86400           0                0\n",
      "1998    1               1   24          1   97968           0                0\n",
      "1999    0               0   25          0   68416           0                0\n",
      "\n",
      "[2000 rows x 7 columns]\n"
     ]
    }
   ],
   "source": [
    "d = d.drop('ID', axis=1)\n",
    "print(d)"
   ]
  },
  {
   "cell_type": "code",
   "execution_count": 84,
   "metadata": {},
   "outputs": [
    {
     "name": "stdout",
     "output_type": "stream",
     "text": [
      "<class 'pandas.core.frame.DataFrame'>\n",
      "RangeIndex: 2000 entries, 0 to 1999\n",
      "Data columns (total 7 columns):\n",
      " #   Column           Non-Null Count  Dtype\n",
      "---  ------           --------------  -----\n",
      " 0   Sex              2000 non-null   int64\n",
      " 1   Marital status   2000 non-null   int64\n",
      " 2   Age              2000 non-null   int64\n",
      " 3   Education        2000 non-null   int64\n",
      " 4   Income           2000 non-null   int64\n",
      " 5   Occupation       2000 non-null   int64\n",
      " 6   Settlement size  2000 non-null   int64\n",
      "dtypes: int64(7)\n",
      "memory usage: 109.5 KB\n",
      "None\n"
     ]
    }
   ],
   "source": [
    "print(d.info())"
   ]
  },
  {
   "cell_type": "code",
   "execution_count": 85,
   "metadata": {},
   "outputs": [
    {
     "name": "stdout",
     "output_type": "stream",
     "text": [
      "      Sex  Marital status  Education  Income  Occupation  Settlement size   \n",
      "0       0               0          2  124670           1                2  \\\n",
      "1       1               1          1  150773           1                2   \n",
      "2       0               0          1   89210           0                0   \n",
      "3       0               0          1  171565           1                1   \n",
      "4       0               0          1  149031           1                1   \n",
      "...   ...             ...        ...     ...         ...              ...   \n",
      "1995    1               0          1  123525           0                0   \n",
      "1996    1               1          1  117744           1                0   \n",
      "1997    0               0          0   86400           0                0   \n",
      "1998    1               1          1   97968           0                0   \n",
      "1999    0               0          0   68416           0                0   \n",
      "\n",
      "     Age_Groups  \n",
      "0             3  \n",
      "1             0  \n",
      "2             2  \n",
      "3             1  \n",
      "4             2  \n",
      "...         ...  \n",
      "1995          1  \n",
      "1996          0  \n",
      "1997          0  \n",
      "1998          0  \n",
      "1999          0  \n",
      "\n",
      "[2000 rows x 7 columns]\n"
     ]
    }
   ],
   "source": [
    "d['Age_Groups'] = pd.cut(d['Age'].values, bins=4,\n",
    "                          labels=[0, 1, 2, 3])\n",
    "d = d.drop(columns=['Age'])\n",
    "print(d)"
   ]
  },
  {
   "cell_type": "code",
   "execution_count": 74,
   "metadata": {},
   "outputs": [
    {
     "name": "stdout",
     "output_type": "stream",
     "text": [
      "           Sex  Marital status  Education    Income  Occupation   \n",
      "0    -0.917399       -0.993024   1.604323  0.097524    0.296823  \\\n",
      "1     1.090038        1.007025  -0.063372  0.782654    0.296823   \n",
      "2    -0.917399       -0.993024  -0.063372 -0.833202   -1.269525   \n",
      "3    -0.917399       -0.993024  -0.063372  1.328386    0.296823   \n",
      "4    -0.917399       -0.993024  -0.063372  0.736932    0.296823   \n",
      "...        ...             ...        ...       ...         ...   \n",
      "1995  1.090038       -0.993024  -0.063372  0.067471   -1.269525   \n",
      "1996  1.090038        1.007025  -0.063372 -0.084265    0.296823   \n",
      "1997 -0.917399       -0.993024  -1.731068 -0.906957   -1.269525   \n",
      "1998  1.090038        1.007025  -0.063372 -0.603329   -1.269525   \n",
      "1999 -0.917399       -0.993024  -1.731068 -1.378987   -1.269525   \n",
      "\n",
      "      Settlement size  Age_Groups  \n",
      "0            1.552326    2.684558  \n",
      "1            1.552326   -0.871933  \n",
      "2           -0.909730    1.499061  \n",
      "3            0.321298    0.313564  \n",
      "4            0.321298    1.499061  \n",
      "...               ...         ...  \n",
      "1995        -0.909730    0.313564  \n",
      "1996        -0.909730   -0.871933  \n",
      "1997        -0.909730   -0.871933  \n",
      "1998        -0.909730   -0.871933  \n",
      "1999        -0.909730   -0.871933  \n",
      "\n",
      "[2000 rows x 7 columns]\n"
     ]
    }
   ],
   "source": [
    "numerical_cols = ['Sex', 'Marital status', 'Education',\n",
    "                  'Income', 'Occupation', 'Settlement size', 'Age_Groups']\n",
    "scaler = StandardScaler()\n",
    "d[numerical_cols] = scaler.fit_transform(d[numerical_cols])\n",
    "print(d)"
   ]
  },
  {
   "cell_type": "markdown",
   "metadata": {
    "id": "GI5spEOLB2Sw"
   },
   "source": [
    "### 4. KMeans Model Training - Scikit-Learn\n",
    "\n",
    "At first, let's try to implement KMeans Clustering using sklearn.clusters.KMeans .\n",
    "\n",
    "How to decide for the value 'K' ?\n",
    "\n",
    "Read the following blog. It provides different ways of evaluating clustering algorithms.\n",
    "\n",
    "https://www.analyticsvidhya.com/blog/2021/05/k-mean-getting-the-optimal-number-of-clusters\n",
    "\n",
    "We will be looking on two methods : Elbow Method, Silhouette Analysis.\n",
    "\n",
    "**Make a list of values for K , ranging from 2 to 10. For each K, fit a model, calculate the inertia and silhouette scores. Plot them. Decide which value of K is optimal !**"
   ]
  },
  {
   "cell_type": "code",
   "execution_count": 75,
   "metadata": {
    "id": "onhGIzLqOX8p"
   },
   "outputs": [
    {
     "data": {
      "image/png": "[encoded data removed]",
      "text/plain": [
       "<Figure size 640x480 with 1 Axes>"
      ]
     },
     "metadata": {},
     "output_type": "display_data"
    },
    {
     "data": {
      "image/png": "[encoded data removed]",
      "text/plain": [
       "<Figure size 640x480 with 1 Axes>"
      ]
     },
     "metadata": {},
     "output_type": "display_data"
    },
    {
     "name": "stdout",
     "output_type": "stream",
     "text": [
      "K = 4 is optimal\n"
     ]
    }
   ],
   "source": [
    "import warnings\n",
    "warnings.filterwarnings(\"ignore\")\n",
    "\n",
    "k_values = range(2, 11)\n",
    "\n",
    "inertia_scores = []\n",
    "silhouette_scores = []\n",
    "\n",
    "for k in k_values:\n",
    "    # creating a KMeans model with the current K value\n",
    "    kmeans = KMeans(n_clusters=k, random_state=42)\n",
    "    kmeans.fit(d.values)\n",
    "\n",
    "    inertia_scores.append(kmeans.inertia_)\n",
    "    silhouette_scores.append(silhouette_score(d.values, kmeans.labels_))\n",
    "\n",
    "plt.plot(k_values, inertia_scores, 'bx-')\n",
    "plt.xlabel('Number of Clusters (K)')\n",
    "plt.ylabel('Inertia')\n",
    "plt.title('Elbow Method - Inertia vs. K')\n",
    "plt.show()\n",
    "\n",
    "# Plotting the silhouette scores\n",
    "plt.plot(k_values, silhouette_scores, 'bx-')\n",
    "plt.xlabel('Number of Clusters (K)')\n",
    "plt.ylabel('Silhouette Score')\n",
    "plt.title('Silhouette Analysis - Silhouette Score vs. K')\n",
    "plt.show()\n",
    "\n",
    "print(\"K = 4 is optimal\")"
   ]
  },
  {
   "cell_type": "markdown",
   "metadata": {
    "id": "1jajN40GH0EP"
   },
   "source": [
    "### 5. KMeans Model Prediction\n",
    "\n",
    "Once you decided the optimal K, once again fit a model with that K value and store the silhouette score and the labels for the entire data.\n",
    "\n",
    "It is observed that the optimal value of k is 4. So, let's store the values of inertia and labels for k=4."
   ]
  },
  {
   "cell_type": "code",
   "execution_count": 76,
   "metadata": {
    "id": "qydGd1rYOZqx"
   },
   "outputs": [],
   "source": [
    "kmeans = KMeans(n_clusters=4, random_state=42)\n",
    "kmeans.fit(d.values)\n",
    "\n",
    "# getting the inertia for K=4\n",
    "inertia = kmeans.inertia_\n",
    "# getting the labels for the entire data\n",
    "labels = kmeans.labels_"
   ]
  },
  {
   "cell_type": "markdown",
   "metadata": {
    "id": "_fjt3IhXzYgz"
   },
   "source": [
    "### 6. KMeans Model Training - Scratch\n",
    "\n",
    "Now, code the KMeans Model from scratch. Train it on the data, and try to find out when you have the labels with maximum accuracy when compared to the labels of the SkLearn model."
   ]
  },
  {
   "cell_type": "code",
   "execution_count": 79,
   "metadata": {
    "id": "PT3TD5uqOber"
   },
   "outputs": [
    {
     "name": "stdout",
     "output_type": "stream",
     "text": [
      "Accuracy : 0.226\n"
     ]
    }
   ],
   "source": [
    "class KMeans_scratch:\n",
    "    def __init__(self, k, max_iter=10):\n",
    "        self.k = k  # k=4\n",
    "        self.max_iter = max_iter\n",
    "\n",
    "    def fit(self, X):\n",
    "        n_samples, n_features = X.shape\n",
    "        self.centroids = np.random.randn(self.k, n_features)\n",
    "\n",
    "        # iterating until convergence\n",
    "        for i in range(self.max_iter):\n",
    "            # assigning each sample to its closest centroid\n",
    "            distances = np.sqrt(\n",
    "                ((X - self.centroids[:, np.newaxis])**2).sum(axis=2))\n",
    "            labels = np.argmin(distances, axis=0)\n",
    "            # updating centroids as mean of samples assigned to them\n",
    "            centroids = np.array([X[labels == k].mean(axis=0)\n",
    "                                 for k in range(self.k)])\n",
    "\n",
    "            if np.allclose(self.centroids, centroids):\n",
    "                break\n",
    "            self.centroids = centroids\n",
    "\n",
    "        self.labels_ = labels\n",
    "\n",
    "\n",
    "kmeans_scratch = KMeans_scratch(k=4)\n",
    "kmeans_scratch.fit(d.values)\n",
    "\n",
    "# comparing the labels obtained from Sklearn and KMeansScratch models\n",
    "accuracy = np.mean(kmeans.labels_ == kmeans_scratch.labels_)\n",
    "print(\"Accuracy :\", accuracy)\n"
   ]
  },
  {
   "cell_type": "markdown",
   "metadata": {
    "id": "WTWu6y8S0Usv"
   },
   "source": [
    "### 7. DBSCAN model training - Scikit-Learn\n",
    "\n",
    "Using sklear.clusters.DBSCAN, you have to fit a model on the data.\n",
    "\n",
    "But, here we would like to deal with two hyperparameters : epsilon and minimum number of samples.\n",
    "\n",
    "Make two lists. One with some probable values for epsilon, other with probable values for min_samples.\n",
    "\n",
    "Example : eps= [0.1,0.2,0.5,1,2] , min_samples=[3,4,5,6]\n",
    "\n",
    "Run a nested loop. for each value of eps and min_samples, fit a dbscan model on the data and calculate the silhouette score. Find the parameters for which the silhouette score is maximum."
   ]
  },
  {
   "cell_type": "code",
   "execution_count": 80,
   "metadata": {
    "id": "NM5XJSZYOdmB"
   },
   "outputs": [
    {
     "name": "stdout",
     "output_type": "stream",
     "text": [
      "Optimal Epsilon : 1\n",
      "Optimal Minimum Samples : 3\n",
      "Max Silhouette Score : 0.5387078719701426\n"
     ]
    }
   ],
   "source": [
    "eps_values = [0.1, 0.2, 0.5, 1, 2]\n",
    "min_samples_values = [3, 4, 5, 6]\n",
    "\n",
    "# initializing variables to store the optimal parameters and silhouette score\n",
    "optimal_eps = None\n",
    "optimal_min_samples = None\n",
    "max_silhouette_score = -1\n",
    "\n",
    "for eps in eps_values:\n",
    "    for min_samples in min_samples_values:\n",
    "        dbscan = DBSCAN(eps=eps, min_samples=min_samples)\n",
    "        dbscan.fit(d.values)\n",
    "        silhouette = silhouette_score(d.values, dbscan.labels_)\n",
    "\n",
    "        # checking if the current silhouette score is higher than the maximum score\n",
    "        if silhouette > max_silhouette_score:\n",
    "            max_silhouette_score = silhouette\n",
    "            optimal_eps = eps\n",
    "            optimal_min_samples = min_samples\n",
    "\n",
    "print(\"Optimal Epsilon :\", optimal_eps)\n",
    "print(\"Optimal Minimum Samples :\", optimal_min_samples)\n",
    "print(\"Max Silhouette Score :\", max_silhouette_score)\n"
   ]
  },
  {
   "cell_type": "markdown",
   "metadata": {
    "id": "T77d9N4w1hRI"
   },
   "source": [
    "### 8. DBSCAN model training - Scratch\n",
    "\n",
    "Code the DBScan model. For the same epsilon and min_samples values, fit the model on the data. You should receive the same silhouette score."
   ]
  },
  {
   "cell_type": "code",
   "execution_count": 81,
   "metadata": {
    "id": "8ULTd8n1Oc17"
   },
   "outputs": [
    {
     "name": "stdout",
     "output_type": "stream",
     "text": [
      "0.5387078719701426\n"
     ]
    }
   ],
   "source": [
    "class DBScan:\n",
    "    def __init__(self, eps, min_samples):\n",
    "        self.eps = eps\n",
    "        self.min_samples = min_samples\n",
    "\n",
    "    def fit(self, X):\n",
    "        self.labels_ = np.zeros(X.shape[0])\n",
    "        cluster_label = 0\n",
    "\n",
    "        for i in range(X.shape[0]):\n",
    "            if self.labels_[i] != 0:\n",
    "                continue\n",
    "\n",
    "            neighbors = self.get_neighbors(X, i)\n",
    "            if len(neighbors) < self.min_samples:\n",
    "                self.labels_[i] = -1\n",
    "                continue\n",
    "\n",
    "            cluster_label += 1\n",
    "            self.labels_[i] = cluster_label\n",
    "\n",
    "            j = 0\n",
    "            while j < len(neighbors):\n",
    "                neighbor = neighbors[j]\n",
    "                if self.labels_[neighbor] == -1:\n",
    "                    self.labels_[neighbor] = cluster_label\n",
    "\n",
    "                elif self.labels_[neighbor] == 0:\n",
    "                    self.labels_[neighbor] = cluster_label\n",
    "                    new_neighbors = self.get_neighbors(X, neighbor)\n",
    "\n",
    "                    if len(new_neighbors) >= self.min_samples:\n",
    "                        neighbors = np.concatenate((neighbors, new_neighbors))\n",
    "\n",
    "                j += 1\n",
    "\n",
    "        return self\n",
    "\n",
    "    def get_neighbors(self, X, i):\n",
    "        distances = np.linalg.norm(X - X[i], axis=1)\n",
    "        return np.where(distances <= self.eps)[0]\n",
    "\n",
    "\n",
    "dbscan = DBScan(eps=1, min_samples=3)\n",
    "dbscan.fit(d.values)\n",
    "print(silhouette_score(d.values, dbscan.labels_))\n"
   ]
  },
  {
   "cell_type": "code",
   "execution_count": null,
   "metadata": {},
   "outputs": [],
   "source": []
  }
 ],
 "metadata": {
  "colab": {
   "provenance": []
  },
  "kernelspec": {
   "display_name": "Python 3 (ipykernel)",
   "language": "python",
   "name": "python3"
  },
  "language_info": {
   "codemirror_mode": {
    "name": "ipython",
    "version": 3
   },
   "file_extension": ".py",
   "mimetype": "text/x-python",
   "name": "python",
   "nbconvert_exporter": "python",
   "pygments_lexer": "ipython3",
   "version": "3.11.3"
  }
 },
 "nbformat": 4,
 "nbformat_minor": 1
}
