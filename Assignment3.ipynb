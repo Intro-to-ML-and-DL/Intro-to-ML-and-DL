{
 "cells": [
  {
   "cell_type": "markdown",
   "metadata": {
    "id": "1aabbIB92YA8"
   },
   "source": [
    "# Question 1 : Classification using Naive Bayes\n",
    "\n",
    "Can glucose and blood pressure data classify whether a patient has diabetes or not ? If yes, which classification algorithm should you use ?\n",
    "\n",
    "The dataset **diabetes_classification.csv** has 3 columns and 995 entries with the above data.\n",
    "\n",
    "\n",
    "1. Load the dataset."
   ]
  },
  {
   "cell_type": "code",
   "execution_count": 3,
   "metadata": {
    "id": "Ytm1udmGNwSl"
   },
   "outputs": [],
   "source": [
    "import pandas as pd"
   ]
  },
  {
   "cell_type": "code",
   "execution_count": 6,
   "metadata": {},
   "outputs": [
    {
     "data": {
      "text/html": [
       "<div>\n",
       "<style scoped>\n",
       "    .dataframe tbody tr th:only-of-type {\n",
       "        vertical-align: middle;\n",
       "    }\n",
       "\n",
       "    .dataframe tbody tr th {\n",
       "        vertical-align: top;\n",
       "    }\n",
       "\n",
       "    .dataframe thead th {\n",
       "        text-align: right;\n",
       "    }\n",
       "</style>\n",
       "<table border=\"1\" class=\"dataframe\">\n",
       "  <thead>\n",
       "    <tr style=\"text-align: right;\">\n",
       "      <th></th>\n",
       "      <th>glucose</th>\n",
       "      <th>bloodpressure</th>\n",
       "      <th>diabetes</th>\n",
       "    </tr>\n",
       "  </thead>\n",
       "  <tbody>\n",
       "    <tr>\n",
       "      <th>0</th>\n",
       "      <td>40</td>\n",
       "      <td>85</td>\n",
       "      <td>0</td>\n",
       "    </tr>\n",
       "    <tr>\n",
       "      <th>1</th>\n",
       "      <td>40</td>\n",
       "      <td>92</td>\n",
       "      <td>0</td>\n",
       "    </tr>\n",
       "    <tr>\n",
       "      <th>2</th>\n",
       "      <td>45</td>\n",
       "      <td>63</td>\n",
       "      <td>1</td>\n",
       "    </tr>\n",
       "    <tr>\n",
       "      <th>3</th>\n",
       "      <td>45</td>\n",
       "      <td>80</td>\n",
       "      <td>0</td>\n",
       "    </tr>\n",
       "    <tr>\n",
       "      <th>4</th>\n",
       "      <td>40</td>\n",
       "      <td>73</td>\n",
       "      <td>1</td>\n",
       "    </tr>\n",
       "  </tbody>\n",
       "</table>\n",
       "</div>"
      ],
      "text/plain": [
       "   glucose  bloodpressure  diabetes\n",
       "0       40             85         0\n",
       "1       40             92         0\n",
       "2       45             63         1\n",
       "3       45             80         0\n",
       "4       40             73         1"
      ]
     },
     "execution_count": 6,
     "metadata": {},
     "output_type": "execute_result"
    }
   ],
   "source": [
    "df = pd.read_csv('diabetes.csv')\n",
    "df.head()"
   ]
  },
  {
   "cell_type": "markdown",
   "metadata": {
    "id": "vRcqHcd_5XUt"
   },
   "source": [
    "2. The dataset has two feature columns and one target column. Plot a bar graph or histogram showing the distribution of values in the feature columns (count of each value)."
   ]
  },
  {
   "cell_type": "code",
   "execution_count": 8,
   "metadata": {
    "id": "VdiNiiJdNy-K"
   },
   "outputs": [
    {
     "data": {
      "image/png": "[encoded data removed]",
      "text/plain": [
       "<Figure size 640x480 with 1 Axes>"
      ]
     },
     "metadata": {},
     "output_type": "display_data"
    }
   ],
   "source": [
    "import matplotlib.pyplot as plt\n",
    "\n",
    "plt.hist(df['glucose'], label='Glucose')\n",
    "plt.hist(df['bloodpressure'], label='Blood Pressure')\n",
    "plt.xlabel('Value')\n",
    "plt.ylabel('Count')\n",
    "plt.legend()\n",
    "plt.show()"
   ]
  },
  {
   "cell_type": "markdown",
   "metadata": {
    "id": "Xa-7s9hL5tii"
   },
   "source": [
    " The feature column **glucose** has a somewhat Gaussian distribution of data. So we will try out Gaussian Naive Bayes classification for the data using Scikit-Learn.\n",
    "\n",
    "3. Split the dataset.\n",
    "4. Fit a Gaussian NB model on the data. Make predictions and find the accuracy score.\n",
    "\n",
    "Optional :\n",
    "5. Compare the model with other classification algorithms like Logistic Regression, KNN, decision tree etc."
   ]
  },
  {
   "cell_type": "code",
   "execution_count": 14,
   "metadata": {
    "id": "_qc64PVrN1-y"
   },
   "outputs": [
    {
     "name": "stdout",
     "output_type": "stream",
     "text": [
      "0.9477911646586346\n"
     ]
    }
   ],
   "source": [
    "from sklearn.model_selection import train_test_split\n",
    "from sklearn.naive_bayes import GaussianNB\n",
    "from sklearn.metrics import accuracy_score\n",
    "\n",
    "X_train, X_test, y_train, y_test = train_test_split(df[['glucose', 'bloodpressure']], df['diabetes'], random_state = 1)\n",
    "gnb = GaussianNB()\n",
    "y_pred = gnb.fit(X_train, y_train).predict(X_test)\n",
    "print(accuracy_score(y_test, y_pred))\n"
   ]
  },
  {
   "cell_type": "markdown",
   "metadata": {
    "id": "qSniomr219vK"
   },
   "source": [
    "# Question 2 : Regression using SVM and Tree Algorithms\n",
    "\n",
    "In this question, we will be using the **insurance.csv** file which contain information on insurance charges based on the following informations: age,sex,bmi,region,number of children and whether the person is a smoker or not. You need to predict the charges based on the information given.\n",
    "\n",
    "### 1. Load the data."
   ]
  },
  {
   "cell_type": "code",
   "execution_count": 15,
   "metadata": {
    "id": "TIzySehxN3nw"
   },
   "outputs": [
    {
     "data": {
      "text/html": [
       "<div>\n",
       "<style scoped>\n",
       "    .dataframe tbody tr th:only-of-type {\n",
       "        vertical-align: middle;\n",
       "    }\n",
       "\n",
       "    .dataframe tbody tr th {\n",
       "        vertical-align: top;\n",
       "    }\n",
       "\n",
       "    .dataframe thead th {\n",
       "        text-align: right;\n",
       "    }\n",
       "</style>\n",
       "<table border=\"1\" class=\"dataframe\">\n",
       "  <thead>\n",
       "    <tr style=\"text-align: right;\">\n",
       "      <th></th>\n",
       "      <th>age</th>\n",
       "      <th>sex</th>\n",
       "      <th>bmi</th>\n",
       "      <th>children</th>\n",
       "      <th>smoker</th>\n",
       "      <th>region</th>\n",
       "      <th>charges</th>\n",
       "    </tr>\n",
       "  </thead>\n",
       "  <tbody>\n",
       "    <tr>\n",
       "      <th>0</th>\n",
       "      <td>19</td>\n",
       "      <td>female</td>\n",
       "      <td>27.900</td>\n",
       "      <td>0</td>\n",
       "      <td>yes</td>\n",
       "      <td>southwest</td>\n",
       "      <td>16884.92400</td>\n",
       "    </tr>\n",
       "    <tr>\n",
       "      <th>1</th>\n",
       "      <td>18</td>\n",
       "      <td>male</td>\n",
       "      <td>33.770</td>\n",
       "      <td>1</td>\n",
       "      <td>no</td>\n",
       "      <td>southeast</td>\n",
       "      <td>1725.55230</td>\n",
       "    </tr>\n",
       "    <tr>\n",
       "      <th>2</th>\n",
       "      <td>28</td>\n",
       "      <td>male</td>\n",
       "      <td>33.000</td>\n",
       "      <td>3</td>\n",
       "      <td>no</td>\n",
       "      <td>southeast</td>\n",
       "      <td>4449.46200</td>\n",
       "    </tr>\n",
       "    <tr>\n",
       "      <th>3</th>\n",
       "      <td>33</td>\n",
       "      <td>male</td>\n",
       "      <td>22.705</td>\n",
       "      <td>0</td>\n",
       "      <td>no</td>\n",
       "      <td>northwest</td>\n",
       "      <td>21984.47061</td>\n",
       "    </tr>\n",
       "    <tr>\n",
       "      <th>4</th>\n",
       "      <td>32</td>\n",
       "      <td>male</td>\n",
       "      <td>28.880</td>\n",
       "      <td>0</td>\n",
       "      <td>no</td>\n",
       "      <td>northwest</td>\n",
       "      <td>3866.85520</td>\n",
       "    </tr>\n",
       "  </tbody>\n",
       "</table>\n",
       "</div>"
      ],
      "text/plain": [
       "   age     sex     bmi  children smoker     region      charges\n",
       "0   19  female  27.900         0    yes  southwest  16884.92400\n",
       "1   18    male  33.770         1     no  southeast   1725.55230\n",
       "2   28    male  33.000         3     no  southeast   4449.46200\n",
       "3   33    male  22.705         0     no  northwest  21984.47061\n",
       "4   32    male  28.880         0     no  northwest   3866.85520"
      ]
     },
     "execution_count": 15,
     "metadata": {},
     "output_type": "execute_result"
    }
   ],
   "source": [
    "import pandas as pd\n",
    "b= pd.read_csv(\"insurance.csv\")\n",
    "b.head()"
   ]
  },
  {
   "cell_type": "markdown",
   "metadata": {
    "id": "t3kLtntR2_wm"
   },
   "source": [
    "### 2. Separate the numerical and categorical columns.\n",
    "### 3. Label Encode the categorical columns.\n",
    "### 4. Scale the numerical columns. (Scale the charges separately so that you can calculate errors afterwards.)"
   ]
  },
  {
   "cell_type": "code",
   "execution_count": 17,
   "metadata": {
    "id": "B5BlzbzGN4vq"
   },
   "outputs": [],
   "source": [
    "from sklearn.preprocessing import LabelEncoder, StandardScaler\n",
    "\n",
    "numerical_cols = ['age', 'bmi', 'children', 'charges']\n",
    "categorical_cols = ['sex', 'smoker', 'region']\n",
    "\n",
    "label_encoder = LabelEncoder()\n",
    "b[categorical_cols] = b[categorical_cols].apply(\n",
    "    lambda col: label_encoder.fit_transform(col))\n",
    "\n",
    "charges = b['charges']\n",
    "b.drop('charges', axis=1)\n",
    "\n",
    "scaler = StandardScaler()\n",
    "b[numerical_cols] = scaler.fit_transform(b[numerical_cols])\n",
    "charges_scaler = StandardScaler()\n",
    "charges = scaler.fit_transform(charges.values.reshape(-1, 1))\n",
    "\n",
    "b['charges'] = charges"
   ]
  },
  {
   "cell_type": "markdown",
   "metadata": {
    "id": "KAr0_8zS3d4M"
   },
   "source": [
    "### 5. Split the data."
   ]
  },
  {
   "cell_type": "code",
   "execution_count": 18,
   "metadata": {
    "id": "q0puLu0rN6Gi"
   },
   "outputs": [],
   "source": [
    "from sklearn.model_selection import train_test_split\n",
    "\n",
    "X = b.iloc[0:1338, 0:6]\n",
    "y = b.iloc[0:1338, 6]\n",
    "\n",
    "X_train, X_test, y_train, y_test = train_test_split(X, y, test_size=0.20)"
   ]
  },
  {
   "cell_type": "markdown",
   "metadata": {
    "id": "9JKtZ3nN3gmZ"
   },
   "source": [
    "### 6. Support Vector Regressor\n",
    "\n",
    "Here , you will use the SVR model from sklearn.svm and fit it on the training data. Then predict on the test data and calaculate MAE, MSE. But...\n",
    "\n",
    "The SVR class contains many hyperparameters, example : kernel can have the following values : linear, rbf, poly, sigmoid.\n",
    "\n",
    "Use **RandomizedSearchCV** from sklearn.model_selection , create a dictionary with keys 'kernel' and 'gamma' . As values of the keys, create a list of some possible values. Run a 3-fold cross validation test (cv=3) and find the best parameters. Then initiate the SVR model with those parameters."
   ]
  },
  {
   "cell_type": "code",
   "execution_count": 19,
   "metadata": {
    "id": "TTXaAbc7N7oS"
   },
   "outputs": [
    {
     "name": "stdout",
     "output_type": "stream",
     "text": [
      "Mean Absolute Error : 0.2442873019088259\n",
      "Mean Squared Error : 0.1798608807018534\n"
     ]
    }
   ],
   "source": [
    "from sklearn.svm import SVR\n",
    "from sklearn.model_selection import RandomizedSearchCV\n",
    "from sklearn.metrics import mean_absolute_error, mean_squared_error\n",
    "\n",
    "hyperparameters = {\n",
    "    'kernel': ['linear', 'rbf', 'poly', 'sigmoid'],\n",
    "    'gamma': [0.1, 0.01, 0.001]\n",
    "}\n",
    "\n",
    "svr = SVR()\n",
    "\n",
    "# creating a RandomizedSearchCV object\n",
    "random_search = RandomizedSearchCV(\n",
    "    estimator=svr, param_distributions=hyperparameters, cv=3, n_iter=12, random_state=42)\n",
    "random_search.fit(X_train, y_train)\n",
    "\n",
    "# getting the best parameters found by RandomizedSearchCV\n",
    "best_hyperparameters = random_search.best_params_\n",
    "\n",
    "# initializing an SVR model with the best parameters\n",
    "best_svr = SVR(\n",
    "    kernel=best_hyperparameters['kernel'], gamma=best_hyperparameters['gamma'])\n",
    "best_svr.fit(X_train, y_train)\n",
    "\n",
    "predictions = best_svr.predict(X_test)\n",
    "\n",
    "print(\"Mean Absolute Error :\", mean_absolute_error(y_test, predictions))\n",
    "print(\"Mean Squared Error :\", mean_squared_error(y_test, predictions))"
   ]
  },
  {
   "cell_type": "markdown",
   "metadata": {
    "id": "KGt147zA5E6f"
   },
   "source": [
    "### 7. AdaBoost Regressor\n",
    "\n",
    "We would do similar for AdaBoostRegressor from sklearn.ensemble . Here, the hyperparameters are n_estimators and loss.\n",
    "\n",
    "Instead of RandomizedSearchCV, let's try GridSearchCV . Find the best parameters and then find errors on test data using the model with best parameters."
   ]
  },
  {
   "cell_type": "code",
   "execution_count": 22,
   "metadata": {
    "id": "u5c-EFdtN9Wt"
   },
   "outputs": [
    {
     "name": "stdout",
     "output_type": "stream",
     "text": [
      "Mean Absolute Error: 0.31529387408094567\n",
      "Mean Squared Error: 0.17124472012536504\n"
     ]
    }
   ],
   "source": [
    "from sklearn.ensemble import AdaBoostRegressor\n",
    "from sklearn.model_selection import GridSearchCV\n",
    "from sklearn.metrics import mean_absolute_error, mean_squared_error\n",
    "\n",
    "# Define the hyperparameters grid\n",
    "hyperparameters = {\n",
    "    'n_estimators': [50, 100, 150],\n",
    "    'loss': ['linear', 'square', 'exponential']\n",
    "}\n",
    "\n",
    "# Create an AdaBoostRegressor\n",
    "adaboost = AdaBoostRegressor()\n",
    "\n",
    "# Create a GridSearchCV object\n",
    "grid_search = GridSearchCV(\n",
    "    estimator=adaboost, param_grid=hyperparameters, cv=3)\n",
    "grid_search.fit(X_train, y_train)\n",
    "\n",
    "# Get the best parameters found by GridSearchCV\n",
    "best_hyperparameters = grid_search.best_params_\n",
    "\n",
    "# Initialize an AdaBoostRegressor with the best parameters\n",
    "best_adaboost = AdaBoostRegressor(\n",
    "    n_estimators=best_hyperparameters['n_estimators'],\n",
    "    loss=best_hyperparameters['loss'])\n",
    "best_adaboost.fit(X_train, y_train)\n",
    "\n",
    "# Make predictions on the test set\n",
    "predictions = best_adaboost.predict(X_test)\n",
    "\n",
    "# Calculate and print the errors\n",
    "mae = mean_absolute_error(y_test, predictions)\n",
    "mse = mean_squared_error(y_test, predictions)\n",
    "print(\"Mean Absolute Error:\", mae)\n",
    "print(\"Mean Squared Error:\", mse)\n"
   ]
  },
  {
   "cell_type": "markdown",
   "metadata": {
    "id": "oW11faHs5nH_"
   },
   "source": [
    "8. Now carry the same procedure for Random Forest Regressor and for Gradient Boosting Regression.\n",
    "9. Finally, use <a href=\"https://xgboost.readthedocs.io/en/stable/get_started.html\"> XGBoost Regressor </a> and compare all the models. Comment which model had the least error (MAE and MSE).\n",
    "You will be required to run  <code> !pip install xgboost </code> to import xgboost models."
   ]
  },
  {
   "cell_type": "code",
   "execution_count": 31,
   "metadata": {},
   "outputs": [
    {
     "name": "stdout",
     "output_type": "stream",
     "text": [
      "Random Forest Regressor :\n",
      "MAE : 0.20935925060641533\n",
      "MSE : 0.13999459126901465\n",
      "\n",
      "Gradient Boosting Regression :\n",
      "MAE : 0.2097214950020517\n",
      "MSE : 0.13906689013693785\n",
      "\n",
      "XGBoost Regressor :\n",
      "MAE : 0.23685261578212477\n",
      "MSE : 0.17819227384773895\n",
      "\n",
      "The Gradient Boosting Regression Model has the least error\n"
     ]
    }
   ],
   "source": [
    "    from sklearn.ensemble import RandomForestRegressor, GradientBoostingRegressor\n",
    "from xgboost import XGBRegressor\n",
    "\n",
    "# Random Forest Regressor\n",
    "hyperparameters_rf = {\n",
    "    'n_estimators': [50, 100, 200],\n",
    "    'max_depth': [None, 5, 10]\n",
    "}\n",
    "\n",
    "rf = RandomForestRegressor()\n",
    "grid_search_rf = GridSearchCV(\n",
    "    estimator=rf, param_grid=hyperparameters_rf, cv=3)\n",
    "grid_search_rf.fit(X_train, y_train)\n",
    "best_hyperparameters_rf = grid_search_rf.best_params_\n",
    "best_rf = RandomForestRegressor(\n",
    "    n_estimators=best_hyperparameters_rf['n_estimators'], max_depth=best_hyperparameters_rf['max_depth'])\n",
    "best_rf.fit(X_train, y_train)\n",
    "rf_predictions = best_rf.predict(X_test)\n",
    "\n",
    "print(\"Random Forest Regressor :\")\n",
    "print(\"MAE :\", mean_absolute_error(y_test, rf_predictions))\n",
    "print(\"MSE :\", mean_squared_error(y_test, rf_predictions))\n",
    "print()\n",
    "\n",
    "# Gradient Boosting Regression\n",
    "hyperparameters_gb = {\n",
    "    'n_estimators': [50, 100, 200],\n",
    "    'learning_rate': [0.1, 0.05, 0.01]\n",
    "}\n",
    "\n",
    "gb = GradientBoostingRegressor()\n",
    "grid_search_gb = GridSearchCV(\n",
    "    estimator=gb, param_grid=hyperparameters_gb, cv=3)\n",
    "grid_search_gb.fit(X_train, y_train)\n",
    "best_hyperparameters_gb = grid_search_gb.best_params_\n",
    "best_gb = GradientBoostingRegressor(\n",
    "    n_estimators=best_hyperparameters_gb['n_estimators'], learning_rate=best_hyperparameters_gb['learning_rate'])\n",
    "best_gb.fit(X_train, y_train)\n",
    "gb_predictions = best_gb.predict(X_test)\n",
    "print(\"Gradient Boosting Regression :\")\n",
    "print(\"MAE :\", mean_absolute_error(y_test, gb_predictions))\n",
    "print(\"MSE :\", mean_squared_error(y_test, gb_predictions))\n",
    "print()\n",
    "\n",
    "# XGBoost Regressor\n",
    "xgb = XGBRegressor()\n",
    "xgb.fit(X_train, y_train)\n",
    "xgb_predictions = xgb.predict(X_test)\n",
    "\n",
    "print(\"XGBoost Regressor :\")\n",
    "print(\"MAE :\", mean_absolute_error(y_test, xgb_predictions))\n",
    "print(\"MSE :\", mean_squared_error(y_test, xgb_predictions))\n",
    "print()\n",
    "\n",
    "print(\"The Gradient Boosting Regression Model has the least error\")"
   ]
  },
  {
   "cell_type": "markdown",
   "metadata": {
    "id": "kMMzdz1e3YMp"
   },
   "source": [
    "# Question 3 : Classification using SVM and Tree Algorithms\n",
    "\n",
    "In this question, we will be using the **bookmyshow_ads.csv** file which contain information on whether an url is spam or not based on 32 features. You need to classify the url as spam or not spam based on the information given.\n",
    "\n",
    "### 1. Load the data."
   ]
  },
  {
   "cell_type": "code",
   "execution_count": 32,
   "metadata": {
    "id": "HZTHOA-KOLTw"
   },
   "outputs": [
    {
     "data": {
      "text/html": [
       "<div>\n",
       "<style scoped>\n",
       "    .dataframe tbody tr th:only-of-type {\n",
       "        vertical-align: middle;\n",
       "    }\n",
       "\n",
       "    .dataframe tbody tr th {\n",
       "        vertical-align: top;\n",
       "    }\n",
       "\n",
       "    .dataframe thead th {\n",
       "        text-align: right;\n",
       "    }\n",
       "</style>\n",
       "<table border=\"1\" class=\"dataframe\">\n",
       "  <thead>\n",
       "    <tr style=\"text-align: right;\">\n",
       "      <th></th>\n",
       "      <th>index</th>\n",
       "      <th>having_IPhaving_IP_Address</th>\n",
       "      <th>URLURL_Length</th>\n",
       "      <th>Shortining_Service</th>\n",
       "      <th>having_At_Symbol</th>\n",
       "      <th>double_slash_redirecting</th>\n",
       "      <th>Prefix_Suffix</th>\n",
       "      <th>having_Sub_Domain</th>\n",
       "      <th>SSLfinal_State</th>\n",
       "      <th>Domain_registeration_length</th>\n",
       "      <th>...</th>\n",
       "      <th>popUpWidnow</th>\n",
       "      <th>Iframe</th>\n",
       "      <th>age_of_domain</th>\n",
       "      <th>DNSRecord</th>\n",
       "      <th>web_traffic</th>\n",
       "      <th>Page_Rank</th>\n",
       "      <th>Google_Index</th>\n",
       "      <th>Links_pointing_to_page</th>\n",
       "      <th>Statistical_report</th>\n",
       "      <th>Result</th>\n",
       "    </tr>\n",
       "  </thead>\n",
       "  <tbody>\n",
       "    <tr>\n",
       "      <th>0</th>\n",
       "      <td>1</td>\n",
       "      <td>0</td>\n",
       "      <td>1</td>\n",
       "      <td>1</td>\n",
       "      <td>1</td>\n",
       "      <td>0</td>\n",
       "      <td>0</td>\n",
       "      <td>0</td>\n",
       "      <td>0</td>\n",
       "      <td>0</td>\n",
       "      <td>...</td>\n",
       "      <td>1</td>\n",
       "      <td>1</td>\n",
       "      <td>0</td>\n",
       "      <td>0</td>\n",
       "      <td>0</td>\n",
       "      <td>0</td>\n",
       "      <td>1</td>\n",
       "      <td>1</td>\n",
       "      <td>0</td>\n",
       "      <td>0</td>\n",
       "    </tr>\n",
       "    <tr>\n",
       "      <th>1</th>\n",
       "      <td>2</td>\n",
       "      <td>1</td>\n",
       "      <td>1</td>\n",
       "      <td>1</td>\n",
       "      <td>1</td>\n",
       "      <td>1</td>\n",
       "      <td>0</td>\n",
       "      <td>-1</td>\n",
       "      <td>1</td>\n",
       "      <td>0</td>\n",
       "      <td>...</td>\n",
       "      <td>1</td>\n",
       "      <td>1</td>\n",
       "      <td>0</td>\n",
       "      <td>0</td>\n",
       "      <td>-1</td>\n",
       "      <td>0</td>\n",
       "      <td>1</td>\n",
       "      <td>1</td>\n",
       "      <td>1</td>\n",
       "      <td>0</td>\n",
       "    </tr>\n",
       "    <tr>\n",
       "      <th>2</th>\n",
       "      <td>3</td>\n",
       "      <td>1</td>\n",
       "      <td>-1</td>\n",
       "      <td>1</td>\n",
       "      <td>1</td>\n",
       "      <td>1</td>\n",
       "      <td>0</td>\n",
       "      <td>0</td>\n",
       "      <td>0</td>\n",
       "      <td>0</td>\n",
       "      <td>...</td>\n",
       "      <td>1</td>\n",
       "      <td>1</td>\n",
       "      <td>1</td>\n",
       "      <td>0</td>\n",
       "      <td>1</td>\n",
       "      <td>0</td>\n",
       "      <td>1</td>\n",
       "      <td>-1</td>\n",
       "      <td>0</td>\n",
       "      <td>0</td>\n",
       "    </tr>\n",
       "    <tr>\n",
       "      <th>3</th>\n",
       "      <td>4</td>\n",
       "      <td>1</td>\n",
       "      <td>-1</td>\n",
       "      <td>1</td>\n",
       "      <td>1</td>\n",
       "      <td>1</td>\n",
       "      <td>0</td>\n",
       "      <td>0</td>\n",
       "      <td>0</td>\n",
       "      <td>1</td>\n",
       "      <td>...</td>\n",
       "      <td>1</td>\n",
       "      <td>1</td>\n",
       "      <td>0</td>\n",
       "      <td>0</td>\n",
       "      <td>1</td>\n",
       "      <td>0</td>\n",
       "      <td>1</td>\n",
       "      <td>0</td>\n",
       "      <td>1</td>\n",
       "      <td>0</td>\n",
       "    </tr>\n",
       "    <tr>\n",
       "      <th>4</th>\n",
       "      <td>5</td>\n",
       "      <td>1</td>\n",
       "      <td>-1</td>\n",
       "      <td>0</td>\n",
       "      <td>1</td>\n",
       "      <td>1</td>\n",
       "      <td>0</td>\n",
       "      <td>1</td>\n",
       "      <td>1</td>\n",
       "      <td>0</td>\n",
       "      <td>...</td>\n",
       "      <td>0</td>\n",
       "      <td>1</td>\n",
       "      <td>0</td>\n",
       "      <td>0</td>\n",
       "      <td>-1</td>\n",
       "      <td>0</td>\n",
       "      <td>1</td>\n",
       "      <td>1</td>\n",
       "      <td>1</td>\n",
       "      <td>1</td>\n",
       "    </tr>\n",
       "  </tbody>\n",
       "</table>\n",
       "<p>5 rows × 32 columns</p>\n",
       "</div>"
      ],
      "text/plain": [
       "  index  having_IPhaving_IP_Address  URLURL_Length  Shortining_Service  \\\n",
       "0     1                           0              1                   1   \n",
       "1     2                           1              1                   1   \n",
       "2     3                           1             -1                   1   \n",
       "3     4                           1             -1                   1   \n",
       "4     5                           1             -1                   0   \n",
       "\n",
       "   having_At_Symbol  double_slash_redirecting  Prefix_Suffix  \\\n",
       "0                 1                         0              0   \n",
       "1                 1                         1              0   \n",
       "2                 1                         1              0   \n",
       "3                 1                         1              0   \n",
       "4                 1                         1              0   \n",
       "\n",
       "   having_Sub_Domain  SSLfinal_State  Domain_registeration_length  ...  \\\n",
       "0                  0               0                            0  ...   \n",
       "1                 -1               1                            0  ...   \n",
       "2                  0               0                            0  ...   \n",
       "3                  0               0                            1  ...   \n",
       "4                  1               1                            0  ...   \n",
       "\n",
       "   popUpWidnow  Iframe  age_of_domain  DNSRecord  web_traffic  Page_Rank  \\\n",
       "0            1       1              0          0            0          0   \n",
       "1            1       1              0          0           -1          0   \n",
       "2            1       1              1          0            1          0   \n",
       "3            1       1              0          0            1          0   \n",
       "4            0       1              0          0           -1          0   \n",
       "\n",
       "   Google_Index  Links_pointing_to_page  Statistical_report  Result  \n",
       "0             1                       1                   0       0  \n",
       "1             1                       1                   1       0  \n",
       "2             1                      -1                   0       0  \n",
       "3             1                       0                   1       0  \n",
       "4             1                       1                   1       1  \n",
       "\n",
       "[5 rows x 32 columns]"
      ]
     },
     "execution_count": 32,
     "metadata": {},
     "output_type": "execute_result"
    }
   ],
   "source": [
    "import pandas as pd\n",
    "c= pd.read_csv(\"bookmyshow_ads.csv\")\n",
    "c.head()"
   ]
  },
  {
   "cell_type": "markdown",
   "metadata": {
    "id": "BcqJmRVyLHFU"
   },
   "source": [
    "### 2. Split the data."
   ]
  },
  {
   "cell_type": "code",
   "execution_count": 33,
   "metadata": {
    "id": "7b7dtEdwOMnQ"
   },
   "outputs": [],
   "source": [
    "X = c.iloc[0:11056, 1:31]\n",
    "y = c.iloc[0:11056, 31]\n",
    "\n",
    "X_train, X_test, y_train, y_test = train_test_split(X, y, test_size=0.20)"
   ]
  },
  {
   "cell_type": "markdown",
   "metadata": {
    "id": "KKX0BSiILMPe"
   },
   "source": [
    "### 3. Model Comparison\n",
    "\n",
    "Similar to the previous question, use the following classifier models from sklearn and compare them:\n",
    "1. Decision Tree\n",
    "2. Random Forest\n",
    "3. Adaboost\n",
    "4. Gradient Boost\n",
    "5. XGBoost\n",
    "\n",
    "For each model, you may also try to find the best hyperparameters using GridSearch Cross Validation or RandomizedSearch Cross Validation."
   ]
  },
  {
   "cell_type": "code",
   "execution_count": 34,
   "metadata": {
    "id": "YaTC1pJFOPNF"
   },
   "outputs": [
    {
     "name": "stdout",
     "output_type": "stream",
     "text": [
      "Decision Tree Classifier Accuracy : 0.9647218453188603\n",
      "Random Forest Classifier Accuracy : 0.9760289461781999\n",
      "AdaBoost Classifier Accuracy : 0.9317051108095884\n",
      "Gradient Boosting Classifier Accuracy : 0.9507010402532791\n",
      "XGBoost Classifier Accuracy : 0.9733152419719584\n"
     ]
    }
   ],
   "source": [
    "from sklearn.tree import DecisionTreeClassifier\n",
    "from sklearn.ensemble import RandomForestClassifier, AdaBoostClassifier, GradientBoostingClassifier\n",
    "from sklearn.model_selection import GridSearchCV\n",
    "from xgboost import XGBClassifier\n",
    "from sklearn.metrics import accuracy_score\n",
    "# Decision Tree Classifier\n",
    "hyperparameters_dt = {\n",
    "    'criterion': ['gini', 'entropy'],\n",
    "    'max_depth': [None, 5, 10],\n",
    "    'min_samples_split': [2, 5, 10],\n",
    "    'min_samples_leaf': [1, 2, 4]\n",
    "}\n",
    "\n",
    "dt = DecisionTreeClassifier()\n",
    "grid_search_dt = GridSearchCV(\n",
    "    estimator=dt, param_grid=hyperparameters_dt, cv=3)\n",
    "grid_search_dt.fit(X_train, y_train)\n",
    "best_hyperparameters_dt = grid_search_dt.best_params_\n",
    "best_dt = DecisionTreeClassifier(criterion=best_hyperparameters_dt['criterion'],\n",
    "                                 max_depth=best_hyperparameters_dt['max_depth'],\n",
    "                                 min_samples_split=best_hyperparameters_dt['min_samples_split'],\n",
    "                                 min_samples_leaf=best_hyperparameters_dt['min_samples_leaf'])\n",
    "best_dt.fit(X_train, y_train)\n",
    "\n",
    "dt_predictions = best_dt.predict(X_test)\n",
    "print(\"Decision Tree Classifier Accuracy :\",\n",
    "      accuracy_score(y_test, dt_predictions))\n",
    "# Random Forest Classifier\n",
    "hyperparameters_rf = {\n",
    "    'n_estimators': [50, 100, 200],\n",
    "    'max_depth': [None, 5, 10]\n",
    "}\n",
    "\n",
    "rf = RandomForestClassifier()\n",
    "grid_search_rf = GridSearchCV(\n",
    "    estimator=rf, param_grid=hyperparameters_rf, cv=3)\n",
    "grid_search_rf.fit(X_train, y_train)\n",
    "best_hyperparameters_rf = grid_search_rf.best_params_\n",
    "best_rf = RandomForestClassifier(\n",
    "    n_estimators=best_hyperparameters_rf['n_estimators'], max_depth=best_hyperparameters_rf['max_depth'])\n",
    "best_rf.fit(X_train, y_train)\n",
    "rf_predictions = best_rf.predict(X_test)\n",
    "print(\"Random Forest Classifier Accuracy :\",\n",
    "      accuracy_score(y_test, rf_predictions))\n",
    "# AdaBoost Classifier\n",
    "hyperparameters_adaboost = {\n",
    "    'n_estimators': [50, 100, 200],\n",
    "    'learning_rate': [0.1, 0.05, 0.01]\n",
    "}\n",
    "\n",
    "adaboost = AdaBoostClassifier()\n",
    "grid_search_adaboost = GridSearchCV(\n",
    "    estimator=adaboost, param_grid=hyperparameters_adaboost, cv=3)\n",
    "grid_search_adaboost.fit(X_train, y_train)\n",
    "best_hyperparameters_adaboost = grid_search_adaboost.best_params_\n",
    "best_adaboost = AdaBoostClassifier(\n",
    "    n_estimators=best_hyperparameters_adaboost['n_estimators'], learning_rate=best_hyperparameters_adaboost['learning_rate'])\n",
    "best_adaboost.fit(X_train, y_train)\n",
    "\n",
    "adaboost_predictions = best_adaboost.predict(X_test)\n",
    "print(\"AdaBoost Classifier Accuracy :\",\n",
    "      accuracy_score(y_test, adaboost_predictions))\n",
    "\n",
    "# Gradient Boosting Classifier\n",
    "hyperparameters_gb_gb = {\n",
    "    'n_estimators': [50, 100, 200],\n",
    "    'learning_rate': [0.1, 0.05, 0.01]\n",
    "}\n",
    "\n",
    "gb = GradientBoostingClassifier()\n",
    "grid_search_gb = GridSearchCV(\n",
    "    estimator=gb, param_grid=hyperparameters_gb, cv=3)\n",
    "grid_search_gb.fit(X_train, y_train)\n",
    "best_hyperparameters_gb = grid_search_gb.best_params_\n",
    "best_gb = GradientBoostingClassifier(\n",
    "    n_estimators=best_hyperparameters_gb['n_estimators'], learning_rate=best_hyperparameters_gb['learning_rate'])\n",
    "best_gb.fit(X_train, y_train)\n",
    "\n",
    "gb_predictions = best_gb.predict(X_test)\n",
    "print(\"Gradient Boosting Classifier Accuracy :\",\n",
    "      accuracy_score(y_test, gb_predictions))\n",
    "\n",
    "# XGBoost Classifier\n",
    "xgb = XGBClassifier()\n",
    "xgb.fit(X_train, y_train)\n",
    "\n",
    "xgb_predictions = xgb.predict(X_test)\n",
    "print(\"XGBoost Classifier Accuracy :\", accuracy_score(y_test, xgb_predictions))"
   ]
  },
  {
   "cell_type": "markdown",
   "metadata": {
    "id": "AbMIyf8ouk1u"
   },
   "source": [
    "# Question 4 : Clustering\n",
    "\n",
    "Customer Segmentation is the subdivision of a market into discrete customer groups that share similar characteristics. Customer Segmentation can be a powerful means to identify unsatisfied customer needs.\n",
    "\n",
    "The csv file **segmentation data.csv** contains basic data about some customers like Customer ID, age, gender, annual income and spending score. You want to classify the customers into different groups so that marketing strategy could be planned in the future accordingly. How many different groups should be made ? What should be the approach ?\n",
    "\n",
    "This is an Unsupervised Learning question since it doesn't provide you with labels - the groups. \n",
    "\n",
    "### 1. Import the necessary modules"
   ]
  },
  {
   "cell_type": "code",
   "execution_count": 54,
   "metadata": {
    "id": "_UKGseStOQgk"
   },
   "outputs": [],
   "source": [
    "import numpy as np\n",
    "import pandas as pd\n",
    "from sklearn.preprocessing import StandardScaler\n",
    "import matplotlib.pyplot as plt\n",
    "from sklearn.cluster import KMeans\n",
    "from sklearn.metrics import silhouette_score\n",
    "from sklearn.cluster import DBSCAN"
   ]
  },
  {
   "cell_type": "markdown",
   "metadata": {
    "id": "FXs9rQC0u3_S"
   },
   "source": [
    "### 2. Read the csv file \"segmentation data.csv\" present in the Github repository as a Pandas DataFrame."
   ]
  },
  {
   "cell_type": "code",
   "execution_count": 55,
   "metadata": {
    "id": "bfiso96cORzB"
   },
   "outputs": [
    {
     "data": {
      "text/html": [
       "<div>\n",
       "<style scoped>\n",
       "    .dataframe tbody tr th:only-of-type {\n",
       "        vertical-align: middle;\n",
       "    }\n",
       "\n",
       "    .dataframe tbody tr th {\n",
       "        vertical-align: top;\n",
       "    }\n",
       "\n",
       "    .dataframe thead th {\n",
       "        text-align: right;\n",
       "    }\n",
       "</style>\n",
       "<table border=\"1\" class=\"dataframe\">\n",
       "  <thead>\n",
       "    <tr style=\"text-align: right;\">\n",
       "      <th></th>\n",
       "      <th>ID</th>\n",
       "      <th>Sex</th>\n",
       "      <th>Marital status</th>\n",
       "      <th>Age</th>\n",
       "      <th>Education</th>\n",
       "      <th>Income</th>\n",
       "      <th>Occupation</th>\n",
       "      <th>Settlement size</th>\n",
       "    </tr>\n",
       "  </thead>\n",
       "  <tbody>\n",
       "    <tr>\n",
       "      <th>0</th>\n",
       "      <td>100000001</td>\n",
       "      <td>0</td>\n",
       "      <td>0</td>\n",
       "      <td>67</td>\n",
       "      <td>2</td>\n",
       "      <td>124670</td>\n",
       "      <td>1</td>\n",
       "      <td>2</td>\n",
       "    </tr>\n",
       "    <tr>\n",
       "      <th>1</th>\n",
       "      <td>100000002</td>\n",
       "      <td>1</td>\n",
       "      <td>1</td>\n",
       "      <td>22</td>\n",
       "      <td>1</td>\n",
       "      <td>150773</td>\n",
       "      <td>1</td>\n",
       "      <td>2</td>\n",
       "    </tr>\n",
       "    <tr>\n",
       "      <th>2</th>\n",
       "      <td>100000003</td>\n",
       "      <td>0</td>\n",
       "      <td>0</td>\n",
       "      <td>49</td>\n",
       "      <td>1</td>\n",
       "      <td>89210</td>\n",
       "      <td>0</td>\n",
       "      <td>0</td>\n",
       "    </tr>\n",
       "    <tr>\n",
       "      <th>3</th>\n",
       "      <td>100000004</td>\n",
       "      <td>0</td>\n",
       "      <td>0</td>\n",
       "      <td>45</td>\n",
       "      <td>1</td>\n",
       "      <td>171565</td>\n",
       "      <td>1</td>\n",
       "      <td>1</td>\n",
       "    </tr>\n",
       "    <tr>\n",
       "      <th>4</th>\n",
       "      <td>100000005</td>\n",
       "      <td>0</td>\n",
       "      <td>0</td>\n",
       "      <td>53</td>\n",
       "      <td>1</td>\n",
       "      <td>149031</td>\n",
       "      <td>1</td>\n",
       "      <td>1</td>\n",
       "    </tr>\n",
       "    <tr>\n",
       "      <th>...</th>\n",
       "      <td>...</td>\n",
       "      <td>...</td>\n",
       "      <td>...</td>\n",
       "      <td>...</td>\n",
       "      <td>...</td>\n",
       "      <td>...</td>\n",
       "      <td>...</td>\n",
       "      <td>...</td>\n",
       "    </tr>\n",
       "    <tr>\n",
       "      <th>1995</th>\n",
       "      <td>100001996</td>\n",
       "      <td>1</td>\n",
       "      <td>0</td>\n",
       "      <td>47</td>\n",
       "      <td>1</td>\n",
       "      <td>123525</td>\n",
       "      <td>0</td>\n",
       "      <td>0</td>\n",
       "    </tr>\n",
       "    <tr>\n",
       "      <th>1996</th>\n",
       "      <td>100001997</td>\n",
       "      <td>1</td>\n",
       "      <td>1</td>\n",
       "      <td>27</td>\n",
       "      <td>1</td>\n",
       "      <td>117744</td>\n",
       "      <td>1</td>\n",
       "      <td>0</td>\n",
       "    </tr>\n",
       "    <tr>\n",
       "      <th>1997</th>\n",
       "      <td>100001998</td>\n",
       "      <td>0</td>\n",
       "      <td>0</td>\n",
       "      <td>31</td>\n",
       "      <td>0</td>\n",
       "      <td>86400</td>\n",
       "      <td>0</td>\n",
       "      <td>0</td>\n",
       "    </tr>\n",
       "    <tr>\n",
       "      <th>1998</th>\n",
       "      <td>100001999</td>\n",
       "      <td>1</td>\n",
       "      <td>1</td>\n",
       "      <td>24</td>\n",
       "      <td>1</td>\n",
       "      <td>97968</td>\n",
       "      <td>0</td>\n",
       "      <td>0</td>\n",
       "    </tr>\n",
       "    <tr>\n",
       "      <th>1999</th>\n",
       "      <td>100002000</td>\n",
       "      <td>0</td>\n",
       "      <td>0</td>\n",
       "      <td>25</td>\n",
       "      <td>0</td>\n",
       "      <td>68416</td>\n",
       "      <td>0</td>\n",
       "      <td>0</td>\n",
       "    </tr>\n",
       "  </tbody>\n",
       "</table>\n",
       "<p>2000 rows × 8 columns</p>\n",
       "</div>"
      ],
      "text/plain": [
       "             ID  Sex  Marital status  Age  Education  Income  Occupation  \\\n",
       "0     100000001    0               0   67          2  124670           1   \n",
       "1     100000002    1               1   22          1  150773           1   \n",
       "2     100000003    0               0   49          1   89210           0   \n",
       "3     100000004    0               0   45          1  171565           1   \n",
       "4     100000005    0               0   53          1  149031           1   \n",
       "...         ...  ...             ...  ...        ...     ...         ...   \n",
       "1995  100001996    1               0   47          1  123525           0   \n",
       "1996  100001997    1               1   27          1  117744           1   \n",
       "1997  100001998    0               0   31          0   86400           0   \n",
       "1998  100001999    1               1   24          1   97968           0   \n",
       "1999  100002000    0               0   25          0   68416           0   \n",
       "\n",
       "      Settlement size  \n",
       "0                   2  \n",
       "1                   2  \n",
       "2                   0  \n",
       "3                   1  \n",
       "4                   1  \n",
       "...               ...  \n",
       "1995                0  \n",
       "1996                0  \n",
       "1997                0  \n",
       "1998                0  \n",
       "1999                0  \n",
       "\n",
       "[2000 rows x 8 columns]"
      ]
     },
     "execution_count": 55,
     "metadata": {},
     "output_type": "execute_result"
    }
   ],
   "source": [
    "df=pd.read_csv('segmentation data.csv')\n",
    "df"
   ]
  },
  {
   "cell_type": "markdown",
   "metadata": {
    "id": "pkoXSkGvvEfQ"
   },
   "source": [
    "### 3. Do the necessary preprocessing of the data.\n",
    "\n",
    "> Drop unwanted columns.\n",
    "\n",
    "> Check for null values.\n",
    "\n",
    "> Scale the numerical columns.\n",
    "\n",
    "> Additionally, you may also make the Age column have categorical values. How ? Apply some function that makes age groups turns all ages in some group to a particular number !\n",
    "\n",
    "Note : Don't do everything in a single code block ! Do it step-by-step and show output for each step."
   ]
  },
  {
   "cell_type": "code",
   "execution_count": 56,
   "metadata": {
    "id": "R8T3S0J0OUS_"
   },
   "outputs": [
    {
     "data": {
      "text/plain": [
       "ID                 0\n",
       "Sex                0\n",
       "Marital status     0\n",
       "Age                0\n",
       "Education          0\n",
       "Income             0\n",
       "Occupation         0\n",
       "Settlement size    0\n",
       "dtype: int64"
      ]
     },
     "execution_count": 56,
     "metadata": {},
     "output_type": "execute_result"
    }
   ],
   "source": [
    "df.isnull().sum()"
   ]
  },
  {
   "cell_type": "code",
   "execution_count": 57,
   "metadata": {},
   "outputs": [
    {
     "data": {
      "text/html": [
       "<div>\n",
       "<style scoped>\n",
       "    .dataframe tbody tr th:only-of-type {\n",
       "        vertical-align: middle;\n",
       "    }\n",
       "\n",
       "    .dataframe tbody tr th {\n",
       "        vertical-align: top;\n",
       "    }\n",
       "\n",
       "    .dataframe thead th {\n",
       "        text-align: right;\n",
       "    }\n",
       "</style>\n",
       "<table border=\"1\" class=\"dataframe\">\n",
       "  <thead>\n",
       "    <tr style=\"text-align: right;\">\n",
       "      <th></th>\n",
       "      <th>Sex</th>\n",
       "      <th>Marital status</th>\n",
       "      <th>Age</th>\n",
       "      <th>Education</th>\n",
       "      <th>Occupation</th>\n",
       "      <th>Settlement size</th>\n",
       "    </tr>\n",
       "  </thead>\n",
       "  <tbody>\n",
       "    <tr>\n",
       "      <th>0</th>\n",
       "      <td>0</td>\n",
       "      <td>0</td>\n",
       "      <td>67</td>\n",
       "      <td>2</td>\n",
       "      <td>1</td>\n",
       "      <td>2</td>\n",
       "    </tr>\n",
       "    <tr>\n",
       "      <th>1</th>\n",
       "      <td>1</td>\n",
       "      <td>1</td>\n",
       "      <td>22</td>\n",
       "      <td>1</td>\n",
       "      <td>1</td>\n",
       "      <td>2</td>\n",
       "    </tr>\n",
       "    <tr>\n",
       "      <th>2</th>\n",
       "      <td>0</td>\n",
       "      <td>0</td>\n",
       "      <td>49</td>\n",
       "      <td>1</td>\n",
       "      <td>0</td>\n",
       "      <td>0</td>\n",
       "    </tr>\n",
       "    <tr>\n",
       "      <th>3</th>\n",
       "      <td>0</td>\n",
       "      <td>0</td>\n",
       "      <td>45</td>\n",
       "      <td>1</td>\n",
       "      <td>1</td>\n",
       "      <td>1</td>\n",
       "    </tr>\n",
       "    <tr>\n",
       "      <th>4</th>\n",
       "      <td>0</td>\n",
       "      <td>0</td>\n",
       "      <td>53</td>\n",
       "      <td>1</td>\n",
       "      <td>1</td>\n",
       "      <td>1</td>\n",
       "    </tr>\n",
       "    <tr>\n",
       "      <th>...</th>\n",
       "      <td>...</td>\n",
       "      <td>...</td>\n",
       "      <td>...</td>\n",
       "      <td>...</td>\n",
       "      <td>...</td>\n",
       "      <td>...</td>\n",
       "    </tr>\n",
       "    <tr>\n",
       "      <th>1995</th>\n",
       "      <td>1</td>\n",
       "      <td>0</td>\n",
       "      <td>47</td>\n",
       "      <td>1</td>\n",
       "      <td>0</td>\n",
       "      <td>0</td>\n",
       "    </tr>\n",
       "    <tr>\n",
       "      <th>1996</th>\n",
       "      <td>1</td>\n",
       "      <td>1</td>\n",
       "      <td>27</td>\n",
       "      <td>1</td>\n",
       "      <td>1</td>\n",
       "      <td>0</td>\n",
       "    </tr>\n",
       "    <tr>\n",
       "      <th>1997</th>\n",
       "      <td>0</td>\n",
       "      <td>0</td>\n",
       "      <td>31</td>\n",
       "      <td>0</td>\n",
       "      <td>0</td>\n",
       "      <td>0</td>\n",
       "    </tr>\n",
       "    <tr>\n",
       "      <th>1998</th>\n",
       "      <td>1</td>\n",
       "      <td>1</td>\n",
       "      <td>24</td>\n",
       "      <td>1</td>\n",
       "      <td>0</td>\n",
       "      <td>0</td>\n",
       "    </tr>\n",
       "    <tr>\n",
       "      <th>1999</th>\n",
       "      <td>0</td>\n",
       "      <td>0</td>\n",
       "      <td>25</td>\n",
       "      <td>0</td>\n",
       "      <td>0</td>\n",
       "      <td>0</td>\n",
       "    </tr>\n",
       "  </tbody>\n",
       "</table>\n",
       "<p>2000 rows × 6 columns</p>\n",
       "</div>"
      ],
      "text/plain": [
       "      Sex  Marital status  Age  Education  Occupation  Settlement size\n",
       "0       0               0   67          2           1                2\n",
       "1       1               1   22          1           1                2\n",
       "2       0               0   49          1           0                0\n",
       "3       0               0   45          1           1                1\n",
       "4       0               0   53          1           1                1\n",
       "...   ...             ...  ...        ...         ...              ...\n",
       "1995    1               0   47          1           0                0\n",
       "1996    1               1   27          1           1                0\n",
       "1997    0               0   31          0           0                0\n",
       "1998    1               1   24          1           0                0\n",
       "1999    0               0   25          0           0                0\n",
       "\n",
       "[2000 rows x 6 columns]"
      ]
     },
     "execution_count": 57,
     "metadata": {},
     "output_type": "execute_result"
    }
   ],
   "source": [
    "df=df.drop(['ID','Income'],axis=1)\n",
    "df"
   ]
  },
  {
   "cell_type": "code",
   "execution_count": 58,
   "metadata": {},
   "outputs": [
    {
     "data": {
      "text/plain": [
       "0       2\n",
       "1       1\n",
       "2       2\n",
       "3       1\n",
       "4       2\n",
       "       ..\n",
       "1995    1\n",
       "1996    1\n",
       "1997    1\n",
       "1998    1\n",
       "1999    1\n",
       "Name: Age, Length: 2000, dtype: int64"
      ]
     },
     "execution_count": 58,
     "metadata": {},
     "output_type": "execute_result"
    }
   ],
   "source": [
    "for i in range(0,2000):\n",
    "    if(df.iloc[i,2]>=18 and df.iloc[i,2]<=47):\n",
    "        df.iloc[i,2]=1\n",
    "    else:\n",
    "        df.iloc[i,2]=2                #minimum age is 18\n",
    "                             #maximum age is 76\n",
    "\n",
    "df['Age']"
   ]
  },
  {
   "cell_type": "code",
   "execution_count": 59,
   "metadata": {},
   "outputs": [
    {
     "data": {
      "text/html": [
       "<div>\n",
       "<style scoped>\n",
       "    .dataframe tbody tr th:only-of-type {\n",
       "        vertical-align: middle;\n",
       "    }\n",
       "\n",
       "    .dataframe tbody tr th {\n",
       "        vertical-align: top;\n",
       "    }\n",
       "\n",
       "    .dataframe thead th {\n",
       "        text-align: right;\n",
       "    }\n",
       "</style>\n",
       "<table border=\"1\" class=\"dataframe\">\n",
       "  <thead>\n",
       "    <tr style=\"text-align: right;\">\n",
       "      <th></th>\n",
       "      <th>Sex</th>\n",
       "      <th>Marital status</th>\n",
       "      <th>Age</th>\n",
       "      <th>Education</th>\n",
       "      <th>Occupation</th>\n",
       "      <th>Settlement size</th>\n",
       "    </tr>\n",
       "  </thead>\n",
       "  <tbody>\n",
       "    <tr>\n",
       "      <th>0</th>\n",
       "      <td>0.0</td>\n",
       "      <td>0.0</td>\n",
       "      <td>1.0</td>\n",
       "      <td>0.666667</td>\n",
       "      <td>0.5</td>\n",
       "      <td>1.0</td>\n",
       "    </tr>\n",
       "    <tr>\n",
       "      <th>1</th>\n",
       "      <td>1.0</td>\n",
       "      <td>1.0</td>\n",
       "      <td>0.0</td>\n",
       "      <td>0.333333</td>\n",
       "      <td>0.5</td>\n",
       "      <td>1.0</td>\n",
       "    </tr>\n",
       "    <tr>\n",
       "      <th>2</th>\n",
       "      <td>0.0</td>\n",
       "      <td>0.0</td>\n",
       "      <td>1.0</td>\n",
       "      <td>0.333333</td>\n",
       "      <td>0.0</td>\n",
       "      <td>0.0</td>\n",
       "    </tr>\n",
       "    <tr>\n",
       "      <th>3</th>\n",
       "      <td>0.0</td>\n",
       "      <td>0.0</td>\n",
       "      <td>0.0</td>\n",
       "      <td>0.333333</td>\n",
       "      <td>0.5</td>\n",
       "      <td>0.5</td>\n",
       "    </tr>\n",
       "    <tr>\n",
       "      <th>4</th>\n",
       "      <td>0.0</td>\n",
       "      <td>0.0</td>\n",
       "      <td>1.0</td>\n",
       "      <td>0.333333</td>\n",
       "      <td>0.5</td>\n",
       "      <td>0.5</td>\n",
       "    </tr>\n",
       "    <tr>\n",
       "      <th>...</th>\n",
       "      <td>...</td>\n",
       "      <td>...</td>\n",
       "      <td>...</td>\n",
       "      <td>...</td>\n",
       "      <td>...</td>\n",
       "      <td>...</td>\n",
       "    </tr>\n",
       "    <tr>\n",
       "      <th>1995</th>\n",
       "      <td>1.0</td>\n",
       "      <td>0.0</td>\n",
       "      <td>0.0</td>\n",
       "      <td>0.333333</td>\n",
       "      <td>0.0</td>\n",
       "      <td>0.0</td>\n",
       "    </tr>\n",
       "    <tr>\n",
       "      <th>1996</th>\n",
       "      <td>1.0</td>\n",
       "      <td>1.0</td>\n",
       "      <td>0.0</td>\n",
       "      <td>0.333333</td>\n",
       "      <td>0.5</td>\n",
       "      <td>0.0</td>\n",
       "    </tr>\n",
       "    <tr>\n",
       "      <th>1997</th>\n",
       "      <td>0.0</td>\n",
       "      <td>0.0</td>\n",
       "      <td>0.0</td>\n",
       "      <td>0.000000</td>\n",
       "      <td>0.0</td>\n",
       "      <td>0.0</td>\n",
       "    </tr>\n",
       "    <tr>\n",
       "      <th>1998</th>\n",
       "      <td>1.0</td>\n",
       "      <td>1.0</td>\n",
       "      <td>0.0</td>\n",
       "      <td>0.333333</td>\n",
       "      <td>0.0</td>\n",
       "      <td>0.0</td>\n",
       "    </tr>\n",
       "    <tr>\n",
       "      <th>1999</th>\n",
       "      <td>0.0</td>\n",
       "      <td>0.0</td>\n",
       "      <td>0.0</td>\n",
       "      <td>0.000000</td>\n",
       "      <td>0.0</td>\n",
       "      <td>0.0</td>\n",
       "    </tr>\n",
       "  </tbody>\n",
       "</table>\n",
       "<p>2000 rows × 6 columns</p>\n",
       "</div>"
      ],
      "text/plain": [
       "      Sex  Marital status  Age  Education  Occupation  Settlement size\n",
       "0     0.0             0.0  1.0   0.666667         0.5              1.0\n",
       "1     1.0             1.0  0.0   0.333333         0.5              1.0\n",
       "2     0.0             0.0  1.0   0.333333         0.0              0.0\n",
       "3     0.0             0.0  0.0   0.333333         0.5              0.5\n",
       "4     0.0             0.0  1.0   0.333333         0.5              0.5\n",
       "...   ...             ...  ...        ...         ...              ...\n",
       "1995  1.0             0.0  0.0   0.333333         0.0              0.0\n",
       "1996  1.0             1.0  0.0   0.333333         0.5              0.0\n",
       "1997  0.0             0.0  0.0   0.000000         0.0              0.0\n",
       "1998  1.0             1.0  0.0   0.333333         0.0              0.0\n",
       "1999  0.0             0.0  0.0   0.000000         0.0              0.0\n",
       "\n",
       "[2000 rows x 6 columns]"
      ]
     },
     "execution_count": 59,
     "metadata": {},
     "output_type": "execute_result"
    }
   ],
   "source": [
    "from sklearn.preprocessing import MinMaxScaler\n",
    "scaler=MinMaxScaler()\n",
    "# Fitting the data on scaler\n",
    "df['Sex']=scaler.fit_transform(np.array(df['Sex']).reshape(-1,1))\n",
    "df['Age']=scaler.fit_transform(np.array(df['Age']).reshape(-1,1))\n",
    "df['Marital status']=scaler.fit_transform(np.array(df['Marital status']).reshape(-1,1))\n",
    "df['Education']=scaler.fit_transform(np.array(df['Education']).reshape(-1,1))\n",
    "df['Occupation']=scaler.fit_transform(np.array(df['Occupation']).reshape(-1,1))\n",
    "df['Settlement size']=scaler.fit_transform(np.array(df['Settlement size']).reshape(-1,1))\n",
    "\n",
    "df"
   ]
  },
  {
   "cell_type": "markdown",
   "metadata": {
    "id": "GI5spEOLB2Sw"
   },
   "source": [
    "### 4. KMeans Model Training - Scikit-Learn\n",
    "\n",
    "At first, let's try to implement KMeans Clustering using sklearn.clusters.KMeans .\n",
    "\n",
    "How to decide for the value 'K' ?\n",
    "\n",
    "Read the following blog. It provides different ways of evaluating clustering algorithms.\n",
    "\n",
    "https://www.analyticsvidhya.com/blog/2021/05/k-mean-getting-the-optimal-number-of-clusters\n",
    "\n",
    "We will be looking on two methods : Elbow Method, Silhouette Analysis.\n",
    "\n",
    "**Make a list of values for K , ranging from 2 to 10. For each K, fit a model, calculate the inertia and silhouette scores. Plot them. Decide which value of K is optimal !**"
   ]
  },
  {
   "cell_type": "code",
   "execution_count": 60,
   "metadata": {
    "id": "onhGIzLqOX8p"
   },
   "outputs": [
    {
     "data": {
      "image/png": "[encoded data removed]",
      "text/plain": [
       "<Figure size 640x480 with 1 Axes>"
      ]
     },
     "metadata": {},
     "output_type": "display_data"
    },
    {
     "data": {
      "image/png": "[encoded data removed]",
      "text/plain": [
       "<Figure size 640x480 with 1 Axes>"
      ]
     },
     "metadata": {},
     "output_type": "display_data"
    },
    {
     "name": "stdout",
     "output_type": "stream",
     "text": [
      "K = 4 is optimal\n"
     ]
    }
   ],
   "source": [
    "import warnings\n",
    "warnings.filterwarnings(\"ignore\")\n",
    "\n",
    "k_values = range(2, 11)\n",
    "\n",
    "inertia_scores = []\n",
    "silhouette_scores = []\n",
    "\n",
    "for k in k_values:\n",
    "    # creating a KMeans model with the current K value\n",
    "    kmeans = KMeans(n_clusters=k, random_state=42)\n",
    "    kmeans.fit(d.values)\n",
    "\n",
    "    inertia_scores.append(kmeans.inertia_)\n",
    "    silhouette_scores.append(silhouette_score(d.values, kmeans.labels_))\n",
    "\n",
    "plt.plot(k_values, inertia_scores, 'bx-')\n",
    "plt.xlabel('Number of Clusters (K)')\n",
    "plt.ylabel('Inertia')\n",
    "plt.title('Elbow Method - Inertia vs. K')\n",
    "plt.show()\n",
    "\n",
    "# Plotting the silhouette scores\n",
    "plt.plot(k_values, silhouette_scores, 'bx-')\n",
    "plt.xlabel('Number of Clusters (K)')\n",
    "plt.ylabel('Silhouette Score')\n",
    "plt.title('Silhouette Analysis - Silhouette Score vs. K')\n",
    "plt.show()\n",
    "\n",
    "print(\"K = 4 is optimal\")"
   ]
  },
  {
   "cell_type": "markdown",
   "metadata": {
    "id": "1jajN40GH0EP"
   },
   "source": [
    "### 5. KMeans Model Prediction\n",
    "\n",
    "Once you decided the optimal K, once again fit a model with that K value and store the silhouette score and the labels for the entire data.\n",
    "\n",
    "It is observed that the optimal value of k is 4. So, let's store the values of inertia and labels for k=4."
   ]
  },
  {
   "cell_type": "code",
   "execution_count": 61,
   "metadata": {
    "id": "qydGd1rYOZqx"
   },
   "outputs": [],
   "source": [
    "kmeans = KMeans(n_clusters=4, random_state=42)\n",
    "kmeans.fit(d.values)\n",
    "\n",
    "# getting the inertia for K=4\n",
    "inertia = kmeans.inertia_\n",
    "# getting the labels for the entire data\n",
    "labels = kmeans.labels_"
   ]
  },
  {
   "cell_type": "markdown",
   "metadata": {
    "id": "_fjt3IhXzYgz"
   },
   "source": [
    "### 6. KMeans Model Training - Scratch\n",
    "\n",
    "Now, code the KMeans Model from scratch. Train it on the data, and try to find out when you have the labels with maximum accuracy when compared to the labels of the SkLearn model."
   ]
  },
  {
   "cell_type": "code",
   "execution_count": null,
   "metadata": {
    "id": "PT3TD5uqOber"
   },
   "outputs": [],
   "source": []
  },
  {
   "cell_type": "markdown",
   "metadata": {
    "id": "WTWu6y8S0Usv"
   },
   "source": [
    "### 7. DBSCAN model training - Scikit-Learn\n",
    "\n",
    "Using sklear.clusters.DBSCAN, you have to fit a model on the data.\n",
    "\n",
    "But, here we would like to deal with two hyperparameters : epsilon and minimum number of samples.\n",
    "\n",
    "Make two lists. One with some probable values for epsilon, other with probable values for min_samples.\n",
    "\n",
    "Example : eps= [0.1,0.2,0.5,1,2] , min_samples=[3,4,5,6]\n",
    "\n",
    "Run a nested loop. for each value of eps and min_samples, fit a dbscan model on the data and calculate the silhouette score. Find the parameters for which the silhouette score is maximum."
   ]
  },
  {
   "cell_type": "code",
   "execution_count": null,
   "metadata": {
    "id": "NM5XJSZYOdmB"
   },
   "outputs": [],
   "source": []
  },
  {
   "cell_type": "markdown",
   "metadata": {
    "id": "T77d9N4w1hRI"
   },
   "source": [
    "### 8. DBSCAN model training - Scratch\n",
    "\n",
    "Code the DBScan model. For the same epsilon and min_samples values, fit the model on the data. You should receive the same silhouette score."
   ]
  },
  {
   "cell_type": "code",
   "execution_count": null,
   "metadata": {
    "id": "8ULTd8n1Oc17"
   },
   "outputs": [],
   "source": []
  },
  {
   "cell_type": "code",
   "execution_count": null,
   "metadata": {},
   "outputs": [],
   "source": []
  }
 ],
 "metadata": {
  "colab": {
   "provenance": []
  },
  "kernelspec": {
   "display_name": "Python 3 (ipykernel)",
   "language": "python",
   "name": "python3"
  },
  "language_info": {
   "codemirror_mode": {
    "name": "ipython",
    "version": 3
   },
   "file_extension": ".py",
   "mimetype": "text/x-python",
   "name": "python",
   "nbconvert_exporter": "python",
   "pygments_lexer": "ipython3",
   "version": "3.11.3"
  }
 },
 "nbformat": 4,
 "nbformat_minor": 1
}
