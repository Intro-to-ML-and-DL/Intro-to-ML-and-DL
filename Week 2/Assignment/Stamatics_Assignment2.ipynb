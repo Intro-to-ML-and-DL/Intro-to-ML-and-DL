{
  "cells": [
    {
      "attachments": {},
      "cell_type": "markdown",
      "metadata": {
        "id": "Y5y_HbJiPKhA"
      },
      "source": [
        "# Question 1\n",
        "## Regularization in Linear Regression\n",
        "Make a class called LinearRegression which provides two functions : fit and predict. You may use the code present in the repository as template. You need to make the following changes in order to include regularization :\n",
        "1. To initialize an object of the class, you need to provide 4 parameters : learning_rate, epochs, penalty and alpha (coefficient of the regularization term). Penalty and alpha should have default values of None and 0 respectively.\n",
        "2. The parameter penalty should take in any one of these inputs : L1 (Lasso), L2 (Ridge) and None (simple LR).\n",
        "3. Do some basic differentiation to find out the expressions of dC/dw and dC/db when regularization is involved. Use internet whenever necessary.\n",
        "4. Write if-else statements inside the fit method to cover the different values for dw for different values of penalty."
      ]
    },
    {
      "cell_type": "code",
      "execution_count": null,
      "metadata": {
        "id": "gzoG2XilPLFr"
      },
      "outputs": [],
      "source": [
        "class LinearRegression:\n",
        "    def __init__(self, learning_rate,epochs,penalty='None',alpha=0):\n",
        "        self.lr=learning_rate\n",
        "        self.epochs=epochs\n",
        "        self.penalty = penalty\n",
        "        self.alpha=alpha\n",
        "        \n",
        "    def fit(self, X_train, y_train):\n",
        "        n_samples, n_features = X_train.shape\n",
        "        y_train=y_train.reshape(-1,1)\n",
        "        # init parameters\n",
        "        self.weights = np.zeros((n_features,1))\n",
        "        self.bias = np.zeros((1,1))\n",
        "        \n",
        "        # gradient descent\n",
        "        for i in range(self.epochs):\n",
        "            delta= -2*(y_train-np.dot(X_train,self.weights)-self.bias)/n_samples\n",
        "            dw=0\n",
        "            if self.penalty == 'l1':\n",
        "                dw= np.dot(X_train.T,delta)+ self.alpha\n",
        "            elif self.penalty == 'l2':\n",
        "                dw= np.dot(X_train.T,delta) + 2*self.alpha*np.sum(self.weights)\n",
        "            else:\n",
        "                dw= np.dot(X_train.T,delta)\n",
        "            \n",
        "            db= np.sum(delta).reshape(1,1)\n",
        "\n",
        "            #update weights and biases\n",
        "            self.weights-= self.lr * dw\n",
        "            self.bias-= self.lr* db\n",
        "\n",
        "    def predict(self, X_test):\n",
        "        y_predicted = np.dot(X_test,self.weights)+self.bias\n",
        "        return y_predicted"
      ]
    },
    {
      "attachments": {},
      "cell_type": "markdown",
      "metadata": {
        "id": "PsqoxNag7D3-"
      },
      "source": [
        "# Question 2\n",
        "# Linear Regression\n",
        "Use the dataset https://www.kaggle.com/datasets/quantbruce/real-estate-price-prediction (*).\n",
        "1. Read it using pandas.\n",
        "2. Check for **null values**.\n",
        "3. For each of the columns (except the first and last), plot the column values in the X-axis against the last column of prices in the Y-axis.\n",
        "4. Remove the unwanted columns.\n",
        "5. Split the dataset into train and test data. Test data size = 25% of total dataset.\n",
        "6. **Normalize** the X_train and X_test using MinMaxScaler from sklearn.preprocessing.\n",
        "7. Fit the training data into the 3 models created in question 1 (**linear regression, lasso and ridge regression**) and predict the testing data.\n",
        "8. Use **mean square error and R<sup>2</sup>** from sklearn.metrics as evaluation criterias.\n",
        "9. Fit the training data into the models of the same name provided by sklearn.linear_model and evaluate the predictions using MSE and R<sup>2</sup>.\n",
        "10. Tune the hyperparameters of your models (learning rate, epochs, penalty and alpha) to achieve losses close to that of the sklearn models. (*We will cover hyperparameter tuning using GridSearchCV and all in later weeks. For now, you may manually run the model for different values of the hyperparameters.*)\n",
        "\n",
        "Note : (*) To solve this question, you may proceed in any of the following ways :\n",
        "1. Prepare the notebook in Kaggle, download it and submit it separately with the other questions.\n",
        "2. Download the dataset from kaggle. Upload it to the session storage in Colab.\n",
        "3. Use Colab data directly in Colab. [Refer here](https://www.kaggle.com/general/74235). For this, you need to create kaggle API token. Before submitting, hide or remove the API token."
      ]
    },
    {
      "cell_type": "code",
      "execution_count": null,
      "metadata": {
        "id": "8lupaMcr63QF"
      },
      "outputs": [],
      "source": [
        "import numpy as np\n",
        "import pandas as pd\n",
        "\n",
        "import os\n",
        "for dirname, _, filenames in os.walk('/kaggle/input'):\n",
        "    for filename in filenames:\n",
        "        print(os.path.join(dirname, filename))\n",
        "\n",
        "\n",
        "\n",
        "\n",
        "        df = pd.read_csv(\"/kaggle/input/real-estate-price-prediction/Real estate.csv\")\n",
        "df.info()\n",
        "\n",
        "df.head()\n",
        "\n",
        "cols = list(df.columns)\n",
        "cols.remove('No')\n",
        "cols.remove('Y house price of unit area')\n",
        "cols.remove('X1 transaction date')\n",
        "cols\n",
        "import matplotlib.pyplot as plt\n",
        "i=1\n",
        "for col in cols:\n",
        "    plt.subplot(2,3,i)\n",
        "    i+=1\n",
        "    plt.scatter(df[col],df['Y house price of unit area'])\n",
        "\n",
        "\n",
        "    X=df[cols]\n",
        "y=df['Y house price of unit area']\n",
        "from sklearn.model_selection import train_test_split as tts\n",
        "X_train,X_test,y_train,y_test = tts(X,y,test_size=0.25,random_state=10)\n",
        "print(X_train.shape)\n",
        "print(y_train.shape)\n",
        "print(X_test.shape)\n",
        "print(y_test.shape)\n",
        "\n",
        "\n",
        "X_train=np.array(X_train)\n",
        "X_test=np.array(X_test)\n",
        "y_train=np.array(y_train)\n",
        "y_test=np.array(y_test)\n",
        "\n",
        "\n",
        "from sklearn.preprocessing import MinMaxScaler\n",
        "scaler= MinMaxScaler()\n",
        "X_train=scaler.fit_transform(X_train)\n",
        "X_test=scaler.transform(X_test)\n",
        "\n",
        "reg1= LinearRegression(learning_rate=0.01,epochs=3000)\n",
        "reg2= LinearRegression(learning_rate=0.01,epochs=3000,penalty='l1',alpha=0.015)\n",
        "reg3= LinearRegression(learning_rate=0.01,epochs=3000,penalty='l2',alpha=0.015)\n",
        "\n",
        "reg1.fit(X_train,y_train)\n",
        "reg2.fit(X_train,y_train)\n",
        "reg3.fit(X_train,y_train)\n",
        "\n",
        "\n",
        "from sklearn.metrics import mean_squared_error as mse\n",
        "from sklearn.metrics import r2_score\n",
        "\n",
        "y_pred=reg1.predict(X_test)\n",
        "print(mse(y_test,y_pred))\n",
        "print(r2_score(y_test,y_pred))\n",
        "\n",
        "y_pred=reg2.predict(X_test)\n",
        "print(mse(y_test,y_pred))\n",
        "print(r2_score(y_test,y_pred))\n",
        "\n",
        "y_pred=reg3.predict(X_test)\n",
        "print(mse(y_test,y_pred))\n",
        "print(r2_score(y_test,y_pred))\n",
        "\n",
        "from sklearn.linear_model import LinearRegression as Linreg,Lasso,Ridge\n",
        "\n",
        "reg1= Linreg()\n",
        "reg2= Lasso()\n",
        "reg3= Ridge()\n",
        "\n",
        "reg1.fit(X_train,y_train)\n",
        "reg2.fit(X_train,y_train)\n",
        "reg3.fit(X_train,y_train)\n",
        "\n",
        "y_pred=reg1.predict(X_test)\n",
        "print(mse(y_test,y_pred))\n",
        "print(r2_score(y_test,y_pred))\n",
        "\n",
        "y_pred=reg2.predict(X_test)\n",
        "print(mse(y_test,y_pred))\n",
        "print(r2_score(y_test,y_pred))\n",
        "\n",
        "y_pred=reg3.predict(X_test)\n",
        "print(mse(y_test,y_pred))\n",
        "print(r2_score(y_test,y_pred))"
      ]
    },
    {
      "attachments": {},
      "cell_type": "markdown",
      "metadata": {
        "id": "dQ7lQpy-SYCq"
      },
      "source": [
        "# Question 3\n",
        "## Logistic Regression\n",
        "The breast cancer dataset is a binary classification dataset commonly used in machine learning tasks. It is available in scikit-learn (sklearn) as part of its datasets module.\n",
        "Here is an explanation of the breast cancer dataset's components:\n",
        "\n",
        "* Features (X):\n",
        "\n",
        " * The breast cancer dataset consists of 30 numeric features representing different characteristics of the FNA images. These features include mean, standard error, and worst (largest) values of various attributes such as radius, texture, smoothness, compactness, concavity, symmetry, fractal dimension, etc.\n",
        "\n",
        "* Target (y):\n",
        "\n",
        " * The breast cancer dataset is a binary classification problem, and the target variable (y) represents the diagnosis of the breast mass. It contains two classes:\n",
        "    * 0: Represents a malignant (cancerous) tumor.\n",
        "    * 1: Represents a benign (non-cancerous) tumor.\n",
        "\n",
        "Complete the code given below in place of the \"...\""
      ]
    },
    {
      "attachments": {},
      "cell_type": "markdown",
      "metadata": {
        "id": "auipk-zBpmO-"
      },
      "source": [
        "1. Load the dataset from sklearn.datasets\n",
        "2. Separate out the X and Y columns.\n",
        "3. Normalize the X data using MinMaxScaler or StandardScaler.\n",
        "4. Create a train-test-split. Take any suitable test size."
      ]
    },
    {
      "cell_type": "code",
      "execution_count": null,
      "metadata": {
        "id": "0OyGNHNjFh13"
      },
      "outputs": [],
      "source": [
        "from sklearn.datasets import load_breast_cancer\n",
        "data = load_breast_cancer()\n",
        "Y=data.target\n",
        "X = data.data\n",
        "print(X.shape)\n",
        "print(Y.shape)\n",
        "from sklearn.preprocessing import MinMaxScaler\n",
        "scaler = MinMaxScaler()\n",
        "X=scaler.fit_transform(X)\n",
        "\n",
        "\n",
        "from sklearn.model_selection import train_test_split\n",
        "X_train,X_test,y_train,y_test = train_test_split(X,Y,test_size=0.25)\n",
        "print(X_train.shape)\n",
        "print(y_train.shape)\n",
        "print(X_test.shape)\n",
        "print(y_test.shape)\n",
        "\n",
        "\n",
        "\n"
      ]
    },
    {
      "attachments": {},
      "cell_type": "markdown",
      "metadata": {
        "id": "uM-SsSxpqF2o"
      },
      "source": [
        "5. Write code for the sigmoid function and Logistic regression.\n",
        "(Logistic Regression code is available in the Week2/Examples folder. However, try to code it yourself. A template is provided for that.)\n",
        "\n",
        "*Optional* : Include the regularization terms as you did in the first question. "
      ]
    },
    {
      "cell_type": "code",
      "execution_count": null,
      "metadata": {
        "id": "o81LA5MZFoTW"
      },
      "outputs": [],
      "source": [
        "import numpy as np\n",
        "def sigmoid(z):\n",
        "    a=1.0/(1.0+ np.exp(-z))\n",
        "    return a\n",
        "def sigmoid_derivative(z):\n",
        "    return sigmoid(z)*(1-sigmoid(z))\n",
        "\n",
        "class LogisticRegression:\n",
        "    def __init__(self, learning_rate,epochs,penalty='None',alpha=0):\n",
        "        self.lr=learning_rate\n",
        "        self.epochs=epochs\n",
        "        self.penalty = penalty\n",
        "        self.alpha=alpha\n",
        "\n",
        "    def fit(self, X, y):\n",
        "        n_samples, n_features = X.shape\n",
        "        y = y.reshape(-1, 1)\n",
        "        self.weights=np.random.randn(n_features,1)/np.sqrt(n_features)\n",
        "        self.bias= np.random.randn(1,1)\n",
        "\n",
        "        for i in range(self.epochs):\n",
        "            z = np.dot(X,self.weights) + self.bias\n",
        "            y_pred = sigmoid(z)\n",
        "\n",
        "            \n",
        "            dw = -np.dot(X.T,(y - y_pred))/n_samples\n",
        "\n",
        "            if self.penalty == 'l1':\n",
        "                dw += self.alpha\n",
        "            elif self.penalty == 'l2':\n",
        "                dw += 2*self.alpha*np.sum(self.weights)\n",
        "                \n",
        "            db = -np.sum(y - y_pred)/n_samples\n",
        "            self.weights -= self.lr* dw\n",
        "            self.bias-= self.lr* db\n",
        "\n",
        "    def predict(self, X):\n",
        "        y_pred = np.dot(X,self.weights)+self.bias\n",
        "        Y_proba_pred=y_pred\n",
        "        for i in range(len(y_pred)):\n",
        "            if y_pred[i]<= 0.5:\n",
        "                y_pred[i] = 0\n",
        "            else:\n",
        "                y_pred[i] = 1   \n",
        "        return (Y_proba_pred,y_pred)"
      ]
    },
    {
      "attachments": {},
      "cell_type": "markdown",
      "metadata": {
        "id": "Uo9LNRMzq4K-"
      },
      "source": [
        "6. Fit your model on the dataset and make predictions.\n",
        "7. Compare your model with the Sklearn Logistic Regression model. Try out all the different penalties.\n",
        "8. Print accuracy_score in each case using sklearn.metrics ."
      ]
    },
    {
      "cell_type": "code",
      "execution_count": null,
      "metadata": {
        "id": "DyGsTTOqFphf"
      },
      "outputs": [],
      "source": [
        "logreg1 = LogisticRegression(0.1,3000) #Play around with different learning rates and epochs\n",
        "logreg2 = LogisticRegression(0.1,3000,penalty='l1',alpha=0.01)\n",
        "logreg3 = LogisticRegression(0.1,3000,penalty='l1',alpha=0.01)\n",
        "\n",
        "# Train the model\n",
        "logreg1.fit(X_train,y_train)\n",
        "logreg2.fit(X_train,y_train)\n",
        "logreg3.fit(X_train,y_train)\n",
        "\n",
        "# Make predictions on the test set\n",
        "Y_proba_pred1,y_pred1 = logreg1.predict(X_test)\n",
        "Y_proba_pred2,y_pred2 = logreg2.predict(X_test)\n",
        "Y_proba_pred3,y_pred3 = logreg3.predict(X_test)\n",
        "\n",
        "\n",
        "from sklearn.metrics import accuracy_score\n",
        "print(accuracy_score(y_test,y_pred1))\n",
        "print(accuracy_score(y_test,y_pred2))\n",
        "print(accuracy_score(y_test,y_pred3))\n",
        "\n",
        "\n",
        "from sklearn.linear_model import LogisticRegression as LR\n",
        "logreg4 = LR(penalty=None)\n",
        "logreg5 = LR(penalty='l1',solver='saga')\n",
        "logreg6 = LR(penalty=\"l2\")\n",
        "logreg7 = LR(penalty=\"elasticnet\",l1_ratio=0.4,solver='saga')\n",
        "\n",
        "logreg4.fit(X_train,y_train)\n",
        "logreg5.fit(X_train,y_train)\n",
        "logreg6.fit(X_train,y_train)\n",
        "logreg7.fit(X_train,y_train)\n",
        "\n",
        "y_pred4 = logreg4.predict(X_test)\n",
        "y_pred5 = logreg5.predict(X_test)\n",
        "y_pred6 = logreg6.predict(X_test)\n",
        "y_pred7 = logreg6.predict(X_test)\n",
        "\n",
        "print(accuracy_score(y_test,y_pred4))\n",
        "print(accuracy_score(y_test,y_pred5))\n",
        "print(accuracy_score(y_test,y_pred6))\n",
        "print(accuracy_score(y_test,y_pred7))"
      ]
    },
    {
      "attachments": {},
      "cell_type": "markdown",
      "metadata": {
        "id": "AGBkzAO5red4"
      },
      "source": [
        "9. For the best model in each case (yours and scikit-learn), print the classification_report using sklearn.metrics .\n",
        "10. For the best model in each case (yours and scikit-learn), print the confusion_matrix using sklearn.metrics .\n",
        "11. **Optional Challenge** : For the best model in each case (yours and scikit-learn), print the roc_auc_score and plot the roc curves using sklearn.metrics and matplotlib."
      ]
    },
    {
      "cell_type": "code",
      "execution_count": null,
      "metadata": {
        "id": "le-HfABsvnyF"
      },
      "outputs": [],
      "source": [
        "from sklearn.metrics import classification_report\n",
        "target_names = data.target_names\n",
        "print(classification_report(y_test, y_pred1, target_names=target_names))\n",
        "print(classification_report(y_test, y_pred5, target_names=target_names))\n",
        "\n",
        "\n",
        "\n",
        "from sklearn.metrics import confusion_matrix\n",
        "print(confusion_matrix(y_test, y_pred1))\n",
        "print(confusion_matrix(y_test, y_pred5))\n",
        "\n",
        "from sklearn.metrics import roc_auc_score\n",
        "print(roc_auc_score(y_test, logreg5.predict_proba(X_test)[:, 1]))\n",
        "print(roc_auc_score(y_test, Y_proba_pred2))\n",
        "\n",
        "\n",
        "\n",
        "from sklearn.metrics import roc_curve\n",
        "import matplotlib.pyplot as plt\n",
        "plt.figure(figsize=(6,6))\n",
        "fpr1, tpr1, _ = roc_curve(y_test, logreg5.predict_proba(X_test)[:, 1], pos_label=1)\n",
        "fpr2, tpr2, _= roc_curve(y_test, Y_proba_pred2, pos_label=1)\n",
        "plt.plot(fpr1,tpr1,color='red')\n",
        "plt.plot(fpr2,tpr2,color='blue')\n",
        "plt.show()"
      ]
    },
    {
      "attachments": {},
      "cell_type": "markdown",
      "metadata": {
        "id": "6OQ2tSp0MO6n"
      },
      "source": [
        "# Question 4\n",
        "## KNN and Decision Tree\n",
        "How accurately can a K-Nearest Neighbors (KNN) model classify different types of glass based on a glass classification dataset consisting of 214 samples and 7 classes? Use the kaggle dataset \"https://www.kaggle.com/datasets/uciml/glass\". \n",
        "\n",
        "Context: This is a Glass Identification Data Set from UCI. It contains 10 attributes including id. The response is glass type(discrete 7 values)"
      ]
    },
    {
      "attachments": {},
      "cell_type": "markdown",
      "metadata": {
        "id": "iMGxbtX-zfsI"
      },
      "source": [
        "1. Load the data as you did in the 2nd question.\n",
        "2. Extract the X and Y columns.\n",
        "3. Split it into training and testing datasets."
      ]
    },
    {
      "cell_type": "code",
      "execution_count": null,
      "metadata": {
        "id": "p0SfLB7pO7_z"
      },
      "outputs": [],
      "source": []
    },
    {
      "attachments": {},
      "cell_type": "markdown",
      "metadata": {
        "id": "qtyZJXh9zoh5"
      },
      "source": [
        "4. Define Euclidean distance.\n",
        "5. Build the KNN model.\n",
        "6. Fit the model on the training data. (Note : you may require to change the type of the data from pandas dataframe to numpy arrays. To do that, just do this X=np.array(X) and so on...)"
      ]
    },
    {
      "cell_type": "code",
      "execution_count": null,
      "metadata": {
        "id": "YJkhLORLzn6r"
      },
      "outputs": [],
      "source": []
    },
    {
      "attachments": {},
      "cell_type": "markdown",
      "metadata": {
        "id": "E9rxZpPB0pVS"
      },
      "source": [
        "7. Make predictions. Find their accuracy using accuracy_score. Try different k values. k=3 worked well in our case.\n",
        "8. Compare with the sklearn model (from sklearn.neighbors import KNeighborsClassifier)"
      ]
    },
    {
      "cell_type": "code",
      "execution_count": null,
      "metadata": {
        "id": "ernfjaZJ0pAh"
      },
      "outputs": [],
      "source": []
    },
    {
      "attachments": {},
      "cell_type": "markdown",
      "metadata": {
        "id": "XRI7CeJQ0-iP"
      },
      "source": [
        "9. Finally use sklearn.tree to implement a Decision Tree Classifier on this dataset. Check for max depth = 5 to 10. Find out its accuracy.\n",
        "10. Plot the decision tree."
      ]
    },
    {
      "cell_type": "code",
      "execution_count": null,
      "metadata": {
        "id": "h2tZQg4L09wn"
      },
      "outputs": [],
      "source": []
    }
  ],
  "metadata": {
    "colab": {
      "provenance": []
    },
    "kernelspec": {
      "display_name": "Python 3",
      "name": "python3"
    },
    "language_info": {
      "name": "python"
    }
  },
  "nbformat": 4,
  "nbformat_minor": 0
}
